{
  "nbformat": 4,
  "nbformat_minor": 0,
  "metadata": {
    "colab": {
      "provenance": []
    },
    "kernelspec": {
      "name": "python3",
      "display_name": "Python 3"
    },
    "language_info": {
      "name": "python"
    }
  },
  "cells": [
    {
      "cell_type": "code",
      "execution_count": 1,
      "metadata": {
        "colab": {
          "base_uri": "https://localhost:8080/"
        },
        "id": "CTnhkZ6o4sEV",
        "outputId": "dee9000f-5a84-4aaf-ba7f-fc3b95b0aed8"
      },
      "outputs": [
        {
          "output_type": "stream",
          "name": "stdout",
          "text": [
            "Mounted at /content/drive\n"
          ]
        }
      ],
      "source": [
        "from google.colab import drive\n",
        "drive.mount('/content/drive') "
      ]
    },
    {
      "cell_type": "code",
      "source": [
        "!pip install noisereduce\n",
        "!pip install pydub"
      ],
      "metadata": {
        "colab": {
          "base_uri": "https://localhost:8080/"
        },
        "id": "egUk_Cbo6Ou-",
        "outputId": "0eef716b-0c83-4bb3-a04a-74d667cb3169"
      },
      "execution_count": 3,
      "outputs": [
        {
          "output_type": "stream",
          "name": "stdout",
          "text": [
            "Looking in indexes: https://pypi.org/simple, https://us-python.pkg.dev/colab-wheels/public/simple/\n",
            "Collecting noisereduce\n",
            "  Downloading noisereduce-2.0.1-py3-none-any.whl (15 kB)\n",
            "Requirement already satisfied: matplotlib in /usr/local/lib/python3.8/dist-packages (from noisereduce) (3.2.2)\n",
            "Requirement already satisfied: tqdm in /usr/local/lib/python3.8/dist-packages (from noisereduce) (4.64.1)\n",
            "Requirement already satisfied: scipy in /usr/local/lib/python3.8/dist-packages (from noisereduce) (1.7.3)\n",
            "Requirement already satisfied: numpy in /usr/local/lib/python3.8/dist-packages (from noisereduce) (1.21.6)\n",
            "Requirement already satisfied: librosa in /usr/local/lib/python3.8/dist-packages (from noisereduce) (0.8.1)\n",
            "Requirement already satisfied: numba>=0.43.0 in /usr/local/lib/python3.8/dist-packages (from librosa->noisereduce) (0.56.4)\n",
            "Requirement already satisfied: packaging>=20.0 in /usr/local/lib/python3.8/dist-packages (from librosa->noisereduce) (23.0)\n",
            "Requirement already satisfied: resampy>=0.2.2 in /usr/local/lib/python3.8/dist-packages (from librosa->noisereduce) (0.4.2)\n",
            "Requirement already satisfied: pooch>=1.0 in /usr/local/lib/python3.8/dist-packages (from librosa->noisereduce) (1.6.0)\n",
            "Requirement already satisfied: soundfile>=0.10.2 in /usr/local/lib/python3.8/dist-packages (from librosa->noisereduce) (0.11.0)\n",
            "Requirement already satisfied: scikit-learn!=0.19.0,>=0.14.0 in /usr/local/lib/python3.8/dist-packages (from librosa->noisereduce) (1.0.2)\n",
            "Requirement already satisfied: joblib>=0.14 in /usr/local/lib/python3.8/dist-packages (from librosa->noisereduce) (1.2.0)\n",
            "Requirement already satisfied: decorator>=3.0.0 in /usr/local/lib/python3.8/dist-packages (from librosa->noisereduce) (4.4.2)\n",
            "Requirement already satisfied: audioread>=2.0.0 in /usr/local/lib/python3.8/dist-packages (from librosa->noisereduce) (3.0.0)\n",
            "Requirement already satisfied: kiwisolver>=1.0.1 in /usr/local/lib/python3.8/dist-packages (from matplotlib->noisereduce) (1.4.4)\n",
            "Requirement already satisfied: pyparsing!=2.0.4,!=2.1.2,!=2.1.6,>=2.0.1 in /usr/local/lib/python3.8/dist-packages (from matplotlib->noisereduce) (3.0.9)\n",
            "Requirement already satisfied: python-dateutil>=2.1 in /usr/local/lib/python3.8/dist-packages (from matplotlib->noisereduce) (2.8.2)\n",
            "Requirement already satisfied: cycler>=0.10 in /usr/local/lib/python3.8/dist-packages (from matplotlib->noisereduce) (0.11.0)\n",
            "Requirement already satisfied: setuptools in /usr/local/lib/python3.8/dist-packages (from numba>=0.43.0->librosa->noisereduce) (57.4.0)\n",
            "Requirement already satisfied: llvmlite<0.40,>=0.39.0dev0 in /usr/local/lib/python3.8/dist-packages (from numba>=0.43.0->librosa->noisereduce) (0.39.1)\n",
            "Requirement already satisfied: importlib-metadata in /usr/local/lib/python3.8/dist-packages (from numba>=0.43.0->librosa->noisereduce) (6.0.0)\n",
            "Requirement already satisfied: appdirs>=1.3.0 in /usr/local/lib/python3.8/dist-packages (from pooch>=1.0->librosa->noisereduce) (1.4.4)\n",
            "Requirement already satisfied: requests>=2.19.0 in /usr/local/lib/python3.8/dist-packages (from pooch>=1.0->librosa->noisereduce) (2.25.1)\n",
            "Requirement already satisfied: six>=1.5 in /usr/local/lib/python3.8/dist-packages (from python-dateutil>=2.1->matplotlib->noisereduce) (1.15.0)\n",
            "Requirement already satisfied: threadpoolctl>=2.0.0 in /usr/local/lib/python3.8/dist-packages (from scikit-learn!=0.19.0,>=0.14.0->librosa->noisereduce) (3.1.0)\n",
            "Requirement already satisfied: cffi>=1.0 in /usr/local/lib/python3.8/dist-packages (from soundfile>=0.10.2->librosa->noisereduce) (1.15.1)\n",
            "Requirement already satisfied: pycparser in /usr/local/lib/python3.8/dist-packages (from cffi>=1.0->soundfile>=0.10.2->librosa->noisereduce) (2.21)\n",
            "Requirement already satisfied: chardet<5,>=3.0.2 in /usr/local/lib/python3.8/dist-packages (from requests>=2.19.0->pooch>=1.0->librosa->noisereduce) (4.0.0)\n",
            "Requirement already satisfied: certifi>=2017.4.17 in /usr/local/lib/python3.8/dist-packages (from requests>=2.19.0->pooch>=1.0->librosa->noisereduce) (2022.12.7)\n",
            "Requirement already satisfied: idna<3,>=2.5 in /usr/local/lib/python3.8/dist-packages (from requests>=2.19.0->pooch>=1.0->librosa->noisereduce) (2.10)\n",
            "Requirement already satisfied: urllib3<1.27,>=1.21.1 in /usr/local/lib/python3.8/dist-packages (from requests>=2.19.0->pooch>=1.0->librosa->noisereduce) (1.24.3)\n",
            "Requirement already satisfied: zipp>=0.5 in /usr/local/lib/python3.8/dist-packages (from importlib-metadata->numba>=0.43.0->librosa->noisereduce) (3.12.1)\n",
            "Installing collected packages: noisereduce\n",
            "Successfully installed noisereduce-2.0.1\n",
            "Looking in indexes: https://pypi.org/simple, https://us-python.pkg.dev/colab-wheels/public/simple/\n",
            "Collecting pydub\n",
            "  Downloading pydub-0.25.1-py2.py3-none-any.whl (32 kB)\n",
            "Installing collected packages: pydub\n",
            "Successfully installed pydub-0.25.1\n"
          ]
        }
      ]
    },
    {
      "cell_type": "code",
      "source": [
        "import os\n",
        "import time\n",
        "import noisereduce as nr\n",
        "from scipy.io import wavfile\n",
        "import matplotlib.pyplot as plt\n",
        "\n",
        "import librosa\n",
        "import librosa.display\n",
        "\n",
        "from pydub import AudioSegment \n",
        "from pydub.utils import make_chunks"
      ],
      "metadata": {
        "id": "S85AGNny51ay"
      },
      "execution_count": 4,
      "outputs": []
    },
    {
      "cell_type": "code",
      "source": [
        "#Helper function to perform required preprocessing\n",
        "\n",
        "#Processing audio clips to create 3 second chunks\n",
        "def process_audio(filename):\n",
        "    myaudio = AudioSegment.from_file(filename, \"wav\") \n",
        "    chunk_length_ms = 3000\n",
        "    chunks = make_chunks(myaudio,chunk_length_ms)  \n",
        "    print(len(chunks))\n",
        "    for i, chunk in enumerate(chunks):\n",
        "        filename = os.path.splitext(filename)[0]\n",
        "        chunk_name = './chunked/' + filename + \"_{0}.wav\".format(i) \n",
        "        chunk.export(chunk_name, format=\"wav\")\n",
        "\n",
        "#Eliminiting noise fron audio clips\n",
        "def eliminate_noise(path, filename):\n",
        "    audio, sample_rate = librosa.load(path)\n",
        "    reduced_noise = nr.reduce_noise(y=audio, sr=sample_rate)\n",
        "    filename = os.path.splitext(filename)[0]\n",
        "    wavfile.write('./reduced/' + filename + \"_reduced.wav\", sample_rate, reduced_noise)\n",
        "\n",
        "#Converts audio clips to spectrograms \n",
        "def convert_to_spec(path, filename):\n",
        "    x, sr = librosa.load(path)\n",
        "    filename = os.path.splitext(filename)[0]\n",
        "    fname = './images/' + filename + '.png'\n",
        "    X = librosa.stft(x)\n",
        "    Xdb = librosa.amplitude_to_db(abs(X))\n",
        "    fig = plt.figure(frameon = False)\n",
        "    ax = plt.Axes(fig, [0., 0., 1., 1.])\n",
        "    ax.set_axis_off()\n",
        "    fig.add_axes(ax)\n",
        "    fin = librosa.display.specshow(Xdb, sr=sr, x_axis='time', y_axis='hz')\n",
        "    fig.savefig(fname, dpi='figure')\n",
        "    plt.close();"
      ],
      "metadata": {
        "id": "edmsV7_e51dm"
      },
      "execution_count": 5,
      "outputs": []
    },
    {
      "cell_type": "code",
      "source": [
        "!ls"
      ],
      "metadata": {
        "colab": {
          "base_uri": "https://localhost:8080/"
        },
        "id": "bQ0jmM80Xfer",
        "outputId": "496786d1-abce-4e57-d98b-19d7f02767f3"
      },
      "execution_count": null,
      "outputs": [
        {
          "output_type": "stream",
          "name": "stdout",
          "text": [
            "drive  sample_data\n"
          ]
        }
      ]
    },
    {
      "cell_type": "code",
      "source": [
        "#This code window performs all required preprocessing to the audio files\n",
        "#This will help us study the data and create a dataset \n",
        "cwd = os.listdir('data')\n",
        "\n",
        "for folder in cwd:\n",
        "    \n",
        "    data_path = './data/'+folder\n",
        "    os.chdir(data_path)\n",
        "    \n",
        "    try:\n",
        "        os.makedirs('chunked')\n",
        "        os.makedirs('reduced')\n",
        "        os.makedirs('images')\n",
        "    except:\n",
        "        pass\n",
        "    \n",
        "    #start_time = time.perf_counter()\n",
        "    \n",
        "    audio_file = os.listdir()\n",
        "    for file in audio_file:\n",
        "        if ('.wav' in file):\n",
        "            process_audio(file)\n",
        "    print(\"Audio Splitting Complete\")\n",
        "    \n",
        "    #print(time.perf_counter() - start_time, \"seconds\")\n",
        "    \n",
        "    #start_time = time.perf_counter()\n",
        "    \n",
        "    chunked_files = os.listdir('chunked')\n",
        "    for file in chunked_files:\n",
        "        path = \"./chunked/\"+ file\n",
        "        eliminate_noise(path, file)\n",
        "    print(\"Eliminated Noise\")\n",
        "    \n",
        "    #print(time.perf_counter() - start_time, \"seconds\")\n",
        "    \n",
        "    #start_time = time.perf_counter()\n",
        "    \n",
        "    reduced_files = os.listdir('reduced')\n",
        "    for file in reduced_files:\n",
        "        path = \"./reduced/\"+ file\n",
        "        convert_to_spec(path, file)\n",
        "    print(\"Spectrograms Generated\")\n",
        "    \n",
        "    #print(time.perf_counter() - start_time, \"seconds\")\n",
        "    \n",
        "    os.chdir('../') \n",
        "    os.chdir('../') \n",
        "\n",
        "print(\"Preprocessing Complete\")"
      ],
      "metadata": {
        "colab": {
          "base_uri": "https://localhost:8080/"
        },
        "id": "L6wi3UK8XUjP",
        "outputId": "3adcc2ac-0b1c-4995-b0d3-471ff2baa5dd"
      },
      "execution_count": null,
      "outputs": [
        {
          "output_type": "stream",
          "name": "stdout",
          "text": [
            "Audio Splitting Complete\n",
            "Eliminated Noise\n",
            "Spectrograms Generated\n",
            "600\n",
            "Audio Splitting Complete\n",
            "Eliminated Noise\n",
            "Spectrograms Generated\n",
            "Preprocessing Complete\n"
          ]
        }
      ]
    },
    {
      "cell_type": "code",
      "source": [
        "!ls"
      ],
      "metadata": {
        "id": "DvzaBIbAmKVA"
      },
      "execution_count": null,
      "outputs": []
    },
    {
      "cell_type": "code",
      "source": [
        "# convertTo16Bit('dataset')\n",
        "# eliminate_noise('clean_noise/tiger.wav', 'tiger')"
      ],
      "metadata": {
        "id": "vjPAwkQJSVxi"
      },
      "execution_count": null,
      "outputs": []
    },
    {
      "cell_type": "markdown",
      "source": [
        "# Main model building\n",
        "### SMM01167_20221109_182902.wav"
      ],
      "metadata": {
        "id": "yrs6NMQWsACB"
      }
    },
    {
      "cell_type": "code",
      "source": [
        "!pip install tensorflow tensorflow_io\n"
      ],
      "metadata": {
        "id": "WUW-CwEldAyZ",
        "colab": {
          "base_uri": "https://localhost:8080/"
        },
        "outputId": "e197b8aa-4864-4a16-90dd-736e5bda19df"
      },
      "execution_count": 6,
      "outputs": [
        {
          "output_type": "stream",
          "name": "stdout",
          "text": [
            "Looking in indexes: https://pypi.org/simple, https://us-python.pkg.dev/colab-wheels/public/simple/\n",
            "Requirement already satisfied: tensorflow in /usr/local/lib/python3.8/dist-packages (2.11.0)\n",
            "Collecting tensorflow_io\n",
            "  Downloading tensorflow_io-0.30.0-cp38-cp38-manylinux_2_12_x86_64.manylinux2010_x86_64.whl (26.9 MB)\n",
            "\u001b[2K     \u001b[90m━━━━━━━━━━━━━━━━━━━━━━━━━━━━━━━━━━━━━━━━\u001b[0m \u001b[32m26.9/26.9 MB\u001b[0m \u001b[31m30.9 MB/s\u001b[0m eta \u001b[36m0:00:00\u001b[0m\n",
            "\u001b[?25hRequirement already satisfied: google-pasta>=0.1.1 in /usr/local/lib/python3.8/dist-packages (from tensorflow) (0.2.0)\n",
            "Requirement already satisfied: termcolor>=1.1.0 in /usr/local/lib/python3.8/dist-packages (from tensorflow) (2.2.0)\n",
            "Requirement already satisfied: tensorboard<2.12,>=2.11 in /usr/local/lib/python3.8/dist-packages (from tensorflow) (2.11.2)\n",
            "Requirement already satisfied: setuptools in /usr/local/lib/python3.8/dist-packages (from tensorflow) (57.4.0)\n",
            "Requirement already satisfied: tensorflow-io-gcs-filesystem>=0.23.1 in /usr/local/lib/python3.8/dist-packages (from tensorflow) (0.30.0)\n",
            "Requirement already satisfied: opt-einsum>=2.3.2 in /usr/local/lib/python3.8/dist-packages (from tensorflow) (3.3.0)\n",
            "Requirement already satisfied: absl-py>=1.0.0 in /usr/local/lib/python3.8/dist-packages (from tensorflow) (1.4.0)\n",
            "Requirement already satisfied: grpcio<2.0,>=1.24.3 in /usr/local/lib/python3.8/dist-packages (from tensorflow) (1.51.1)\n",
            "Requirement already satisfied: protobuf<3.20,>=3.9.2 in /usr/local/lib/python3.8/dist-packages (from tensorflow) (3.19.6)\n",
            "Requirement already satisfied: gast<=0.4.0,>=0.2.1 in /usr/local/lib/python3.8/dist-packages (from tensorflow) (0.4.0)\n",
            "Requirement already satisfied: h5py>=2.9.0 in /usr/local/lib/python3.8/dist-packages (from tensorflow) (3.1.0)\n",
            "Requirement already satisfied: six>=1.12.0 in /usr/local/lib/python3.8/dist-packages (from tensorflow) (1.15.0)\n",
            "Requirement already satisfied: tensorflow-estimator<2.12,>=2.11.0 in /usr/local/lib/python3.8/dist-packages (from tensorflow) (2.11.0)\n",
            "Requirement already satisfied: keras<2.12,>=2.11.0 in /usr/local/lib/python3.8/dist-packages (from tensorflow) (2.11.0)\n",
            "Requirement already satisfied: typing-extensions>=3.6.6 in /usr/local/lib/python3.8/dist-packages (from tensorflow) (4.4.0)\n",
            "Requirement already satisfied: libclang>=13.0.0 in /usr/local/lib/python3.8/dist-packages (from tensorflow) (15.0.6.1)\n",
            "Requirement already satisfied: flatbuffers>=2.0 in /usr/local/lib/python3.8/dist-packages (from tensorflow) (23.1.21)\n",
            "Requirement already satisfied: numpy>=1.20 in /usr/local/lib/python3.8/dist-packages (from tensorflow) (1.21.6)\n",
            "Requirement already satisfied: packaging in /usr/local/lib/python3.8/dist-packages (from tensorflow) (23.0)\n",
            "Requirement already satisfied: wrapt>=1.11.0 in /usr/local/lib/python3.8/dist-packages (from tensorflow) (1.14.1)\n",
            "Requirement already satisfied: astunparse>=1.6.0 in /usr/local/lib/python3.8/dist-packages (from tensorflow) (1.6.3)\n",
            "Requirement already satisfied: wheel<1.0,>=0.23.0 in /usr/local/lib/python3.8/dist-packages (from astunparse>=1.6.0->tensorflow) (0.38.4)\n",
            "Requirement already satisfied: werkzeug>=1.0.1 in /usr/local/lib/python3.8/dist-packages (from tensorboard<2.12,>=2.11->tensorflow) (1.0.1)\n",
            "Requirement already satisfied: tensorboard-plugin-wit>=1.6.0 in /usr/local/lib/python3.8/dist-packages (from tensorboard<2.12,>=2.11->tensorflow) (1.8.1)\n",
            "Requirement already satisfied: requests<3,>=2.21.0 in /usr/local/lib/python3.8/dist-packages (from tensorboard<2.12,>=2.11->tensorflow) (2.25.1)\n",
            "Requirement already satisfied: tensorboard-data-server<0.7.0,>=0.6.0 in /usr/local/lib/python3.8/dist-packages (from tensorboard<2.12,>=2.11->tensorflow) (0.6.1)\n",
            "Requirement already satisfied: google-auth<3,>=1.6.3 in /usr/local/lib/python3.8/dist-packages (from tensorboard<2.12,>=2.11->tensorflow) (2.16.0)\n",
            "Requirement already satisfied: google-auth-oauthlib<0.5,>=0.4.1 in /usr/local/lib/python3.8/dist-packages (from tensorboard<2.12,>=2.11->tensorflow) (0.4.6)\n",
            "Requirement already satisfied: markdown>=2.6.8 in /usr/local/lib/python3.8/dist-packages (from tensorboard<2.12,>=2.11->tensorflow) (3.4.1)\n",
            "Requirement already satisfied: cachetools<6.0,>=2.0.0 in /usr/local/lib/python3.8/dist-packages (from google-auth<3,>=1.6.3->tensorboard<2.12,>=2.11->tensorflow) (5.3.0)\n",
            "Requirement already satisfied: rsa<5,>=3.1.4 in /usr/local/lib/python3.8/dist-packages (from google-auth<3,>=1.6.3->tensorboard<2.12,>=2.11->tensorflow) (4.9)\n",
            "Requirement already satisfied: pyasn1-modules>=0.2.1 in /usr/local/lib/python3.8/dist-packages (from google-auth<3,>=1.6.3->tensorboard<2.12,>=2.11->tensorflow) (0.2.8)\n",
            "Requirement already satisfied: requests-oauthlib>=0.7.0 in /usr/local/lib/python3.8/dist-packages (from google-auth-oauthlib<0.5,>=0.4.1->tensorboard<2.12,>=2.11->tensorflow) (1.3.1)\n",
            "Requirement already satisfied: importlib-metadata>=4.4 in /usr/local/lib/python3.8/dist-packages (from markdown>=2.6.8->tensorboard<2.12,>=2.11->tensorflow) (6.0.0)\n",
            "Requirement already satisfied: chardet<5,>=3.0.2 in /usr/local/lib/python3.8/dist-packages (from requests<3,>=2.21.0->tensorboard<2.12,>=2.11->tensorflow) (4.0.0)\n",
            "Requirement already satisfied: urllib3<1.27,>=1.21.1 in /usr/local/lib/python3.8/dist-packages (from requests<3,>=2.21.0->tensorboard<2.12,>=2.11->tensorflow) (1.24.3)\n",
            "Requirement already satisfied: certifi>=2017.4.17 in /usr/local/lib/python3.8/dist-packages (from requests<3,>=2.21.0->tensorboard<2.12,>=2.11->tensorflow) (2022.12.7)\n",
            "Requirement already satisfied: idna<3,>=2.5 in /usr/local/lib/python3.8/dist-packages (from requests<3,>=2.21.0->tensorboard<2.12,>=2.11->tensorflow) (2.10)\n",
            "Requirement already satisfied: zipp>=0.5 in /usr/local/lib/python3.8/dist-packages (from importlib-metadata>=4.4->markdown>=2.6.8->tensorboard<2.12,>=2.11->tensorflow) (3.12.1)\n",
            "Requirement already satisfied: pyasn1<0.5.0,>=0.4.6 in /usr/local/lib/python3.8/dist-packages (from pyasn1-modules>=0.2.1->google-auth<3,>=1.6.3->tensorboard<2.12,>=2.11->tensorflow) (0.4.8)\n",
            "Requirement already satisfied: oauthlib>=3.0.0 in /usr/local/lib/python3.8/dist-packages (from requests-oauthlib>=0.7.0->google-auth-oauthlib<0.5,>=0.4.1->tensorboard<2.12,>=2.11->tensorflow) (3.2.2)\n",
            "Installing collected packages: tensorflow_io\n",
            "Successfully installed tensorflow_io-0.30.0\n"
          ]
        }
      ]
    },
    {
      "cell_type": "code",
      "source": [
        "# !pip install librosa"
      ],
      "metadata": {
        "id": "ASlxirJWjM4b"
      },
      "execution_count": null,
      "outputs": []
    },
    {
      "cell_type": "code",
      "source": [
        "import os\n",
        "import csv\n",
        "import pandas as pd\n",
        "import datetime\n",
        "from itertools import groupby\n",
        "from matplotlib import pyplot as plt\n",
        "\n",
        "import tensorflow as tf \n",
        "import tensorflow_io as tfio\n",
        "from tensorflow.keras.models import Sequential\n",
        "from tensorflow.keras.layers import Conv2D, Dense, Flatten"
      ],
      "metadata": {
        "id": "6ADP5Cnbt1Nu"
      },
      "execution_count": 7,
      "outputs": []
    },
    {
      "cell_type": "code",
      "source": [
        "#This function loads an audio clip and resamples it to 16000 samples/second\n",
        "# import librosa    \n",
        "\n",
        "def load_wav_16k_mono(filename):\n",
        "    # Load encoded wav file\n",
        "    file_contents = tf.io.read_file(filename)\n",
        "    # Decode wav (tensors by channels) \n",
        "    wav, sample_rate = tf.audio.decode_wav(file_contents, desired_channels=1)\n",
        "    # Removes trailing axis\n",
        "    wav = tf.squeeze(wav, axis=-1)\n",
        "    sample_rate = tf.cast(sample_rate, dtype=tf.int64)\n",
        "    # Goes from 44100Hz to 16000hz - amplitude of the audio signal\n",
        "    wav = tfio.audio.resample(wav, rate_in=sample_rate, rate_out=16000)\n",
        "    # wav, s = librosa.load(filename, sr=16000)\n",
        " \n",
        "\n",
        "    return wav"
      ],
      "metadata": {
        "id": "IV83JWoJsKDg"
      },
      "execution_count": 8,
      "outputs": []
    },
    {
      "cell_type": "code",
      "source": [
        "!ls\n",
        "!pwd"
      ],
      "metadata": {
        "id": "1fdM8VKB18Wc"
      },
      "execution_count": null,
      "outputs": []
    },
    {
      "cell_type": "code",
      "source": [
        "#upload moan data (3 sec audio), them create Moan folder, then move them to Moan folder\n",
        "!mv /content/*.wav /content/NoMoan"
      ],
      "metadata": {
        "id": "QAsDdcf1-zrv"
      },
      "execution_count": null,
      "outputs": []
    },
    {
      "cell_type": "code",
      "source": [],
      "metadata": {
        "id": "V4pGyl6M_MEq"
      },
      "execution_count": null,
      "outputs": []
    },
    {
      "cell_type": "code",
      "source": [
        "#Tensorflow only works with 16-bit .wav files\n",
        "#This function converts them into 16-bit and stores them to the target directory\n",
        "\n",
        "import soundfile\n",
        "import os\n",
        "\n",
        "def convertTo16Bit(directory):\n",
        "    for file in os.listdir(directory):\n",
        "         if(file.endswith('.wav')):\n",
        "                nameSolo = file.rsplit('.', 1)[0]\n",
        "                path = directory + '/' + file\n",
        "                #print(directory + f'/{nameSolo}')\n",
        "                data, samplerate = soundfile.read(path)\n",
        "\n",
        "                soundfile.write('/content/Test16BIT' + nameSolo + '_16BIT.wav', data, samplerate, subtype='PCM_16')\n",
        "                #print(\"converting \" + file + \"to 16 - bit\")"
      ],
      "metadata": {
        "id": "xvPmzcQyYHsf"
      },
      "execution_count": 42,
      "outputs": []
    },
    {
      "cell_type": "code",
      "source": [
        "convertTo16Bit('/content/Test')"
      ],
      "metadata": {
        "id": "z6gyDkGgYUEj"
      },
      "execution_count": 43,
      "outputs": []
    },
    {
      "cell_type": "code",
      "source": [
        "!mv /content/*.wav /content/NoMoan16BIT"
      ],
      "metadata": {
        "id": "Gg1lIdRx_pZL"
      },
      "execution_count": null,
      "outputs": []
    },
    {
      "cell_type": "code",
      "source": [
        "#Storing samples from each class for test runs\n",
        "\n",
        "TIGER_FILE = \"/content/drive/MyDrive/Moan16BIT/Moan16BITSMM01167_20221109_182902_111_16BIT.wav\"\n",
        "NOT_TIGER_FILE = \"/content/drive/MyDrive/NoMoan16BIT/NoMoan16BITSMM01167_20221109_182902_114_16BIT.wav\""
      ],
      "metadata": {
        "id": "J-jRmcQnsNds"
      },
      "execution_count": 9,
      "outputs": []
    },
    {
      "cell_type": "code",
      "source": [
        "#Loading test files and assigning them to variables\n",
        "wave = load_wav_16k_mono(TIGER_FILE)\n",
        "nwave= load_wav_16k_mono(NOT_TIGER_FILE)"
      ],
      "metadata": {
        "id": "nSHGzWyysNxx"
      },
      "execution_count": 10,
      "outputs": []
    },
    {
      "cell_type": "code",
      "source": [
        "#Plotting example positive and negative samples\n",
        "plt.plot(wave)\n",
        "plt.plot(nwave)\n",
        "plt.show()"
      ],
      "metadata": {
        "colab": {
          "base_uri": "https://localhost:8080/",
          "height": 267
        },
        "id": "QpNKwL9ysN3X",
        "outputId": "7bb2204b-0498-4b12-a839-2de1b7420d4b"
      },
      "execution_count": 11,
      "outputs": [
        {
          "output_type": "display_data",
          "data": {
            "text/plain": [
              "<Figure size 432x288 with 1 Axes>"
            ],
            "image/png": "[encoded data removed]"
          },
          "metadata": {
            "needs_background": "light"
          }
        }
      ]
    },
    {
      "cell_type": "code",
      "source": [
        "!ls /content/Moan16BIT/"
      ],
      "metadata": {
        "colab": {
          "base_uri": "https://localhost:8080/"
        },
        "id": "VVKXUeQjrpnM",
        "outputId": "d85d9b75-3d19-4d9a-d579-2d887f985cc7"
      },
      "execution_count": null,
      "outputs": [
        {
          "output_type": "stream",
          "name": "stdout",
          "text": [
            "ls: cannot access '/content/Moan16BIT/': No such file or directory\n"
          ]
        }
      ]
    },
    {
      "cell_type": "code",
      "source": [
        "#This creates a dataset from the positive and negative samples and loads them onto two variables\n",
        "\n",
        "# this the folder for the imgs\n",
        "pos = tf.data.Dataset.list_files('/content/drive/MyDrive/Moan16BIT/*.wav')\n",
        "neg = tf.data.Dataset.list_files('/content/drive/MyDrive/NoMoan16BIT/*.wav')"
      ],
      "metadata": {
        "id": "JZgWI329sN9Q"
      },
      "execution_count": 12,
      "outputs": []
    },
    {
      "cell_type": "code",
      "source": [
        "len(pos), len(neg)"
      ],
      "metadata": {
        "colab": {
          "base_uri": "https://localhost:8080/"
        },
        "id": "zJvWtOSjMorq",
        "outputId": "1fa1fce7-0b23-47a0-cf63-67658b368c8c"
      },
      "execution_count": 13,
      "outputs": [
        {
          "output_type": "execute_result",
          "data": {
            "text/plain": [
              "(32, 32)"
            ]
          },
          "metadata": {},
          "execution_count": 13
        }
      ]
    },
    {
      "cell_type": "code",
      "source": [
        "#Adding samples labels to each sample set. potsitive examples are assigned label '1' and negative samples are assigned label '0'\n",
        "positives = tf.data.Dataset.zip((pos, tf.data.Dataset.from_tensor_slices(tf.ones(len(pos)))))\n",
        "negatives = tf.data.Dataset.zip((neg, tf.data.Dataset.from_tensor_slices(tf.zeros(len(neg)))))\n",
        "#Consolidating all samples under one variable sequentially\n",
        "data = positives.concatenate(negatives)\n",
        "data.as_numpy_iterator().next() , len(data)"
      ],
      "metadata": {
        "id": "Kv2Ne2I-4kUM",
        "colab": {
          "base_uri": "https://localhost:8080/"
        },
        "outputId": "69165550-8a2d-46c0-f61a-0d1dd1d3b404"
      },
      "execution_count": 14,
      "outputs": [
        {
          "output_type": "execute_result",
          "data": {
            "text/plain": [
              "((b'/content/drive/MyDrive/Moan16BIT/Moan16BITSMM01167_20221109_182902_162_16BIT.wav',\n",
              "  1.0),\n",
              " 64)"
            ]
          },
          "metadata": {},
          "execution_count": 14
        }
      ]
    },
    {
      "cell_type": "code",
      "source": [
        "negatives.as_numpy_iterator().next() "
      ],
      "metadata": {
        "colab": {
          "base_uri": "https://localhost:8080/"
        },
        "id": "FttCThT-G9Oa",
        "outputId": "5e35d037-5bc1-4d43-f23f-63bb49182e9e"
      },
      "execution_count": 15,
      "outputs": [
        {
          "output_type": "execute_result",
          "data": {
            "text/plain": [
              "(b'/content/drive/MyDrive/NoMoan16BIT/NoMoan16BITSMM01167_20221109_182902_128_16BIT.wav',\n",
              " 0.0)"
            ]
          },
          "metadata": {},
          "execution_count": 15
        }
      ]
    },
    {
      "cell_type": "code",
      "source": [
        "#This function loads an audio clip and converts it to a spectrogram for further processing\n",
        "\n",
        "def preprocess(file_path, label): \n",
        "    print(file_path)\n",
        "    wav = load_wav_16k_mono(file_path)\n",
        "    spectrogram = tf.signal.stft(wav, frame_length=320, frame_step=320, window_fn=None)\n",
        "    spectrogram = tf.abs(spectrogram)\n",
        "    spectrogram = tf.expand_dims(spectrogram, axis=2)\n",
        "    # print(spectrogram, label)\n",
        "    return spectrogram, label"
      ],
      "metadata": {
        "id": "r3T5PDUp4kb7"
      },
      "execution_count": 16,
      "outputs": []
    },
    {
      "cell_type": "code",
      "source": [
        "#Extracting one sample and plotting it's spectrogram for analysis\n",
        "\n",
        "filepath, label = positives.shuffle(buffer_size=10000).as_numpy_iterator().next()\n",
        "print(filepath, \" | \", label)\n",
        "spectrogram, label = preprocess(filepath, label)\n",
        "\n",
        "plt.figure(figsize=(20,10))\n",
        "plt.imshow(tf.transpose(spectrogram)[0])\n",
        "plt.show()"
      ],
      "metadata": {
        "colab": {
          "base_uri": "https://localhost:8080/",
          "height": 627
        },
        "id": "fwy72N5o4knt",
        "outputId": "81999e75-4bd8-42e0-e401-e7f4fe660b78"
      },
      "execution_count": 17,
      "outputs": [
        {
          "output_type": "stream",
          "name": "stdout",
          "text": [
            "b'/content/drive/MyDrive/Moan16BIT/Moan16BITSMM01167_20221109_182902_185_16BIT.wav'  |  1.0\n",
            "b'/content/drive/MyDrive/Moan16BIT/Moan16BITSMM01167_20221109_182902_185_16BIT.wav'\n"
          ]
        },
        {
          "output_type": "display_data",
          "data": {
            "text/plain": [
              "<Figure size 1440x720 with 1 Axes>"
            ],
            "image/png": "[encoded data removed]"
          },
          "metadata": {
            "needs_background": "light"
          }
        }
      ]
    },
    {
      "cell_type": "code",
      "source": [
        "filepath, label = negatives.shuffle(buffer_size=10000).as_numpy_iterator().next()\n",
        "spectrogram, label = preprocess(filepath, label)\n",
        "print(filepath, \" | \", label)\n",
        "print(\"spectrogram shape \",spectrogram.shape)\n",
        "plt.figure(figsize=(20,10))\n",
        "plt.imshow(tf.transpose(spectrogram)[0])\n",
        "plt.show()"
      ],
      "metadata": {
        "colab": {
          "base_uri": "https://localhost:8080/",
          "height": 643
        },
        "id": "J7ftbafPyP1h",
        "outputId": "55d2180d-9f27-418b-8452-bb0cb6082479"
      },
      "execution_count": 18,
      "outputs": [
        {
          "output_type": "stream",
          "name": "stdout",
          "text": [
            "b'/content/drive/MyDrive/NoMoan16BIT/NoMoan16BITSMM01167_20221109_182902_93_16BIT.wav'\n",
            "b'/content/drive/MyDrive/NoMoan16BIT/NoMoan16BITSMM01167_20221109_182902_93_16BIT.wav'  |  0.0\n",
            "spectrogram shape  (150, 257, 1)\n"
          ]
        },
        {
          "output_type": "display_data",
          "data": {
            "text/plain": [
              "<Figure size 1440x720 with 1 Axes>"
            ],
            "image/png": "[encoded data removed]"
          },
          "metadata": {
            "needs_background": "light"
          }
        }
      ]
    },
    {
      "cell_type": "code",
      "source": [
        "# for i in data:\n",
        "#   filepath, label = data.as_numpy_iterator().next()\n",
        "#   print(filepath, \" | \", label )\n",
        "list(data.as_numpy_iterator())"
      ],
      "metadata": {
        "colab": {
          "base_uri": "https://localhost:8080/"
        },
        "id": "41ZgiB7tFA83",
        "outputId": "617af82b-a7ce-42cf-e82a-8ce60c335faf"
      },
      "execution_count": 19,
      "outputs": [
        {
          "output_type": "execute_result",
          "data": {
            "text/plain": [
              "[(b'/content/drive/MyDrive/Moan16BIT/Moan16BITSMM01167_20221109_182902_80_16BIT.wav',\n",
              "  1.0),\n",
              " (b'/content/drive/MyDrive/Moan16BIT/Moan16BITSMM01167_20221109_182902_156_16BIT.wav',\n",
              "  1.0),\n",
              " (b'/content/drive/MyDrive/Moan16BIT/Moan16BITSMM01167_20221109_182902_154_16BIT.wav',\n",
              "  1.0),\n",
              " (b'/content/drive/MyDrive/Moan16BIT/Moan16BITSMM01167_20221109_182902_158_16BIT.wav',\n",
              "  1.0),\n",
              " (b'/content/drive/MyDrive/Moan16BIT/Moan16BITSMM01167_20221109_182902_129_16BIT.wav',\n",
              "  1.0),\n",
              " (b'/content/drive/MyDrive/Moan16BIT/Moan16BITSMM01167_20221109_182902_116_16BIT.wav',\n",
              "  1.0),\n",
              " (b'/content/drive/MyDrive/Moan16BIT/Moan16BITSMM01167_20221109_182902_77_16BIT.wav',\n",
              "  1.0),\n",
              " (b'/content/drive/MyDrive/Moan16BIT/Moan16BITSMM01167_20221109_182902_125_16BIT.wav',\n",
              "  1.0),\n",
              " (b'/content/drive/MyDrive/Moan16BIT/Moan16BITSMM01167_20221109_182902_132_16BIT.wav',\n",
              "  1.0),\n",
              " (b'/content/drive/MyDrive/Moan16BIT/Moan16BITSMM01167_20221109_182902_78_16BIT.wav',\n",
              "  1.0),\n",
              " (b'/content/drive/MyDrive/Moan16BIT/Moan16BITSMM01167_20221109_182902_165_16BIT.wav',\n",
              "  1.0),\n",
              " (b'/content/drive/MyDrive/Moan16BIT/Moan16BITSMM01167_20221109_182902_160_16BIT.wav',\n",
              "  1.0),\n",
              " (b'/content/drive/MyDrive/Moan16BIT/Moan16BITSMM01167_20221109_182902_83_16BIT.wav',\n",
              "  1.0),\n",
              " (b'/content/drive/MyDrive/Moan16BIT/Moan16BITSMM01167_20221109_182902_79_16BIT.wav',\n",
              "  1.0),\n",
              " (b'/content/drive/MyDrive/Moan16BIT/Moan16BITSMM01167_20221109_182902_164_16BIT.wav',\n",
              "  1.0),\n",
              " (b'/content/drive/MyDrive/Moan16BIT/Moan16BITSMM01167_20221109_182902_118_16BIT.wav',\n",
              "  1.0),\n",
              " (b'/content/drive/MyDrive/Moan16BIT/Moan16BITSMM01167_20221109_182902_134_16BIT.wav',\n",
              "  1.0),\n",
              " (b'/content/drive/MyDrive/Moan16BIT/Moan16BITSMM01167_20221109_182902_155_16BIT.wav',\n",
              "  1.0),\n",
              " (b'/content/drive/MyDrive/Moan16BIT/Moan16BITSMM01167_20221109_182902_121_16BIT.wav',\n",
              "  1.0),\n",
              " (b'/content/drive/MyDrive/Moan16BIT/Moan16BITSMM01167_20221109_182902_81_16BIT.wav',\n",
              "  1.0),\n",
              " (b'/content/drive/MyDrive/Moan16BIT/Moan16BITSMM01167_20221109_182902_190_16BIT.wav',\n",
              "  1.0),\n",
              " (b'/content/drive/MyDrive/Moan16BIT/Moan16BITSMM01167_20221109_182902_157_16BIT.wav',\n",
              "  1.0),\n",
              " (b'/content/drive/MyDrive/Moan16BIT/Moan16BITSMM01167_20221109_182902_130_16BIT.wav',\n",
              "  1.0),\n",
              " (b'/content/drive/MyDrive/Moan16BIT/Moan16BITSMM01167_20221109_182902_185_16BIT.wav',\n",
              "  1.0),\n",
              " (b'/content/drive/MyDrive/Moan16BIT/Moan16BITSMM01167_20221109_182902_162_16BIT.wav',\n",
              "  1.0),\n",
              " (b'/content/drive/MyDrive/Moan16BIT/Moan16BITSMM01167_20221109_182902_150_16BIT.wav',\n",
              "  1.0),\n",
              " (b'/content/drive/MyDrive/Moan16BIT/Moan16BITSMM01167_20221109_182902_115_16BIT.wav',\n",
              "  1.0),\n",
              " (b'/content/drive/MyDrive/Moan16BIT/Moan16BITSMM01167_20221109_182902_86_16BIT.wav',\n",
              "  1.0),\n",
              " (b'/content/drive/MyDrive/Moan16BIT/Moan16BITSMM01167_20221109_182902_82_16BIT.wav',\n",
              "  1.0),\n",
              " (b'/content/drive/MyDrive/Moan16BIT/Moan16BITSMM01167_20221109_182902_136_16BIT.wav',\n",
              "  1.0),\n",
              " (b'/content/drive/MyDrive/Moan16BIT/Moan16BITSMM01167_20221109_182902_111_16BIT.wav',\n",
              "  1.0),\n",
              " (b'/content/drive/MyDrive/Moan16BIT/Moan16BITSMM01167_20221109_182902_131_16BIT.wav',\n",
              "  1.0),\n",
              " (b'/content/drive/MyDrive/NoMoan16BIT/NoMoan16BITSMM01167_20221109_182902_135_16BIT.wav',\n",
              "  0.0),\n",
              " (b'/content/drive/MyDrive/NoMoan16BIT/NoMoan16BITSMM01167_20221109_182902_92_16BIT.wav',\n",
              "  0.0),\n",
              " (b'/content/drive/MyDrive/NoMoan16BIT/NoMoan16BITSMM01167_20221109_182902_141_16BIT.wav',\n",
              "  0.0),\n",
              " (b'/content/drive/MyDrive/NoMoan16BIT/NoMoan16BITSMM01167_20221109_182902_85_16BIT.wav',\n",
              "  0.0),\n",
              " (b'/content/drive/MyDrive/NoMoan16BIT/NoMoan16BITSMM01167_20221109_182902_139_16BIT.wav',\n",
              "  0.0),\n",
              " (b'/content/drive/MyDrive/NoMoan16BIT/NoMoan16BITSMM01167_20221109_182902_140_16BIT.wav',\n",
              "  0.0),\n",
              " (b'/content/drive/MyDrive/NoMoan16BIT/NoMoan16BITSMM01167_20221109_182902_119_16BIT.wav',\n",
              "  0.0),\n",
              " (b'/content/drive/MyDrive/NoMoan16BIT/NoMoan16BITSMM01167_20221109_182902_144_16BIT.wav',\n",
              "  0.0),\n",
              " (b'/content/drive/MyDrive/NoMoan16BIT/NoMoan16BITSMM01167_20221109_182902_146_16BIT.wav',\n",
              "  0.0),\n",
              " (b'/content/drive/MyDrive/NoMoan16BIT/NoMoan16BITSMM01167_20221109_182902_138_16BIT.wav',\n",
              "  0.0),\n",
              " (b'/content/drive/MyDrive/NoMoan16BIT/NoMoan16BITSMM01167_20221109_182902_153_16BIT.wav',\n",
              "  0.0),\n",
              " (b'/content/drive/MyDrive/NoMoan16BIT/NoMoan16BITSMM01167_20221109_182902_152_16BIT.wav',\n",
              "  0.0),\n",
              " (b'/content/drive/MyDrive/NoMoan16BIT/NoMoan16BITSMM01167_20221109_182902_117_16BIT.wav',\n",
              "  0.0),\n",
              " (b'/content/drive/MyDrive/NoMoan16BIT/NoMoan16BITSMM01167_20221109_182902_110_16BIT.wav',\n",
              "  0.0),\n",
              " (b'/content/drive/MyDrive/NoMoan16BIT/NoMoan16BITSMM01167_20221109_182902_93_16BIT.wav',\n",
              "  0.0),\n",
              " (b'/content/drive/MyDrive/NoMoan16BIT/NoMoan16BITSMM01167_20221109_182902_87_16BIT.wav',\n",
              "  0.0),\n",
              " (b'/content/drive/MyDrive/NoMoan16BIT/NoMoan16BITSMM01167_20221109_182902_151_16BIT.wav',\n",
              "  0.0),\n",
              " (b'/content/drive/MyDrive/NoMoan16BIT/NoMoan16BITSMM01167_20221109_182902_122_16BIT.wav',\n",
              "  0.0),\n",
              " (b'/content/drive/MyDrive/NoMoan16BIT/NoMoan16BITSMM01167_20221109_182902_147_16BIT.wav',\n",
              "  0.0),\n",
              " (b'/content/drive/MyDrive/NoMoan16BIT/NoMoan16BITSMM01167_20221109_182902_128_16BIT.wav',\n",
              "  0.0),\n",
              " (b'/content/drive/MyDrive/NoMoan16BIT/NoMoan16BITSMM01167_20221109_182902_148_16BIT.wav',\n",
              "  0.0),\n",
              " (b'/content/drive/MyDrive/NoMoan16BIT/NoMoan16BITSMM01167_20221109_182902_94_16BIT.wav',\n",
              "  0.0),\n",
              " (b'/content/drive/MyDrive/NoMoan16BIT/NoMoan16BITSMM01167_20221109_182902_161_16BIT.wav',\n",
              "  0.0),\n",
              " (b'/content/drive/MyDrive/NoMoan16BIT/NoMoan16BITSMM01167_20221109_182902_114_16BIT.wav',\n",
              "  0.0),\n",
              " (b'/content/drive/MyDrive/NoMoan16BIT/NoMoan16BITSMM01167_20221109_182902_145_16BIT.wav',\n",
              "  0.0),\n",
              " (b'/content/drive/MyDrive/NoMoan16BIT/NoMoan16BITSMM01167_20221109_182902_137_16BIT.wav',\n",
              "  0.0),\n",
              " (b'/content/drive/MyDrive/NoMoan16BIT/NoMoan16BITSMM01167_20221109_182902_91_16BIT.wav',\n",
              "  0.0),\n",
              " (b'/content/drive/MyDrive/NoMoan16BIT/NoMoan16BITSMM01167_20221109_182902_127_16BIT.wav',\n",
              "  0.0),\n",
              " (b'/content/drive/MyDrive/NoMoan16BIT/NoMoan16BITSMM01167_20221109_182902_149_16BIT.wav',\n",
              "  0.0),\n",
              " (b'/content/drive/MyDrive/NoMoan16BIT/NoMoan16BITSMM01167_20221109_182902_143_16BIT.wav',\n",
              "  0.0),\n",
              " (b'/content/drive/MyDrive/NoMoan16BIT/NoMoan16BITSMM01167_20221109_182902_84_16BIT.wav',\n",
              "  0.0),\n",
              " (b'/content/drive/MyDrive/NoMoan16BIT/NoMoan16BITSMM01167_20221109_182902_142_16BIT.wav',\n",
              "  0.0)]"
            ]
          },
          "metadata": {},
          "execution_count": 19
        }
      ]
    },
    {
      "cell_type": "code",
      "source": [
        "#Creating a data loading pipeline, that shuffles the dataset and creates batches of 16 images\n",
        "\n",
        "# data = tf.data.Dataset.map(preprocess)\n",
        "data= data.map(preprocess)\n",
        "data = data.cache()\n",
        "data = data.shuffle(buffer_size=1000)\n",
        "data = data.batch(16)\n",
        "data = data.prefetch(8)"
      ],
      "metadata": {
        "id": "LRDcDn7w4kze",
        "colab": {
          "base_uri": "https://localhost:8080/"
        },
        "outputId": "672e07c7-6186-41b5-b193-2215bed2b72e"
      },
      "execution_count": 20,
      "outputs": [
        {
          "output_type": "stream",
          "name": "stdout",
          "text": [
            "Tensor(\"args_0:0\", shape=(), dtype=string)\n"
          ]
        },
        {
          "output_type": "stream",
          "name": "stderr",
          "text": [
            "WARNING:tensorflow:From /usr/local/lib/python3.8/dist-packages/tensorflow/python/autograph/pyct/static_analysis/liveness.py:83: Analyzer.lamba_check (from tensorflow.python.autograph.pyct.static_analysis.liveness) is deprecated and will be removed after 2023-09-23.\n",
            "Instructions for updating:\n",
            "Lambda fuctions will be no more assumed to be used in the statement where they are used, or at least in the same block. https://github.com/tensorflow/tensorflow/issues/56089\n",
            "WARNING:tensorflow:Using a while_loop for converting IO>AudioResample cause there is no registered converter for this op.\n"
          ]
        }
      ]
    },
    {
      "cell_type": "code",
      "source": [
        "len(data)"
      ],
      "metadata": {
        "colab": {
          "base_uri": "https://localhost:8080/"
        },
        "id": "5uR-m9y4hyxM",
        "outputId": "743b9734-5034-4b4e-c6c6-30bc2dfc2f6d"
      },
      "execution_count": 21,
      "outputs": [
        {
          "output_type": "execute_result",
          "data": {
            "text/plain": [
              "4"
            ]
          },
          "metadata": {},
          "execution_count": 21
        }
      ]
    },
    {
      "cell_type": "code",
      "source": [
        "#Splitting dataset into train and test sets\n",
        "train = data.take(3)\n",
        "test = data.skip(3).take(1)"
      ],
      "metadata": {
        "id": "yYol99QH4lFq"
      },
      "execution_count": 22,
      "outputs": []
    },
    {
      "cell_type": "code",
      "source": [
        "len(train),len(test)"
      ],
      "metadata": {
        "colab": {
          "base_uri": "https://localhost:8080/"
        },
        "id": "6L0yXI-FNfCL",
        "outputId": "bdaf0967-7732-4f6e-b8cb-964e56ea27a0"
      },
      "execution_count": 23,
      "outputs": [
        {
          "output_type": "execute_result",
          "data": {
            "text/plain": [
              "(3, 1)"
            ]
          },
          "metadata": {},
          "execution_count": 23
        }
      ]
    },
    {
      "cell_type": "code",
      "source": [
        "#Extracting random example from train set\n",
        "samples, labels = train.as_numpy_iterator().next()"
      ],
      "metadata": {
        "id": "xB8dF69y4lXM"
      },
      "execution_count": 24,
      "outputs": []
    },
    {
      "cell_type": "markdown",
      "source": [],
      "metadata": {
        "id": "sP9b9EJiprnB"
      }
    },
    {
      "cell_type": "code",
      "source": [
        "#Outputs shape of example train sample. \n",
        "#This gives the input_shape for the Convolutional Neural Network\n",
        "samples.shape"
      ],
      "metadata": {
        "colab": {
          "base_uri": "https://localhost:8080/"
        },
        "id": "DZbCJSQ-4lmM",
        "outputId": "cc45ad18-d382-48f0-e252-906f7acf179a"
      },
      "execution_count": 25,
      "outputs": [
        {
          "output_type": "execute_result",
          "data": {
            "text/plain": [
              "(16, 150, 257, 1)"
            ]
          },
          "metadata": {},
          "execution_count": 25
        }
      ]
    },
    {
      "cell_type": "code",
      "source": [
        "#Creating a sequential convolutional neural network model\n",
        "\n",
        "model = Sequential()\n",
        "model.add(Conv2D(16, (3,3), activation='relu', input_shape=(150,257,1)))\n",
        "model.add(Conv2D(5, (3,3), activation='relu'))\n",
        "model.add(Flatten())\n",
        "model.add(Dense(128, activation='relu'))\n",
        "model.add(Dense(1, activation='sigmoid'))"
      ],
      "metadata": {
        "id": "Y4-W1mtO6dbS"
      },
      "execution_count": 26,
      "outputs": []
    },
    {
      "cell_type": "code",
      "source": [
        "#Model compilation\n",
        "model.compile('Adam', loss='BinaryCrossentropy', metrics=[tf.keras.metrics.Recall(),tf.keras.metrics.Precision(), tf.keras.metrics.Accuracy()])"
      ],
      "metadata": {
        "id": "eaeBeLjh6dg1"
      },
      "execution_count": 29,
      "outputs": []
    },
    {
      "cell_type": "code",
      "source": [
        "#Outputs model summary and model parameters\n",
        "model.summary()"
      ],
      "metadata": {
        "colab": {
          "base_uri": "https://localhost:8080/"
        },
        "id": "3loaXAcT6dmR",
        "outputId": "681c870a-c0ea-49b9-f61c-df42c6427e29"
      },
      "execution_count": 30,
      "outputs": [
        {
          "output_type": "stream",
          "name": "stdout",
          "text": [
            "Model: \"sequential\"\n",
            "_________________________________________________________________\n",
            " Layer (type)                Output Shape              Param #   \n",
            "=================================================================\n",
            " conv2d (Conv2D)             (None, 148, 255, 16)      160       \n",
            "                                                                 \n",
            " conv2d_1 (Conv2D)           (None, 146, 253, 5)       725       \n",
            "                                                                 \n",
            " flatten (Flatten)           (None, 184690)            0         \n",
            "                                                                 \n",
            " dense (Dense)               (None, 128)               23640448  \n",
            "                                                                 \n",
            " dense_1 (Dense)             (None, 1)                 129       \n",
            "                                                                 \n",
            "=================================================================\n",
            "Total params: 23,641,462\n",
            "Trainable params: 23,641,462\n",
            "Non-trainable params: 0\n",
            "_________________________________________________________________\n"
          ]
        }
      ]
    },
    {
      "cell_type": "code",
      "source": [
        "#Initiating training instance and storing results in 'hist' variable\n",
        "hist = model.fit(train, epochs=30, validation_data=test)"
      ],
      "metadata": {
        "colab": {
          "base_uri": "https://localhost:8080/"
        },
        "id": "l_Mfe53l6drS",
        "outputId": "06b695ae-203e-47eb-da0b-aaab270f3d95"
      },
      "execution_count": 31,
      "outputs": [
        {
          "output_type": "stream",
          "name": "stdout",
          "text": [
            "Epoch 1/30\n",
            "3/3 [==============================] - 7s 1s/step - loss: 1.7054 - recall: 0.6818 - precision: 0.4545 - accuracy: 0.1667 - val_loss: 1.3961 - val_recall: 0.2222 - val_precision: 1.0000 - val_accuracy: 0.0000e+00\n",
            "Epoch 2/30\n",
            "3/3 [==============================] - 4s 1s/step - loss: 0.6681 - recall: 0.4348 - precision: 1.0000 - accuracy: 0.0000e+00 - val_loss: 0.1974 - val_recall: 1.0000 - val_precision: 1.0000 - val_accuracy: 0.1250\n",
            "Epoch 3/30\n",
            "3/3 [==============================] - 4s 2s/step - loss: 0.2097 - recall: 1.0000 - precision: 0.9630 - accuracy: 0.2083 - val_loss: 0.1455 - val_recall: 1.0000 - val_precision: 1.0000 - val_accuracy: 0.2500\n",
            "Epoch 4/30\n",
            "3/3 [==============================] - 3s 1s/step - loss: 0.1176 - recall: 1.0000 - precision: 1.0000 - accuracy: 0.1667 - val_loss: 0.1081 - val_recall: 0.8000 - val_precision: 1.0000 - val_accuracy: 0.0625\n",
            "Epoch 5/30\n",
            "3/3 [==============================] - 4s 2s/step - loss: 0.1187 - recall: 0.9091 - precision: 1.0000 - accuracy: 0.1875 - val_loss: 0.1494 - val_recall: 0.9167 - val_precision: 1.0000 - val_accuracy: 0.3125\n",
            "Epoch 6/30\n",
            "3/3 [==============================] - 4s 1s/step - loss: 0.1080 - recall: 0.8750 - precision: 1.0000 - accuracy: 0.1875 - val_loss: 0.0096 - val_recall: 1.0000 - val_precision: 1.0000 - val_accuracy: 0.1875\n",
            "Epoch 7/30\n",
            "3/3 [==============================] - 3s 1s/step - loss: 0.0334 - recall: 0.9600 - precision: 1.0000 - accuracy: 0.2292 - val_loss: 0.0099 - val_recall: 1.0000 - val_precision: 1.0000 - val_accuracy: 0.3125\n",
            "Epoch 8/30\n",
            "3/3 [==============================] - 3s 1s/step - loss: 0.0178 - recall: 1.0000 - precision: 1.0000 - accuracy: 0.3125 - val_loss: 0.0288 - val_recall: 1.0000 - val_precision: 1.0000 - val_accuracy: 0.1875\n",
            "Epoch 9/30\n",
            "3/3 [==============================] - 5s 2s/step - loss: 0.0183 - recall: 1.0000 - precision: 1.0000 - accuracy: 0.2500 - val_loss: 0.0074 - val_recall: 1.0000 - val_precision: 1.0000 - val_accuracy: 0.2500\n",
            "Epoch 10/30\n",
            "3/3 [==============================] - 3s 1s/step - loss: 0.0124 - recall: 1.0000 - precision: 1.0000 - accuracy: 0.2708 - val_loss: 0.0116 - val_recall: 1.0000 - val_precision: 1.0000 - val_accuracy: 0.2500\n",
            "Epoch 11/30\n",
            "3/3 [==============================] - 3s 1s/step - loss: 0.0045 - recall: 1.0000 - precision: 1.0000 - accuracy: 0.3750 - val_loss: 0.0061 - val_recall: 1.0000 - val_precision: 1.0000 - val_accuracy: 0.4375\n",
            "Epoch 12/30\n",
            "3/3 [==============================] - 4s 2s/step - loss: 0.0037 - recall: 1.0000 - precision: 1.0000 - accuracy: 0.4167 - val_loss: 0.0013 - val_recall: 1.0000 - val_precision: 1.0000 - val_accuracy: 0.3750\n",
            "Epoch 13/30\n",
            "3/3 [==============================] - 4s 1s/step - loss: 0.0022 - recall: 1.0000 - precision: 1.0000 - accuracy: 0.3125 - val_loss: 0.0012 - val_recall: 1.0000 - val_precision: 1.0000 - val_accuracy: 0.2500\n",
            "Epoch 14/30\n",
            "3/3 [==============================] - 3s 1s/step - loss: 0.0014 - recall: 1.0000 - precision: 1.0000 - accuracy: 0.3333 - val_loss: 7.0598e-04 - val_recall: 1.0000 - val_precision: 1.0000 - val_accuracy: 0.2500\n",
            "Epoch 15/30\n",
            "3/3 [==============================] - 4s 2s/step - loss: 7.6326e-04 - recall: 1.0000 - precision: 1.0000 - accuracy: 0.3750 - val_loss: 3.7486e-04 - val_recall: 1.0000 - val_precision: 1.0000 - val_accuracy: 0.2500\n",
            "Epoch 16/30\n",
            "3/3 [==============================] - 3s 1s/step - loss: 5.3374e-04 - recall: 1.0000 - precision: 1.0000 - accuracy: 0.3958 - val_loss: 4.1474e-04 - val_recall: 1.0000 - val_precision: 1.0000 - val_accuracy: 0.3125\n",
            "Epoch 17/30\n",
            "3/3 [==============================] - 3s 1s/step - loss: 3.8981e-04 - recall: 1.0000 - precision: 1.0000 - accuracy: 0.3750 - val_loss: 2.4109e-04 - val_recall: 1.0000 - val_precision: 1.0000 - val_accuracy: 0.4375\n",
            "Epoch 18/30\n",
            "3/3 [==============================] - 4s 1s/step - loss: 3.0212e-04 - recall: 1.0000 - precision: 1.0000 - accuracy: 0.3542 - val_loss: 1.8489e-04 - val_recall: 1.0000 - val_precision: 1.0000 - val_accuracy: 0.3750\n",
            "Epoch 19/30\n",
            "3/3 [==============================] - 6s 2s/step - loss: 2.0138e-04 - recall: 1.0000 - precision: 1.0000 - accuracy: 0.3750 - val_loss: 2.2671e-04 - val_recall: 1.0000 - val_precision: 1.0000 - val_accuracy: 0.4375\n",
            "Epoch 20/30\n",
            "3/3 [==============================] - 3s 1s/step - loss: 1.8128e-04 - recall: 1.0000 - precision: 1.0000 - accuracy: 0.4167 - val_loss: 1.0652e-04 - val_recall: 1.0000 - val_precision: 1.0000 - val_accuracy: 0.3125\n",
            "Epoch 21/30\n",
            "3/3 [==============================] - 5s 2s/step - loss: 1.6107e-04 - recall: 1.0000 - precision: 1.0000 - accuracy: 0.3542 - val_loss: 1.3093e-04 - val_recall: 1.0000 - val_precision: 1.0000 - val_accuracy: 0.3125\n",
            "Epoch 22/30\n",
            "3/3 [==============================] - 3s 1s/step - loss: 1.5783e-04 - recall: 1.0000 - precision: 1.0000 - accuracy: 0.3542 - val_loss: 1.5750e-04 - val_recall: 1.0000 - val_precision: 1.0000 - val_accuracy: 0.3125\n",
            "Epoch 23/30\n",
            "3/3 [==============================] - 3s 1s/step - loss: 1.4050e-04 - recall: 1.0000 - precision: 1.0000 - accuracy: 0.2917 - val_loss: 6.6097e-05 - val_recall: 1.0000 - val_precision: 1.0000 - val_accuracy: 0.3125\n",
            "Epoch 24/30\n",
            "3/3 [==============================] - 3s 1s/step - loss: 1.2344e-04 - recall: 1.0000 - precision: 1.0000 - accuracy: 0.3333 - val_loss: 4.3789e-05 - val_recall: 1.0000 - val_precision: 1.0000 - val_accuracy: 0.5000\n",
            "Epoch 25/30\n",
            "3/3 [==============================] - 5s 2s/step - loss: 7.5418e-05 - recall: 1.0000 - precision: 1.0000 - accuracy: 0.4167 - val_loss: 1.3945e-04 - val_recall: 1.0000 - val_precision: 1.0000 - val_accuracy: 0.3125\n",
            "Epoch 26/30\n",
            "3/3 [==============================] - 3s 1s/step - loss: 7.9377e-05 - recall: 1.0000 - precision: 1.0000 - accuracy: 0.3542 - val_loss: 7.7256e-05 - val_recall: 1.0000 - val_precision: 1.0000 - val_accuracy: 0.5625\n",
            "Epoch 27/30\n",
            "3/3 [==============================] - 3s 1s/step - loss: 7.3973e-05 - recall: 1.0000 - precision: 1.0000 - accuracy: 0.3542 - val_loss: 1.4984e-04 - val_recall: 1.0000 - val_precision: 1.0000 - val_accuracy: 0.3750\n",
            "Epoch 28/30\n",
            "3/3 [==============================] - 3s 1s/step - loss: 8.2223e-05 - recall: 1.0000 - precision: 1.0000 - accuracy: 0.3542 - val_loss: 4.4927e-05 - val_recall: 1.0000 - val_precision: 1.0000 - val_accuracy: 0.4375\n",
            "Epoch 29/30\n",
            "3/3 [==============================] - 4s 1s/step - loss: 7.7488e-05 - recall: 1.0000 - precision: 1.0000 - accuracy: 0.3958 - val_loss: 6.7115e-05 - val_recall: 1.0000 - val_precision: 1.0000 - val_accuracy: 0.4375\n",
            "Epoch 30/30\n",
            "3/3 [==============================] - 3s 1s/step - loss: 6.1177e-05 - recall: 1.0000 - precision: 1.0000 - accuracy: 0.3750 - val_loss: 6.2510e-05 - val_recall: 1.0000 - val_precision: 1.0000 - val_accuracy: 0.5000\n"
          ]
        }
      ]
    },
    {
      "cell_type": "code",
      "source": [
        "hist.history"
      ],
      "metadata": {
        "colab": {
          "base_uri": "https://localhost:8080/"
        },
        "id": "lLv-vyRSiuqW",
        "outputId": "5baa3307-ae20-4f42-85ea-64d0a4f27f3c"
      },
      "execution_count": 32,
      "outputs": [
        {
          "output_type": "execute_result",
          "data": {
            "text/plain": [
              "{'loss': [1.705384373664856,\n",
              "  0.6681067943572998,\n",
              "  0.20973944664001465,\n",
              "  0.11764753609895706,\n",
              "  0.11869438737630844,\n",
              "  0.10801669955253601,\n",
              "  0.03341338410973549,\n",
              "  0.017793817445635796,\n",
              "  0.018289605155587196,\n",
              "  0.012396800331771374,\n",
              "  0.004532537888735533,\n",
              "  0.0037030342500656843,\n",
              "  0.0021679040510207415,\n",
              "  0.001379361841827631,\n",
              "  0.0007632551714777946,\n",
              "  0.0005337366019375622,\n",
              "  0.0003898116701748222,\n",
              "  0.00030211827834136784,\n",
              "  0.000201381670194678,\n",
              "  0.00018128094961866736,\n",
              "  0.00016106881957966834,\n",
              "  0.00015783235721755773,\n",
              "  0.00014050237950868905,\n",
              "  0.00012344149581622332,\n",
              "  7.541820377809927e-05,\n",
              "  7.937716145534068e-05,\n",
              "  7.397255831165239e-05,\n",
              "  8.222270844271407e-05,\n",
              "  7.748830103082582e-05,\n",
              "  6.117708107922226e-05],\n",
              " 'recall': [0.6818181872367859,\n",
              "  0.43478259444236755,\n",
              "  1.0,\n",
              "  1.0,\n",
              "  0.9090909361839294,\n",
              "  0.875,\n",
              "  0.9599999785423279,\n",
              "  1.0,\n",
              "  1.0,\n",
              "  1.0,\n",
              "  1.0,\n",
              "  1.0,\n",
              "  1.0,\n",
              "  1.0,\n",
              "  1.0,\n",
              "  1.0,\n",
              "  1.0,\n",
              "  1.0,\n",
              "  1.0,\n",
              "  1.0,\n",
              "  1.0,\n",
              "  1.0,\n",
              "  1.0,\n",
              "  1.0,\n",
              "  1.0,\n",
              "  1.0,\n",
              "  1.0,\n",
              "  1.0,\n",
              "  1.0,\n",
              "  1.0],\n",
              " 'precision': [0.4545454680919647,\n",
              "  1.0,\n",
              "  0.9629629850387573,\n",
              "  1.0,\n",
              "  1.0,\n",
              "  1.0,\n",
              "  1.0,\n",
              "  1.0,\n",
              "  1.0,\n",
              "  1.0,\n",
              "  1.0,\n",
              "  1.0,\n",
              "  1.0,\n",
              "  1.0,\n",
              "  1.0,\n",
              "  1.0,\n",
              "  1.0,\n",
              "  1.0,\n",
              "  1.0,\n",
              "  1.0,\n",
              "  1.0,\n",
              "  1.0,\n",
              "  1.0,\n",
              "  1.0,\n",
              "  1.0,\n",
              "  1.0,\n",
              "  1.0,\n",
              "  1.0,\n",
              "  1.0,\n",
              "  1.0],\n",
              " 'accuracy': [0.1666666716337204,\n",
              "  0.0,\n",
              "  0.2083333283662796,\n",
              "  0.1666666716337204,\n",
              "  0.1875,\n",
              "  0.1875,\n",
              "  0.2291666716337204,\n",
              "  0.3125,\n",
              "  0.25,\n",
              "  0.2708333432674408,\n",
              "  0.375,\n",
              "  0.4166666567325592,\n",
              "  0.3125,\n",
              "  0.3333333432674408,\n",
              "  0.375,\n",
              "  0.3958333432674408,\n",
              "  0.375,\n",
              "  0.3541666567325592,\n",
              "  0.375,\n",
              "  0.4166666567325592,\n",
              "  0.3541666567325592,\n",
              "  0.3541666567325592,\n",
              "  0.2916666567325592,\n",
              "  0.3333333432674408,\n",
              "  0.4166666567325592,\n",
              "  0.3541666567325592,\n",
              "  0.3541666567325592,\n",
              "  0.3541666567325592,\n",
              "  0.3958333432674408,\n",
              "  0.375],\n",
              " 'val_loss': [1.396141529083252,\n",
              "  0.19741761684417725,\n",
              "  0.14549629390239716,\n",
              "  0.10807297378778458,\n",
              "  0.14940893650054932,\n",
              "  0.009616190567612648,\n",
              "  0.009883982129395008,\n",
              "  0.028843455016613007,\n",
              "  0.00737975025549531,\n",
              "  0.01158277690410614,\n",
              "  0.00614688266068697,\n",
              "  0.0013287559850141406,\n",
              "  0.00121048535220325,\n",
              "  0.000705980695784092,\n",
              "  0.0003748552408069372,\n",
              "  0.00041473517194390297,\n",
              "  0.00024108897196128964,\n",
              "  0.00018488586647436023,\n",
              "  0.00022670671751257032,\n",
              "  0.00010651766206137836,\n",
              "  0.00013092636072542518,\n",
              "  0.0001574991038069129,\n",
              "  6.609715637750924e-05,\n",
              "  4.378879748401232e-05,\n",
              "  0.00013944819511380047,\n",
              "  7.725579052930698e-05,\n",
              "  0.0001498382189311087,\n",
              "  4.492744483286515e-05,\n",
              "  6.711520836688578e-05,\n",
              "  6.251017475733534e-05],\n",
              " 'val_recall': [0.2222222238779068,\n",
              "  1.0,\n",
              "  1.0,\n",
              "  0.800000011920929,\n",
              "  0.9166666865348816,\n",
              "  1.0,\n",
              "  1.0,\n",
              "  1.0,\n",
              "  1.0,\n",
              "  1.0,\n",
              "  1.0,\n",
              "  1.0,\n",
              "  1.0,\n",
              "  1.0,\n",
              "  1.0,\n",
              "  1.0,\n",
              "  1.0,\n",
              "  1.0,\n",
              "  1.0,\n",
              "  1.0,\n",
              "  1.0,\n",
              "  1.0,\n",
              "  1.0,\n",
              "  1.0,\n",
              "  1.0,\n",
              "  1.0,\n",
              "  1.0,\n",
              "  1.0,\n",
              "  1.0,\n",
              "  1.0],\n",
              " 'val_precision': [1.0,\n",
              "  1.0,\n",
              "  1.0,\n",
              "  1.0,\n",
              "  1.0,\n",
              "  1.0,\n",
              "  1.0,\n",
              "  1.0,\n",
              "  1.0,\n",
              "  1.0,\n",
              "  1.0,\n",
              "  1.0,\n",
              "  1.0,\n",
              "  1.0,\n",
              "  1.0,\n",
              "  1.0,\n",
              "  1.0,\n",
              "  1.0,\n",
              "  1.0,\n",
              "  1.0,\n",
              "  1.0,\n",
              "  1.0,\n",
              "  1.0,\n",
              "  1.0,\n",
              "  1.0,\n",
              "  1.0,\n",
              "  1.0,\n",
              "  1.0,\n",
              "  1.0,\n",
              "  1.0],\n",
              " 'val_accuracy': [0.0,\n",
              "  0.125,\n",
              "  0.25,\n",
              "  0.0625,\n",
              "  0.3125,\n",
              "  0.1875,\n",
              "  0.3125,\n",
              "  0.1875,\n",
              "  0.25,\n",
              "  0.25,\n",
              "  0.4375,\n",
              "  0.375,\n",
              "  0.25,\n",
              "  0.25,\n",
              "  0.25,\n",
              "  0.3125,\n",
              "  0.4375,\n",
              "  0.375,\n",
              "  0.4375,\n",
              "  0.3125,\n",
              "  0.3125,\n",
              "  0.3125,\n",
              "  0.3125,\n",
              "  0.5,\n",
              "  0.3125,\n",
              "  0.5625,\n",
              "  0.375,\n",
              "  0.4375,\n",
              "  0.4375,\n",
              "  0.5]}"
            ]
          },
          "metadata": {},
          "execution_count": 32
        }
      ]
    },
    {
      "cell_type": "code",
      "source": [
        "#Plotting accuracy\n",
        "plt.title('Accuracy')\n",
        "plt.plot(hist.history['accuracy'], 'r')\n",
        "plt.plot(hist.history['val_accuracy'], 'b')\n",
        "plt.show()"
      ],
      "metadata": {
        "colab": {
          "base_uri": "https://localhost:8080/",
          "height": 281
        },
        "id": "iSK-k7pYtTpw",
        "outputId": "3124c824-e05b-4afc-c165-a3367c12d2bb"
      },
      "execution_count": 33,
      "outputs": [
        {
          "output_type": "display_data",
          "data": {
            "text/plain": [
              "<Figure size 432x288 with 1 Axes>"
            ],
            "image/png": "[encoded data removed]"
          },
          "metadata": {
            "needs_background": "light"
          }
        }
      ]
    },
    {
      "cell_type": "code",
      "source": [
        "#Plotting Loss\n",
        "plt.title('Loss')\n",
        "plt.plot(hist.history['loss'], 'r')\n",
        "plt.plot(hist.history['val_loss'], 'b')\n",
        "plt.show()"
      ],
      "metadata": {
        "colab": {
          "base_uri": "https://localhost:8080/",
          "height": 281
        },
        "id": "Zd_OR8bb6dwz",
        "outputId": "97a9e00c-915f-4fa5-9c7e-7d3fc18347a8"
      },
      "execution_count": 34,
      "outputs": [
        {
          "output_type": "display_data",
          "data": {
            "text/plain": [
              "<Figure size 432x288 with 1 Axes>"
            ],
            "image/png": "[encoded data removed]"
          },
          "metadata": {
            "needs_background": "light"
          }
        }
      ]
    },
    {
      "cell_type": "code",
      "source": [
        "#Plotting Precision\n",
        "plt.title('Precision')\n",
        "plt.plot(hist.history['precision'], 'r')\n",
        "plt.plot(hist.history['val_precision'], 'b')\n",
        "plt.show()"
      ],
      "metadata": {
        "id": "E6cnMFOE6d3Y",
        "colab": {
          "base_uri": "https://localhost:8080/",
          "height": 281
        },
        "outputId": "67700085-5225-4bc3-e486-f7703e4fcc1b"
      },
      "execution_count": 36,
      "outputs": [
        {
          "output_type": "display_data",
          "data": {
            "text/plain": [
              "<Figure size 432x288 with 1 Axes>"
            ],
            "image/png": "[encoded data removed]"
          },
          "metadata": {
            "needs_background": "light"
          }
        }
      ]
    },
    {
      "cell_type": "code",
      "source": [
        "#Plotting Recall\n",
        "plt.title('Recall')\n",
        "plt.plot(hist.history['recall'], 'r')\n",
        "plt.plot(hist.history['val_recall'], 'b')\n",
        "plt.show()"
      ],
      "metadata": {
        "id": "bk1F_zkk6d94",
        "colab": {
          "base_uri": "https://localhost:8080/",
          "height": 281
        },
        "outputId": "15c0f3ff-ce1a-4489-92e7-0b5c0ece4be6"
      },
      "execution_count": 37,
      "outputs": [
        {
          "output_type": "display_data",
          "data": {
            "text/plain": [
              "<Figure size 432x288 with 1 Axes>"
            ],
            "image/png": "[encoded data removed]"
          },
          "metadata": {
            "needs_background": "light"
          }
        }
      ]
    },
    {
      "cell_type": "code",
      "source": [
        "#Extracting an example from the test set to check model performance\n",
        "len(train),len(test)"
      ],
      "metadata": {
        "id": "SJNqxGtns98U",
        "colab": {
          "base_uri": "https://localhost:8080/"
        },
        "outputId": "c74ba25e-9f9f-4b7e-ee93-c5c2e5ebd4f3"
      },
      "execution_count": 38,
      "outputs": [
        {
          "output_type": "execute_result",
          "data": {
            "text/plain": [
              "(3, 1)"
            ]
          },
          "metadata": {},
          "execution_count": 38
        }
      ]
    },
    {
      "cell_type": "code",
      "source": [
        "#Extracting an example from the test set to check model performance\n",
        "X_test, y_test = test.as_numpy_iterator().next()\n",
        "X_test, y_test"
      ],
      "metadata": {
        "id": "njdCuFEms-Iv",
        "colab": {
          "base_uri": "https://localhost:8080/"
        },
        "outputId": "1758674b-d4f8-42af-dfb6-e4297136912d"
      },
      "execution_count": 39,
      "outputs": [
        {
          "output_type": "execute_result",
          "data": {
            "text/plain": [
              "(array([[[[1.1175981e+01],\n",
              "          [6.1895080e+00],\n",
              "          [1.2205081e+00],\n",
              "          ...,\n",
              "          [1.9183746e-02],\n",
              "          [1.9148134e-02],\n",
              "          [1.9146919e-02]],\n",
              " \n",
              "         [[1.2451620e+01],\n",
              "          [5.8105764e+00],\n",
              "          [2.2885311e+00],\n",
              "          ...,\n",
              "          [2.9986851e-02],\n",
              "          [3.8757075e-02],\n",
              "          [3.6554337e-03]],\n",
              " \n",
              "         [[1.2412807e+01],\n",
              "          [5.8288918e+00],\n",
              "          [2.2433436e+00],\n",
              "          ...,\n",
              "          [3.0515516e-02],\n",
              "          [3.9773092e-02],\n",
              "          [2.6173592e-03]],\n",
              " \n",
              "         ...,\n",
              " \n",
              "         [[1.2412812e+01],\n",
              "          [5.7572441e+00],\n",
              "          [2.3256986e+00],\n",
              "          ...,\n",
              "          [2.8974097e-02],\n",
              "          [3.7239365e-02],\n",
              "          [1.0461807e-03]],\n",
              " \n",
              "         [[1.2350285e+01],\n",
              "          [5.8462806e+00],\n",
              "          [2.1907568e+00],\n",
              "          ...,\n",
              "          [2.8762810e-02],\n",
              "          [3.7976727e-02],\n",
              "          [4.4679642e-04]],\n",
              " \n",
              "         [[1.2425693e+01],\n",
              "          [5.8306327e+00],\n",
              "          [2.2514410e+00],\n",
              "          ...,\n",
              "          [2.8924653e-02],\n",
              "          [3.7617501e-02],\n",
              "          [1.3065338e-04]]],\n",
              " \n",
              " \n",
              "        [[[1.1232412e+01],\n",
              "          [6.2791867e+00],\n",
              "          [1.1405246e+00],\n",
              "          ...,\n",
              "          [2.2048339e-02],\n",
              "          [2.2066515e-02],\n",
              "          [2.2055149e-02]],\n",
              " \n",
              "         [[1.2523722e+01],\n",
              "          [5.9437017e+00],\n",
              "          [2.1312563e+00],\n",
              "          ...,\n",
              "          [3.1280871e-02],\n",
              "          [4.1365571e-02],\n",
              "          [5.3215027e-04]],\n",
              " \n",
              "         [[1.2554464e+01],\n",
              "          [5.8818359e+00],\n",
              "          [2.2539909e+00],\n",
              "          ...,\n",
              "          [3.1900924e-02],\n",
              "          [4.1385133e-02],\n",
              "          [3.7622452e-04]],\n",
              " \n",
              "         ...,\n",
              " \n",
              "         [[1.2481948e+01],\n",
              "          [5.8990636e+00],\n",
              "          [2.2666650e+00],\n",
              "          ...,\n",
              "          [2.6043339e-02],\n",
              "          [3.3060316e-02],\n",
              "          [9.8600388e-03]],\n",
              " \n",
              "         [[1.2589071e+01],\n",
              "          [5.8460507e+00],\n",
              "          [2.3367445e+00],\n",
              "          ...,\n",
              "          [2.8629631e-02],\n",
              "          [3.6841940e-02],\n",
              "          [5.5809021e-03]],\n",
              " \n",
              "         [[1.2485261e+01],\n",
              "          [5.8951926e+00],\n",
              "          [2.1769061e+00],\n",
              "          ...,\n",
              "          [2.4280420e-02],\n",
              "          [3.1985704e-02],\n",
              "          [2.6988983e-04]]],\n",
              " \n",
              " \n",
              "        [[[1.1169603e+01],\n",
              "          [6.2959852e+00],\n",
              "          [1.0896425e+00],\n",
              "          ...,\n",
              "          [1.7610999e-02],\n",
              "          [1.7597480e-02],\n",
              "          [1.7598629e-02]],\n",
              " \n",
              "         [[1.2422573e+01],\n",
              "          [5.8083801e+00],\n",
              "          [2.3522387e+00],\n",
              "          ...,\n",
              "          [2.5313688e-02],\n",
              "          [3.2783214e-02],\n",
              "          [3.0136108e-04]],\n",
              " \n",
              "         [[1.2366958e+01],\n",
              "          [5.7535644e+00],\n",
              "          [2.3231604e+00],\n",
              "          ...,\n",
              "          [2.7431909e-02],\n",
              "          [3.5800233e-02],\n",
              "          [2.8495789e-03]],\n",
              " \n",
              "         ...,\n",
              " \n",
              "         [[1.2490253e+01],\n",
              "          [5.8793459e+00],\n",
              "          [2.2201989e+00],\n",
              "          ...,\n",
              "          [3.6268756e-02],\n",
              "          [4.7291715e-02],\n",
              "          [6.8621635e-03]],\n",
              " \n",
              "         [[1.2578165e+01],\n",
              "          [5.9152861e+00],\n",
              "          [2.2262659e+00],\n",
              "          ...,\n",
              "          [3.3723529e-02],\n",
              "          [4.3632787e-02],\n",
              "          [1.1023045e-02]],\n",
              " \n",
              "         [[1.2452207e+01],\n",
              "          [5.9256477e+00],\n",
              "          [2.1562946e+00],\n",
              "          ...,\n",
              "          [2.9221784e-02],\n",
              "          [3.7850350e-02],\n",
              "          [4.9991608e-03]]],\n",
              " \n",
              " \n",
              "        ...,\n",
              " \n",
              " \n",
              "        [[[1.1088390e+01],\n",
              "          [6.2013016e+00],\n",
              "          [1.0885994e+00],\n",
              "          ...,\n",
              "          [1.9562572e-02],\n",
              "          [1.9591985e-02],\n",
              "          [1.9570827e-02]],\n",
              " \n",
              "         [[1.2469252e+01],\n",
              "          [5.8497109e+00],\n",
              "          [2.2177837e+00],\n",
              "          ...,\n",
              "          [2.6105169e-02],\n",
              "          [3.4442801e-02],\n",
              "          [1.9898415e-03]],\n",
              " \n",
              "         [[1.2490475e+01],\n",
              "          [5.8274722e+00],\n",
              "          [2.2517085e+00],\n",
              "          ...,\n",
              "          [2.3947487e-02],\n",
              "          [3.1259842e-02],\n",
              "          [1.3928413e-03]],\n",
              " \n",
              "         ...,\n",
              " \n",
              "         [[1.2415607e+01],\n",
              "          [5.8408713e+00],\n",
              "          [2.2344534e+00],\n",
              "          ...,\n",
              "          [2.5598913e-02],\n",
              "          [3.3208255e-02],\n",
              "          [6.1964989e-03]],\n",
              " \n",
              "         [[1.2452562e+01],\n",
              "          [5.8647757e+00],\n",
              "          [2.1966057e+00],\n",
              "          ...,\n",
              "          [3.3571314e-02],\n",
              "          [4.3375559e-02],\n",
              "          [4.8966408e-03]],\n",
              " \n",
              "         [[1.2465507e+01],\n",
              "          [5.8180923e+00],\n",
              "          [2.2771885e+00],\n",
              "          ...,\n",
              "          [3.1963766e-02],\n",
              "          [4.1028488e-02],\n",
              "          [7.5216293e-03]]],\n",
              " \n",
              " \n",
              "        [[[1.1246444e+01],\n",
              "          [6.2077627e+00],\n",
              "          [1.2436305e+00],\n",
              "          ...,\n",
              "          [1.5026816e-02],\n",
              "          [1.5068172e-02],\n",
              "          [1.5049934e-02]],\n",
              " \n",
              "         [[1.2389004e+01],\n",
              "          [5.8213215e+00],\n",
              "          [2.2538080e+00],\n",
              "          ...,\n",
              "          [3.0390030e-02],\n",
              "          [3.8397618e-02],\n",
              "          [1.1193752e-02]],\n",
              " \n",
              "         [[1.2391541e+01],\n",
              "          [5.8391190e+00],\n",
              "          [2.2230005e+00],\n",
              "          ...,\n",
              "          [3.4774229e-02],\n",
              "          [4.5328915e-02],\n",
              "          [3.5219193e-03]],\n",
              " \n",
              "         ...,\n",
              " \n",
              "         [[1.2384496e+01],\n",
              "          [5.8713317e+00],\n",
              "          [2.1246650e+00],\n",
              "          ...,\n",
              "          [2.7170101e-02],\n",
              "          [3.5347972e-02],\n",
              "          [3.0984879e-03]],\n",
              " \n",
              "         [[1.2436248e+01],\n",
              "          [5.7530684e+00],\n",
              "          [2.2693403e+00],\n",
              "          ...,\n",
              "          [3.1810585e-02],\n",
              "          [4.1403290e-02],\n",
              "          [3.4170151e-03]],\n",
              " \n",
              "         [[1.2278686e+01],\n",
              "          [5.8493710e+00],\n",
              "          [2.1933050e+00],\n",
              "          ...,\n",
              "          [3.3560753e-02],\n",
              "          [4.4159856e-02],\n",
              "          [5.4073334e-04]]],\n",
              " \n",
              " \n",
              "        [[[1.1245878e+01],\n",
              "          [6.3138099e+00],\n",
              "          [1.1235939e+00],\n",
              "          ...,\n",
              "          [1.9847803e-02],\n",
              "          [1.9800881e-02],\n",
              "          [1.9796848e-02]],\n",
              " \n",
              "         [[1.2658094e+01],\n",
              "          [5.8651800e+00],\n",
              "          [2.3957846e+00],\n",
              "          ...,\n",
              "          [2.9269768e-02],\n",
              "          [3.8431775e-02],\n",
              "          [1.8944740e-03]],\n",
              " \n",
              "         [[1.2562140e+01],\n",
              "          [5.9160576e+00],\n",
              "          [2.2494206e+00],\n",
              "          ...,\n",
              "          [3.0184990e-02],\n",
              "          [3.9495576e-02],\n",
              "          [7.2765350e-04]],\n",
              " \n",
              "         ...,\n",
              " \n",
              "         [[1.2461233e+01],\n",
              "          [5.8429523e+00],\n",
              "          [2.2047055e+00],\n",
              "          ...,\n",
              "          [2.9159512e-02],\n",
              "          [3.7788272e-02],\n",
              "          [6.4997673e-03]],\n",
              " \n",
              "         [[1.2389684e+01],\n",
              "          [5.8540649e+00],\n",
              "          [2.1682708e+00],\n",
              "          ...,\n",
              "          [2.6994962e-02],\n",
              "          [3.5060138e-02],\n",
              "          [3.5696030e-03]],\n",
              " \n",
              "         [[1.2577597e+01],\n",
              "          [5.9092488e+00],\n",
              "          [2.2532597e+00],\n",
              "          ...,\n",
              "          [2.7039509e-02],\n",
              "          [3.5356671e-02],\n",
              "          [3.2892227e-03]]]], dtype=float32),\n",
              " array([1., 0., 0., 1., 0., 1., 1., 0., 0., 1., 0., 1., 1., 0., 1., 0.],\n",
              "       dtype=float32))"
            ]
          },
          "metadata": {},
          "execution_count": 39
        }
      ]
    },
    {
      "cell_type": "code",
      "source": [
        "#Testing model by making prediction from extracted test sample\n",
        "yhat = model.predict(X_test)\n",
        "yhat = [1 if prediction > 0.5 else 0 for prediction in yhat]\n",
        "print(yhat)\n",
        "print(y_test)"
      ],
      "metadata": {
        "id": "uo6UX6ATs-Sf",
        "colab": {
          "base_uri": "https://localhost:8080/"
        },
        "outputId": "fe6b1914-4e4d-402f-cd0d-ec54cd98df31"
      },
      "execution_count": 40,
      "outputs": [
        {
          "output_type": "stream",
          "name": "stdout",
          "text": [
            "1/1 [==============================] - 0s 322ms/step\n",
            "[1, 0, 0, 1, 0, 1, 1, 0, 0, 1, 0, 1, 1, 0, 1, 0]\n",
            "[1. 0. 0. 1. 0. 1. 1. 0. 0. 1. 0. 1. 1. 0. 1. 0.]\n"
          ]
        }
      ]
    },
    {
      "cell_type": "markdown",
      "source": [
        "## Build Function to Convert Clips into Windowed Spectrograms"
      ],
      "metadata": {
        "id": "Lv6-rLyKPMst"
      }
    },
    {
      "cell_type": "code",
      "source": [
        "#Testing functions that will be used to ensure correctness\n",
        "RECORDING = os.path.join('Test','Test16BITSMM01167_20221109_175902_test_16BIT.wav')\n",
        "print(RECORDING)\n",
        "test_wav = load_wav_16k_mono(RECORDING)\n",
        "audio_slices = tf.keras.utils.timeseries_dataset_from_array(test_wav, test_wav, sequence_length=48000, sequence_stride=48000, batch_size=1)\n",
        "samples, index = audio_slices.as_numpy_iterator().next()\n",
        "samples.shape, len(audio_slices)"
      ],
      "metadata": {
        "id": "TWFhlI2Os-cu",
        "colab": {
          "base_uri": "https://localhost:8080/"
        },
        "outputId": "cd194f92-6d0d-4aff-9364-c234d9cd45d5"
      },
      "execution_count": 44,
      "outputs": [
        {
          "output_type": "stream",
          "name": "stdout",
          "text": [
            "Test/Test16BITSMM01167_20221109_175902_test_16BIT.wav\n"
          ]
        },
        {
          "output_type": "stream",
          "name": "stderr",
          "text": [
            "WARNING:tensorflow:5 out of the last 5 calls to <function pfor.<locals>.f at 0x7fced0c3ad30> triggered tf.function retracing. Tracing is expensive and the excessive number of tracings could be due to (1) creating @tf.function repeatedly in a loop, (2) passing tensors with different shapes, (3) passing Python objects instead of tensors. For (1), please define your @tf.function outside of the loop. For (2), @tf.function has reduce_retracing=True option that can avoid unnecessary retracing. For (3), please refer to https://www.tensorflow.org/guide/function#controlling_retracing and https://www.tensorflow.org/api_docs/python/tf/function for  more details.\n"
          ]
        },
        {
          "output_type": "execute_result",
          "data": {
            "text/plain": [
              "((1, 48000), 599)"
            ]
          },
          "metadata": {},
          "execution_count": 44
        }
      ]
    },
    {
      "cell_type": "code",
      "source": [
        "#This function performs required preprocessing for test dataset\n",
        "def preprocess_dataset(sample, index):\n",
        "    sample = sample[0]\n",
        "    zero_padding = tf.zeros([48000] - tf.shape(sample), dtype=tf.float32)\n",
        "    wav = tf.concat([zero_padding, sample],0)\n",
        "    spectrogram = tf.signal.stft(wav, frame_length=320, frame_step=320)\n",
        "    spectrogram = tf.abs(spectrogram)\n",
        "    spectrogram = tf.expand_dims(spectrogram, axis=2)\n",
        "    return spectrogram"
      ],
      "metadata": {
        "id": "2bm0PLphPEW2"
      },
      "execution_count": 45,
      "outputs": []
    },
    {
      "cell_type": "code",
      "source": [
        "#Splitting extracted sample into 3 second clips\n",
        "audio_slices = tf.keras.utils.timeseries_dataset_from_array(test_wav, test_wav, sequence_length=48000, sequence_stride=48000, batch_size=1)\n",
        "#Mapping preprocessing function to extracted sample\n",
        "audio_slices = audio_slices.map(preprocess_dataset)\n",
        "#Creating batches of 64\n",
        "audio_slices = audio_slices.batch(64)"
      ],
      "metadata": {
        "id": "tpezLRnZPEft"
      },
      "execution_count": 46,
      "outputs": []
    },
    {
      "cell_type": "code",
      "source": [
        "#Splitting extracted sample into 3 second clips\n",
        "audio_slices = tf.keras.utils.timeseries_dataset_from_array(test_wav, test_wav, sequence_length=48000, sequence_stride=48000, batch_size=1)\n",
        "#Mapping preprocessing function to extracted sample\n",
        "audio_slices = audio_slices.map(preprocess_dataset)\n",
        "#Creating batches of 64\n",
        "audio_slices = audio_slices.batch(64)"
      ],
      "metadata": {
        "id": "6UoLy0EZPEjr"
      },
      "execution_count": 47,
      "outputs": []
    },
    {
      "cell_type": "code",
      "source": [
        "#Performing predictions on the extracted sample to and creating class prediction array\n",
        "yhat = model.predict(audio_slices)\n",
        "yhat = [1 if prediction > 0.99 else 0 for prediction in yhat]"
      ],
      "metadata": {
        "id": "dUJQeNmlPEoK",
        "colab": {
          "base_uri": "https://localhost:8080/"
        },
        "outputId": "6f7a9d6b-27f5-4885-c542-a3188fb2da0a"
      },
      "execution_count": 48,
      "outputs": [
        {
          "output_type": "stream",
          "name": "stdout",
          "text": [
            "10/10 [==============================] - 9s 724ms/step\n"
          ]
        }
      ]
    },
    {
      "cell_type": "code",
      "source": [
        "yhat"
      ],
      "metadata": {
        "colab": {
          "base_uri": "https://localhost:8080/"
        },
        "id": "MHDLBjAdWjlR",
        "outputId": "beabbb17-0475-4cd4-c54a-9f0da97042f5"
      },
      "execution_count": 49,
      "outputs": [
        {
          "output_type": "execute_result",
          "data": {
            "text/plain": [
              "[0,\n",
              " 0,\n",
              " 0,\n",
              " 0,\n",
              " 0,\n",
              " 0,\n",
              " 0,\n",
              " 0,\n",
              " 0,\n",
              " 0,\n",
              " 0,\n",
              " 0,\n",
              " 0,\n",
              " 0,\n",
              " 0,\n",
              " 0,\n",
              " 0,\n",
              " 0,\n",
              " 0,\n",
              " 0,\n",
              " 0,\n",
              " 0,\n",
              " 0,\n",
              " 0,\n",
              " 0,\n",
              " 0,\n",
              " 0,\n",
              " 1,\n",
              " 1,\n",
              " 1,\n",
              " 1,\n",
              " 1,\n",
              " 0,\n",
              " 1,\n",
              " 1,\n",
              " 1,\n",
              " 1,\n",
              " 1,\n",
              " 1,\n",
              " 1,\n",
              " 1,\n",
              " 0,\n",
              " 1,\n",
              " 0,\n",
              " 0,\n",
              " 0,\n",
              " 0,\n",
              " 0,\n",
              " 0,\n",
              " 0,\n",
              " 0,\n",
              " 0,\n",
              " 0,\n",
              " 0,\n",
              " 0,\n",
              " 0,\n",
              " 0,\n",
              " 0,\n",
              " 0,\n",
              " 0,\n",
              " 0,\n",
              " 0,\n",
              " 0,\n",
              " 0,\n",
              " 0,\n",
              " 0,\n",
              " 0,\n",
              " 0,\n",
              " 0,\n",
              " 0,\n",
              " 0,\n",
              " 0,\n",
              " 0,\n",
              " 0,\n",
              " 0,\n",
              " 0,\n",
              " 0,\n",
              " 0,\n",
              " 0,\n",
              " 0,\n",
              " 0,\n",
              " 0,\n",
              " 0,\n",
              " 0,\n",
              " 0,\n",
              " 0,\n",
              " 0,\n",
              " 0,\n",
              " 0,\n",
              " 0,\n",
              " 0,\n",
              " 0,\n",
              " 0,\n",
              " 0,\n",
              " 0,\n",
              " 0,\n",
              " 0,\n",
              " 0,\n",
              " 0,\n",
              " 0,\n",
              " 0,\n",
              " 0,\n",
              " 0,\n",
              " 0,\n",
              " 0,\n",
              " 0,\n",
              " 0,\n",
              " 0,\n",
              " 0,\n",
              " 0,\n",
              " 0,\n",
              " 0,\n",
              " 0,\n",
              " 0,\n",
              " 0,\n",
              " 0,\n",
              " 0,\n",
              " 0,\n",
              " 0,\n",
              " 0,\n",
              " 0,\n",
              " 0,\n",
              " 0,\n",
              " 0,\n",
              " 0,\n",
              " 0,\n",
              " 0,\n",
              " 0,\n",
              " 0,\n",
              " 0,\n",
              " 0,\n",
              " 0,\n",
              " 0,\n",
              " 0,\n",
              " 0,\n",
              " 0,\n",
              " 0,\n",
              " 0,\n",
              " 0,\n",
              " 0,\n",
              " 0,\n",
              " 0,\n",
              " 0,\n",
              " 0,\n",
              " 0,\n",
              " 0,\n",
              " 0,\n",
              " 0,\n",
              " 0,\n",
              " 0,\n",
              " 0,\n",
              " 0,\n",
              " 0,\n",
              " 0,\n",
              " 0,\n",
              " 0,\n",
              " 0,\n",
              " 0,\n",
              " 0,\n",
              " 0,\n",
              " 0,\n",
              " 0,\n",
              " 0,\n",
              " 0,\n",
              " 0,\n",
              " 0,\n",
              " 0,\n",
              " 0,\n",
              " 0,\n",
              " 0,\n",
              " 0,\n",
              " 0,\n",
              " 0,\n",
              " 0,\n",
              " 0,\n",
              " 0,\n",
              " 0,\n",
              " 0,\n",
              " 0,\n",
              " 0,\n",
              " 0,\n",
              " 0,\n",
              " 0,\n",
              " 0,\n",
              " 0,\n",
              " 0,\n",
              " 0,\n",
              " 0,\n",
              " 0,\n",
              " 0,\n",
              " 0,\n",
              " 0,\n",
              " 0,\n",
              " 0,\n",
              " 0,\n",
              " 0,\n",
              " 0,\n",
              " 0,\n",
              " 0,\n",
              " 0,\n",
              " 0,\n",
              " 0,\n",
              " 0,\n",
              " 0,\n",
              " 0,\n",
              " 0,\n",
              " 0,\n",
              " 0,\n",
              " 0,\n",
              " 0,\n",
              " 0,\n",
              " 0,\n",
              " 0,\n",
              " 0,\n",
              " 0,\n",
              " 0,\n",
              " 0,\n",
              " 0,\n",
              " 0,\n",
              " 0,\n",
              " 0,\n",
              " 0,\n",
              " 0,\n",
              " 0,\n",
              " 0,\n",
              " 0,\n",
              " 0,\n",
              " 0,\n",
              " 0,\n",
              " 0,\n",
              " 0,\n",
              " 0,\n",
              " 0,\n",
              " 0,\n",
              " 0,\n",
              " 0,\n",
              " 0,\n",
              " 0,\n",
              " 0,\n",
              " 0,\n",
              " 0,\n",
              " 0,\n",
              " 0,\n",
              " 0,\n",
              " 0,\n",
              " 0,\n",
              " 0,\n",
              " 0,\n",
              " 0,\n",
              " 0,\n",
              " 0,\n",
              " 0,\n",
              " 0,\n",
              " 0,\n",
              " 0,\n",
              " 0,\n",
              " 0,\n",
              " 0,\n",
              " 0,\n",
              " 0,\n",
              " 0,\n",
              " 0,\n",
              " 0,\n",
              " 0,\n",
              " 0,\n",
              " 0,\n",
              " 0,\n",
              " 0,\n",
              " 0,\n",
              " 0,\n",
              " 0,\n",
              " 0,\n",
              " 0,\n",
              " 0,\n",
              " 0,\n",
              " 0,\n",
              " 0,\n",
              " 0,\n",
              " 0,\n",
              " 0,\n",
              " 0,\n",
              " 0,\n",
              " 0,\n",
              " 0,\n",
              " 0,\n",
              " 0,\n",
              " 0,\n",
              " 0,\n",
              " 0,\n",
              " 0,\n",
              " 0,\n",
              " 0,\n",
              " 0,\n",
              " 0,\n",
              " 0,\n",
              " 0,\n",
              " 0,\n",
              " 0,\n",
              " 0,\n",
              " 0,\n",
              " 0,\n",
              " 0,\n",
              " 0,\n",
              " 0,\n",
              " 0,\n",
              " 0,\n",
              " 0,\n",
              " 0,\n",
              " 0,\n",
              " 0,\n",
              " 0,\n",
              " 0,\n",
              " 0,\n",
              " 0,\n",
              " 0,\n",
              " 0,\n",
              " 0,\n",
              " 0,\n",
              " 0,\n",
              " 0,\n",
              " 0,\n",
              " 0,\n",
              " 0,\n",
              " 0,\n",
              " 0,\n",
              " 0,\n",
              " 0,\n",
              " 0,\n",
              " 0,\n",
              " 0,\n",
              " 0,\n",
              " 0,\n",
              " 0,\n",
              " 0,\n",
              " 0,\n",
              " 0,\n",
              " 0,\n",
              " 0,\n",
              " 0,\n",
              " 0,\n",
              " 0,\n",
              " 0,\n",
              " 0,\n",
              " 0,\n",
              " 0,\n",
              " 0,\n",
              " 0,\n",
              " 0,\n",
              " 0,\n",
              " 0,\n",
              " 0,\n",
              " 0,\n",
              " 0,\n",
              " 0,\n",
              " 0,\n",
              " 0,\n",
              " 0,\n",
              " 0,\n",
              " 0,\n",
              " 0,\n",
              " 0,\n",
              " 0,\n",
              " 0,\n",
              " 0,\n",
              " 0,\n",
              " 0,\n",
              " 0,\n",
              " 0,\n",
              " 0,\n",
              " 0,\n",
              " 0,\n",
              " 0,\n",
              " 0,\n",
              " 0,\n",
              " 0,\n",
              " 0,\n",
              " 0,\n",
              " 0,\n",
              " 0,\n",
              " 0,\n",
              " 0,\n",
              " 0,\n",
              " 0,\n",
              " 0,\n",
              " 0,\n",
              " 0,\n",
              " 0,\n",
              " 0,\n",
              " 0,\n",
              " 0,\n",
              " 0,\n",
              " 0,\n",
              " 0,\n",
              " 0,\n",
              " 0,\n",
              " 0,\n",
              " 0,\n",
              " 1,\n",
              " 0,\n",
              " 0,\n",
              " 0,\n",
              " 0,\n",
              " 0,\n",
              " 0,\n",
              " 0,\n",
              " 0,\n",
              " 0,\n",
              " 0,\n",
              " 0,\n",
              " 0,\n",
              " 0,\n",
              " 0,\n",
              " 0,\n",
              " 0,\n",
              " 0,\n",
              " 0,\n",
              " 0,\n",
              " 0,\n",
              " 0,\n",
              " 0,\n",
              " 0,\n",
              " 0,\n",
              " 0,\n",
              " 0,\n",
              " 0,\n",
              " 0,\n",
              " 0,\n",
              " 0,\n",
              " 0,\n",
              " 0,\n",
              " 0,\n",
              " 0,\n",
              " 0,\n",
              " 0,\n",
              " 0,\n",
              " 0,\n",
              " 0,\n",
              " 0,\n",
              " 0,\n",
              " 0,\n",
              " 0,\n",
              " 0,\n",
              " 0,\n",
              " 0,\n",
              " 0,\n",
              " 0,\n",
              " 0,\n",
              " 0,\n",
              " 0,\n",
              " 0,\n",
              " 0,\n",
              " 0,\n",
              " 0,\n",
              " 0,\n",
              " 0,\n",
              " 0,\n",
              " 0,\n",
              " 0,\n",
              " 0,\n",
              " 0,\n",
              " 0,\n",
              " 0,\n",
              " 0,\n",
              " 0,\n",
              " 0,\n",
              " 0,\n",
              " 0,\n",
              " 0,\n",
              " 0,\n",
              " 0,\n",
              " 0,\n",
              " 0,\n",
              " 0,\n",
              " 0,\n",
              " 0,\n",
              " 0,\n",
              " 0,\n",
              " 0,\n",
              " 0,\n",
              " 0,\n",
              " 0,\n",
              " 0,\n",
              " 0,\n",
              " 0,\n",
              " 0,\n",
              " 0,\n",
              " 0,\n",
              " 0,\n",
              " 0,\n",
              " 0,\n",
              " 0,\n",
              " 0,\n",
              " 0,\n",
              " 0,\n",
              " 0,\n",
              " 0,\n",
              " 0,\n",
              " 0,\n",
              " 0,\n",
              " 0,\n",
              " 0,\n",
              " 0,\n",
              " 0,\n",
              " 0,\n",
              " 0,\n",
              " 0,\n",
              " 0,\n",
              " 0,\n",
              " 0,\n",
              " 0,\n",
              " 0,\n",
              " 0,\n",
              " 0,\n",
              " 0,\n",
              " 0,\n",
              " 0,\n",
              " 0,\n",
              " 0,\n",
              " 0,\n",
              " 0,\n",
              " 0,\n",
              " 0,\n",
              " 0,\n",
              " 0,\n",
              " 0,\n",
              " 0,\n",
              " 0,\n",
              " 0,\n",
              " 0,\n",
              " 0,\n",
              " 0,\n",
              " 0,\n",
              " 0,\n",
              " 0,\n",
              " 0,\n",
              " 0,\n",
              " 0,\n",
              " 0,\n",
              " 0,\n",
              " 0,\n",
              " 0,\n",
              " 0,\n",
              " 0,\n",
              " 0,\n",
              " 0,\n",
              " 0,\n",
              " 0,\n",
              " 0,\n",
              " 0,\n",
              " 0,\n",
              " 0,\n",
              " 0,\n",
              " 0,\n",
              " 0,\n",
              " 0,\n",
              " 0,\n",
              " 0,\n",
              " 0,\n",
              " 0,\n",
              " 0,\n",
              " 0,\n",
              " 0,\n",
              " 0,\n",
              " 0,\n",
              " 0,\n",
              " 0,\n",
              " 0,\n",
              " 0,\n",
              " 0,\n",
              " 0,\n",
              " 0,\n",
              " 0,\n",
              " 0,\n",
              " 0,\n",
              " 0,\n",
              " 0,\n",
              " 0,\n",
              " 0,\n",
              " 0,\n",
              " 0,\n",
              " 0,\n",
              " 0,\n",
              " 0,\n",
              " 0,\n",
              " 0,\n",
              " 0,\n",
              " 0,\n",
              " 0,\n",
              " 0,\n",
              " 0,\n",
              " 0,\n",
              " 0,\n",
              " 0,\n",
              " 0,\n",
              " 0,\n",
              " 0,\n",
              " 0,\n",
              " 0,\n",
              " 0]"
            ]
          },
          "metadata": {},
          "execution_count": 49
        }
      ]
    },
    {
      "cell_type": "code",
      "source": [
        "#Grouping class predictions and storing call density in 'calls' variable\n",
        "yhat = [key for key, group in groupby(yhat)]\n",
        "calls = tf.math.reduce_sum(yhat).numpy()"
      ],
      "metadata": {
        "id": "casn0FhMO5JM"
      },
      "execution_count": 51,
      "outputs": []
    },
    {
      "cell_type": "code",
      "source": [
        "yhat, \" | calls \", calls"
      ],
      "metadata": {
        "colab": {
          "base_uri": "https://localhost:8080/"
        },
        "id": "iqrfb0zQPVVc",
        "outputId": "86717c5b-d7f4-4f54-c36b-3ca19a819006"
      },
      "execution_count": 52,
      "outputs": [
        {
          "output_type": "execute_result",
          "data": {
            "text/plain": [
              "([0, 1, 0, 1, 0, 1, 0, 1, 0], ' | calls ', 4)"
            ]
          },
          "metadata": {},
          "execution_count": 52
        }
      ]
    },
    {
      "cell_type": "code",
      "source": [
        "#This code window performs the prediction on a set of audio files and stores them into an array against the name of the file\n",
        "\n",
        "results = {}\n",
        "for file in os.listdir('/content/Test'):\n",
        "    FILEPATH = os.path.join('/content/Test', file)\n",
        "    print(FILEPATH)\n",
        "    \n",
        "    wav = load_wav_16k_mono(FILEPATH)\n",
        "    audio_slices = tf.keras.utils.timeseries_dataset_from_array(wav, wav, sequence_length=48000, sequence_stride=48000, batch_size=1)\n",
        "    audio_slices = audio_slices.map(preprocess_dataset)\n",
        "    audio_slices = audio_slices.batch(16)\n",
        "    \n",
        "    yhat = model.predict(audio_slices)\n",
        "    \n",
        "    results[file] = yhat"
      ],
      "metadata": {
        "colab": {
          "base_uri": "https://localhost:8080/",
          "height": 467
        },
        "id": "8p-f_Mm34Ks_",
        "outputId": "5c4aea2f-1b80-4c23-b6e9-a03b6830e08f"
      },
      "execution_count": 53,
      "outputs": [
        {
          "output_type": "stream",
          "name": "stdout",
          "text": [
            "/content/Test/Test16BITSMM01167_20221109_175902_test_16BIT.wav\n"
          ]
        },
        {
          "output_type": "stream",
          "name": "stderr",
          "text": [
            "WARNING:tensorflow:6 out of the last 6 calls to <function pfor.<locals>.f at 0x7fced1b97280> triggered tf.function retracing. Tracing is expensive and the excessive number of tracings could be due to (1) creating @tf.function repeatedly in a loop, (2) passing tensors with different shapes, (3) passing Python objects instead of tensors. For (1), please define your @tf.function outside of the loop. For (2), @tf.function has reduce_retracing=True option that can avoid unnecessary retracing. For (3), please refer to https://www.tensorflow.org/guide/function#controlling_retracing and https://www.tensorflow.org/api_docs/python/tf/function for  more details.\n"
          ]
        },
        {
          "output_type": "stream",
          "name": "stdout",
          "text": [
            "38/38 [==============================] - 11s 280ms/step\n",
            "/content/Test/.ipynb_checkpoints\n"
          ]
        },
        {
          "output_type": "error",
          "ename": "FailedPreconditionError",
          "evalue": "ignored",
          "traceback": [
            "\u001b[0;31m---------------------------------------------------------------------------\u001b[0m",
            "\u001b[0;31mFailedPreconditionError\u001b[0m                   Traceback (most recent call last)",
            "\u001b[0;32m<ipython-input-53-456939053a07>\u001b[0m in \u001b[0;36m<module>\u001b[0;34m\u001b[0m\n\u001b[1;32m      6\u001b[0m     \u001b[0mprint\u001b[0m\u001b[0;34m(\u001b[0m\u001b[0mFILEPATH\u001b[0m\u001b[0;34m)\u001b[0m\u001b[0;34m\u001b[0m\u001b[0;34m\u001b[0m\u001b[0m\n\u001b[1;32m      7\u001b[0m \u001b[0;34m\u001b[0m\u001b[0m\n\u001b[0;32m----> 8\u001b[0;31m     \u001b[0mwav\u001b[0m \u001b[0;34m=\u001b[0m \u001b[0mload_wav_16k_mono\u001b[0m\u001b[0;34m(\u001b[0m\u001b[0mFILEPATH\u001b[0m\u001b[0;34m)\u001b[0m\u001b[0;34m\u001b[0m\u001b[0;34m\u001b[0m\u001b[0m\n\u001b[0m\u001b[1;32m      9\u001b[0m     \u001b[0maudio_slices\u001b[0m \u001b[0;34m=\u001b[0m \u001b[0mtf\u001b[0m\u001b[0;34m.\u001b[0m\u001b[0mkeras\u001b[0m\u001b[0;34m.\u001b[0m\u001b[0mutils\u001b[0m\u001b[0;34m.\u001b[0m\u001b[0mtimeseries_dataset_from_array\u001b[0m\u001b[0;34m(\u001b[0m\u001b[0mwav\u001b[0m\u001b[0;34m,\u001b[0m \u001b[0mwav\u001b[0m\u001b[0;34m,\u001b[0m \u001b[0msequence_length\u001b[0m\u001b[0;34m=\u001b[0m\u001b[0;36m48000\u001b[0m\u001b[0;34m,\u001b[0m \u001b[0msequence_stride\u001b[0m\u001b[0;34m=\u001b[0m\u001b[0;36m48000\u001b[0m\u001b[0;34m,\u001b[0m \u001b[0mbatch_size\u001b[0m\u001b[0;34m=\u001b[0m\u001b[0;36m1\u001b[0m\u001b[0;34m)\u001b[0m\u001b[0;34m\u001b[0m\u001b[0;34m\u001b[0m\u001b[0m\n\u001b[1;32m     10\u001b[0m     \u001b[0maudio_slices\u001b[0m \u001b[0;34m=\u001b[0m \u001b[0maudio_slices\u001b[0m\u001b[0;34m.\u001b[0m\u001b[0mmap\u001b[0m\u001b[0;34m(\u001b[0m\u001b[0mpreprocess_dataset\u001b[0m\u001b[0;34m)\u001b[0m\u001b[0;34m\u001b[0m\u001b[0;34m\u001b[0m\u001b[0m\n",
            "\u001b[0;32m<ipython-input-8-0d191ab742ca>\u001b[0m in \u001b[0;36mload_wav_16k_mono\u001b[0;34m(filename)\u001b[0m\n\u001b[1;32m      4\u001b[0m \u001b[0;32mdef\u001b[0m \u001b[0mload_wav_16k_mono\u001b[0m\u001b[0;34m(\u001b[0m\u001b[0mfilename\u001b[0m\u001b[0;34m)\u001b[0m\u001b[0;34m:\u001b[0m\u001b[0;34m\u001b[0m\u001b[0;34m\u001b[0m\u001b[0m\n\u001b[1;32m      5\u001b[0m     \u001b[0;31m# Load encoded wav file\u001b[0m\u001b[0;34m\u001b[0m\u001b[0;34m\u001b[0m\u001b[0;34m\u001b[0m\u001b[0m\n\u001b[0;32m----> 6\u001b[0;31m     \u001b[0mfile_contents\u001b[0m \u001b[0;34m=\u001b[0m \u001b[0mtf\u001b[0m\u001b[0;34m.\u001b[0m\u001b[0mio\u001b[0m\u001b[0;34m.\u001b[0m\u001b[0mread_file\u001b[0m\u001b[0;34m(\u001b[0m\u001b[0mfilename\u001b[0m\u001b[0;34m)\u001b[0m\u001b[0;34m\u001b[0m\u001b[0;34m\u001b[0m\u001b[0m\n\u001b[0m\u001b[1;32m      7\u001b[0m     \u001b[0;31m# Decode wav (tensors by channels)\u001b[0m\u001b[0;34m\u001b[0m\u001b[0;34m\u001b[0m\u001b[0;34m\u001b[0m\u001b[0m\n\u001b[1;32m      8\u001b[0m     \u001b[0mwav\u001b[0m\u001b[0;34m,\u001b[0m \u001b[0msample_rate\u001b[0m \u001b[0;34m=\u001b[0m \u001b[0mtf\u001b[0m\u001b[0;34m.\u001b[0m\u001b[0maudio\u001b[0m\u001b[0;34m.\u001b[0m\u001b[0mdecode_wav\u001b[0m\u001b[0;34m(\u001b[0m\u001b[0mfile_contents\u001b[0m\u001b[0;34m,\u001b[0m \u001b[0mdesired_channels\u001b[0m\u001b[0;34m=\u001b[0m\u001b[0;36m1\u001b[0m\u001b[0;34m)\u001b[0m\u001b[0;34m\u001b[0m\u001b[0;34m\u001b[0m\u001b[0m\n",
            "\u001b[0;32m/usr/local/lib/python3.8/dist-packages/tensorflow/python/ops/io_ops.py\u001b[0m in \u001b[0;36mread_file\u001b[0;34m(filename, name)\u001b[0m\n\u001b[1;32m    131\u001b[0m     \u001b[0mA\u001b[0m \u001b[0mtensor\u001b[0m \u001b[0mof\u001b[0m \u001b[0mdtype\u001b[0m \u001b[0;34m\"string\"\u001b[0m\u001b[0;34m,\u001b[0m \u001b[0;32mwith\u001b[0m \u001b[0mthe\u001b[0m \u001b[0mfile\u001b[0m \u001b[0mcontents\u001b[0m\u001b[0;34m.\u001b[0m\u001b[0;34m\u001b[0m\u001b[0;34m\u001b[0m\u001b[0m\n\u001b[1;32m    132\u001b[0m   \"\"\"\n\u001b[0;32m--> 133\u001b[0;31m   \u001b[0;32mreturn\u001b[0m \u001b[0mgen_io_ops\u001b[0m\u001b[0;34m.\u001b[0m\u001b[0mread_file\u001b[0m\u001b[0;34m(\u001b[0m\u001b[0mfilename\u001b[0m\u001b[0;34m,\u001b[0m \u001b[0mname\u001b[0m\u001b[0;34m)\u001b[0m\u001b[0;34m\u001b[0m\u001b[0;34m\u001b[0m\u001b[0m\n\u001b[0m\u001b[1;32m    134\u001b[0m \u001b[0;34m\u001b[0m\u001b[0m\n\u001b[1;32m    135\u001b[0m \u001b[0;34m\u001b[0m\u001b[0m\n",
            "\u001b[0;32m/usr/local/lib/python3.8/dist-packages/tensorflow/python/ops/gen_io_ops.py\u001b[0m in \u001b[0;36mread_file\u001b[0;34m(filename, name)\u001b[0m\n\u001b[1;32m    580\u001b[0m       \u001b[0;32mpass\u001b[0m\u001b[0;34m\u001b[0m\u001b[0;34m\u001b[0m\u001b[0m\n\u001b[1;32m    581\u001b[0m     \u001b[0;32mtry\u001b[0m\u001b[0;34m:\u001b[0m\u001b[0;34m\u001b[0m\u001b[0;34m\u001b[0m\u001b[0m\n\u001b[0;32m--> 582\u001b[0;31m       return read_file_eager_fallback(\n\u001b[0m\u001b[1;32m    583\u001b[0m           filename, name=name, ctx=_ctx)\n\u001b[1;32m    584\u001b[0m     \u001b[0;32mexcept\u001b[0m \u001b[0m_core\u001b[0m\u001b[0;34m.\u001b[0m\u001b[0m_SymbolicException\u001b[0m\u001b[0;34m:\u001b[0m\u001b[0;34m\u001b[0m\u001b[0;34m\u001b[0m\u001b[0m\n",
            "\u001b[0;32m/usr/local/lib/python3.8/dist-packages/tensorflow/python/ops/gen_io_ops.py\u001b[0m in \u001b[0;36mread_file_eager_fallback\u001b[0;34m(filename, name, ctx)\u001b[0m\n\u001b[1;32m    603\u001b[0m   \u001b[0m_inputs_flat\u001b[0m \u001b[0;34m=\u001b[0m \u001b[0;34m[\u001b[0m\u001b[0mfilename\u001b[0m\u001b[0;34m]\u001b[0m\u001b[0;34m\u001b[0m\u001b[0;34m\u001b[0m\u001b[0m\n\u001b[1;32m    604\u001b[0m   \u001b[0m_attrs\u001b[0m \u001b[0;34m=\u001b[0m \u001b[0;32mNone\u001b[0m\u001b[0;34m\u001b[0m\u001b[0;34m\u001b[0m\u001b[0m\n\u001b[0;32m--> 605\u001b[0;31m   _result = _execute.execute(b\"ReadFile\", 1, inputs=_inputs_flat,\n\u001b[0m\u001b[1;32m    606\u001b[0m                              attrs=_attrs, ctx=ctx, name=name)\n\u001b[1;32m    607\u001b[0m   \u001b[0;32mif\u001b[0m \u001b[0m_execute\u001b[0m\u001b[0;34m.\u001b[0m\u001b[0mmust_record_gradient\u001b[0m\u001b[0;34m(\u001b[0m\u001b[0;34m)\u001b[0m\u001b[0;34m:\u001b[0m\u001b[0;34m\u001b[0m\u001b[0;34m\u001b[0m\u001b[0m\n",
            "\u001b[0;32m/usr/local/lib/python3.8/dist-packages/tensorflow/python/eager/execute.py\u001b[0m in \u001b[0;36mquick_execute\u001b[0;34m(op_name, num_outputs, inputs, attrs, ctx, name)\u001b[0m\n\u001b[1;32m     50\u001b[0m   \u001b[0;32mtry\u001b[0m\u001b[0;34m:\u001b[0m\u001b[0;34m\u001b[0m\u001b[0;34m\u001b[0m\u001b[0m\n\u001b[1;32m     51\u001b[0m     \u001b[0mctx\u001b[0m\u001b[0;34m.\u001b[0m\u001b[0mensure_initialized\u001b[0m\u001b[0;34m(\u001b[0m\u001b[0;34m)\u001b[0m\u001b[0;34m\u001b[0m\u001b[0;34m\u001b[0m\u001b[0m\n\u001b[0;32m---> 52\u001b[0;31m     tensors = pywrap_tfe.TFE_Py_Execute(ctx._handle, device_name, op_name,\n\u001b[0m\u001b[1;32m     53\u001b[0m                                         inputs, attrs, num_outputs)\n\u001b[1;32m     54\u001b[0m   \u001b[0;32mexcept\u001b[0m \u001b[0mcore\u001b[0m\u001b[0;34m.\u001b[0m\u001b[0m_NotOkStatusException\u001b[0m \u001b[0;32mas\u001b[0m \u001b[0me\u001b[0m\u001b[0;34m:\u001b[0m\u001b[0;34m\u001b[0m\u001b[0;34m\u001b[0m\u001b[0m\n",
            "\u001b[0;31mFailedPreconditionError\u001b[0m: {{function_node __wrapped__ReadFile_device_/job:localhost/replica:0/task:0/device:CPU:0}} /content/Test/.ipynb_checkpoints; Is a directory [Op:ReadFile]"
          ]
        }
      ]
    },
    {
      "cell_type": "code",
      "source": [
        "results"
      ],
      "metadata": {
        "colab": {
          "base_uri": "https://localhost:8080/"
        },
        "id": "heEqfLDj7axT",
        "outputId": "def7d39c-f5b1-4f5a-fcda-208bc0ad929d"
      },
      "execution_count": 54,
      "outputs": [
        {
          "output_type": "execute_result",
          "data": {
            "text/plain": [
              "{'Test16BITSMM01167_20221109_175902_test_16BIT.wav': array([[2.0865914e-04],\n",
              "        [1.8604846e-04],\n",
              "        [2.0765529e-04],\n",
              "        [1.7051699e-04],\n",
              "        [2.0749299e-04],\n",
              "        [2.4353593e-04],\n",
              "        [2.1602397e-04],\n",
              "        [2.0110003e-04],\n",
              "        [2.0357834e-04],\n",
              "        [1.9660342e-04],\n",
              "        [1.8966969e-04],\n",
              "        [2.0334710e-04],\n",
              "        [1.8943762e-04],\n",
              "        [1.8744644e-04],\n",
              "        [2.0739449e-04],\n",
              "        [1.9410597e-04],\n",
              "        [1.8971182e-04],\n",
              "        [1.8761899e-04],\n",
              "        [1.8111839e-04],\n",
              "        [1.8960150e-04],\n",
              "        [2.0936503e-04],\n",
              "        [1.7603824e-04],\n",
              "        [1.7661459e-04],\n",
              "        [1.7416281e-04],\n",
              "        [1.9116227e-04],\n",
              "        [1.9054991e-04],\n",
              "        [3.0910924e-01],\n",
              "        [1.0000000e+00],\n",
              "        [1.0000000e+00],\n",
              "        [1.0000000e+00],\n",
              "        [9.9999022e-01],\n",
              "        [1.0000000e+00],\n",
              "        [9.7799706e-01],\n",
              "        [1.0000000e+00],\n",
              "        [9.9296308e-01],\n",
              "        [1.0000000e+00],\n",
              "        [1.0000000e+00],\n",
              "        [1.0000000e+00],\n",
              "        [1.0000000e+00],\n",
              "        [9.9999821e-01],\n",
              "        [1.0000000e+00],\n",
              "        [1.1687361e-03],\n",
              "        [1.0000000e+00],\n",
              "        [2.0310507e-04],\n",
              "        [2.1650150e-04],\n",
              "        [2.1313167e-04],\n",
              "        [1.9952434e-04],\n",
              "        [1.7624213e-04],\n",
              "        [1.8000981e-04],\n",
              "        [2.3324325e-04],\n",
              "        [2.0174724e-04],\n",
              "        [1.9224566e-04],\n",
              "        [2.0253632e-04],\n",
              "        [2.0455918e-04],\n",
              "        [1.9027341e-04],\n",
              "        [2.0202271e-04],\n",
              "        [1.8544382e-04],\n",
              "        [1.9785945e-04],\n",
              "        [1.8229967e-04],\n",
              "        [1.7483633e-04],\n",
              "        [1.9165395e-04],\n",
              "        [2.0632586e-04],\n",
              "        [1.8681498e-04],\n",
              "        [1.8815373e-04],\n",
              "        [1.7449142e-04],\n",
              "        [2.1289852e-04],\n",
              "        [1.8134045e-04],\n",
              "        [2.1654282e-04],\n",
              "        [1.9762717e-04],\n",
              "        [1.9079298e-04],\n",
              "        [1.7898051e-04],\n",
              "        [1.8885131e-04],\n",
              "        [1.5871352e-04],\n",
              "        [1.6585855e-04],\n",
              "        [2.0210689e-04],\n",
              "        [1.8765836e-04],\n",
              "        [1.8094821e-04],\n",
              "        [1.7170885e-04],\n",
              "        [1.8729334e-04],\n",
              "        [1.6927981e-04],\n",
              "        [1.8108750e-04],\n",
              "        [1.8740087e-04],\n",
              "        [1.7772226e-04],\n",
              "        [1.5827149e-04],\n",
              "        [1.9172467e-04],\n",
              "        [1.8081695e-04],\n",
              "        [1.9899369e-04],\n",
              "        [1.7014473e-04],\n",
              "        [2.1677440e-04],\n",
              "        [1.9299997e-04],\n",
              "        [1.8754296e-04],\n",
              "        [1.7139806e-04],\n",
              "        [1.6353080e-04],\n",
              "        [1.8412661e-04],\n",
              "        [1.8659848e-04],\n",
              "        [1.7911539e-04],\n",
              "        [1.6765083e-04],\n",
              "        [2.0535827e-04],\n",
              "        [1.7959440e-04],\n",
              "        [1.8022432e-04],\n",
              "        [1.9261151e-04],\n",
              "        [1.8984210e-04],\n",
              "        [1.9228930e-04],\n",
              "        [1.8895109e-04],\n",
              "        [1.8786747e-04],\n",
              "        [2.0300983e-04],\n",
              "        [1.9424445e-04],\n",
              "        [1.9963166e-04],\n",
              "        [1.8769878e-04],\n",
              "        [1.6714341e-04],\n",
              "        [1.6000071e-04],\n",
              "        [1.6199422e-04],\n",
              "        [2.2749712e-04],\n",
              "        [1.8385994e-04],\n",
              "        [1.9328578e-04],\n",
              "        [2.0529309e-04],\n",
              "        [1.8713980e-04],\n",
              "        [1.8327673e-04],\n",
              "        [1.9811412e-04],\n",
              "        [1.7824072e-04],\n",
              "        [1.7337163e-04],\n",
              "        [1.7223161e-04],\n",
              "        [1.7239264e-04],\n",
              "        [1.8778435e-04],\n",
              "        [1.8510217e-04],\n",
              "        [2.0213099e-04],\n",
              "        [1.8127942e-04],\n",
              "        [1.8178207e-04],\n",
              "        [1.7733056e-04],\n",
              "        [1.8266575e-04],\n",
              "        [1.8340330e-04],\n",
              "        [1.6886034e-04],\n",
              "        [2.0619154e-04],\n",
              "        [1.8401077e-04],\n",
              "        [1.5972252e-04],\n",
              "        [1.8080539e-04],\n",
              "        [1.7244145e-04],\n",
              "        [1.9878794e-04],\n",
              "        [1.6663452e-04],\n",
              "        [1.6459254e-04],\n",
              "        [1.6763213e-04],\n",
              "        [1.9845083e-04],\n",
              "        [1.8476608e-04],\n",
              "        [1.8782679e-04],\n",
              "        [1.7208682e-04],\n",
              "        [1.7084672e-04],\n",
              "        [1.7934850e-04],\n",
              "        [1.5873108e-04],\n",
              "        [1.8536710e-04],\n",
              "        [1.7415882e-04],\n",
              "        [1.7949272e-04],\n",
              "        [1.6049133e-04],\n",
              "        [1.9225299e-04],\n",
              "        [1.7876612e-04],\n",
              "        [2.0984047e-04],\n",
              "        [1.8321244e-04],\n",
              "        [1.7769786e-04],\n",
              "        [2.0363345e-04],\n",
              "        [1.9806594e-04],\n",
              "        [1.6385701e-04],\n",
              "        [1.9257350e-04],\n",
              "        [1.7084574e-04],\n",
              "        [1.7143795e-04],\n",
              "        [2.0308027e-04],\n",
              "        [1.6719328e-04],\n",
              "        [1.6323543e-04],\n",
              "        [1.6390797e-04],\n",
              "        [1.7082669e-04],\n",
              "        [1.5316435e-04],\n",
              "        [1.5593092e-04],\n",
              "        [1.6722678e-04],\n",
              "        [1.6776132e-04],\n",
              "        [1.6116348e-04],\n",
              "        [1.7841466e-04],\n",
              "        [1.7119276e-04],\n",
              "        [1.6022284e-04],\n",
              "        [1.8055835e-04],\n",
              "        [1.7305173e-04],\n",
              "        [1.7694816e-04],\n",
              "        [1.6652301e-04],\n",
              "        [1.7532847e-04],\n",
              "        [1.8957077e-04],\n",
              "        [1.8068717e-04],\n",
              "        [2.0257030e-04],\n",
              "        [1.7405041e-04],\n",
              "        [1.7386646e-04],\n",
              "        [1.8544807e-04],\n",
              "        [1.8005889e-04],\n",
              "        [1.8593408e-04],\n",
              "        [2.0190600e-04],\n",
              "        [1.9834717e-04],\n",
              "        [1.7997876e-04],\n",
              "        [1.7921327e-04],\n",
              "        [1.6617865e-04],\n",
              "        [2.0471586e-04],\n",
              "        [1.5048932e-04],\n",
              "        [2.1206969e-04],\n",
              "        [1.7355407e-04],\n",
              "        [1.7046448e-04],\n",
              "        [1.9488785e-04],\n",
              "        [1.7237061e-04],\n",
              "        [1.7040517e-04],\n",
              "        [1.5530946e-04],\n",
              "        [1.5227313e-04],\n",
              "        [1.9069515e-04],\n",
              "        [1.8122309e-04],\n",
              "        [1.6883972e-04],\n",
              "        [1.6284709e-04],\n",
              "        [1.6035519e-04],\n",
              "        [1.8914414e-04],\n",
              "        [1.6671031e-04],\n",
              "        [1.7859713e-04],\n",
              "        [1.5276266e-04],\n",
              "        [1.6273455e-04],\n",
              "        [1.7355772e-04],\n",
              "        [1.6911169e-04],\n",
              "        [1.9692763e-04],\n",
              "        [1.5891950e-04],\n",
              "        [1.9516697e-04],\n",
              "        [1.7696233e-04],\n",
              "        [1.8169198e-04],\n",
              "        [1.7242484e-04],\n",
              "        [2.0364161e-04],\n",
              "        [1.7547500e-04],\n",
              "        [1.8555170e-04],\n",
              "        [1.9742134e-04],\n",
              "        [1.9230011e-04],\n",
              "        [1.6273625e-04],\n",
              "        [1.5917124e-04],\n",
              "        [1.7101198e-04],\n",
              "        [2.0026004e-04],\n",
              "        [1.5145844e-04],\n",
              "        [1.6301253e-04],\n",
              "        [1.7152296e-04],\n",
              "        [1.5963253e-04],\n",
              "        [1.6631006e-04],\n",
              "        [1.7111229e-04],\n",
              "        [1.6454748e-04],\n",
              "        [2.0817903e-04],\n",
              "        [1.7124711e-04],\n",
              "        [1.9878319e-04],\n",
              "        [1.7222388e-04],\n",
              "        [1.9092401e-04],\n",
              "        [2.1877416e-04],\n",
              "        [1.6503540e-04],\n",
              "        [1.7970712e-04],\n",
              "        [1.4849825e-04],\n",
              "        [2.0799592e-04],\n",
              "        [1.9530582e-04],\n",
              "        [2.1276926e-04],\n",
              "        [1.8491519e-04],\n",
              "        [1.7667943e-04],\n",
              "        [1.9031658e-04],\n",
              "        [1.9800253e-04],\n",
              "        [1.7750515e-04],\n",
              "        [1.8264384e-04],\n",
              "        [1.6473212e-04],\n",
              "        [1.8674266e-04],\n",
              "        [2.2988909e-04],\n",
              "        [1.8293018e-04],\n",
              "        [1.6627485e-04],\n",
              "        [1.9250062e-04],\n",
              "        [1.9929295e-04],\n",
              "        [2.1342409e-04],\n",
              "        [1.7495707e-04],\n",
              "        [2.3343947e-04],\n",
              "        [1.9259295e-04],\n",
              "        [2.1191708e-04],\n",
              "        [2.0968687e-04],\n",
              "        [2.0826720e-04],\n",
              "        [1.7126181e-04],\n",
              "        [2.1658867e-04],\n",
              "        [1.9155968e-04],\n",
              "        [1.9434579e-04],\n",
              "        [1.8449742e-04],\n",
              "        [2.2105842e-04],\n",
              "        [1.8496595e-04],\n",
              "        [1.9003428e-04],\n",
              "        [1.6594383e-04],\n",
              "        [1.8789183e-04],\n",
              "        [1.8468803e-04],\n",
              "        [1.9068788e-04],\n",
              "        [1.7625507e-04],\n",
              "        [1.7884099e-04],\n",
              "        [1.9521553e-04],\n",
              "        [1.9898762e-04],\n",
              "        [1.8995401e-04],\n",
              "        [1.7055195e-04],\n",
              "        [2.0737175e-04],\n",
              "        [1.9419873e-04],\n",
              "        [1.6294789e-04],\n",
              "        [1.7789111e-04],\n",
              "        [1.9360414e-04],\n",
              "        [1.9162764e-04],\n",
              "        [1.5916699e-04],\n",
              "        [1.6538084e-04],\n",
              "        [1.8514736e-04],\n",
              "        [1.8846024e-04],\n",
              "        [1.6680667e-04],\n",
              "        [1.6410924e-04],\n",
              "        [2.0475256e-04],\n",
              "        [1.9656989e-04],\n",
              "        [2.2545611e-04],\n",
              "        [1.9504900e-04],\n",
              "        [1.7848407e-04],\n",
              "        [2.5571368e-04],\n",
              "        [2.0688611e-04],\n",
              "        [1.8070027e-04],\n",
              "        [1.7974927e-04],\n",
              "        [1.7070748e-04],\n",
              "        [1.8498219e-04],\n",
              "        [1.9814454e-04],\n",
              "        [1.7897419e-04],\n",
              "        [1.7594780e-04],\n",
              "        [1.7862742e-04],\n",
              "        [2.0074639e-04],\n",
              "        [2.0990871e-04],\n",
              "        [2.0233904e-04],\n",
              "        [1.7504067e-04],\n",
              "        [1.7934250e-04],\n",
              "        [1.8511293e-04],\n",
              "        [1.6734529e-04],\n",
              "        [1.7794099e-04],\n",
              "        [1.6776836e-04],\n",
              "        [1.6160465e-04],\n",
              "        [2.0110887e-04],\n",
              "        [1.8452381e-04],\n",
              "        [1.7035643e-04],\n",
              "        [1.7409454e-04],\n",
              "        [1.6240514e-04],\n",
              "        [1.6742446e-04],\n",
              "        [1.4541583e-04],\n",
              "        [1.6271701e-04],\n",
              "        [1.8346960e-04],\n",
              "        [1.9544386e-04],\n",
              "        [1.4323228e-04],\n",
              "        [1.6722965e-04],\n",
              "        [1.6287471e-04],\n",
              "        [1.6599240e-04],\n",
              "        [1.5048013e-04],\n",
              "        [1.7714637e-04],\n",
              "        [1.7478217e-04],\n",
              "        [1.8966028e-04],\n",
              "        [1.5142525e-04],\n",
              "        [1.7521350e-04],\n",
              "        [1.5709347e-04],\n",
              "        [1.5053268e-04],\n",
              "        [1.5894159e-04],\n",
              "        [1.8384102e-04],\n",
              "        [1.4054283e-04],\n",
              "        [2.0118518e-04],\n",
              "        [1.9490995e-04],\n",
              "        [1.5539418e-04],\n",
              "        [1.8225571e-04],\n",
              "        [1.8886192e-04],\n",
              "        [1.8390780e-04],\n",
              "        [1.6016846e-04],\n",
              "        [1.9696837e-04],\n",
              "        [1.6918735e-04],\n",
              "        [1.9657626e-04],\n",
              "        [1.7652653e-04],\n",
              "        [1.5929605e-04],\n",
              "        [1.7107902e-04],\n",
              "        [1.5349753e-04],\n",
              "        [2.0881279e-04],\n",
              "        [1.6577113e-04],\n",
              "        [1.8962863e-04],\n",
              "        [1.7853787e-04],\n",
              "        [1.8541835e-04],\n",
              "        [1.6435461e-04],\n",
              "        [1.5175683e-04],\n",
              "        [1.8140356e-04],\n",
              "        [1.6080658e-04],\n",
              "        [1.7667236e-04],\n",
              "        [1.7656408e-04],\n",
              "        [1.7548051e-04],\n",
              "        [1.7334553e-04],\n",
              "        [1.5446836e-04],\n",
              "        [1.7467419e-04],\n",
              "        [1.9007247e-04],\n",
              "        [1.7153834e-04],\n",
              "        [1.5815065e-04],\n",
              "        [1.9891401e-04],\n",
              "        [1.7180271e-04],\n",
              "        [1.7752987e-04],\n",
              "        [2.0692163e-04],\n",
              "        [1.7888549e-04],\n",
              "        [1.9816890e-04],\n",
              "        [1.8083058e-04],\n",
              "        [1.5396309e-04],\n",
              "        [1.6572989e-04],\n",
              "        [1.9258342e-04],\n",
              "        [1.8138040e-04],\n",
              "        [1.8337846e-04],\n",
              "        [1.6561565e-04],\n",
              "        [1.6496333e-04],\n",
              "        [1.5883298e-04],\n",
              "        [1.0000000e+00],\n",
              "        [1.5947598e-04],\n",
              "        [1.6458641e-04],\n",
              "        [1.6431606e-04],\n",
              "        [1.6749281e-04],\n",
              "        [1.5932595e-04],\n",
              "        [1.6208582e-04],\n",
              "        [1.6795739e-04],\n",
              "        [1.7751244e-04],\n",
              "        [1.9316823e-04],\n",
              "        [1.8572589e-04],\n",
              "        [1.7642995e-04],\n",
              "        [1.5981939e-04],\n",
              "        [1.6045140e-04],\n",
              "        [1.6425937e-04],\n",
              "        [1.5796105e-04],\n",
              "        [1.6661528e-04],\n",
              "        [1.8375496e-04],\n",
              "        [1.6871661e-04],\n",
              "        [1.8613345e-04],\n",
              "        [1.8794378e-04],\n",
              "        [2.1745794e-04],\n",
              "        [1.4958573e-04],\n",
              "        [1.8568410e-04],\n",
              "        [1.8145116e-04],\n",
              "        [1.7133923e-04],\n",
              "        [1.5677085e-04],\n",
              "        [1.8012141e-04],\n",
              "        [1.5837127e-04],\n",
              "        [1.9920651e-04],\n",
              "        [1.6525883e-04],\n",
              "        [1.9288223e-04],\n",
              "        [1.4809582e-04],\n",
              "        [2.0487716e-04],\n",
              "        [1.7593219e-04],\n",
              "        [1.6791752e-04],\n",
              "        [1.7735187e-04],\n",
              "        [1.9500976e-04],\n",
              "        [2.0280801e-04],\n",
              "        [1.6752091e-04],\n",
              "        [1.6232107e-04],\n",
              "        [1.9784606e-04],\n",
              "        [1.7711782e-04],\n",
              "        [1.7379949e-04],\n",
              "        [1.7364709e-04],\n",
              "        [1.8760575e-04],\n",
              "        [1.7515887e-04],\n",
              "        [1.8501659e-04],\n",
              "        [1.7844018e-04],\n",
              "        [1.7760944e-04],\n",
              "        [1.6585871e-04],\n",
              "        [1.7189725e-04],\n",
              "        [1.9188890e-04],\n",
              "        [1.7610354e-04],\n",
              "        [1.8120893e-04],\n",
              "        [1.7647435e-04],\n",
              "        [1.7130755e-04],\n",
              "        [1.8010802e-04],\n",
              "        [1.8648074e-04],\n",
              "        [1.6072688e-04],\n",
              "        [1.6472269e-04],\n",
              "        [1.9077024e-04],\n",
              "        [1.6444773e-04],\n",
              "        [1.7263247e-04],\n",
              "        [1.7138335e-04],\n",
              "        [1.9668911e-04],\n",
              "        [1.8614392e-04],\n",
              "        [1.9436637e-04],\n",
              "        [1.6679491e-04],\n",
              "        [2.0755890e-04],\n",
              "        [1.9145834e-04],\n",
              "        [1.7433560e-04],\n",
              "        [1.7759758e-04],\n",
              "        [1.8611022e-04],\n",
              "        [1.9483747e-04],\n",
              "        [1.7355441e-04],\n",
              "        [2.0375116e-04],\n",
              "        [2.0494631e-04],\n",
              "        [1.6996848e-04],\n",
              "        [1.6617231e-04],\n",
              "        [1.9317192e-04],\n",
              "        [1.8873608e-04],\n",
              "        [1.6992554e-04],\n",
              "        [1.8557967e-04],\n",
              "        [1.6247222e-04],\n",
              "        [1.6843001e-04],\n",
              "        [1.9955440e-04],\n",
              "        [1.8191854e-04],\n",
              "        [1.4911222e-04],\n",
              "        [1.5662174e-04],\n",
              "        [2.1242506e-04],\n",
              "        [1.9806255e-04],\n",
              "        [1.6489337e-04],\n",
              "        [1.6734035e-04],\n",
              "        [1.8636484e-04],\n",
              "        [1.8433828e-04],\n",
              "        [1.7164747e-04],\n",
              "        [1.9177989e-04],\n",
              "        [1.5759187e-04],\n",
              "        [1.4388427e-04],\n",
              "        [1.8846078e-04],\n",
              "        [1.7943421e-04],\n",
              "        [1.7495923e-04],\n",
              "        [1.6956864e-04],\n",
              "        [1.8193451e-04],\n",
              "        [1.6415681e-04],\n",
              "        [1.6948831e-04],\n",
              "        [1.6944419e-04],\n",
              "        [1.7678358e-04],\n",
              "        [1.9177642e-04],\n",
              "        [1.5257137e-04],\n",
              "        [1.6279942e-04],\n",
              "        [1.7584750e-04],\n",
              "        [1.5473682e-04],\n",
              "        [1.6325068e-04],\n",
              "        [1.6292366e-04],\n",
              "        [1.6487292e-04],\n",
              "        [1.6905108e-04],\n",
              "        [1.6262195e-04],\n",
              "        [1.6939041e-04],\n",
              "        [1.6717258e-04],\n",
              "        [1.8317191e-04],\n",
              "        [1.8533670e-04],\n",
              "        [1.7370773e-04],\n",
              "        [1.6695879e-04],\n",
              "        [1.5798802e-04],\n",
              "        [1.7465306e-04],\n",
              "        [1.7711292e-04],\n",
              "        [1.7790723e-04],\n",
              "        [1.7844257e-04],\n",
              "        [1.7753239e-04],\n",
              "        [1.9863596e-04],\n",
              "        [1.9709724e-04],\n",
              "        [1.7123861e-04],\n",
              "        [1.7273703e-04],\n",
              "        [2.0079729e-04],\n",
              "        [1.7238868e-04],\n",
              "        [1.6684088e-04],\n",
              "        [1.7964802e-04],\n",
              "        [1.8047298e-04],\n",
              "        [1.7943846e-04],\n",
              "        [2.1376378e-04],\n",
              "        [2.1568149e-04],\n",
              "        [3.3153992e-04],\n",
              "        [3.3461463e-04],\n",
              "        [2.2123512e-04],\n",
              "        [2.2263637e-04],\n",
              "        [1.7397673e-04],\n",
              "        [2.0171840e-04],\n",
              "        [1.8994494e-04],\n",
              "        [2.0425982e-04],\n",
              "        [2.3513763e-04],\n",
              "        [2.0412955e-04],\n",
              "        [1.9352125e-04],\n",
              "        [2.2337378e-04],\n",
              "        [1.8127094e-04],\n",
              "        [1.8091679e-04],\n",
              "        [1.8818765e-04],\n",
              "        [1.8936807e-04],\n",
              "        [1.7947440e-04],\n",
              "        [2.1009734e-04],\n",
              "        [1.8990439e-04],\n",
              "        [2.3546560e-04],\n",
              "        [2.4942198e-04],\n",
              "        [1.9860928e-04],\n",
              "        [1.7901039e-04],\n",
              "        [1.9660099e-04],\n",
              "        [1.8362448e-04],\n",
              "        [1.8469983e-04],\n",
              "        [1.9835417e-04],\n",
              "        [3.7466953e-04],\n",
              "        [2.1999511e-04],\n",
              "        [2.2844264e-04],\n",
              "        [1.8045990e-04],\n",
              "        [2.2402793e-04],\n",
              "        [2.1330203e-04],\n",
              "        [1.9169362e-04],\n",
              "        [1.8157005e-04],\n",
              "        [1.7352180e-04],\n",
              "        [1.9744861e-04],\n",
              "        [1.9005328e-04],\n",
              "        [1.8549689e-04],\n",
              "        [1.7440677e-04],\n",
              "        [2.4474377e-04],\n",
              "        [1.8869543e-04],\n",
              "        [2.0953317e-04],\n",
              "        [2.1066581e-04],\n",
              "        [1.8528721e-04],\n",
              "        [1.8403323e-04],\n",
              "        [1.0526283e-03],\n",
              "        [2.5102304e-04],\n",
              "        [3.2016332e-04],\n",
              "        [1.8984897e-04],\n",
              "        [2.2506909e-04],\n",
              "        [3.4021426e-04],\n",
              "        [2.3629953e-04],\n",
              "        [3.5762190e-04],\n",
              "        [2.2987768e-04],\n",
              "        [1.9829553e-04],\n",
              "        [4.4542429e-04],\n",
              "        [2.2477549e-04],\n",
              "        [1.9486497e-04]], dtype=float32)}"
            ]
          },
          "metadata": {},
          "execution_count": 54
        }
      ]
    },
    {
      "cell_type": "markdown",
      "source": [],
      "metadata": {
        "id": "NQLc8Kj47fqm"
      }
    },
    {
      "cell_type": "code",
      "source": [
        "for key in results.keys():\n",
        "  print(len(results[key]))"
      ],
      "metadata": {
        "colab": {
          "base_uri": "https://localhost:8080/"
        },
        "id": "WNxX_HVG7f8v",
        "outputId": "bcd928d1-cac1-450e-dca6-d2325d5a479c"
      },
      "execution_count": 55,
      "outputs": [
        {
          "output_type": "stream",
          "name": "stdout",
          "text": [
            "599\n"
          ]
        }
      ]
    },
    {
      "cell_type": "code",
      "source": [
        "#Converts predictions stored in the results file to class predictions\n",
        "class_preds = {}\n",
        "for file, logits in results.items():\n",
        "    class_preds[file] = [1 if prediction > 0.99 else 0 for prediction in logits]\n",
        "#class_preds"
      ],
      "metadata": {
        "id": "Xi6RVwRz7hiL"
      },
      "execution_count": 56,
      "outputs": []
    },
    {
      "cell_type": "code",
      "source": [
        "class_preds.items()"
      ],
      "metadata": {
        "colab": {
          "base_uri": "https://localhost:8080/"
        },
        "id": "fQ0lHv2s7l8j",
        "outputId": "7ce7c039-7775-45b4-f88d-cb97e7cf5dd5"
      },
      "execution_count": 57,
      "outputs": [
        {
          "output_type": "execute_result",
          "data": {
            "text/plain": [
              "dict_items([('Test16BITSMM01167_20221109_175902_test_16BIT.wav', [0, 0, 0, 0, 0, 0, 0, 0, 0, 0, 0, 0, 0, 0, 0, 0, 0, 0, 0, 0, 0, 0, 0, 0, 0, 0, 0, 1, 1, 1, 1, 1, 0, 1, 1, 1, 1, 1, 1, 1, 1, 0, 1, 0, 0, 0, 0, 0, 0, 0, 0, 0, 0, 0, 0, 0, 0, 0, 0, 0, 0, 0, 0, 0, 0, 0, 0, 0, 0, 0, 0, 0, 0, 0, 0, 0, 0, 0, 0, 0, 0, 0, 0, 0, 0, 0, 0, 0, 0, 0, 0, 0, 0, 0, 0, 0, 0, 0, 0, 0, 0, 0, 0, 0, 0, 0, 0, 0, 0, 0, 0, 0, 0, 0, 0, 0, 0, 0, 0, 0, 0, 0, 0, 0, 0, 0, 0, 0, 0, 0, 0, 0, 0, 0, 0, 0, 0, 0, 0, 0, 0, 0, 0, 0, 0, 0, 0, 0, 0, 0, 0, 0, 0, 0, 0, 0, 0, 0, 0, 0, 0, 0, 0, 0, 0, 0, 0, 0, 0, 0, 0, 0, 0, 0, 0, 0, 0, 0, 0, 0, 0, 0, 0, 0, 0, 0, 0, 0, 0, 0, 0, 0, 0, 0, 0, 0, 0, 0, 0, 0, 0, 0, 0, 0, 0, 0, 0, 0, 0, 0, 0, 0, 0, 0, 0, 0, 0, 0, 0, 0, 0, 0, 0, 0, 0, 0, 0, 0, 0, 0, 0, 0, 0, 0, 0, 0, 0, 0, 0, 0, 0, 0, 0, 0, 0, 0, 0, 0, 0, 0, 0, 0, 0, 0, 0, 0, 0, 0, 0, 0, 0, 0, 0, 0, 0, 0, 0, 0, 0, 0, 0, 0, 0, 0, 0, 0, 0, 0, 0, 0, 0, 0, 0, 0, 0, 0, 0, 0, 0, 0, 0, 0, 0, 0, 0, 0, 0, 0, 0, 0, 0, 0, 0, 0, 0, 0, 0, 0, 0, 0, 0, 0, 0, 0, 0, 0, 0, 0, 0, 0, 0, 0, 0, 0, 0, 0, 0, 0, 0, 0, 0, 0, 0, 0, 0, 0, 0, 0, 0, 0, 0, 0, 0, 0, 0, 0, 0, 0, 0, 0, 0, 0, 0, 0, 0, 0, 0, 0, 0, 0, 0, 0, 0, 0, 0, 0, 0, 0, 0, 0, 0, 0, 0, 0, 0, 0, 0, 0, 0, 0, 0, 0, 0, 0, 0, 0, 0, 0, 0, 0, 0, 0, 0, 0, 0, 0, 0, 1, 0, 0, 0, 0, 0, 0, 0, 0, 0, 0, 0, 0, 0, 0, 0, 0, 0, 0, 0, 0, 0, 0, 0, 0, 0, 0, 0, 0, 0, 0, 0, 0, 0, 0, 0, 0, 0, 0, 0, 0, 0, 0, 0, 0, 0, 0, 0, 0, 0, 0, 0, 0, 0, 0, 0, 0, 0, 0, 0, 0, 0, 0, 0, 0, 0, 0, 0, 0, 0, 0, 0, 0, 0, 0, 0, 0, 0, 0, 0, 0, 0, 0, 0, 0, 0, 0, 0, 0, 0, 0, 0, 0, 0, 0, 0, 0, 0, 0, 0, 0, 0, 0, 0, 0, 0, 0, 0, 0, 0, 0, 0, 0, 0, 0, 0, 0, 0, 0, 0, 0, 0, 0, 0, 0, 0, 0, 0, 0, 0, 0, 0, 0, 0, 0, 0, 0, 0, 0, 0, 0, 0, 0, 0, 0, 0, 0, 0, 0, 0, 0, 0, 0, 0, 0, 0, 0, 0, 0, 0, 0, 0, 0, 0, 0, 0, 0, 0, 0, 0, 0, 0, 0, 0, 0, 0, 0, 0, 0, 0, 0, 0, 0, 0, 0, 0, 0, 0, 0, 0, 0, 0, 0, 0, 0, 0, 0, 0, 0, 0, 0, 0])])"
            ]
          },
          "metadata": {},
          "execution_count": 57
        }
      ]
    },
    {
      "cell_type": "code",
      "source": [
        "#Functions to facilitate creating a csv file and storing time stepped results\n",
        "def convert(n):\n",
        "    return str(datetime.timedelta(seconds = n))\n",
        "\n",
        "def save_results(directory, dictionary):    \n",
        "    try:\n",
        "        os.mkdir(directory)\n",
        "    except:\n",
        "        pass\n",
        "    \n",
        "    for file, logits in class_preds.items():\n",
        "      col_len = len(logits)\n",
        "      sec = [x for x in range(0, col_len*3, 3)]\n",
        "      form = [convert(x) for x in sec]\n",
        "\n",
        "      df = pd.DataFrame({'Timestep': form, 'Prediction': logits}).set_index('Timestep')\n",
        "      path = directory + '/'+ file[0:-4] + '_output.xlsx'\n",
        "      df.to_excel(path)"
      ],
      "metadata": {
        "id": "twMz3PZd7mHQ"
      },
      "execution_count": 58,
      "outputs": []
    },
    {
      "cell_type": "code",
      "source": [
        "save_results('/content/TIMED_RESULTS', class_preds)"
      ],
      "metadata": {
        "id": "Y-oGLZES7mRY"
      },
      "execution_count": 59,
      "outputs": []
    },
    {
      "cell_type": "code",
      "source": [
        "#This code window, groups consecutive prediction into a single value and outputs sum of all positive samples.\n",
        "#This gives us the call density for each file\n",
        "postprocessed = {}\n",
        "for file, scores in class_preds.items():\n",
        "    postprocessed[file] = tf.math.reduce_sum([key for key, group in groupby(scores)]).numpy()\n",
        "#postprocessed"
      ],
      "metadata": {
        "id": "s9lOqzte7mad"
      },
      "execution_count": 60,
      "outputs": []
    },
    {
      "cell_type": "code",
      "source": [
        "#Stores call density into a csv file for further study\n",
        "with open('/content/results.csv', 'w', newline='') as f:\n",
        "    writer = csv.writer(f, delimiter=',')\n",
        "    writer.writerow(['Recording', 'Main Calls'])\n",
        "    for key, value in postprocessed.items():\n",
        "        writer.writerow([key, value])"
      ],
      "metadata": {
        "id": "lJ_Uy7Gj7mku"
      },
      "execution_count": 61,
      "outputs": []
    }
  ]
}