{
  "nbformat": 4,
  "nbformat_minor": 0,
  "metadata": {
    "colab": {
      "provenance": []
    },
    "kernelspec": {
      "name": "python3",
      "display_name": "Python 3"
    },
    "language_info": {
      "name": "python"
    }
  },
  "cells": [
    {
      "cell_type": "code",
      "execution_count": 1,
      "metadata": {
        "colab": {
          "base_uri": "https://localhost:8080/"
        },
        "id": "CTnhkZ6o4sEV",
        "outputId": "a949a8bf-086f-475a-a5fd-02f87ac56901"
      },
      "outputs": [
        {
          "output_type": "stream",
          "name": "stdout",
          "text": [
            "Mounted at /content/drive\n"
          ]
        }
      ],
      "source": [
        "from google.colab import drive\n",
        "drive.mount('/content/drive') "
      ]
    },
    {
      "cell_type": "code",
      "source": [
        "!pip install noisereduce\n",
        "!pip install pydub"
      ],
      "metadata": {
        "colab": {
          "base_uri": "https://localhost:8080/"
        },
        "id": "egUk_Cbo6Ou-",
        "outputId": "10ba5c0b-10b7-45b7-a501-9cc2c6f03ad0"
      },
      "execution_count": 2,
      "outputs": [
        {
          "output_type": "stream",
          "name": "stdout",
          "text": [
            "Looking in indexes: https://pypi.org/simple, https://us-python.pkg.dev/colab-wheels/public/simple/\n",
            "Collecting noisereduce\n",
            "  Downloading noisereduce-2.0.1-py3-none-any.whl (15 kB)\n",
            "Requirement already satisfied: scipy in /usr/local/lib/python3.8/dist-packages (from noisereduce) (1.10.1)\n",
            "Requirement already satisfied: numpy in /usr/local/lib/python3.8/dist-packages (from noisereduce) (1.22.4)\n",
            "Requirement already satisfied: matplotlib in /usr/local/lib/python3.8/dist-packages (from noisereduce) (3.5.3)\n",
            "Requirement already satisfied: librosa in /usr/local/lib/python3.8/dist-packages (from noisereduce) (0.8.1)\n",
            "Requirement already satisfied: tqdm in /usr/local/lib/python3.8/dist-packages (from noisereduce) (4.64.1)\n",
            "Requirement already satisfied: soundfile>=0.10.2 in /usr/local/lib/python3.8/dist-packages (from librosa->noisereduce) (0.12.1)\n",
            "Requirement already satisfied: audioread>=2.0.0 in /usr/local/lib/python3.8/dist-packages (from librosa->noisereduce) (3.0.0)\n",
            "Requirement already satisfied: scikit-learn!=0.19.0,>=0.14.0 in /usr/local/lib/python3.8/dist-packages (from librosa->noisereduce) (1.2.1)\n",
            "Requirement already satisfied: decorator>=3.0.0 in /usr/local/lib/python3.8/dist-packages (from librosa->noisereduce) (4.4.2)\n",
            "Requirement already satisfied: numba>=0.43.0 in /usr/local/lib/python3.8/dist-packages (from librosa->noisereduce) (0.56.4)\n",
            "Requirement already satisfied: packaging>=20.0 in /usr/local/lib/python3.8/dist-packages (from librosa->noisereduce) (23.0)\n",
            "Requirement already satisfied: resampy>=0.2.2 in /usr/local/lib/python3.8/dist-packages (from librosa->noisereduce) (0.4.2)\n",
            "Requirement already satisfied: pooch>=1.0 in /usr/local/lib/python3.8/dist-packages (from librosa->noisereduce) (1.7.0)\n",
            "Requirement already satisfied: joblib>=0.14 in /usr/local/lib/python3.8/dist-packages (from librosa->noisereduce) (1.2.0)\n",
            "Requirement already satisfied: kiwisolver>=1.0.1 in /usr/local/lib/python3.8/dist-packages (from matplotlib->noisereduce) (1.4.4)\n",
            "Requirement already satisfied: pyparsing>=2.2.1 in /usr/local/lib/python3.8/dist-packages (from matplotlib->noisereduce) (3.0.9)\n",
            "Requirement already satisfied: pillow>=6.2.0 in /usr/local/lib/python3.8/dist-packages (from matplotlib->noisereduce) (8.4.0)\n",
            "Requirement already satisfied: fonttools>=4.22.0 in /usr/local/lib/python3.8/dist-packages (from matplotlib->noisereduce) (4.38.0)\n",
            "Requirement already satisfied: cycler>=0.10 in /usr/local/lib/python3.8/dist-packages (from matplotlib->noisereduce) (0.11.0)\n",
            "Requirement already satisfied: python-dateutil>=2.7 in /usr/local/lib/python3.8/dist-packages (from matplotlib->noisereduce) (2.8.2)\n",
            "Requirement already satisfied: importlib-metadata in /usr/local/lib/python3.8/dist-packages (from numba>=0.43.0->librosa->noisereduce) (6.0.0)\n",
            "Requirement already satisfied: setuptools in /usr/local/lib/python3.8/dist-packages (from numba>=0.43.0->librosa->noisereduce) (57.4.0)\n",
            "Requirement already satisfied: llvmlite<0.40,>=0.39.0dev0 in /usr/local/lib/python3.8/dist-packages (from numba>=0.43.0->librosa->noisereduce) (0.39.1)\n",
            "Requirement already satisfied: platformdirs>=2.5.0 in /usr/local/lib/python3.8/dist-packages (from pooch>=1.0->librosa->noisereduce) (3.0.0)\n",
            "Requirement already satisfied: requests>=2.19.0 in /usr/local/lib/python3.8/dist-packages (from pooch>=1.0->librosa->noisereduce) (2.25.1)\n",
            "Requirement already satisfied: six>=1.5 in /usr/local/lib/python3.8/dist-packages (from python-dateutil>=2.7->matplotlib->noisereduce) (1.15.0)\n",
            "Requirement already satisfied: threadpoolctl>=2.0.0 in /usr/local/lib/python3.8/dist-packages (from scikit-learn!=0.19.0,>=0.14.0->librosa->noisereduce) (3.1.0)\n",
            "Requirement already satisfied: cffi>=1.0 in /usr/local/lib/python3.8/dist-packages (from soundfile>=0.10.2->librosa->noisereduce) (1.15.1)\n",
            "Requirement already satisfied: pycparser in /usr/local/lib/python3.8/dist-packages (from cffi>=1.0->soundfile>=0.10.2->librosa->noisereduce) (2.21)\n",
            "Requirement already satisfied: chardet<5,>=3.0.2 in /usr/local/lib/python3.8/dist-packages (from requests>=2.19.0->pooch>=1.0->librosa->noisereduce) (4.0.0)\n",
            "Requirement already satisfied: certifi>=2017.4.17 in /usr/local/lib/python3.8/dist-packages (from requests>=2.19.0->pooch>=1.0->librosa->noisereduce) (2022.12.7)\n",
            "Requirement already satisfied: idna<3,>=2.5 in /usr/local/lib/python3.8/dist-packages (from requests>=2.19.0->pooch>=1.0->librosa->noisereduce) (2.10)\n",
            "Requirement already satisfied: urllib3<1.27,>=1.21.1 in /usr/local/lib/python3.8/dist-packages (from requests>=2.19.0->pooch>=1.0->librosa->noisereduce) (1.26.14)\n",
            "Requirement already satisfied: zipp>=0.5 in /usr/local/lib/python3.8/dist-packages (from importlib-metadata->numba>=0.43.0->librosa->noisereduce) (3.15.0)\n",
            "Installing collected packages: noisereduce\n",
            "Successfully installed noisereduce-2.0.1\n",
            "Looking in indexes: https://pypi.org/simple, https://us-python.pkg.dev/colab-wheels/public/simple/\n",
            "Collecting pydub\n",
            "  Downloading pydub-0.25.1-py2.py3-none-any.whl (32 kB)\n",
            "Installing collected packages: pydub\n",
            "Successfully installed pydub-0.25.1\n"
          ]
        }
      ]
    },
    {
      "cell_type": "code",
      "source": [
        "import os\n",
        "import time\n",
        "import noisereduce as nr\n",
        "from scipy.io import wavfile\n",
        "import matplotlib.pyplot as plt\n",
        "\n",
        "import librosa\n",
        "import librosa.display\n",
        "\n",
        "from pydub import AudioSegment \n",
        "from pydub.utils import make_chunks"
      ],
      "metadata": {
        "id": "S85AGNny51ay"
      },
      "execution_count": 4,
      "outputs": []
    },
    {
      "cell_type": "code",
      "source": [
        "#Helper function to perform required preprocessing\n",
        "\n",
        "#Processing audio clips to create 3 second chunks\n",
        "def process_audio(filename):\n",
        "    myaudio = AudioSegment.from_file(filename, \"wav\") \n",
        "    chunk_length_ms = 3000\n",
        "    chunks = make_chunks(myaudio,chunk_length_ms)  \n",
        "    print(len(chunks))\n",
        "    for i, chunk in enumerate(chunks):\n",
        "        filename = os.path.splitext(filename)[0]\n",
        "        chunk_name = './chunked/' + filename + \"_{0}.wav\".format(i) \n",
        "        chunk.export(chunk_name, format=\"wav\")\n",
        "\n",
        "#Eliminiting noise fron audio clips\n",
        "def eliminate_noise(path, filename):\n",
        "    audio, sample_rate = librosa.load(path)\n",
        "    reduced_noise = nr.reduce_noise(y=audio, sr=sample_rate)\n",
        "    filename = os.path.splitext(filename)[0]\n",
        "    wavfile.write('./reduced/' + filename + \"_reduced.wav\", sample_rate, reduced_noise)\n",
        "\n",
        "#Converts audio clips to spectrograms \n",
        "def convert_to_spec(path, filename):\n",
        "    x, sr = librosa.load(path)\n",
        "    filename = os.path.splitext(filename)[0]\n",
        "    fname = './images/' + filename + '.png'\n",
        "    X = librosa.stft(x)\n",
        "    Xdb = librosa.amplitude_to_db(abs(X))\n",
        "    fig = plt.figure(frameon = False)\n",
        "    ax = plt.Axes(fig, [0., 0., 1., 1.])\n",
        "    ax.set_axis_off()\n",
        "    fig.add_axes(ax)\n",
        "    fin = librosa.display.specshow(Xdb, sr=sr, x_axis='time', y_axis='hz')\n",
        "    fig.savefig(fname, dpi='figure')\n",
        "    plt.close();"
      ],
      "metadata": {
        "id": "edmsV7_e51dm"
      },
      "execution_count": 4,
      "outputs": []
    },
    {
      "cell_type": "code",
      "source": [
        "!pip install tensorflow tensorflow_io"
      ],
      "metadata": {
        "id": "bQ0jmM80Xfer",
        "colab": {
          "base_uri": "https://localhost:8080/"
        },
        "outputId": "2067eaee-951f-4065-9ea0-b1e244b1695a"
      },
      "execution_count": 5,
      "outputs": [
        {
          "output_type": "stream",
          "name": "stdout",
          "text": [
            "Looking in indexes: https://pypi.org/simple, https://us-python.pkg.dev/colab-wheels/public/simple/\n",
            "Requirement already satisfied: tensorflow in /usr/local/lib/python3.8/dist-packages (2.11.0)\n",
            "Requirement already satisfied: tensorflow_io in /usr/local/lib/python3.8/dist-packages (0.31.0)\n",
            "Requirement already satisfied: tensorflow-estimator<2.12,>=2.11.0 in /usr/local/lib/python3.8/dist-packages (from tensorflow) (2.11.0)\n",
            "Requirement already satisfied: astunparse>=1.6.0 in /usr/local/lib/python3.8/dist-packages (from tensorflow) (1.6.3)\n",
            "Requirement already satisfied: wrapt>=1.11.0 in /usr/local/lib/python3.8/dist-packages (from tensorflow) (1.15.0)\n",
            "Requirement already satisfied: h5py>=2.9.0 in /usr/local/lib/python3.8/dist-packages (from tensorflow) (3.1.0)\n",
            "Requirement already satisfied: gast<=0.4.0,>=0.2.1 in /usr/local/lib/python3.8/dist-packages (from tensorflow) (0.4.0)\n",
            "Requirement already satisfied: tensorflow-io-gcs-filesystem>=0.23.1 in /usr/local/lib/python3.8/dist-packages (from tensorflow) (0.31.0)\n",
            "Requirement already satisfied: google-pasta>=0.1.1 in /usr/local/lib/python3.8/dist-packages (from tensorflow) (0.2.0)\n",
            "Requirement already satisfied: absl-py>=1.0.0 in /usr/local/lib/python3.8/dist-packages (from tensorflow) (1.4.0)\n",
            "Requirement already satisfied: grpcio<2.0,>=1.24.3 in /usr/local/lib/python3.8/dist-packages (from tensorflow) (1.51.3)\n",
            "Requirement already satisfied: flatbuffers>=2.0 in /usr/local/lib/python3.8/dist-packages (from tensorflow) (23.1.21)\n",
            "Requirement already satisfied: libclang>=13.0.0 in /usr/local/lib/python3.8/dist-packages (from tensorflow) (15.0.6.1)\n",
            "Requirement already satisfied: tensorboard<2.12,>=2.11 in /usr/local/lib/python3.8/dist-packages (from tensorflow) (2.11.2)\n",
            "Requirement already satisfied: packaging in /usr/local/lib/python3.8/dist-packages (from tensorflow) (23.0)\n",
            "Requirement already satisfied: setuptools in /usr/local/lib/python3.8/dist-packages (from tensorflow) (57.4.0)\n",
            "Requirement already satisfied: numpy>=1.20 in /usr/local/lib/python3.8/dist-packages (from tensorflow) (1.22.4)\n",
            "Requirement already satisfied: opt-einsum>=2.3.2 in /usr/local/lib/python3.8/dist-packages (from tensorflow) (3.3.0)\n",
            "Requirement already satisfied: protobuf<3.20,>=3.9.2 in /usr/local/lib/python3.8/dist-packages (from tensorflow) (3.19.6)\n",
            "Requirement already satisfied: termcolor>=1.1.0 in /usr/local/lib/python3.8/dist-packages (from tensorflow) (2.2.0)\n",
            "Requirement already satisfied: keras<2.12,>=2.11.0 in /usr/local/lib/python3.8/dist-packages (from tensorflow) (2.11.0)\n",
            "Requirement already satisfied: six>=1.12.0 in /usr/local/lib/python3.8/dist-packages (from tensorflow) (1.15.0)\n",
            "Requirement already satisfied: typing-extensions>=3.6.6 in /usr/local/lib/python3.8/dist-packages (from tensorflow) (4.5.0)\n",
            "Requirement already satisfied: wheel<1.0,>=0.23.0 in /usr/local/lib/python3.8/dist-packages (from astunparse>=1.6.0->tensorflow) (0.38.4)\n",
            "Requirement already satisfied: werkzeug>=1.0.1 in /usr/local/lib/python3.8/dist-packages (from tensorboard<2.12,>=2.11->tensorflow) (2.2.3)\n",
            "Requirement already satisfied: google-auth-oauthlib<0.5,>=0.4.1 in /usr/local/lib/python3.8/dist-packages (from tensorboard<2.12,>=2.11->tensorflow) (0.4.6)\n",
            "Requirement already satisfied: requests<3,>=2.21.0 in /usr/local/lib/python3.8/dist-packages (from tensorboard<2.12,>=2.11->tensorflow) (2.25.1)\n",
            "Requirement already satisfied: tensorboard-data-server<0.7.0,>=0.6.0 in /usr/local/lib/python3.8/dist-packages (from tensorboard<2.12,>=2.11->tensorflow) (0.6.1)\n",
            "Requirement already satisfied: google-auth<3,>=1.6.3 in /usr/local/lib/python3.8/dist-packages (from tensorboard<2.12,>=2.11->tensorflow) (2.16.1)\n",
            "Requirement already satisfied: markdown>=2.6.8 in /usr/local/lib/python3.8/dist-packages (from tensorboard<2.12,>=2.11->tensorflow) (3.4.1)\n",
            "Requirement already satisfied: tensorboard-plugin-wit>=1.6.0 in /usr/local/lib/python3.8/dist-packages (from tensorboard<2.12,>=2.11->tensorflow) (1.8.1)\n",
            "Requirement already satisfied: pyasn1-modules>=0.2.1 in /usr/local/lib/python3.8/dist-packages (from google-auth<3,>=1.6.3->tensorboard<2.12,>=2.11->tensorflow) (0.2.8)\n",
            "Requirement already satisfied: rsa<5,>=3.1.4 in /usr/local/lib/python3.8/dist-packages (from google-auth<3,>=1.6.3->tensorboard<2.12,>=2.11->tensorflow) (4.9)\n",
            "Requirement already satisfied: cachetools<6.0,>=2.0.0 in /usr/local/lib/python3.8/dist-packages (from google-auth<3,>=1.6.3->tensorboard<2.12,>=2.11->tensorflow) (5.3.0)\n",
            "Requirement already satisfied: requests-oauthlib>=0.7.0 in /usr/local/lib/python3.8/dist-packages (from google-auth-oauthlib<0.5,>=0.4.1->tensorboard<2.12,>=2.11->tensorflow) (1.3.1)\n",
            "Requirement already satisfied: importlib-metadata>=4.4 in /usr/local/lib/python3.8/dist-packages (from markdown>=2.6.8->tensorboard<2.12,>=2.11->tensorflow) (6.0.0)\n",
            "Requirement already satisfied: chardet<5,>=3.0.2 in /usr/local/lib/python3.8/dist-packages (from requests<3,>=2.21.0->tensorboard<2.12,>=2.11->tensorflow) (4.0.0)\n",
            "Requirement already satisfied: idna<3,>=2.5 in /usr/local/lib/python3.8/dist-packages (from requests<3,>=2.21.0->tensorboard<2.12,>=2.11->tensorflow) (2.10)\n",
            "Requirement already satisfied: urllib3<1.27,>=1.21.1 in /usr/local/lib/python3.8/dist-packages (from requests<3,>=2.21.0->tensorboard<2.12,>=2.11->tensorflow) (1.26.14)\n",
            "Requirement already satisfied: certifi>=2017.4.17 in /usr/local/lib/python3.8/dist-packages (from requests<3,>=2.21.0->tensorboard<2.12,>=2.11->tensorflow) (2022.12.7)\n",
            "Requirement already satisfied: MarkupSafe>=2.1.1 in /usr/local/lib/python3.8/dist-packages (from werkzeug>=1.0.1->tensorboard<2.12,>=2.11->tensorflow) (2.1.2)\n",
            "Requirement already satisfied: zipp>=0.5 in /usr/local/lib/python3.8/dist-packages (from importlib-metadata>=4.4->markdown>=2.6.8->tensorboard<2.12,>=2.11->tensorflow) (3.15.0)\n",
            "Requirement already satisfied: pyasn1<0.5.0,>=0.4.6 in /usr/local/lib/python3.8/dist-packages (from pyasn1-modules>=0.2.1->google-auth<3,>=1.6.3->tensorboard<2.12,>=2.11->tensorflow) (0.4.8)\n",
            "Requirement already satisfied: oauthlib>=3.0.0 in /usr/local/lib/python3.8/dist-packages (from requests-oauthlib>=0.7.0->google-auth-oauthlib<0.5,>=0.4.1->tensorboard<2.12,>=2.11->tensorflow) (3.2.2)\n"
          ]
        }
      ]
    },
    {
      "cell_type": "code",
      "source": [
        "#This function loads an audio clip and resamples it to 16000 samples/second\n",
        "# import librosa    \n",
        "import os\n",
        "import csv\n",
        "import pandas as pd\n",
        "import datetime\n",
        "from itertools import groupby\n",
        "from matplotlib import pyplot as plt\n",
        "\n",
        "import tensorflow as tf \n",
        "import tensorflow_io as tfio\n",
        "from tensorflow.keras.models import Sequential\n",
        "from tensorflow.keras.layers import Conv2D, Dense, Flatten\n",
        "\n",
        "def load_wav_16k_mono(filename):\n",
        "    # Load encoded wav file\n",
        "    file_contents = tf.io.read_file(filename)\n",
        "    # Decode wav (tensors by channels) \n",
        "    wav, sample_rate = tf.audio.decode_wav(file_contents, desired_channels=1)\n",
        "    # Removes trailing axis\n",
        "    wav = tf.squeeze(wav, axis=-1)\n",
        "    sample_rate = tf.cast(sample_rate, dtype=tf.int64)\n",
        "    # Goes from 44100Hz to 16000hz - amplitude of the audio signal\n",
        "    wav = tfio.audio.resample(wav, rate_in=sample_rate, rate_out=16000)\n",
        "    # wav, s = librosa.load(filename, sr=16000)\n",
        " \n",
        "\n",
        "    return wav"
      ],
      "metadata": {
        "id": "kbPSQk7FuwyA"
      },
      "execution_count": 52,
      "outputs": []
    },
    {
      "cell_type": "code",
      "source": [
        "#Tensorflow only works with 16-bit .wav files\n",
        "#This function converts them into 16-bit and stores them to the target directory\n",
        "\n",
        "import soundfile\n",
        "import os\n",
        "\n",
        "def convertTo16Bit(directory):\n",
        "    for file in os.listdir(directory):\n",
        "         if(file.endswith('.wav')):\n",
        "                nameSolo = file.rsplit('.', 1)[0]\n",
        "                path = directory + '/' + file\n",
        "                #print(directory + f'/{nameSolo}')\n",
        "                data, samplerate = soundfile.read(path)\n",
        "\n",
        "                soundfile.write('/content/Test16BIT' + nameSolo + '_16BIT.wav', data, samplerate, subtype='PCM_16')\n",
        "                #print(\"converting \" + file + \"to 16 - bit\")"
      ],
      "metadata": {
        "id": "bGR8-aUSu-hN"
      },
      "execution_count": 35,
      "outputs": []
    },
    {
      "cell_type": "code",
      "source": [
        "convertTo16Bit('/content/Test')"
      ],
      "metadata": {
        "id": "rImmEbFSvEil"
      },
      "execution_count": 36,
      "outputs": []
    },
    {
      "cell_type": "code",
      "source": [
        "#This code window performs all required preprocessing to the audio files\n",
        "#This will help us study the data and create a dataset \n",
        "cwd = os.listdir('data')\n",
        "\n",
        "for folder in cwd:\n",
        "    \n",
        "    data_path = './data/'+folder\n",
        "    os.chdir(data_path)\n",
        "    \n",
        "    try:\n",
        "        os.makedirs('chunked')\n",
        "        os.makedirs('reduced')\n",
        "        os.makedirs('images')\n",
        "    except:\n",
        "        pass\n",
        "    \n",
        "    #start_time = time.perf_counter()\n",
        "    \n",
        "    audio_file = os.listdir()\n",
        "    for file in audio_file:\n",
        "        if ('.wav' in file):\n",
        "            process_audio(file)\n",
        "    print(\"Audio Splitting Complete\")\n",
        "    \n",
        "    #print(time.perf_counter() - start_time, \"seconds\")\n",
        "    \n",
        "    #start_time = time.perf_counter()\n",
        "    \n",
        "    chunked_files = os.listdir('chunked')\n",
        "    for file in chunked_files:\n",
        "        path = \"./chunked/\"+ file\n",
        "        eliminate_noise(path, file)\n",
        "    print(\"Eliminated Noise\")\n",
        "    \n",
        "    #print(time.perf_counter() - start_time, \"seconds\")\n",
        "    \n",
        "    #start_time = time.perf_counter()\n",
        "    \n",
        "    reduced_files = os.listdir('reduced')\n",
        "    for file in reduced_files:\n",
        "        path = \"./reduced/\"+ file\n",
        "        convert_to_spec(path, file)\n",
        "    print(\"Spectrograms Generated\")\n",
        "    \n",
        "    #print(time.perf_counter() - start_time, \"seconds\")\n",
        "    \n",
        "    os.chdir('../') \n",
        "    os.chdir('../') \n",
        "\n",
        "print(\"Preprocessing Complete\")"
      ],
      "metadata": {
        "colab": {
          "base_uri": "https://localhost:8080/"
        },
        "id": "L6wi3UK8XUjP",
        "outputId": "5db59995-5af7-4bd2-9290-28d5f5c03eee"
      },
      "execution_count": 63,
      "outputs": [
        {
          "output_type": "stream",
          "name": "stdout",
          "text": [
            "Audio Splitting Complete\n",
            "Eliminated Noise\n",
            "Spectrograms Generated\n",
            "1200\n",
            "Audio Splitting Complete\n",
            "Eliminated Noise\n",
            "Spectrograms Generated\n",
            "Preprocessing Complete\n"
          ]
        }
      ]
    },
    {
      "cell_type": "code",
      "source": [
        "!ls"
      ],
      "metadata": {
        "id": "DvzaBIbAmKVA",
        "colab": {
          "base_uri": "https://localhost:8080/"
        },
        "outputId": "3ff9ae85-648f-42e5-b2f8-62610e8139a1"
      },
      "execution_count": null,
      "outputs": [
        {
          "output_type": "stream",
          "name": "stdout",
          "text": [
            "data  drive  sample_data  Test\n"
          ]
        }
      ]
    },
    {
      "cell_type": "code",
      "source": [
        "# convertTo16Bit('dataset')\n",
        "# eliminate_noise('clean_noise/tiger.wav', 'tiger')"
      ],
      "metadata": {
        "id": "vjPAwkQJSVxi"
      },
      "execution_count": null,
      "outputs": []
    },
    {
      "cell_type": "markdown",
      "source": [
        "# Main model building\n",
        "### Test16BITSMM07257_20221118_163302_annotated_16BIT.wav"
      ],
      "metadata": {
        "id": "yrs6NMQWsACB"
      }
    },
    {
      "cell_type": "code",
      "source": [
        "!ls"
      ],
      "metadata": {
        "colab": {
          "base_uri": "https://localhost:8080/"
        },
        "id": "O0l3YBut7FFG",
        "outputId": "300257c8-aaf1-4930-9d90-d53f5cd2a37b"
      },
      "execution_count": null,
      "outputs": [
        {
          "output_type": "stream",
          "name": "stdout",
          "text": [
            "drive  sample_data  Test  Test16BITSMM07257_20221118_163302_annotated_16BIT.wav\n"
          ]
        }
      ]
    },
    {
      "cell_type": "code",
      "source": [
        "#upload moan data (3 sec audio), them create Moan folder, then move them to Moan folder\n",
        "!mv /content/*.wav /content/Saw"
      ],
      "metadata": {
        "id": "QAsDdcf1-zrv"
      },
      "execution_count": null,
      "outputs": []
    },
    {
      "cell_type": "code",
      "source": [],
      "metadata": {
        "id": "V4pGyl6M_MEq"
      },
      "execution_count": null,
      "outputs": []
    },
    {
      "cell_type": "code",
      "source": [
        "!mv /content/*.wav /content/NoSaw"
      ],
      "metadata": {
        "id": "Gg1lIdRx_pZL",
        "colab": {
          "base_uri": "https://localhost:8080/"
        },
        "outputId": "15d7b072-125d-4dee-e17a-83b6d108dd24"
      },
      "execution_count": null,
      "outputs": [
        {
          "output_type": "stream",
          "name": "stdout",
          "text": [
            "mv: cannot stat '/content/*.wav': No such file or directory\n"
          ]
        }
      ]
    },
    {
      "cell_type": "code",
      "source": [
        "#Storing samples from each class for test runs\n",
        "\n",
        "LEOPARD_FILE = \"/content/drive/MyDrive/Leopard/Saw/Test16BITSMM07257_20221118_033302_16BIT_621.wav\"\n",
        "NOT_LEOPARD_FILE = \"/content/drive/MyDrive/Leopard/NoSaw/Test16BITSMM07257_20221118_063302_16BIT_137.wav\""
      ],
      "metadata": {
        "id": "J-jRmcQnsNds"
      },
      "execution_count": 12,
      "outputs": []
    },
    {
      "cell_type": "code",
      "source": [
        "#Loading test files and assigning them to variables\n",
        "wave = load_wav_16k_mono(LEOPARD_FILE)\n",
        "nwave= load_wav_16k_mono(NOT_LEOPARD_FILE)"
      ],
      "metadata": {
        "id": "nSHGzWyysNxx"
      },
      "execution_count": 13,
      "outputs": []
    },
    {
      "cell_type": "code",
      "source": [
        "#Plotting example positive and negative samples\n",
        "plt.plot(wave)\n",
        "plt.plot(nwave)\n",
        "plt.show()"
      ],
      "metadata": {
        "colab": {
          "base_uri": "https://localhost:8080/",
          "height": 269
        },
        "id": "QpNKwL9ysN3X",
        "outputId": "c6580cbb-2574-46d1-9442-fd161856645c"
      },
      "execution_count": 14,
      "outputs": [
        {
          "output_type": "display_data",
          "data": {
            "text/plain": [
              "<Figure size 432x288 with 1 Axes>"
            ],
            "image/png": "[encoded data removed]"
          },
          "metadata": {
            "needs_background": "light"
          }
        }
      ]
    },
    {
      "cell_type": "code",
      "source": [
        "!ls /content/Moan16BIT/"
      ],
      "metadata": {
        "colab": {
          "base_uri": "https://localhost:8080/"
        },
        "id": "VVKXUeQjrpnM",
        "outputId": "d85d9b75-3d19-4d9a-d579-2d887f985cc7"
      },
      "execution_count": null,
      "outputs": [
        {
          "output_type": "stream",
          "name": "stdout",
          "text": [
            "ls: cannot access '/content/Moan16BIT/': No such file or directory\n"
          ]
        }
      ]
    },
    {
      "cell_type": "code",
      "source": [
        "#This creates a dataset from the positive and negative samples and loads them onto two variables\n",
        "\n",
        "# this the folder for the imgs\n",
        "pos = tf.data.Dataset.list_files('/content/drive/MyDrive/Leopard/Saw/*.wav')\n",
        "neg = tf.data.Dataset.list_files('/content/drive/MyDrive/Leopard/NoSaw/*.wav')"
      ],
      "metadata": {
        "id": "JZgWI329sN9Q"
      },
      "execution_count": 15,
      "outputs": []
    },
    {
      "cell_type": "code",
      "source": [
        "len(pos), len(neg)"
      ],
      "metadata": {
        "colab": {
          "base_uri": "https://localhost:8080/"
        },
        "id": "zJvWtOSjMorq",
        "outputId": "99a9e585-4768-493f-c731-d568a35ffe8c"
      },
      "execution_count": 16,
      "outputs": [
        {
          "output_type": "execute_result",
          "data": {
            "text/plain": [
              "(100, 100)"
            ]
          },
          "metadata": {},
          "execution_count": 16
        }
      ]
    },
    {
      "cell_type": "code",
      "source": [
        "#Adding samples labels to each sample set. potsitive examples are assigned label '1' and negative samples are assigned label '0'\n",
        "positives = tf.data.Dataset.zip((pos, tf.data.Dataset.from_tensor_slices(tf.ones(len(pos)))))\n",
        "negatives = tf.data.Dataset.zip((neg, tf.data.Dataset.from_tensor_slices(tf.zeros(len(neg)))))\n",
        "#Consolidating all samples under one variable sequentially\n",
        "data = positives.concatenate(negatives)\n",
        "data.as_numpy_iterator().next() , len(data)"
      ],
      "metadata": {
        "id": "Kv2Ne2I-4kUM",
        "colab": {
          "base_uri": "https://localhost:8080/"
        },
        "outputId": "eff02740-7980-45ba-a020-2e8f4aa1a48e"
      },
      "execution_count": 17,
      "outputs": [
        {
          "output_type": "execute_result",
          "data": {
            "text/plain": [
              "((b'/content/drive/MyDrive/Leopard/Saw/Test16BITSMM07257_20221118_063302_16BIT_329.wav',\n",
              "  1.0),\n",
              " 200)"
            ]
          },
          "metadata": {},
          "execution_count": 17
        }
      ]
    },
    {
      "cell_type": "code",
      "source": [
        "negatives.as_numpy_iterator().next() "
      ],
      "metadata": {
        "colab": {
          "base_uri": "https://localhost:8080/"
        },
        "id": "FttCThT-G9Oa",
        "outputId": "4b1e8c9c-9141-450a-ab8c-c6a957c7edb5"
      },
      "execution_count": 18,
      "outputs": [
        {
          "output_type": "execute_result",
          "data": {
            "text/plain": [
              "(b'/content/drive/MyDrive/Leopard/NoSaw/Test16BITSMM07257_20221118_203302_annotated_16BIT_469.wav',\n",
              " 0.0)"
            ]
          },
          "metadata": {},
          "execution_count": 18
        }
      ]
    },
    {
      "cell_type": "code",
      "source": [
        "#This function loads an audio clip and converts it to a spectrogram for further processing\n",
        "\n",
        "def preprocess(file_path, label): \n",
        "    print(file_path)\n",
        "    wav = load_wav_16k_mono(file_path)\n",
        "    spectrogram = tf.signal.stft(wav, frame_length=320, frame_step=320, window_fn=None)\n",
        "    spectrogram = tf.abs(spectrogram)\n",
        "    spectrogram = tf.expand_dims(spectrogram, axis=2)\n",
        "    # print(spectrogram, label)\n",
        "    return spectrogram, label"
      ],
      "metadata": {
        "id": "r3T5PDUp4kb7"
      },
      "execution_count": 19,
      "outputs": []
    },
    {
      "cell_type": "code",
      "source": [
        "#Extracting one sample and plotting it's spectrogram for analysis\n",
        "\n",
        "filepath, label = positives.shuffle(buffer_size=10000).as_numpy_iterator().next()\n",
        "print(filepath, \" | \", label)\n",
        "spectrogram, label = preprocess(filepath, label)\n",
        "\n",
        "plt.figure(figsize=(20,10))\n",
        "plt.imshow(tf.transpose(spectrogram)[0])\n",
        "plt.show()"
      ],
      "metadata": {
        "colab": {
          "base_uri": "https://localhost:8080/",
          "height": 628
        },
        "id": "fwy72N5o4knt",
        "outputId": "d6769cfc-02bd-49bc-e599-368c2ce51ead"
      },
      "execution_count": 20,
      "outputs": [
        {
          "output_type": "stream",
          "name": "stdout",
          "text": [
            "b'/content/drive/MyDrive/Leopard/Saw/Test16BITSMM07257_20221118_063302_16BIT_280.wav'  |  1.0\n",
            "b'/content/drive/MyDrive/Leopard/Saw/Test16BITSMM07257_20221118_063302_16BIT_280.wav'\n"
          ]
        },
        {
          "output_type": "display_data",
          "data": {
            "text/plain": [
              "<Figure size 1440x720 with 1 Axes>"
            ],
            "image/png": "[encoded data removed]"
          },
          "metadata": {
            "needs_background": "light"
          }
        }
      ]
    },
    {
      "cell_type": "code",
      "source": [
        "# for i in data:\n",
        "#   filepath, label = data.as_numpy_iterator().next()\n",
        "#   print(filepath, \" | \", label )\n",
        "list(data.as_numpy_iterator())"
      ],
      "metadata": {
        "colab": {
          "base_uri": "https://localhost:8080/"
        },
        "id": "41ZgiB7tFA83",
        "outputId": "5b36527d-575a-484b-df40-2851a9bd0b47"
      },
      "execution_count": 21,
      "outputs": [
        {
          "output_type": "execute_result",
          "data": {
            "text/plain": [
              "[(b'/content/drive/MyDrive/Leopard/Saw/Test16BITSMM07257_20221118_203302_annotated_16BIT_377.wav',\n",
              "  1.0),\n",
              " (b'/content/drive/MyDrive/Leopard/Saw/Test16BITSMM07257_20221118_063302_16BIT_828.wav',\n",
              "  1.0),\n",
              " (b'/content/drive/MyDrive/Leopard/Saw/Test16BITSMM07257_20221118_033302_16BIT_651.wav',\n",
              "  1.0),\n",
              " (b'/content/drive/MyDrive/Leopard/Saw/Test16BITSMM07257_20221119_153302_16BIT_994.wav',\n",
              "  1.0),\n",
              " (b'/content/drive/MyDrive/Leopard/Saw/Test16BITSMM07257_20221118_163302_annotated_16BIT_808.wav',\n",
              "  1.0),\n",
              " (b'/content/drive/MyDrive/Leopard/Saw/Test16BITSMM07257_20221118_063302_16BIT_355.wav',\n",
              "  1.0),\n",
              " (b'/content/drive/MyDrive/Leopard/Saw/Test16BITSMM07257_20221118_163302_annotated_16BIT_809.wav',\n",
              "  1.0),\n",
              " (b'/content/drive/MyDrive/Leopard/Saw/Test16BITSMM07257_20221118_063302_16BIT_328.wav',\n",
              "  1.0),\n",
              " (b'/content/drive/MyDrive/Leopard/Saw/Test16BITSMM07257_20221119_153302_16BIT_868.wav',\n",
              "  1.0),\n",
              " (b'/content/drive/MyDrive/Leopard/Saw/Test16BITSMM07257_20221118_163302_annotated_16BIT_10590.wav',\n",
              "  1.0),\n",
              " (b'/content/drive/MyDrive/Leopard/Saw/Test16BITSMM07257_20221118_063302_16BIT_202.wav',\n",
              "  1.0),\n",
              " (b'/content/drive/MyDrive/Leopard/Saw/Test16BITSMM07257_20221118_163302_annotated_16BIT_810.wav',\n",
              "  1.0),\n",
              " (b'/content/drive/MyDrive/Leopard/Saw/Test16BITSMM07257_20221119_153302_16BIT_1098.wav',\n",
              "  1.0),\n",
              " (b'/content/drive/MyDrive/Leopard/Saw/Test16BITSMM07257_20221119_153302_16BIT_1073.wav',\n",
              "  1.0),\n",
              " (b'/content/drive/MyDrive/Leopard/Saw/Test16BITSMM07257_20221118_163302_annotated_16BIT_1057.wav',\n",
              "  1.0),\n",
              " (b'/content/drive/MyDrive/Leopard/Saw/Test16BITSMM07257_20221119_153302_16BIT_1074.wav',\n",
              "  1.0),\n",
              " (b'/content/drive/MyDrive/Leopard/Saw/Test16BITSMM07257_20221118_063302_16BIT_41.wav',\n",
              "  1.0),\n",
              " (b'/content/drive/MyDrive/Leopard/Saw/Test16BITSMM07257_20221119_153302_16BIT_1089.wav',\n",
              "  1.0),\n",
              " (b'/content/drive/MyDrive/Leopard/Saw/Test16BITSMM07257_20221118_203302_annotated_16BIT_373.wav',\n",
              "  1.0),\n",
              " (b'/content/drive/MyDrive/Leopard/Saw/Test16BITSMM07257_20221118_063302_16BIT_280.wav',\n",
              "  1.0),\n",
              " (b'/content/drive/MyDrive/Leopard/Saw/Test16BITSMM07257_20221118_063302_16BIT_560.wav',\n",
              "  1.0),\n",
              " (b'/content/drive/MyDrive/Leopard/Saw/Test16BITSMM07257_20221119_153302_16BIT_992.wav',\n",
              "  1.0),\n",
              " (b'/content/drive/MyDrive/Leopard/Saw/Test16BITSMM07257_20221119_153302_16BIT_890.wav',\n",
              "  1.0),\n",
              " (b'/content/drive/MyDrive/Leopard/Saw/Test16BITSMM07257_20221118_163302_annotated_16BIT_10580.wav',\n",
              "  1.0),\n",
              " (b'/content/drive/MyDrive/Leopard/Saw/Test16BITSMM07257_20221118_063302_16BIT_50.wav',\n",
              "  1.0),\n",
              " (b'/content/drive/MyDrive/Leopard/Saw/Test16BITSMM07257_20221119_153302_16BIT_889.wav',\n",
              "  1.0),\n",
              " (b'/content/drive/MyDrive/Leopard/Saw/Test16BITSMM07257_20221118_163302_annotated_16BIT_811.wav',\n",
              "  1.0),\n",
              " (b'/content/drive/MyDrive/Leopard/Saw/Test16BITSMM07257_20221119_153302_16BIT_1096.wav',\n",
              "  1.0),\n",
              " (b'/content/drive/MyDrive/Leopard/Saw/Test16BITSMM07257_20221119_153302_16BIT_1088.wav',\n",
              "  1.0),\n",
              " (b'/content/drive/MyDrive/Leopard/Saw/Test16BITSMM07257_20221124_053317_16BIT_215.wav',\n",
              "  1.0),\n",
              " (b'/content/drive/MyDrive/Leopard/Saw/Test16BITSMM07257_20221119_053302_16BIT_1077.wav',\n",
              "  1.0),\n",
              " (b'/content/drive/MyDrive/Leopard/Saw/Test16BITSMM07257_20221119_153302_16BIT_1087.wav',\n",
              "  1.0),\n",
              " (b'/content/drive/MyDrive/Leopard/Saw/Test16BITSMM07257_20221119_053302_16BIT_896.wav',\n",
              "  1.0),\n",
              " (b'/content/drive/MyDrive/Leopard/Saw/Test16BITSMM07257_20221118_063302_16BIT_161.wav',\n",
              "  1.0),\n",
              " (b'/content/drive/MyDrive/Leopard/Saw/Test16BITSMM07257_20221118_203302_annotated_16BIT_3750.wav',\n",
              "  1.0),\n",
              " (b'/content/drive/MyDrive/Leopard/Saw/Test16BITSMM07257_20221118_063302_16BIT_51.wav',\n",
              "  1.0),\n",
              " (b'/content/drive/MyDrive/Leopard/Saw/Test16BITSMM07257_20221118_063302_16BIT_955.wav',\n",
              "  1.0),\n",
              " (b'/content/drive/MyDrive/Leopard/Saw/Test16BITSMM07257_20221118_063302_16BIT_53.wav',\n",
              "  1.0),\n",
              " (b'/content/drive/MyDrive/Leopard/Saw/Test16BITSMM07257_20221118_033302_16BIT_650.wav',\n",
              "  1.0),\n",
              " (b'/content/drive/MyDrive/Leopard/Saw/Test16BITSMM07257_20221118_203302_annotated_16BIT_372.wav',\n",
              "  1.0),\n",
              " (b'/content/drive/MyDrive/Leopard/Saw/Test16BITSMM07257_20221119_153302_16BIT_995.wav',\n",
              "  1.0),\n",
              " (b'/content/drive/MyDrive/Leopard/Saw/Test16BITSMM07257_20221118_033302_16BIT_648.wav',\n",
              "  1.0),\n",
              " (b'/content/drive/MyDrive/Leopard/Saw/Test16BITSMM07257_20221118_203302_annotated_16BIT_376.wav',\n",
              "  1.0),\n",
              " (b'/content/drive/MyDrive/Leopard/Saw/Test16BITSMM07257_20221118_063302_16BIT_329.wav',\n",
              "  1.0),\n",
              " (b'/content/drive/MyDrive/Leopard/Saw/Test16BITSMM07257_20221119_153302_16BIT_993.wav',\n",
              "  1.0),\n",
              " (b'/content/drive/MyDrive/Leopard/Saw/Test16BITSMM07257_20221124_053317_16BIT_373.wav',\n",
              "  1.0),\n",
              " (b'/content/drive/MyDrive/Leopard/Saw/Test16BITSMM07257_20221118_203302_annotated_16BIT_3740.wav',\n",
              "  1.0),\n",
              " (b'/content/drive/MyDrive/Leopard/Saw/Test16BITSMM07257_20221118_063302_16BIT_72.wav',\n",
              "  1.0),\n",
              " (b'/content/drive/MyDrive/Leopard/Saw/Test16BITSMM07257_20221118_203302_annotated_16BIT_3730.wav',\n",
              "  1.0),\n",
              " (b'/content/drive/MyDrive/Leopard/Saw/Test16BITSMM07257_20221118_163302_annotated_16BIT_1059.wav',\n",
              "  1.0),\n",
              " (b'/content/drive/MyDrive/Leopard/Saw/Test16BITSMM07257_20221118_203302_annotated_16BIT_375.wav',\n",
              "  1.0),\n",
              " (b'/content/drive/MyDrive/Leopard/Saw/Test16BITSMM07257_20221118_063302_16BIT_845.wav',\n",
              "  1.0),\n",
              " (b'/content/drive/MyDrive/Leopard/Saw/Test16BITSMM07257_20221118_063302_16BIT_767.wav',\n",
              "  1.0),\n",
              " (b'/content/drive/MyDrive/Leopard/Saw/Test16BITSMM07257_20221118_033302_16BIT_652.wav',\n",
              "  1.0),\n",
              " (b'/content/drive/MyDrive/Leopard/Saw/Test16BITSMM07257_20221124_053317_16BIT_214.wav',\n",
              "  1.0),\n",
              " (b'/content/drive/MyDrive/Leopard/Saw/Test16BITSMM07257_20221118_063302_16BIT_52.wav',\n",
              "  1.0),\n",
              " (b'/content/drive/MyDrive/Leopard/Saw/Test16BITSMM07257_20221118_063302_16BIT_954.wav',\n",
              "  1.0),\n",
              " (b'/content/drive/MyDrive/Leopard/Saw/Test16BITSMM07257_20221124_053317_16BIT_375.wav',\n",
              "  1.0),\n",
              " (b'/content/drive/MyDrive/Leopard/Saw/Test16BITSMM07257_20221118_163302_annotated_16BIT_812.wav',\n",
              "  1.0),\n",
              " (b'/content/drive/MyDrive/Leopard/Saw/Test16BITSMM07257_20221119_153302_16BIT_850.wav',\n",
              "  1.0),\n",
              " (b'/content/drive/MyDrive/Leopard/Saw/Test16BITSMM07257_20221119_153302_16BIT_1090.wav',\n",
              "  1.0),\n",
              " (b'/content/drive/MyDrive/Leopard/Saw/Test16BITSMM07257_20221118_063302_16BIT_847.wav',\n",
              "  1.0),\n",
              " (b'/content/drive/MyDrive/Leopard/Saw/Test16BITSMM07257_20221118_063302_16BIT_54.wav',\n",
              "  1.0),\n",
              " (b'/content/drive/MyDrive/Leopard/Saw/Test16BITSMM07257_20221119_153302_16BIT_880.wav',\n",
              "  1.0),\n",
              " (b'/content/drive/MyDrive/Leopard/Saw/Test16BITSMM07257_20221118_163302_annotated_16BIT_1054.wav',\n",
              "  1.0),\n",
              " (b'/content/drive/MyDrive/Leopard/Saw/Test16BITSMM07257_20221119_153302_16BIT_851.wav',\n",
              "  1.0),\n",
              " (b'/content/drive/MyDrive/Leopard/Saw/Test16BITSMM07257_20221119_053302_16BIT_899.wav',\n",
              "  1.0),\n",
              " (b'/content/drive/MyDrive/Leopard/Saw/Test16BITSMM07257_20221119_153302_16BIT_1076.wav',\n",
              "  1.0),\n",
              " (b'/content/drive/MyDrive/Leopard/Saw/Test16BITSMM07257_20221119_153302_16BIT_1099.wav',\n",
              "  1.0),\n",
              " (b'/content/drive/MyDrive/Leopard/Saw/Test16BITSMM07257_20221118_203302_annotated_16BIT_3720.wav',\n",
              "  1.0),\n",
              " (b'/content/drive/MyDrive/Leopard/Saw/Test16BITSMM07257_20221119_153302_16BIT_1097.wav',\n",
              "  1.0),\n",
              " (b'/content/drive/MyDrive/Leopard/Saw/Test16BITSMM07257_20221118_063302_16BIT_73.wav',\n",
              "  1.0),\n",
              " (b'/content/drive/MyDrive/Leopard/Saw/Test16BITSMM07257_20221118_063302_16BIT_582.wav',\n",
              "  1.0),\n",
              " (b'/content/drive/MyDrive/Leopard/Saw/Test16BITSMM07257_20221119_053302_16BIT_900.wav',\n",
              "  1.0),\n",
              " (b'/content/drive/MyDrive/Leopard/Saw/Test16BITSMM07257_20221119_153302_16BIT_869.wav',\n",
              "  1.0),\n",
              " (b'/content/drive/MyDrive/Leopard/Saw/Test16BITSMM07257_20221119_153302_16BIT_852.wav',\n",
              "  1.0),\n",
              " (b'/content/drive/MyDrive/Leopard/Saw/Test16BITSMM07257_20221119_153302_16BIT_970.wav',\n",
              "  1.0),\n",
              " (b'/content/drive/MyDrive/Leopard/Saw/Test16BITSMM07257_20221118_063302_16BIT_766.wav',\n",
              "  1.0),\n",
              " (b'/content/drive/MyDrive/Leopard/Saw/Test16BITSMM07257_20221119_053302_16BIT_1147.wav',\n",
              "  1.0),\n",
              " (b'/content/drive/MyDrive/Leopard/Saw/Test16BITSMM07257_20221118_033302_16BIT_622.wav',\n",
              "  1.0),\n",
              " (b'/content/drive/MyDrive/Leopard/Saw/Test16BITSMM07257_20221119_153302_16BIT_968.wav',\n",
              "  1.0),\n",
              " (b'/content/drive/MyDrive/Leopard/Saw/Test16BITSMM07257_20221118_163302_annotated_16BIT_1061.wav',\n",
              "  1.0),\n",
              " (b'/content/drive/MyDrive/Leopard/Saw/Test16BITSMM07257_20221118_063302_16BIT_482.wav',\n",
              "  1.0),\n",
              " (b'/content/drive/MyDrive/Leopard/Saw/Test16BITSMM07257_20221119_153302_16BIT_969.wav',\n",
              "  1.0),\n",
              " (b'/content/drive/MyDrive/Leopard/Saw/Test16BITSMM07257_20221118_063302_16BIT_49.wav',\n",
              "  1.0),\n",
              " (b'/content/drive/MyDrive/Leopard/Saw/Test16BITSMM07257_20221119_153302_16BIT_879.wav',\n",
              "  1.0),\n",
              " (b'/content/drive/MyDrive/Leopard/Saw/Test16BITSMM07257_20221119_053302_16BIT_831.wav',\n",
              "  1.0),\n",
              " (b'/content/drive/MyDrive/Leopard/Saw/Test16BITSMM07257_20221119_153302_16BIT_1075.wav',\n",
              "  1.0),\n",
              " (b'/content/drive/MyDrive/Leopard/Saw/Test16BITSMM07257_20221118_163302_annotated_16BIT_813.wav',\n",
              "  1.0),\n",
              " (b'/content/drive/MyDrive/Leopard/Saw/Test16BITSMM07257_20221118_163302_annotated_16BIT_10610.wav',\n",
              "  1.0),\n",
              " (b'/content/drive/MyDrive/Leopard/Saw/Test16BITSMM07257_20221119_153302_16BIT_870.wav',\n",
              "  1.0),\n",
              " (b'/content/drive/MyDrive/Leopard/Saw/Test16BITSMM07257_20221118_203302_annotated_16BIT_374.wav',\n",
              "  1.0),\n",
              " (b'/content/drive/MyDrive/Leopard/Saw/Test16BITSMM07257_20221118_063302_16BIT_483.wav',\n",
              "  1.0),\n",
              " (b'/content/drive/MyDrive/Leopard/Saw/Test16BITSMM07257_20221118_063302_16BIT_846.wav',\n",
              "  1.0),\n",
              " (b'/content/drive/MyDrive/Leopard/Saw/Test16BITSMM07257_20221118_063302_16BIT_956.wav',\n",
              "  1.0),\n",
              " (b'/content/drive/MyDrive/Leopard/Saw/Test16BITSMM07257_20221118_033302_16BIT_621.wav',\n",
              "  1.0),\n",
              " (b'/content/drive/MyDrive/Leopard/Saw/Test16BITSMM07257_20221118_163302_annotated_16BIT_1058.wav',\n",
              "  1.0),\n",
              " (b'/content/drive/MyDrive/Leopard/Saw/Test16BITSMM07257_20221118_063302_16BIT_30.wav',\n",
              "  1.0),\n",
              " (b'/content/drive/MyDrive/Leopard/Saw/Test16BITSMM07257_20221119_153302_16BIT_888.wav',\n",
              "  1.0),\n",
              " (b'/content/drive/MyDrive/Leopard/Saw/Test16BITSMM07257_20221118_063302_16BIT_74.wav',\n",
              "  1.0),\n",
              " (b'/content/drive/MyDrive/Leopard/NoSaw/Test16BITSMM07257_20221118_163302_annotated_16BIT_24.wav',\n",
              "  0.0),\n",
              " (b'/content/drive/MyDrive/Leopard/NoSaw/Test16BITSMM07257_20221118_063302_16BIT_176.wav',\n",
              "  0.0),\n",
              " (b'/content/drive/MyDrive/Leopard/NoSaw/Test16BITSMM07257_20221118_063302_16BIT_182.wav',\n",
              "  0.0),\n",
              " (b'/content/drive/MyDrive/Leopard/NoSaw/Test16BITSMM07257_20221124_053317_16BIT_372.wav',\n",
              "  0.0),\n",
              " (b'/content/drive/MyDrive/Leopard/NoSaw/Test16BITSMM07257_20221118_163302_annotated_16BIT_40.wav',\n",
              "  0.0),\n",
              " (b'/content/drive/MyDrive/Leopard/NoSaw/Test16BITSMM07257_20221118_163302_annotated_16BIT_92.wav',\n",
              "  0.0),\n",
              " (b'/content/drive/MyDrive/Leopard/NoSaw/Test16BITSMM07257_20221118_163302_annotated_16BIT_23.wav',\n",
              "  0.0),\n",
              " (b'/content/drive/MyDrive/Leopard/NoSaw/Test16BITSMM07257_20221118_063302_16BIT_274.wav',\n",
              "  0.0),\n",
              " (b'/content/drive/MyDrive/Leopard/NoSaw/Test16BITSMM07257_20221118_063302_16BIT_163.wav',\n",
              "  0.0),\n",
              " (b'/content/drive/MyDrive/Leopard/NoSaw/Test16BITSMM07257_20221119_153302_16BIT_1133.wav',\n",
              "  0.0),\n",
              " (b'/content/drive/MyDrive/Leopard/NoSaw/Test16BITSMM07257_20221124_053317_16BIT_213.wav',\n",
              "  0.0),\n",
              " (b'/content/drive/MyDrive/Leopard/NoSaw/Test16BITSMM07257_20221119_153302_16BIT_1038.wav',\n",
              "  0.0),\n",
              " (b'/content/drive/MyDrive/Leopard/NoSaw/Test16BITSMM07257_20221118_063302_16BIT_134.wav',\n",
              "  0.0),\n",
              " (b'/content/drive/MyDrive/Leopard/NoSaw/Test16BITSMM07257_20221119_153302_16BIT_956.wav',\n",
              "  0.0),\n",
              " (b'/content/drive/MyDrive/Leopard/NoSaw/Test16BITSMM07257_20221118_063302_16BIT_264.wav',\n",
              "  0.0),\n",
              " (b'/content/drive/MyDrive/Leopard/NoSaw/Test16BITSMM07257_20221118_063302_16BIT_179.wav',\n",
              "  0.0),\n",
              " (b'/content/drive/MyDrive/Leopard/NoSaw/Test16BITSMM07257_20221118_063302_16BIT_140.wav',\n",
              "  0.0),\n",
              " (b'/content/drive/MyDrive/Leopard/NoSaw/Test16BITSMM07257_20221118_063302_16BIT_273.wav',\n",
              "  0.0),\n",
              " (b'/content/drive/MyDrive/Leopard/NoSaw/Test16BITSMM07257_20221118_063302_16BIT_132.wav',\n",
              "  0.0),\n",
              " (b'/content/drive/MyDrive/Leopard/NoSaw/Test16BITSMM07257_20221119_153302_16BIT_1031.wav',\n",
              "  0.0),\n",
              " (b'/content/drive/MyDrive/Leopard/NoSaw/Test16BITSMM07257_20221118_063302_16BIT_268.wav',\n",
              "  0.0),\n",
              " (b'/content/drive/MyDrive/Leopard/NoSaw/Test16BITSMM07257_20221118_203302_annotated_16BIT_465.wav',\n",
              "  0.0),\n",
              " (b'/content/drive/MyDrive/Leopard/NoSaw/Test16BITSMM07257_20221118_203302_annotated_16BIT_464.wav',\n",
              "  0.0),\n",
              " (b'/content/drive/MyDrive/Leopard/NoSaw/Test16BITSMM07257_20221118_163302_annotated_16BIT_130.wav',\n",
              "  0.0),\n",
              " (b'/content/drive/MyDrive/Leopard/NoSaw/Test16BITSMM07257_20221119_153302_16BIT_988.wav',\n",
              "  0.0),\n",
              " (b'/content/drive/MyDrive/Leopard/NoSaw/Test16BITSMM07257_20221118_063302_16BIT_233.wav',\n",
              "  0.0),\n",
              " (b'/content/drive/MyDrive/Leopard/NoSaw/Test16BITSMM07257_20221119_153302_16BIT_1018.wav',\n",
              "  0.0),\n",
              " (b'/content/drive/MyDrive/Leopard/NoSaw/Test16BITSMM07257_20221119_153302_16BIT_1130.wav',\n",
              "  0.0),\n",
              " (b'/content/drive/MyDrive/Leopard/NoSaw/Test16BITSMM07257_20221118_063302_16BIT_230.wav',\n",
              "  0.0),\n",
              " (b'/content/drive/MyDrive/Leopard/NoSaw/Test16BITSMM07257_20221119_153302_16BIT_1123.wav',\n",
              "  0.0),\n",
              " (b'/content/drive/MyDrive/Leopard/NoSaw/Test16BITSMM07257_20221118_203302_annotated_16BIT_467.wav',\n",
              "  0.0),\n",
              " (b'/content/drive/MyDrive/Leopard/NoSaw/Test16BITSMM07257_20221118_063302_16BIT_229.wav',\n",
              "  0.0),\n",
              " (b'/content/drive/MyDrive/Leopard/NoSaw/Test16BITSMM07257_20221118_063302_16BIT_248.wav',\n",
              "  0.0),\n",
              " (b'/content/drive/MyDrive/Leopard/NoSaw/Test16BITSMM07257_20221118_203302_annotated_16BIT_469.wav',\n",
              "  0.0),\n",
              " (b'/content/drive/MyDrive/Leopard/NoSaw/Test16BITSMM07257_20221124_053317_16BIT_212.wav',\n",
              "  0.0),\n",
              " (b'/content/drive/MyDrive/Leopard/NoSaw/Test16BITSMM07257_20221118_063302_16BIT_196.wav',\n",
              "  0.0),\n",
              " (b'/content/drive/MyDrive/Leopard/NoSaw/Test16BITSMM07257_20221118_063302_16BIT_200.wav',\n",
              "  0.0),\n",
              " (b'/content/drive/MyDrive/Leopard/NoSaw/Test16BITSMM07257_20221119_153302_16BIT_990.wav',\n",
              "  0.0),\n",
              " (b'/content/drive/MyDrive/Leopard/NoSaw/Test16BITSMM07257_20221118_063302_16BIT_192.wav',\n",
              "  0.0),\n",
              " (b'/content/drive/MyDrive/Leopard/NoSaw/Test16BITSMM07257_20221118_203302_annotated_16BIT_466.wav',\n",
              "  0.0),\n",
              " (b'/content/drive/MyDrive/Leopard/NoSaw/Test16BITSMM07257_20221118_063302_16BIT_259.wav',\n",
              "  0.0),\n",
              " (b'/content/drive/MyDrive/Leopard/NoSaw/Test16BITSMM07257_20221119_153302_16BIT_1144.wav',\n",
              "  0.0),\n",
              " (b'/content/drive/MyDrive/Leopard/NoSaw/Test16BITSMM07257_20221119_153302_16BIT_1103.wav',\n",
              "  0.0),\n",
              " (b'/content/drive/MyDrive/Leopard/NoSaw/Test16BITSMM07257_20221118_063302_16BIT_257.wav',\n",
              "  0.0),\n",
              " (b'/content/drive/MyDrive/Leopard/NoSaw/Test16BITSMM07257_20221118_063302_16BIT_175.wav',\n",
              "  0.0),\n",
              " (b'/content/drive/MyDrive/Leopard/NoSaw/Test16BITSMM07257_20221118_063302_16BIT_178.wav',\n",
              "  0.0),\n",
              " (b'/content/drive/MyDrive/Leopard/NoSaw/Test16BITSMM07257_20221118_063302_16BIT_138.wav',\n",
              "  0.0),\n",
              " (b'/content/drive/MyDrive/Leopard/NoSaw/Test16BITSMM07257_20221118_063302_16BIT_287.wav',\n",
              "  0.0),\n",
              " (b'/content/drive/MyDrive/Leopard/NoSaw/Test16BITSMM07257_20221119_153302_16BIT_987.wav',\n",
              "  0.0),\n",
              " (b'/content/drive/MyDrive/Leopard/NoSaw/Test16BITSMM07257_20221118_063302_16BIT_139.wav',\n",
              "  0.0),\n",
              " (b'/content/drive/MyDrive/Leopard/NoSaw/Test16BITSMM07257_20221118_063302_16BIT_197.wav',\n",
              "  0.0),\n",
              " (b'/content/drive/MyDrive/Leopard/NoSaw/Test16BITSMM07257_20221119_153302_16BIT_949.wav',\n",
              "  0.0),\n",
              " (b'/content/drive/MyDrive/Leopard/NoSaw/Test16BITSMM07257_20221119_153302_16BIT_943.wav',\n",
              "  0.0),\n",
              " (b'/content/drive/MyDrive/Leopard/NoSaw/Test16BITSMM07257_20221118_163302_annotated_16BIT_28.wav',\n",
              "  0.0),\n",
              " (b'/content/drive/MyDrive/Leopard/NoSaw/Test16BITSMM07257_20221118_203302_annotated_16BIT_468.wav',\n",
              "  0.0),\n",
              " (b'/content/drive/MyDrive/Leopard/NoSaw/Test16BITSMM07257_20221119_153302_16BIT_1019.wav',\n",
              "  0.0),\n",
              " (b'/content/drive/MyDrive/Leopard/NoSaw/Test16BITSMM07257_20221119_153302_16BIT_1039.wav',\n",
              "  0.0),\n",
              " (b'/content/drive/MyDrive/Leopard/NoSaw/Test16BITSMM07257_20221119_153302_16BIT_991.wav',\n",
              "  0.0),\n",
              " (b'/content/drive/MyDrive/Leopard/NoSaw/Test16BITSMM07257_20221118_063302_16BIT_91.wav',\n",
              "  0.0),\n",
              " (b'/content/drive/MyDrive/Leopard/NoSaw/Test16BITSMM07257_20221119_153302_16BIT_951.wav',\n",
              "  0.0),\n",
              " (b'/content/drive/MyDrive/Leopard/NoSaw/Test16BITSMM07257_20221118_063302_16BIT_195.wav',\n",
              "  0.0),\n",
              " (b'/content/drive/MyDrive/Leopard/NoSaw/Test16BITSMM07257_20221118_063302_16BIT_275.wav',\n",
              "  0.0),\n",
              " (b'/content/drive/MyDrive/Leopard/NoSaw/Test16BITSMM07257_20221118_163302_annotated_16BIT_806.wav',\n",
              "  0.0),\n",
              " (b'/content/drive/MyDrive/Leopard/NoSaw/Test16BITSMM07257_20221118_063302_16BIT_262.wav',\n",
              "  0.0),\n",
              " (b'/content/drive/MyDrive/Leopard/NoSaw/Test16BITSMM07257_20221118_063302_16BIT_174.wav',\n",
              "  0.0),\n",
              " (b'/content/drive/MyDrive/Leopard/NoSaw/Test16BITSMM07257_20221118_063302_16BIT_256.wav',\n",
              "  0.0),\n",
              " (b'/content/drive/MyDrive/Leopard/NoSaw/Test16BITSMM07257_20221118_063302_16BIT_180.wav',\n",
              "  0.0),\n",
              " (b'/content/drive/MyDrive/Leopard/NoSaw/Test16BITSMM07257_20221118_063302_16BIT_90.wav',\n",
              "  0.0),\n",
              " (b'/content/drive/MyDrive/Leopard/NoSaw/Test16BITSMM07257_20221124_053317_16BIT_374.wav',\n",
              "  0.0),\n",
              " (b'/content/drive/MyDrive/Leopard/NoSaw/Test16BITSMM07257_20221118_163302_annotated_16BIT_21.wav',\n",
              "  0.0),\n",
              " (b'/content/drive/MyDrive/Leopard/NoSaw/Test16BITSMM07257_20221119_153302_16BIT_1122.wav',\n",
              "  0.0),\n",
              " (b'/content/drive/MyDrive/Leopard/NoSaw/Test16BITSMM07257_20221119_153302_16BIT_1102.wav',\n",
              "  0.0),\n",
              " (b'/content/drive/MyDrive/Leopard/NoSaw/Test16BITSMM07257_20221118_063302_16BIT_201.wav',\n",
              "  0.0),\n",
              " (b'/content/drive/MyDrive/Leopard/NoSaw/Test16BITSMM07257_20221119_153302_16BIT_1016.wav',\n",
              "  0.0),\n",
              " (b'/content/drive/MyDrive/Leopard/NoSaw/Test16BITSMM07257_20221118_163302_annotated_16BIT_48.wav',\n",
              "  0.0),\n",
              " (b'/content/drive/MyDrive/Leopard/NoSaw/Test16BITSMM07257_20221119_153302_16BIT_1036.wav',\n",
              "  0.0),\n",
              " (b'/content/drive/MyDrive/Leopard/NoSaw/Test16BITSMM07257_20221119_153302_16BIT_989.wav',\n",
              "  0.0),\n",
              " (b'/content/drive/MyDrive/Leopard/NoSaw/Test16BITSMM07257_20221118_063302_16BIT_286.wav',\n",
              "  0.0),\n",
              " (b'/content/drive/MyDrive/Leopard/NoSaw/Test16BITSMM07257_20221118_163302_annotated_16BIT_22.wav',\n",
              "  0.0),\n",
              " (b'/content/drive/MyDrive/Leopard/NoSaw/Test16BITSMM07257_20221119_153302_16BIT_986.wav',\n",
              "  0.0),\n",
              " (b'/content/drive/MyDrive/Leopard/NoSaw/Test16BITSMM07257_20221119_153302_16BIT_1034.wav',\n",
              "  0.0),\n",
              " (b'/content/drive/MyDrive/Leopard/NoSaw/Test16BITSMM07257_20221119_153302_16BIT_1032.wav',\n",
              "  0.0),\n",
              " (b'/content/drive/MyDrive/Leopard/NoSaw/Test16BITSMM07257_20221118_063302_16BIT_228.wav',\n",
              "  0.0),\n",
              " (b'/content/drive/MyDrive/Leopard/NoSaw/Test16BITSMM07257_20221119_153302_16BIT_1033.wav',\n",
              "  0.0),\n",
              " (b'/content/drive/MyDrive/Leopard/NoSaw/Test16BITSMM07257_20221119_153302_16BIT_941.wav',\n",
              "  0.0),\n",
              " (b'/content/drive/MyDrive/Leopard/NoSaw/Test16BITSMM07257_20221118_063302_16BIT_269.wav',\n",
              "  0.0),\n",
              " (b'/content/drive/MyDrive/Leopard/NoSaw/Test16BITSMM07257_20221118_063302_16BIT_194.wav',\n",
              "  0.0),\n",
              " (b'/content/drive/MyDrive/Leopard/NoSaw/Test16BITSMM07257_20221118_063302_16BIT_199.wav',\n",
              "  0.0),\n",
              " (b'/content/drive/MyDrive/Leopard/NoSaw/Test16BITSMM07257_20221118_063302_16BIT_137.wav',\n",
              "  0.0),\n",
              " (b'/content/drive/MyDrive/Leopard/NoSaw/Test16BITSMM07257_20221118_063302_16BIT_198.wav',\n",
              "  0.0),\n",
              " (b'/content/drive/MyDrive/Leopard/NoSaw/Test16BITSMM07257_20221118_063302_16BIT_284.wav',\n",
              "  0.0),\n",
              " (b'/content/drive/MyDrive/Leopard/NoSaw/Test16BITSMM07257_20221118_063302_16BIT_270.wav',\n",
              "  0.0),\n",
              " (b'/content/drive/MyDrive/Leopard/NoSaw/Test16BITSMM07257_20221118_063302_16BIT_249.wav',\n",
              "  0.0),\n",
              " (b'/content/drive/MyDrive/Leopard/NoSaw/Test16BITSMM07257_20221118_163302_annotated_16BIT_129.wav',\n",
              "  0.0),\n",
              " (b'/content/drive/MyDrive/Leopard/NoSaw/Test16BITSMM07257_20221118_063302_16BIT_266.wav',\n",
              "  0.0),\n",
              " (b'/content/drive/MyDrive/Leopard/NoSaw/Test16BITSMM07257_20221118_063302_16BIT_173.wav',\n",
              "  0.0),\n",
              " (b'/content/drive/MyDrive/Leopard/NoSaw/Test16BITSMM07257_20221118_063302_16BIT_272.wav',\n",
              "  0.0),\n",
              " (b'/content/drive/MyDrive/Leopard/NoSaw/Test16BITSMM07257_20221119_153302_16BIT_1030.wav',\n",
              "  0.0),\n",
              " (b'/content/drive/MyDrive/Leopard/NoSaw/Test16BITSMM07257_20221118_063302_16BIT_277.wav',\n",
              "  0.0),\n",
              " (b'/content/drive/MyDrive/Leopard/NoSaw/Test16BITSMM07257_20221118_063302_16BIT_231.wav',\n",
              "  0.0)]"
            ]
          },
          "metadata": {},
          "execution_count": 21
        }
      ]
    },
    {
      "cell_type": "code",
      "source": [
        "#Creating a data loading pipeline, that shuffles the dataset and creates batches of 16 images\n",
        "\n",
        "# data = tf.data.Dataset.map(preprocess)\n",
        "data= data.map(preprocess)\n",
        "data = data.cache()\n",
        "data = data.shuffle(buffer_size=1000)\n",
        "data = data.batch(16)\n",
        "data = data.prefetch(8)"
      ],
      "metadata": {
        "id": "LRDcDn7w4kze",
        "colab": {
          "base_uri": "https://localhost:8080/"
        },
        "outputId": "04c07b22-9a9f-4db0-830d-b49817a976b6"
      },
      "execution_count": 22,
      "outputs": [
        {
          "output_type": "stream",
          "name": "stdout",
          "text": [
            "Tensor(\"args_0:0\", shape=(), dtype=string)\n"
          ]
        },
        {
          "output_type": "stream",
          "name": "stderr",
          "text": [
            "WARNING:tensorflow:From /usr/local/lib/python3.8/dist-packages/tensorflow/python/autograph/pyct/static_analysis/liveness.py:83: Analyzer.lamba_check (from tensorflow.python.autograph.pyct.static_analysis.liveness) is deprecated and will be removed after 2023-09-23.\n",
            "Instructions for updating:\n",
            "Lambda fuctions will be no more assumed to be used in the statement where they are used, or at least in the same block. https://github.com/tensorflow/tensorflow/issues/56089\n",
            "WARNING:tensorflow:Using a while_loop for converting IO>AudioResample cause there is no registered converter for this op.\n"
          ]
        }
      ]
    },
    {
      "cell_type": "code",
      "source": [
        "len(data)"
      ],
      "metadata": {
        "colab": {
          "base_uri": "https://localhost:8080/"
        },
        "id": "5uR-m9y4hyxM",
        "outputId": "3deb6f42-53fa-4680-f3ae-625ec15e8520"
      },
      "execution_count": 23,
      "outputs": [
        {
          "output_type": "execute_result",
          "data": {
            "text/plain": [
              "13"
            ]
          },
          "metadata": {},
          "execution_count": 23
        }
      ]
    },
    {
      "cell_type": "code",
      "source": [
        "#Splitting dataset into train and test sets\n",
        "train = data.take(10)\n",
        "test = data.skip(10).take(1)"
      ],
      "metadata": {
        "id": "yYol99QH4lFq"
      },
      "execution_count": 24,
      "outputs": []
    },
    {
      "cell_type": "code",
      "source": [
        "len(train),len(test)"
      ],
      "metadata": {
        "colab": {
          "base_uri": "https://localhost:8080/"
        },
        "id": "6L0yXI-FNfCL",
        "outputId": "91642273-ccca-4048-b0bb-823820f9fe8f"
      },
      "execution_count": 25,
      "outputs": [
        {
          "output_type": "execute_result",
          "data": {
            "text/plain": [
              "(10, 1)"
            ]
          },
          "metadata": {},
          "execution_count": 25
        }
      ]
    },
    {
      "cell_type": "code",
      "source": [
        "#Extracting random example from train set\n",
        "samples, labels = train.as_numpy_iterator().next()"
      ],
      "metadata": {
        "id": "xB8dF69y4lXM"
      },
      "execution_count": 26,
      "outputs": []
    },
    {
      "cell_type": "markdown",
      "source": [],
      "metadata": {
        "id": "sP9b9EJiprnB"
      }
    },
    {
      "cell_type": "code",
      "source": [
        "#Outputs shape of example train sample. \n",
        "#This gives the input_shape for the Convolutional Neural Network\n",
        "samples.shape"
      ],
      "metadata": {
        "colab": {
          "base_uri": "https://localhost:8080/"
        },
        "id": "DZbCJSQ-4lmM",
        "outputId": "449eb42a-23ee-4b84-ce59-02000e3653f1"
      },
      "execution_count": 27,
      "outputs": [
        {
          "output_type": "execute_result",
          "data": {
            "text/plain": [
              "(16, 150, 257, 1)"
            ]
          },
          "metadata": {},
          "execution_count": 27
        }
      ]
    },
    {
      "cell_type": "code",
      "source": [
        "#Creating a sequential convolutional neural network model\n",
        "\n",
        "model = Sequential()\n",
        "model.add(Conv2D(16, (3,3), activation='relu', input_shape=(150,257,1)))\n",
        "model.add(Conv2D(5, (3,3), activation='relu'))\n",
        "model.add(Flatten())\n",
        "model.add(Dense(128, activation='relu'))\n",
        "model.add(Dense(1, activation='sigmoid'))"
      ],
      "metadata": {
        "id": "Y4-W1mtO6dbS"
      },
      "execution_count": 28,
      "outputs": []
    },
    {
      "cell_type": "code",
      "source": [
        "#Model compilation\n",
        "model.compile('Adam', loss='BinaryCrossentropy', metrics=[tf.keras.metrics.Recall(),tf.keras.metrics.Precision(), tf.keras.metrics.Accuracy()])"
      ],
      "metadata": {
        "id": "eaeBeLjh6dg1"
      },
      "execution_count": 29,
      "outputs": []
    },
    {
      "cell_type": "code",
      "source": [
        "#Outputs model summary and model parameters\n",
        "model.summary()"
      ],
      "metadata": {
        "colab": {
          "base_uri": "https://localhost:8080/"
        },
        "id": "3loaXAcT6dmR",
        "outputId": "1dc39298-e859-4774-cb71-9d476d9984ab"
      },
      "execution_count": 30,
      "outputs": [
        {
          "output_type": "stream",
          "name": "stdout",
          "text": [
            "Model: \"sequential\"\n",
            "_________________________________________________________________\n",
            " Layer (type)                Output Shape              Param #   \n",
            "=================================================================\n",
            " conv2d (Conv2D)             (None, 148, 255, 16)      160       \n",
            "                                                                 \n",
            " conv2d_1 (Conv2D)           (None, 146, 253, 5)       725       \n",
            "                                                                 \n",
            " flatten (Flatten)           (None, 184690)            0         \n",
            "                                                                 \n",
            " dense (Dense)               (None, 128)               23640448  \n",
            "                                                                 \n",
            " dense_1 (Dense)             (None, 1)                 129       \n",
            "                                                                 \n",
            "=================================================================\n",
            "Total params: 23,641,462\n",
            "Trainable params: 23,641,462\n",
            "Non-trainable params: 0\n",
            "_________________________________________________________________\n"
          ]
        }
      ]
    },
    {
      "cell_type": "code",
      "source": [
        "#Initiating training instance and storing results in 'hist' variable\n",
        "hist = model.fit(train, epochs=30, validation_data=test)"
      ],
      "metadata": {
        "colab": {
          "base_uri": "https://localhost:8080/"
        },
        "id": "l_Mfe53l6drS",
        "outputId": "99c2d4a9-bdfb-4d29-9775-5fbaf0d88145"
      },
      "execution_count": 31,
      "outputs": [
        {
          "output_type": "stream",
          "name": "stdout",
          "text": [
            "Epoch 1/30\n",
            "10/10 [==============================] - 14s 1s/step - loss: 2.0643 - recall: 0.8941 - precision: 0.6179 - accuracy: 0.3688 - val_loss: 0.8266 - val_recall: 0.5455 - val_precision: 1.0000 - val_accuracy: 0.3750\n",
            "Epoch 2/30\n",
            "10/10 [==============================] - 18s 2s/step - loss: 0.2250 - recall: 0.9012 - precision: 1.0000 - accuracy: 0.2875 - val_loss: 0.3237 - val_recall: 1.0000 - val_precision: 0.8571 - val_accuracy: 0.2500\n",
            "Epoch 3/30\n",
            "10/10 [==============================] - 12s 1s/step - loss: 0.1858 - recall: 0.9375 - precision: 0.9868 - accuracy: 0.3250 - val_loss: 0.0681 - val_recall: 1.0000 - val_precision: 1.0000 - val_accuracy: 0.1250\n",
            "Epoch 4/30\n",
            "10/10 [==============================] - 11s 1s/step - loss: 0.1056 - recall: 0.9286 - precision: 1.0000 - accuracy: 0.3375 - val_loss: 0.0433 - val_recall: 1.0000 - val_precision: 1.0000 - val_accuracy: 0.3125\n",
            "Epoch 5/30\n",
            "10/10 [==============================] - 11s 1s/step - loss: 0.0795 - recall: 0.9494 - precision: 0.9868 - accuracy: 0.3313 - val_loss: 0.1433 - val_recall: 0.8333 - val_precision: 0.8333 - val_accuracy: 0.3125\n",
            "Epoch 6/30\n",
            "10/10 [==============================] - 12s 1s/step - loss: 0.0504 - recall: 0.9759 - precision: 0.9878 - accuracy: 0.3875 - val_loss: 0.0112 - val_recall: 1.0000 - val_precision: 1.0000 - val_accuracy: 0.5000\n",
            "Epoch 7/30\n",
            "10/10 [==============================] - 11s 1s/step - loss: 0.0270 - recall: 0.9878 - precision: 1.0000 - accuracy: 0.3875 - val_loss: 0.0079 - val_recall: 1.0000 - val_precision: 1.0000 - val_accuracy: 0.3750\n",
            "Epoch 8/30\n",
            "10/10 [==============================] - 12s 1s/step - loss: 0.0111 - recall: 1.0000 - precision: 1.0000 - accuracy: 0.4062 - val_loss: 0.0054 - val_recall: 1.0000 - val_precision: 1.0000 - val_accuracy: 0.3125\n",
            "Epoch 9/30\n",
            "10/10 [==============================] - 12s 1s/step - loss: 0.0103 - recall: 1.0000 - precision: 1.0000 - accuracy: 0.3938 - val_loss: 0.0168 - val_recall: 1.0000 - val_precision: 1.0000 - val_accuracy: 0.3125\n",
            "Epoch 10/30\n",
            "10/10 [==============================] - 12s 1s/step - loss: 0.0039 - recall: 1.0000 - precision: 1.0000 - accuracy: 0.4187 - val_loss: 9.8310e-04 - val_recall: 1.0000 - val_precision: 1.0000 - val_accuracy: 0.3125\n",
            "Epoch 11/30\n",
            "10/10 [==============================] - 11s 1s/step - loss: 0.0019 - recall: 1.0000 - precision: 1.0000 - accuracy: 0.4000 - val_loss: 0.0021 - val_recall: 1.0000 - val_precision: 1.0000 - val_accuracy: 0.2500\n",
            "Epoch 12/30\n",
            "10/10 [==============================] - 12s 1s/step - loss: 0.0013 - recall: 1.0000 - precision: 1.0000 - accuracy: 0.3875 - val_loss: 7.6650e-04 - val_recall: 1.0000 - val_precision: 1.0000 - val_accuracy: 0.2500\n",
            "Epoch 13/30\n",
            "10/10 [==============================] - 13s 1s/step - loss: 0.0013 - recall: 1.0000 - precision: 1.0000 - accuracy: 0.4125 - val_loss: 9.7220e-04 - val_recall: 1.0000 - val_precision: 1.0000 - val_accuracy: 0.3125\n",
            "Epoch 14/30\n",
            "10/10 [==============================] - 11s 1s/step - loss: 9.0893e-04 - recall: 1.0000 - precision: 1.0000 - accuracy: 0.4062 - val_loss: 3.3287e-04 - val_recall: 1.0000 - val_precision: 1.0000 - val_accuracy: 0.4375\n",
            "Epoch 15/30\n",
            "10/10 [==============================] - 12s 1s/step - loss: 8.9901e-04 - recall: 1.0000 - precision: 1.0000 - accuracy: 0.3938 - val_loss: 2.4851e-04 - val_recall: 1.0000 - val_precision: 1.0000 - val_accuracy: 0.4375\n",
            "Epoch 16/30\n",
            "10/10 [==============================] - 12s 1s/step - loss: 7.2320e-04 - recall: 1.0000 - precision: 1.0000 - accuracy: 0.3875 - val_loss: 0.0012 - val_recall: 1.0000 - val_precision: 1.0000 - val_accuracy: 0.3750\n",
            "Epoch 17/30\n",
            "10/10 [==============================] - 12s 1s/step - loss: 5.0220e-04 - recall: 1.0000 - precision: 1.0000 - accuracy: 0.4187 - val_loss: 9.5707e-04 - val_recall: 1.0000 - val_precision: 1.0000 - val_accuracy: 0.3125\n",
            "Epoch 18/30\n",
            "10/10 [==============================] - 12s 1s/step - loss: 4.9707e-04 - recall: 1.0000 - precision: 1.0000 - accuracy: 0.4187 - val_loss: 1.2836e-04 - val_recall: 1.0000 - val_precision: 1.0000 - val_accuracy: 0.6250\n",
            "Epoch 19/30\n",
            "10/10 [==============================] - 12s 1s/step - loss: 4.1306e-04 - recall: 1.0000 - precision: 1.0000 - accuracy: 0.4125 - val_loss: 2.0062e-04 - val_recall: 1.0000 - val_precision: 1.0000 - val_accuracy: 0.5000\n",
            "Epoch 20/30\n",
            "10/10 [==============================] - 12s 1s/step - loss: 3.5211e-04 - recall: 1.0000 - precision: 1.0000 - accuracy: 0.3875 - val_loss: 5.5470e-04 - val_recall: 1.0000 - val_precision: 1.0000 - val_accuracy: 0.3125\n",
            "Epoch 21/30\n",
            "10/10 [==============================] - 10s 1s/step - loss: 3.8958e-04 - recall: 1.0000 - precision: 1.0000 - accuracy: 0.4125 - val_loss: 4.0738e-04 - val_recall: 1.0000 - val_precision: 1.0000 - val_accuracy: 0.4375\n",
            "Epoch 22/30\n",
            "10/10 [==============================] - 12s 1s/step - loss: 3.5918e-04 - recall: 1.0000 - precision: 1.0000 - accuracy: 0.4062 - val_loss: 4.2000e-04 - val_recall: 1.0000 - val_precision: 1.0000 - val_accuracy: 0.6875\n",
            "Epoch 23/30\n",
            "10/10 [==============================] - 13s 1s/step - loss: 3.3571e-04 - recall: 1.0000 - precision: 1.0000 - accuracy: 0.3938 - val_loss: 2.0999e-04 - val_recall: 1.0000 - val_precision: 1.0000 - val_accuracy: 0.1875\n",
            "Epoch 24/30\n",
            "10/10 [==============================] - 10s 1s/step - loss: 2.6644e-04 - recall: 1.0000 - precision: 1.0000 - accuracy: 0.3875 - val_loss: 1.1927e-04 - val_recall: 1.0000 - val_precision: 1.0000 - val_accuracy: 0.3750\n",
            "Epoch 25/30\n",
            "10/10 [==============================] - 14s 1s/step - loss: 2.4442e-04 - recall: 1.0000 - precision: 1.0000 - accuracy: 0.3938 - val_loss: 1.9677e-04 - val_recall: 1.0000 - val_precision: 1.0000 - val_accuracy: 0.5625\n",
            "Epoch 26/30\n",
            "10/10 [==============================] - 21s 2s/step - loss: 1.9774e-04 - recall: 1.0000 - precision: 1.0000 - accuracy: 0.4062 - val_loss: 1.0003e-04 - val_recall: 1.0000 - val_precision: 1.0000 - val_accuracy: 0.5625\n",
            "Epoch 27/30\n",
            "10/10 [==============================] - 12s 1s/step - loss: 2.3849e-04 - recall: 1.0000 - precision: 1.0000 - accuracy: 0.4062 - val_loss: 1.3259e-04 - val_recall: 1.0000 - val_precision: 1.0000 - val_accuracy: 0.3750\n",
            "Epoch 28/30\n",
            "10/10 [==============================] - 11s 1s/step - loss: 1.9495e-04 - recall: 1.0000 - precision: 1.0000 - accuracy: 0.3938 - val_loss: 1.7212e-04 - val_recall: 1.0000 - val_precision: 1.0000 - val_accuracy: 0.1875\n",
            "Epoch 29/30\n",
            "10/10 [==============================] - 12s 1s/step - loss: 1.9400e-04 - recall: 1.0000 - precision: 1.0000 - accuracy: 0.3812 - val_loss: 7.2030e-05 - val_recall: 1.0000 - val_precision: 1.0000 - val_accuracy: 0.5000\n",
            "Epoch 30/30\n",
            "10/10 [==============================] - 17s 2s/step - loss: 1.6088e-04 - recall: 1.0000 - precision: 1.0000 - accuracy: 0.4250 - val_loss: 3.2961e-04 - val_recall: 1.0000 - val_precision: 1.0000 - val_accuracy: 0.5625\n"
          ]
        }
      ]
    },
    {
      "cell_type": "code",
      "source": [
        "hist.history"
      ],
      "metadata": {
        "colab": {
          "base_uri": "https://localhost:8080/"
        },
        "id": "lLv-vyRSiuqW",
        "outputId": "82cc2fe6-f50e-4751-e4a8-17760e04cfad"
      },
      "execution_count": 32,
      "outputs": [
        {
          "output_type": "execute_result",
          "data": {
            "text/plain": [
              "{'loss': [2.064335584640503,\n",
              "  0.22499601542949677,\n",
              "  0.185813307762146,\n",
              "  0.10563232749700546,\n",
              "  0.0794694721698761,\n",
              "  0.050414592027664185,\n",
              "  0.02704145945608616,\n",
              "  0.011069033294916153,\n",
              "  0.010348910465836525,\n",
              "  0.003935805056244135,\n",
              "  0.001867505139671266,\n",
              "  0.001345462049357593,\n",
              "  0.001342092757113278,\n",
              "  0.0009089332888834178,\n",
              "  0.0008990123169496655,\n",
              "  0.000723200966604054,\n",
              "  0.0005021972465328872,\n",
              "  0.0004970659501850605,\n",
              "  0.00041305943159386516,\n",
              "  0.00035210768692195415,\n",
              "  0.00038958032382652164,\n",
              "  0.00035917601780965924,\n",
              "  0.0003357068635523319,\n",
              "  0.0002664425119291991,\n",
              "  0.00024441847926937044,\n",
              "  0.00019774361862801015,\n",
              "  0.00023849366698414087,\n",
              "  0.0001949459983734414,\n",
              "  0.00019400008022785187,\n",
              "  0.000160875148139894],\n",
              " 'recall': [0.8941176533699036,\n",
              "  0.9012345671653748,\n",
              "  0.9375,\n",
              "  0.9285714030265808,\n",
              "  0.949367105960846,\n",
              "  0.9759036302566528,\n",
              "  0.9878048896789551,\n",
              "  1.0,\n",
              "  1.0,\n",
              "  1.0,\n",
              "  1.0,\n",
              "  1.0,\n",
              "  1.0,\n",
              "  1.0,\n",
              "  1.0,\n",
              "  1.0,\n",
              "  1.0,\n",
              "  1.0,\n",
              "  1.0,\n",
              "  1.0,\n",
              "  1.0,\n",
              "  1.0,\n",
              "  1.0,\n",
              "  1.0,\n",
              "  1.0,\n",
              "  1.0,\n",
              "  1.0,\n",
              "  1.0,\n",
              "  1.0,\n",
              "  1.0],\n",
              " 'precision': [0.6178861856460571,\n",
              "  1.0,\n",
              "  0.9868420958518982,\n",
              "  1.0,\n",
              "  0.9868420958518982,\n",
              "  0.9878048896789551,\n",
              "  1.0,\n",
              "  1.0,\n",
              "  1.0,\n",
              "  1.0,\n",
              "  1.0,\n",
              "  1.0,\n",
              "  1.0,\n",
              "  1.0,\n",
              "  1.0,\n",
              "  1.0,\n",
              "  1.0,\n",
              "  1.0,\n",
              "  1.0,\n",
              "  1.0,\n",
              "  1.0,\n",
              "  1.0,\n",
              "  1.0,\n",
              "  1.0,\n",
              "  1.0,\n",
              "  1.0,\n",
              "  1.0,\n",
              "  1.0,\n",
              "  1.0,\n",
              "  1.0],\n",
              " 'accuracy': [0.3687500059604645,\n",
              "  0.2874999940395355,\n",
              "  0.32499998807907104,\n",
              "  0.3375000059604645,\n",
              "  0.33125001192092896,\n",
              "  0.38749998807907104,\n",
              "  0.38749998807907104,\n",
              "  0.40625,\n",
              "  0.39375001192092896,\n",
              "  0.41874998807907104,\n",
              "  0.4000000059604645,\n",
              "  0.38749998807907104,\n",
              "  0.4124999940395355,\n",
              "  0.40625,\n",
              "  0.39375001192092896,\n",
              "  0.38749998807907104,\n",
              "  0.41874998807907104,\n",
              "  0.41874998807907104,\n",
              "  0.4124999940395355,\n",
              "  0.38749998807907104,\n",
              "  0.4124999940395355,\n",
              "  0.40625,\n",
              "  0.39375001192092896,\n",
              "  0.38749998807907104,\n",
              "  0.39375001192092896,\n",
              "  0.40625,\n",
              "  0.40625,\n",
              "  0.39375001192092896,\n",
              "  0.3812499940395355,\n",
              "  0.42500001192092896],\n",
              " 'val_loss': [0.8266062140464783,\n",
              "  0.3236665725708008,\n",
              "  0.06809218227863312,\n",
              "  0.04329567775130272,\n",
              "  0.14334560930728912,\n",
              "  0.011198464781045914,\n",
              "  0.00792178325355053,\n",
              "  0.005424579605460167,\n",
              "  0.016757043078541756,\n",
              "  0.0009831043425947428,\n",
              "  0.0020583607256412506,\n",
              "  0.0007664993172511458,\n",
              "  0.0009721999522298574,\n",
              "  0.0003328706952743232,\n",
              "  0.00024850814952515066,\n",
              "  0.0011544306762516499,\n",
              "  0.0009570675319992006,\n",
              "  0.00012836443784181029,\n",
              "  0.0002006220747716725,\n",
              "  0.0005546988104470074,\n",
              "  0.0004073833115398884,\n",
              "  0.0004199997056275606,\n",
              "  0.00020998560648877174,\n",
              "  0.00011927090235985816,\n",
              "  0.00019676868396345526,\n",
              "  0.0001000301563180983,\n",
              "  0.00013258669059723616,\n",
              "  0.0001721174194244668,\n",
              "  7.203049608506262e-05,\n",
              "  0.0003296125796623528],\n",
              " 'val_recall': [0.5454545617103577,\n",
              "  1.0,\n",
              "  1.0,\n",
              "  1.0,\n",
              "  0.8333333134651184,\n",
              "  1.0,\n",
              "  1.0,\n",
              "  1.0,\n",
              "  1.0,\n",
              "  1.0,\n",
              "  1.0,\n",
              "  1.0,\n",
              "  1.0,\n",
              "  1.0,\n",
              "  1.0,\n",
              "  1.0,\n",
              "  1.0,\n",
              "  1.0,\n",
              "  1.0,\n",
              "  1.0,\n",
              "  1.0,\n",
              "  1.0,\n",
              "  1.0,\n",
              "  1.0,\n",
              "  1.0,\n",
              "  1.0,\n",
              "  1.0,\n",
              "  1.0,\n",
              "  1.0,\n",
              "  1.0],\n",
              " 'val_precision': [1.0,\n",
              "  0.8571428656578064,\n",
              "  1.0,\n",
              "  1.0,\n",
              "  0.8333333134651184,\n",
              "  1.0,\n",
              "  1.0,\n",
              "  1.0,\n",
              "  1.0,\n",
              "  1.0,\n",
              "  1.0,\n",
              "  1.0,\n",
              "  1.0,\n",
              "  1.0,\n",
              "  1.0,\n",
              "  1.0,\n",
              "  1.0,\n",
              "  1.0,\n",
              "  1.0,\n",
              "  1.0,\n",
              "  1.0,\n",
              "  1.0,\n",
              "  1.0,\n",
              "  1.0,\n",
              "  1.0,\n",
              "  1.0,\n",
              "  1.0,\n",
              "  1.0,\n",
              "  1.0,\n",
              "  1.0],\n",
              " 'val_accuracy': [0.375,\n",
              "  0.25,\n",
              "  0.125,\n",
              "  0.3125,\n",
              "  0.3125,\n",
              "  0.5,\n",
              "  0.375,\n",
              "  0.3125,\n",
              "  0.3125,\n",
              "  0.3125,\n",
              "  0.25,\n",
              "  0.25,\n",
              "  0.3125,\n",
              "  0.4375,\n",
              "  0.4375,\n",
              "  0.375,\n",
              "  0.3125,\n",
              "  0.625,\n",
              "  0.5,\n",
              "  0.3125,\n",
              "  0.4375,\n",
              "  0.6875,\n",
              "  0.1875,\n",
              "  0.375,\n",
              "  0.5625,\n",
              "  0.5625,\n",
              "  0.375,\n",
              "  0.1875,\n",
              "  0.5,\n",
              "  0.5625]}"
            ]
          },
          "metadata": {},
          "execution_count": 32
        }
      ]
    },
    {
      "cell_type": "code",
      "source": [
        "#Plotting accuracy\n",
        "plt.title('Accuracy')\n",
        "plt.plot(hist.history['accuracy'], 'r')\n",
        "plt.plot(hist.history['val_accuracy'], 'b')\n",
        "plt.show()"
      ],
      "metadata": {
        "colab": {
          "base_uri": "https://localhost:8080/",
          "height": 281
        },
        "id": "iSK-k7pYtTpw",
        "outputId": "ddad183c-a6e7-42ba-b946-2eb7f9c3884c"
      },
      "execution_count": 33,
      "outputs": [
        {
          "output_type": "display_data",
          "data": {
            "text/plain": [
              "<Figure size 432x288 with 1 Axes>"
            ],
            "image/png": "[encoded data removed]"
          },
          "metadata": {
            "needs_background": "light"
          }
        }
      ]
    },
    {
      "cell_type": "code",
      "source": [
        "#Plotting Loss\n",
        "plt.title('Loss')\n",
        "plt.plot(hist.history['loss'], 'r')\n",
        "plt.plot(hist.history['val_loss'], 'b')\n",
        "plt.show()"
      ],
      "metadata": {
        "colab": {
          "base_uri": "https://localhost:8080/",
          "height": 281
        },
        "id": "Zd_OR8bb6dwz",
        "outputId": "bfa5a464-3ca5-4cc5-b2e9-3339db32fff7"
      },
      "execution_count": 34,
      "outputs": [
        {
          "output_type": "display_data",
          "data": {
            "text/plain": [
              "<Figure size 432x288 with 1 Axes>"
            ],
            "image/png": "[encoded data removed]"
          },
          "metadata": {
            "needs_background": "light"
          }
        }
      ]
    },
    {
      "cell_type": "code",
      "source": [
        "#Plotting Precision\n",
        "plt.title('Precision')\n",
        "plt.plot(hist.history['precision'], 'r')\n",
        "plt.plot(hist.history['val_precision'], 'b')\n",
        "plt.show()"
      ],
      "metadata": {
        "id": "E6cnMFOE6d3Y",
        "colab": {
          "base_uri": "https://localhost:8080/",
          "height": 281
        },
        "outputId": "f8d04253-f321-4c23-a70d-84e80e71712d"
      },
      "execution_count": 35,
      "outputs": [
        {
          "output_type": "display_data",
          "data": {
            "text/plain": [
              "<Figure size 432x288 with 1 Axes>"
            ],
            "image/png": "[encoded data removed]"
          },
          "metadata": {
            "needs_background": "light"
          }
        }
      ]
    },
    {
      "cell_type": "code",
      "source": [
        "#Plotting Recall\n",
        "plt.title('Recall')\n",
        "plt.plot(hist.history['recall'], 'r')\n",
        "plt.plot(hist.history['val_recall'], 'b')\n",
        "plt.show()"
      ],
      "metadata": {
        "id": "bk1F_zkk6d94",
        "colab": {
          "base_uri": "https://localhost:8080/",
          "height": 281
        },
        "outputId": "182b579b-dc58-401a-e4e0-34e65ae5dc6d"
      },
      "execution_count": 36,
      "outputs": [
        {
          "output_type": "display_data",
          "data": {
            "text/plain": [
              "<Figure size 432x288 with 1 Axes>"
            ],
            "image/png": "[encoded data removed]"
          },
          "metadata": {
            "needs_background": "light"
          }
        }
      ]
    },
    {
      "cell_type": "code",
      "source": [
        "#Extracting an example from the test set to check model performance\n",
        "len(train),len(test)"
      ],
      "metadata": {
        "id": "SJNqxGtns98U",
        "colab": {
          "base_uri": "https://localhost:8080/"
        },
        "outputId": "6cf66e46-d335-48c2-f822-7d114acedcbe"
      },
      "execution_count": 37,
      "outputs": [
        {
          "output_type": "execute_result",
          "data": {
            "text/plain": [
              "(10, 1)"
            ]
          },
          "metadata": {},
          "execution_count": 37
        }
      ]
    },
    {
      "cell_type": "code",
      "source": [
        "#Extracting an example from the test set to check model performance\n",
        "X_test, y_test = test.as_numpy_iterator().next()\n",
        "X_test, y_test"
      ],
      "metadata": {
        "id": "njdCuFEms-Iv",
        "colab": {
          "base_uri": "https://localhost:8080/"
        },
        "outputId": "1943d1a0-d5d5-4b88-8c3d-7deaf57bc84c"
      },
      "execution_count": 38,
      "outputs": [
        {
          "output_type": "execute_result",
          "data": {
            "text/plain": [
              "(array([[[[4.01340783e-01],\n",
              "          [8.56217206e-01],\n",
              "          [1.04159139e-01],\n",
              "          ...,\n",
              "          [5.33254258e-03],\n",
              "          [5.31550171e-03],\n",
              "          [5.32072783e-03]],\n",
              " \n",
              "         [[1.08691382e+00],\n",
              "          [7.18891799e-01],\n",
              "          [9.53882694e-01],\n",
              "          ...,\n",
              "          [8.56028404e-03],\n",
              "          [1.12402607e-02],\n",
              "          [1.50054693e-03]],\n",
              " \n",
              "         [[7.32434392e-01],\n",
              "          [7.97198057e-01],\n",
              "          [7.07715511e-01],\n",
              "          ...,\n",
              "          [7.94195570e-03],\n",
              "          [4.92922869e-03],\n",
              "          [1.12449229e-02]],\n",
              " \n",
              "         ...,\n",
              " \n",
              "         [[5.96821904e-01],\n",
              "          [5.64793646e-01],\n",
              "          [7.44015455e-01],\n",
              "          ...,\n",
              "          [7.16584967e-03],\n",
              "          [5.45436796e-03],\n",
              "          [8.85987282e-03]],\n",
              " \n",
              "         [[9.37848628e-01],\n",
              "          [1.62184268e-01],\n",
              "          [1.01554859e+00],\n",
              "          ...,\n",
              "          [7.19797658e-03],\n",
              "          [5.74664772e-03],\n",
              "          [9.09560919e-03]],\n",
              " \n",
              "         [[6.02459431e-01],\n",
              "          [4.62409198e-01],\n",
              "          [1.41489661e+00],\n",
              "          ...,\n",
              "          [7.42613617e-03],\n",
              "          [9.35912877e-03],\n",
              "          [4.06038761e-03]]],\n",
              " \n",
              " \n",
              "        [[[4.00357604e-01],\n",
              "          [9.39307928e-01],\n",
              "          [1.12736344e+00],\n",
              "          ...,\n",
              "          [3.28281242e-03],\n",
              "          [3.28744669e-03],\n",
              "          [3.28338146e-03]],\n",
              " \n",
              "         [[5.11892796e-01],\n",
              "          [1.18313015e+00],\n",
              "          [1.19863963e+00],\n",
              "          ...,\n",
              "          [4.30191355e-03],\n",
              "          [5.66164078e-03],\n",
              "          [4.56809998e-04]],\n",
              " \n",
              "         [[1.81103721e-02],\n",
              "          [1.07754791e+00],\n",
              "          [1.52379787e+00],\n",
              "          ...,\n",
              "          [4.88472683e-03],\n",
              "          [3.00570042e-03],\n",
              "          [6.96225092e-03]],\n",
              " \n",
              "         ...,\n",
              " \n",
              "         [[2.59181142e-01],\n",
              "          [1.43829441e+00],\n",
              "          [1.34552550e+00],\n",
              "          ...,\n",
              "          [7.83701800e-03],\n",
              "          [1.01020243e-02],\n",
              "          [1.29020214e-03]],\n",
              " \n",
              "         [[9.46422577e-01],\n",
              "          [1.10753214e+00],\n",
              "          [2.01785636e+00],\n",
              "          ...,\n",
              "          [8.79891869e-03],\n",
              "          [1.09444996e-02],\n",
              "          [2.75105238e-04]],\n",
              " \n",
              "         [[4.27010894e-01],\n",
              "          [5.09929836e-01],\n",
              "          [1.15702808e+00],\n",
              "          ...,\n",
              "          [1.23106362e-02],\n",
              "          [1.57984290e-02],\n",
              "          [5.21999598e-03]]],\n",
              " \n",
              " \n",
              "        [[[5.28339863e-01],\n",
              "          [8.47685575e-01],\n",
              "          [9.30316091e-01],\n",
              "          ...,\n",
              "          [9.07931849e-03],\n",
              "          [9.10013728e-03],\n",
              "          [9.10282135e-03]],\n",
              " \n",
              "         [[3.19066882e-01],\n",
              "          [1.02836394e+00],\n",
              "          [9.84619081e-01],\n",
              "          ...,\n",
              "          [1.01179844e-02],\n",
              "          [6.74936362e-03],\n",
              "          [1.35670453e-02]],\n",
              " \n",
              "         [[1.27505809e-01],\n",
              "          [9.44280803e-01],\n",
              "          [9.71478343e-01],\n",
              "          ...,\n",
              "          [1.57779437e-02],\n",
              "          [1.22877276e-02],\n",
              "          [1.95199475e-02]],\n",
              " \n",
              "         ...,\n",
              " \n",
              "         [[7.78970361e-01],\n",
              "          [1.08834699e-01],\n",
              "          [1.17194879e+00],\n",
              "          ...,\n",
              "          [8.93678144e-03],\n",
              "          [1.23638120e-02],\n",
              "          [3.99023294e-04]],\n",
              " \n",
              "         [[5.44963479e-01],\n",
              "          [5.32415807e-01],\n",
              "          [1.00725305e+00],\n",
              "          ...,\n",
              "          [8.46004672e-03],\n",
              "          [5.10361511e-03],\n",
              "          [1.22678876e-02]],\n",
              " \n",
              "         [[7.25272894e-01],\n",
              "          [1.02592385e+00],\n",
              "          [1.14110124e+00],\n",
              "          ...,\n",
              "          [1.42600108e-02],\n",
              "          [1.71539579e-02],\n",
              "          [7.49325752e-03]]],\n",
              " \n",
              " \n",
              "        ...,\n",
              " \n",
              " \n",
              "        [[[1.54786527e-01],\n",
              "          [1.04460597e+00],\n",
              "          [1.28526425e+00],\n",
              "          ...,\n",
              "          [3.02569428e-03],\n",
              "          [3.04213376e-03],\n",
              "          [3.03083658e-03]],\n",
              " \n",
              "         [[4.52501416e-01],\n",
              "          [1.05201912e+00],\n",
              "          [1.32829058e+00],\n",
              "          ...,\n",
              "          [3.08277155e-03],\n",
              "          [3.30753461e-03],\n",
              "          [2.67960131e-03]],\n",
              " \n",
              "         [[2.11291313e-01],\n",
              "          [9.73998487e-01],\n",
              "          [1.16885173e+00],\n",
              "          ...,\n",
              "          [7.94909988e-03],\n",
              "          [7.72333611e-03],\n",
              "          [8.33100080e-03]],\n",
              " \n",
              "         ...,\n",
              " \n",
              "         [[1.38485837e+00],\n",
              "          [3.71791649e+00],\n",
              "          [7.77024329e-01],\n",
              "          ...,\n",
              "          [5.25714457e-02],\n",
              "          [4.66075577e-02],\n",
              "          [6.07609749e-02]],\n",
              " \n",
              "         [[1.71262228e+00],\n",
              "          [3.06467295e+00],\n",
              "          [3.53436852e+00],\n",
              "          ...,\n",
              "          [1.11478548e-02],\n",
              "          [1.35692395e-02],\n",
              "          [2.46906281e-03]],\n",
              " \n",
              "         [[4.45091039e-01],\n",
              "          [3.60078835e+00],\n",
              "          [2.56596994e+00],\n",
              "          ...,\n",
              "          [2.70935092e-02],\n",
              "          [2.11281609e-02],\n",
              "          [3.15721929e-02]]],\n",
              " \n",
              " \n",
              "        [[[8.64923239e-01],\n",
              "          [8.30127239e-01],\n",
              "          [1.86073041e+00],\n",
              "          ...,\n",
              "          [9.42646805e-03],\n",
              "          [9.47478320e-03],\n",
              "          [9.45982337e-03]],\n",
              " \n",
              "         [[4.64183152e-01],\n",
              "          [5.37788808e-01],\n",
              "          [1.15853679e+00],\n",
              "          ...,\n",
              "          [1.09716207e-02],\n",
              "          [1.39525188e-02],\n",
              "          [3.91918421e-03]],\n",
              " \n",
              "         [[9.54583883e-01],\n",
              "          [4.42198217e-01],\n",
              "          [1.26229906e+00],\n",
              "          ...,\n",
              "          [7.28778541e-03],\n",
              "          [9.61615331e-03],\n",
              "          [7.14749098e-04]],\n",
              " \n",
              "         ...,\n",
              " \n",
              "         [[1.12360679e-01],\n",
              "          [9.58180964e-01],\n",
              "          [1.97230756e+00],\n",
              "          ...,\n",
              "          [3.42092291e-03],\n",
              "          [2.49952544e-03],\n",
              "          [4.46518511e-03]],\n",
              " \n",
              "         [[4.35422540e-01],\n",
              "          [9.83194947e-01],\n",
              "          [1.41829967e+00],\n",
              "          ...,\n",
              "          [1.59505159e-02],\n",
              "          [1.77166276e-02],\n",
              "          [1.21359825e-02]],\n",
              " \n",
              "         [[2.03920677e-01],\n",
              "          [9.68075752e-01],\n",
              "          [9.08852518e-01],\n",
              "          ...,\n",
              "          [1.52099477e-02],\n",
              "          [1.53231584e-02],\n",
              "          [1.54857785e-02]]],\n",
              " \n",
              " \n",
              "        [[[5.34862757e-01],\n",
              "          [1.89574075e+00],\n",
              "          [1.36451185e+00],\n",
              "          ...,\n",
              "          [5.91356365e-04],\n",
              "          [5.74948266e-04],\n",
              "          [5.78969717e-04]],\n",
              " \n",
              "         [[1.02446210e+00],\n",
              "          [1.25922585e+00],\n",
              "          [1.29628170e+00],\n",
              "          ...,\n",
              "          [4.08069044e-03],\n",
              "          [3.76984733e-03],\n",
              "          [4.67860699e-03]],\n",
              " \n",
              "         [[4.06289339e-01],\n",
              "          [3.87524009e-01],\n",
              "          [1.56886971e+00],\n",
              "          ...,\n",
              "          [1.13204671e-02],\n",
              "          [7.92477280e-03],\n",
              "          [1.44921988e-02]],\n",
              " \n",
              "         ...,\n",
              " \n",
              "         [[9.51838017e-01],\n",
              "          [6.75323248e-01],\n",
              "          [1.22477531e+00],\n",
              "          ...,\n",
              "          [2.19833814e-02],\n",
              "          [2.85471454e-02],\n",
              "          [4.70390916e-03]],\n",
              " \n",
              "         [[3.76803577e-01],\n",
              "          [1.08053744e+00],\n",
              "          [1.27519190e+00],\n",
              "          ...,\n",
              "          [2.09057685e-02],\n",
              "          [2.75077019e-02],\n",
              "          [5.99133968e-03]],\n",
              " \n",
              "         [[8.98539573e-02],\n",
              "          [1.30423808e+00],\n",
              "          [2.18474030e+00],\n",
              "          ...,\n",
              "          [2.19571777e-02],\n",
              "          [2.87885871e-02],\n",
              "          [7.25471973e-03]]]], dtype=float32),\n",
              " array([0., 0., 1., 0., 1., 0., 0., 1., 1., 1., 1., 0., 0., 1., 0., 1.],\n",
              "       dtype=float32))"
            ]
          },
          "metadata": {},
          "execution_count": 38
        }
      ]
    },
    {
      "cell_type": "code",
      "source": [
        "#Testing model by making prediction from extracted test sample\n",
        "yhat = model.predict(X_test)\n",
        "yhat = [1 if prediction > 0.5 else 0 for prediction in yhat]\n",
        "print(yhat)\n",
        "print(y_test)"
      ],
      "metadata": {
        "id": "uo6UX6ATs-Sf",
        "colab": {
          "base_uri": "https://localhost:8080/"
        },
        "outputId": "4df19a63-2f93-46fd-e3e1-b46c5dc73a76"
      },
      "execution_count": 39,
      "outputs": [
        {
          "output_type": "stream",
          "name": "stdout",
          "text": [
            "1/1 [==============================] - 0s 359ms/step\n",
            "[0, 0, 1, 0, 1, 0, 0, 1, 1, 1, 1, 0, 0, 1, 0, 1]\n",
            "[0. 0. 1. 0. 1. 0. 0. 1. 1. 1. 1. 0. 0. 1. 0. 1.]\n"
          ]
        }
      ]
    },
    {
      "cell_type": "markdown",
      "source": [
        "## Build Function to Convert Clips into Windowed Spectrograms"
      ],
      "metadata": {
        "id": "Lv6-rLyKPMst"
      }
    },
    {
      "cell_type": "code",
      "source": [
        "#Testing functions that will be used to ensure correctness\n",
        "RECORDING = os.path.join('Test','SMM07257_20221118_033302.wav')\n",
        "print(RECORDING)\n",
        "test_wav = load_wav_16k_mono(RECORDING)\n",
        "audio_slices = tf.keras.utils.timeseries_dataset_from_array(test_wav, test_wav, sequence_length=48000, sequence_stride=48000, batch_size=1)\n",
        "samples, index = audio_slices.as_numpy_iterator().next()\n",
        "samples.shape, len(audio_slices)"
      ],
      "metadata": {
        "id": "TWFhlI2Os-cu",
        "colab": {
          "base_uri": "https://localhost:8080/"
        },
        "outputId": "2ceb931c-2a95-4754-c463-54ab90fa27d2"
      },
      "execution_count": 54,
      "outputs": [
        {
          "output_type": "stream",
          "name": "stdout",
          "text": [
            "Test/SMM07257_20221118_033302.wav\n"
          ]
        },
        {
          "output_type": "stream",
          "name": "stderr",
          "text": [
            "WARNING:tensorflow:6 out of the last 6 calls to <function pfor.<locals>.f at 0x7f49b2f45040> triggered tf.function retracing. Tracing is expensive and the excessive number of tracings could be due to (1) creating @tf.function repeatedly in a loop, (2) passing tensors with different shapes, (3) passing Python objects instead of tensors. For (1), please define your @tf.function outside of the loop. For (2), @tf.function has reduce_retracing=True option that can avoid unnecessary retracing. For (3), please refer to https://www.tensorflow.org/guide/function#controlling_retracing and https://www.tensorflow.org/api_docs/python/tf/function for  more details.\n"
          ]
        },
        {
          "output_type": "execute_result",
          "data": {
            "text/plain": [
              "((1, 48000), 1199)"
            ]
          },
          "metadata": {},
          "execution_count": 54
        }
      ]
    },
    {
      "cell_type": "code",
      "source": [
        "#This function performs required preprocessing for test dataset\n",
        "def preprocess_dataset(sample, index):\n",
        "    sample = sample[0]\n",
        "    zero_padding = tf.zeros([48000] - tf.shape(sample), dtype=tf.float32)\n",
        "    wav = tf.concat([zero_padding, sample],0)\n",
        "    spectrogram = tf.signal.stft(wav, frame_length=320, frame_step=320)\n",
        "    spectrogram = tf.abs(spectrogram)\n",
        "    spectrogram = tf.expand_dims(spectrogram, axis=2)\n",
        "    return spectrogram"
      ],
      "metadata": {
        "id": "2bm0PLphPEW2"
      },
      "execution_count": 55,
      "outputs": []
    },
    {
      "cell_type": "code",
      "source": [
        "#Splitting extracted sample into 3 second clips\n",
        "audio_slices = tf.keras.utils.timeseries_dataset_from_array(test_wav, test_wav, sequence_length=48000, sequence_stride=48000, batch_size=1)\n",
        "#Mapping preprocessing function to extracted sample\n",
        "audio_slices = audio_slices.map(preprocess_dataset)\n",
        "#Creating batches of 64\n",
        "audio_slices = audio_slices.batch(64)"
      ],
      "metadata": {
        "id": "tpezLRnZPEft"
      },
      "execution_count": 56,
      "outputs": []
    },
    {
      "cell_type": "code",
      "source": [
        "#Splitting extracted sample into 3 second clips\n",
        "audio_slices = tf.keras.utils.timeseries_dataset_from_array(test_wav, test_wav, sequence_length=48000, sequence_stride=48000, batch_size=1)\n",
        "#Mapping preprocessing function to extracted sample\n",
        "audio_slices = audio_slices.map(preprocess_dataset)\n",
        "#Creating batches of 64\n",
        "audio_slices = audio_slices.batch(64)"
      ],
      "metadata": {
        "id": "6UoLy0EZPEjr"
      },
      "execution_count": 57,
      "outputs": []
    },
    {
      "cell_type": "code",
      "source": [
        "#Performing predictions on the extracted sample to and creating class prediction array\n",
        "yhat = model.predict(audio_slices)\n",
        "yhat = [1 if prediction > 0.99 else 0 for prediction in yhat]"
      ],
      "metadata": {
        "id": "dUJQeNmlPEoK",
        "colab": {
          "base_uri": "https://localhost:8080/"
        },
        "outputId": "f08594d6-2049-4519-ca50-08cbf58b5976"
      },
      "execution_count": 58,
      "outputs": [
        {
          "output_type": "stream",
          "name": "stdout",
          "text": [
            "19/19 [==============================] - 22s 1s/step\n"
          ]
        }
      ]
    },
    {
      "cell_type": "code",
      "source": [
        "yhat"
      ],
      "metadata": {
        "colab": {
          "base_uri": "https://localhost:8080/"
        },
        "id": "MHDLBjAdWjlR",
        "outputId": "fd544e5a-9a4c-4ec5-dfe1-e45cf83a0fc8"
      },
      "execution_count": 59,
      "outputs": [
        {
          "output_type": "execute_result",
          "data": {
            "text/plain": [
              "[0,\n",
              " 0,\n",
              " 0,\n",
              " 0,\n",
              " 0,\n",
              " 0,\n",
              " 0,\n",
              " 0,\n",
              " 0,\n",
              " 0,\n",
              " 0,\n",
              " 0,\n",
              " 0,\n",
              " 0,\n",
              " 0,\n",
              " 0,\n",
              " 0,\n",
              " 0,\n",
              " 0,\n",
              " 0,\n",
              " 0,\n",
              " 0,\n",
              " 0,\n",
              " 0,\n",
              " 0,\n",
              " 0,\n",
              " 0,\n",
              " 0,\n",
              " 0,\n",
              " 0,\n",
              " 1,\n",
              " 0,\n",
              " 0,\n",
              " 0,\n",
              " 0,\n",
              " 0,\n",
              " 0,\n",
              " 0,\n",
              " 0,\n",
              " 0,\n",
              " 0,\n",
              " 0,\n",
              " 0,\n",
              " 0,\n",
              " 0,\n",
              " 0,\n",
              " 0,\n",
              " 0,\n",
              " 0,\n",
              " 0,\n",
              " 0,\n",
              " 0,\n",
              " 0,\n",
              " 0,\n",
              " 0,\n",
              " 0,\n",
              " 0,\n",
              " 0,\n",
              " 0,\n",
              " 0,\n",
              " 0,\n",
              " 0,\n",
              " 0,\n",
              " 0,\n",
              " 0,\n",
              " 0,\n",
              " 0,\n",
              " 0,\n",
              " 0,\n",
              " 0,\n",
              " 0,\n",
              " 0,\n",
              " 0,\n",
              " 0,\n",
              " 0,\n",
              " 0,\n",
              " 0,\n",
              " 0,\n",
              " 0,\n",
              " 0,\n",
              " 0,\n",
              " 0,\n",
              " 0,\n",
              " 0,\n",
              " 0,\n",
              " 0,\n",
              " 0,\n",
              " 0,\n",
              " 0,\n",
              " 0,\n",
              " 0,\n",
              " 0,\n",
              " 0,\n",
              " 0,\n",
              " 0,\n",
              " 0,\n",
              " 0,\n",
              " 0,\n",
              " 0,\n",
              " 0,\n",
              " 0,\n",
              " 0,\n",
              " 0,\n",
              " 0,\n",
              " 0,\n",
              " 0,\n",
              " 0,\n",
              " 0,\n",
              " 0,\n",
              " 0,\n",
              " 0,\n",
              " 0,\n",
              " 0,\n",
              " 0,\n",
              " 0,\n",
              " 0,\n",
              " 0,\n",
              " 0,\n",
              " 0,\n",
              " 0,\n",
              " 0,\n",
              " 0,\n",
              " 0,\n",
              " 0,\n",
              " 0,\n",
              " 0,\n",
              " 0,\n",
              " 0,\n",
              " 0,\n",
              " 0,\n",
              " 0,\n",
              " 0,\n",
              " 0,\n",
              " 0,\n",
              " 0,\n",
              " 0,\n",
              " 0,\n",
              " 0,\n",
              " 0,\n",
              " 0,\n",
              " 0,\n",
              " 0,\n",
              " 0,\n",
              " 0,\n",
              " 0,\n",
              " 0,\n",
              " 0,\n",
              " 0,\n",
              " 0,\n",
              " 0,\n",
              " 0,\n",
              " 0,\n",
              " 0,\n",
              " 0,\n",
              " 0,\n",
              " 0,\n",
              " 0,\n",
              " 0,\n",
              " 0,\n",
              " 0,\n",
              " 0,\n",
              " 0,\n",
              " 0,\n",
              " 0,\n",
              " 0,\n",
              " 0,\n",
              " 0,\n",
              " 0,\n",
              " 0,\n",
              " 0,\n",
              " 0,\n",
              " 0,\n",
              " 0,\n",
              " 0,\n",
              " 0,\n",
              " 1,\n",
              " 0,\n",
              " 0,\n",
              " 0,\n",
              " 0,\n",
              " 0,\n",
              " 0,\n",
              " 0,\n",
              " 0,\n",
              " 0,\n",
              " 0,\n",
              " 0,\n",
              " 0,\n",
              " 0,\n",
              " 0,\n",
              " 0,\n",
              " 0,\n",
              " 0,\n",
              " 0,\n",
              " 0,\n",
              " 0,\n",
              " 0,\n",
              " 0,\n",
              " 0,\n",
              " 0,\n",
              " 0,\n",
              " 0,\n",
              " 0,\n",
              " 0,\n",
              " 0,\n",
              " 0,\n",
              " 0,\n",
              " 0,\n",
              " 0,\n",
              " 0,\n",
              " 0,\n",
              " 0,\n",
              " 0,\n",
              " 0,\n",
              " 0,\n",
              " 0,\n",
              " 0,\n",
              " 0,\n",
              " 0,\n",
              " 0,\n",
              " 0,\n",
              " 0,\n",
              " 0,\n",
              " 0,\n",
              " 0,\n",
              " 0,\n",
              " 0,\n",
              " 0,\n",
              " 0,\n",
              " 0,\n",
              " 0,\n",
              " 0,\n",
              " 0,\n",
              " 0,\n",
              " 0,\n",
              " 0,\n",
              " 0,\n",
              " 0,\n",
              " 0,\n",
              " 0,\n",
              " 0,\n",
              " 0,\n",
              " 0,\n",
              " 0,\n",
              " 1,\n",
              " 1,\n",
              " 1,\n",
              " 1,\n",
              " 1,\n",
              " 0,\n",
              " 0,\n",
              " 0,\n",
              " 0,\n",
              " 0,\n",
              " 0,\n",
              " 0,\n",
              " 0,\n",
              " 0,\n",
              " 0,\n",
              " 0,\n",
              " 0,\n",
              " 0,\n",
              " 0,\n",
              " 0,\n",
              " 0,\n",
              " 0,\n",
              " 0,\n",
              " 0,\n",
              " 0,\n",
              " 0,\n",
              " 0,\n",
              " 0,\n",
              " 0,\n",
              " 0,\n",
              " 0,\n",
              " 0,\n",
              " 0,\n",
              " 0,\n",
              " 0,\n",
              " 0,\n",
              " 0,\n",
              " 0,\n",
              " 0,\n",
              " 0,\n",
              " 0,\n",
              " 0,\n",
              " 0,\n",
              " 0,\n",
              " 0,\n",
              " 0,\n",
              " 0,\n",
              " 0,\n",
              " 0,\n",
              " 0,\n",
              " 0,\n",
              " 0,\n",
              " 0,\n",
              " 0,\n",
              " 0,\n",
              " 0,\n",
              " 0,\n",
              " 0,\n",
              " 0,\n",
              " 0,\n",
              " 0,\n",
              " 0,\n",
              " 0,\n",
              " 0,\n",
              " 0,\n",
              " 0,\n",
              " 0,\n",
              " 0,\n",
              " 0,\n",
              " 0,\n",
              " 0,\n",
              " 0,\n",
              " 0,\n",
              " 0,\n",
              " 0,\n",
              " 0,\n",
              " 0,\n",
              " 0,\n",
              " 0,\n",
              " 0,\n",
              " 0,\n",
              " 0,\n",
              " 0,\n",
              " 0,\n",
              " 0,\n",
              " 0,\n",
              " 0,\n",
              " 0,\n",
              " 0,\n",
              " 0,\n",
              " 0,\n",
              " 0,\n",
              " 0,\n",
              " 0,\n",
              " 0,\n",
              " 0,\n",
              " 0,\n",
              " 0,\n",
              " 0,\n",
              " 0,\n",
              " 0,\n",
              " 0,\n",
              " 0,\n",
              " 0,\n",
              " 0,\n",
              " 0,\n",
              " 0,\n",
              " 0,\n",
              " 0,\n",
              " 0,\n",
              " 0,\n",
              " 0,\n",
              " 0,\n",
              " 0,\n",
              " 0,\n",
              " 0,\n",
              " 0,\n",
              " 0,\n",
              " 0,\n",
              " 0,\n",
              " 0,\n",
              " 0,\n",
              " 0,\n",
              " 0,\n",
              " 0,\n",
              " 0,\n",
              " 0,\n",
              " 0,\n",
              " 0,\n",
              " 0,\n",
              " 0,\n",
              " 0,\n",
              " 0,\n",
              " 0,\n",
              " 0,\n",
              " 0,\n",
              " 0,\n",
              " 0,\n",
              " 0,\n",
              " 0,\n",
              " 0,\n",
              " 0,\n",
              " 0,\n",
              " 0,\n",
              " 0,\n",
              " 0,\n",
              " 0,\n",
              " 0,\n",
              " 0,\n",
              " 0,\n",
              " 0,\n",
              " 0,\n",
              " 0,\n",
              " 0,\n",
              " 0,\n",
              " 0,\n",
              " 0,\n",
              " 0,\n",
              " 0,\n",
              " 0,\n",
              " 0,\n",
              " 0,\n",
              " 0,\n",
              " 0,\n",
              " 0,\n",
              " 0,\n",
              " 0,\n",
              " 0,\n",
              " 0,\n",
              " 0,\n",
              " 0,\n",
              " 0,\n",
              " 0,\n",
              " 0,\n",
              " 0,\n",
              " 0,\n",
              " 0,\n",
              " 0,\n",
              " 0,\n",
              " 0,\n",
              " 0,\n",
              " 0,\n",
              " 0,\n",
              " 0,\n",
              " 0,\n",
              " 0,\n",
              " 0,\n",
              " 0,\n",
              " 0,\n",
              " 0,\n",
              " 0,\n",
              " 0,\n",
              " 0,\n",
              " 0,\n",
              " 0,\n",
              " 0,\n",
              " 0,\n",
              " 0,\n",
              " 0,\n",
              " 0,\n",
              " 0,\n",
              " 0,\n",
              " 0,\n",
              " 0,\n",
              " 0,\n",
              " 0,\n",
              " 0,\n",
              " 0,\n",
              " 0,\n",
              " 0,\n",
              " 0,\n",
              " 0,\n",
              " 0,\n",
              " 0,\n",
              " 0,\n",
              " 0,\n",
              " 0,\n",
              " 0,\n",
              " 0,\n",
              " 0,\n",
              " 0,\n",
              " 0,\n",
              " 0,\n",
              " 0,\n",
              " 0,\n",
              " 0,\n",
              " 0,\n",
              " 0,\n",
              " 0,\n",
              " 0,\n",
              " 0,\n",
              " 0,\n",
              " 0,\n",
              " 0,\n",
              " 0,\n",
              " 0,\n",
              " 0,\n",
              " 0,\n",
              " 0,\n",
              " 0,\n",
              " 0,\n",
              " 0,\n",
              " 0,\n",
              " 0,\n",
              " 0,\n",
              " 0,\n",
              " 0,\n",
              " 0,\n",
              " 0,\n",
              " 0,\n",
              " 0,\n",
              " 0,\n",
              " 0,\n",
              " 0,\n",
              " 0,\n",
              " 0,\n",
              " 0,\n",
              " 0,\n",
              " 0,\n",
              " 0,\n",
              " 0,\n",
              " 0,\n",
              " 0,\n",
              " 0,\n",
              " 0,\n",
              " 0,\n",
              " 0,\n",
              " 0,\n",
              " 0,\n",
              " 0,\n",
              " 0,\n",
              " 0,\n",
              " 0,\n",
              " 0,\n",
              " 0,\n",
              " 0,\n",
              " 0,\n",
              " 0,\n",
              " 0,\n",
              " 0,\n",
              " 0,\n",
              " 0,\n",
              " 0,\n",
              " 0,\n",
              " 0,\n",
              " 0,\n",
              " 0,\n",
              " 0,\n",
              " 0,\n",
              " 0,\n",
              " 0,\n",
              " 0,\n",
              " 0,\n",
              " 0,\n",
              " 0,\n",
              " 0,\n",
              " 0,\n",
              " 0,\n",
              " 0,\n",
              " 0,\n",
              " 0,\n",
              " 0,\n",
              " 0,\n",
              " 0,\n",
              " 0,\n",
              " 0,\n",
              " 0,\n",
              " 0,\n",
              " 0,\n",
              " 0,\n",
              " 0,\n",
              " 0,\n",
              " 0,\n",
              " 0,\n",
              " 0,\n",
              " 0,\n",
              " 0,\n",
              " 0,\n",
              " 0,\n",
              " 0,\n",
              " 0,\n",
              " 0,\n",
              " 0,\n",
              " 0,\n",
              " 0,\n",
              " 0,\n",
              " 0,\n",
              " 0,\n",
              " 0,\n",
              " 0,\n",
              " 0,\n",
              " 0,\n",
              " 0,\n",
              " 0,\n",
              " 0,\n",
              " 0,\n",
              " 0,\n",
              " 0,\n",
              " 0,\n",
              " 0,\n",
              " 0,\n",
              " 0,\n",
              " 0,\n",
              " 0,\n",
              " 0,\n",
              " 0,\n",
              " 0,\n",
              " 0,\n",
              " 0,\n",
              " 0,\n",
              " 0,\n",
              " 0,\n",
              " 0,\n",
              " 0,\n",
              " 0,\n",
              " 0,\n",
              " 0,\n",
              " 0,\n",
              " 0,\n",
              " 0,\n",
              " 0,\n",
              " 0,\n",
              " 0,\n",
              " 0,\n",
              " 0,\n",
              " 0,\n",
              " 0,\n",
              " 0,\n",
              " 0,\n",
              " 0,\n",
              " 0,\n",
              " 0,\n",
              " 0,\n",
              " 0,\n",
              " 1,\n",
              " 0,\n",
              " 0,\n",
              " 1,\n",
              " 1,\n",
              " 0,\n",
              " 0,\n",
              " 0,\n",
              " 0,\n",
              " 0,\n",
              " 0,\n",
              " 0,\n",
              " 0,\n",
              " 0,\n",
              " 0,\n",
              " 0,\n",
              " 0,\n",
              " 0,\n",
              " 0,\n",
              " 0,\n",
              " 0,\n",
              " 0,\n",
              " 0,\n",
              " 0,\n",
              " 0,\n",
              " 0,\n",
              " 0,\n",
              " 0,\n",
              " 0,\n",
              " 0,\n",
              " 1,\n",
              " 1,\n",
              " 1,\n",
              " 1,\n",
              " 1,\n",
              " 0,\n",
              " 0,\n",
              " 0,\n",
              " 0,\n",
              " 0,\n",
              " 0,\n",
              " 0,\n",
              " 0,\n",
              " 0,\n",
              " 0,\n",
              " 0,\n",
              " 1,\n",
              " 1,\n",
              " 0,\n",
              " 0,\n",
              " 0,\n",
              " 0,\n",
              " 0,\n",
              " 0,\n",
              " 0,\n",
              " 0,\n",
              " 0,\n",
              " 0,\n",
              " 0,\n",
              " 0,\n",
              " 0,\n",
              " 0,\n",
              " 0,\n",
              " 0,\n",
              " 0,\n",
              " 0,\n",
              " 0,\n",
              " 0,\n",
              " 0,\n",
              " 0,\n",
              " 0,\n",
              " 0,\n",
              " 0,\n",
              " 0,\n",
              " 0,\n",
              " 0,\n",
              " 0,\n",
              " 0,\n",
              " 0,\n",
              " 0,\n",
              " 0,\n",
              " 0,\n",
              " 0,\n",
              " 0,\n",
              " 0,\n",
              " 0,\n",
              " 0,\n",
              " 0,\n",
              " 0,\n",
              " 0,\n",
              " 0,\n",
              " 0,\n",
              " 0,\n",
              " 0,\n",
              " 0,\n",
              " 0,\n",
              " 0,\n",
              " 0,\n",
              " 0,\n",
              " 0,\n",
              " 0,\n",
              " 0,\n",
              " 0,\n",
              " 0,\n",
              " 0,\n",
              " 0,\n",
              " 0,\n",
              " 0,\n",
              " 0,\n",
              " 0,\n",
              " 0,\n",
              " 0,\n",
              " 0,\n",
              " 0,\n",
              " 0,\n",
              " 0,\n",
              " 0,\n",
              " 0,\n",
              " 0,\n",
              " 0,\n",
              " 0,\n",
              " 0,\n",
              " 0,\n",
              " 0,\n",
              " 0,\n",
              " 0,\n",
              " 0,\n",
              " 0,\n",
              " 0,\n",
              " 0,\n",
              " 0,\n",
              " 0,\n",
              " 0,\n",
              " 0,\n",
              " 0,\n",
              " 0,\n",
              " 0,\n",
              " 0,\n",
              " 0,\n",
              " 0,\n",
              " 0,\n",
              " 0,\n",
              " 0,\n",
              " 0,\n",
              " 0,\n",
              " 0,\n",
              " 0,\n",
              " 0,\n",
              " 0,\n",
              " 0,\n",
              " 0,\n",
              " 0,\n",
              " 0,\n",
              " 0,\n",
              " 0,\n",
              " 0,\n",
              " 0,\n",
              " 0,\n",
              " 0,\n",
              " 0,\n",
              " 0,\n",
              " 0,\n",
              " 0,\n",
              " 0,\n",
              " 0,\n",
              " 0,\n",
              " 0,\n",
              " 0,\n",
              " 0,\n",
              " 0,\n",
              " 0,\n",
              " 0,\n",
              " 0,\n",
              " 0,\n",
              " 0,\n",
              " 0,\n",
              " 0,\n",
              " 0,\n",
              " 0,\n",
              " 0,\n",
              " 0,\n",
              " 0,\n",
              " 0,\n",
              " 0,\n",
              " 0,\n",
              " 0,\n",
              " 0,\n",
              " 0,\n",
              " 0,\n",
              " 0,\n",
              " 0,\n",
              " 0,\n",
              " 0,\n",
              " 0,\n",
              " 0,\n",
              " 0,\n",
              " 0,\n",
              " 0,\n",
              " 0,\n",
              " 0,\n",
              " 0,\n",
              " 0,\n",
              " 0,\n",
              " 0,\n",
              " 0,\n",
              " 0,\n",
              " 0,\n",
              " 0,\n",
              " 0,\n",
              " 0,\n",
              " 0,\n",
              " 0,\n",
              " 0,\n",
              " 0,\n",
              " 0,\n",
              " 0,\n",
              " 0,\n",
              " 0,\n",
              " 0,\n",
              " 0,\n",
              " 0,\n",
              " 0,\n",
              " 0,\n",
              " 0,\n",
              " 0,\n",
              " 0,\n",
              " 0,\n",
              " 0,\n",
              " 0,\n",
              " 0,\n",
              " 0,\n",
              " 0,\n",
              " 0,\n",
              " 0,\n",
              " 0,\n",
              " 0,\n",
              " 0,\n",
              " 0,\n",
              " 0,\n",
              " 0,\n",
              " 0,\n",
              " 0,\n",
              " 0,\n",
              " 0,\n",
              " 0,\n",
              " 0,\n",
              " 0,\n",
              " 0,\n",
              " 0,\n",
              " 0,\n",
              " 0,\n",
              " 0,\n",
              " 0,\n",
              " 0,\n",
              " 0,\n",
              " 0,\n",
              " 0,\n",
              " 0,\n",
              " 0,\n",
              " 0,\n",
              " 0,\n",
              " 0,\n",
              " 0,\n",
              " 0,\n",
              " 0,\n",
              " 0,\n",
              " 0,\n",
              " 0,\n",
              " 0,\n",
              " 0,\n",
              " 0,\n",
              " 0,\n",
              " 0,\n",
              " 0,\n",
              " 0,\n",
              " 0,\n",
              " 0,\n",
              " 0,\n",
              " 0,\n",
              " 0,\n",
              " 0,\n",
              " 0,\n",
              " 0,\n",
              " 0,\n",
              " 0,\n",
              " 0,\n",
              " 0,\n",
              " 0,\n",
              " 0,\n",
              " 0,\n",
              " 0,\n",
              " 0,\n",
              " 0,\n",
              " 0,\n",
              " 0,\n",
              " 0,\n",
              " 0,\n",
              " 0,\n",
              " 0,\n",
              " 0,\n",
              " 0,\n",
              " 0,\n",
              " 0,\n",
              " 0,\n",
              " 0,\n",
              " 0,\n",
              " 0,\n",
              " 0,\n",
              " 0,\n",
              " 0,\n",
              " 0,\n",
              " 0,\n",
              " 0,\n",
              " 0,\n",
              " 0,\n",
              " 0,\n",
              " 0,\n",
              " 0,\n",
              " 0,\n",
              " 0,\n",
              " 0,\n",
              " 0,\n",
              " 0,\n",
              " 0,\n",
              " 0,\n",
              " 0,\n",
              " 0,\n",
              " 0,\n",
              " 0,\n",
              " 0,\n",
              " 0,\n",
              " 0,\n",
              " 0,\n",
              " 0,\n",
              " 0,\n",
              " 0,\n",
              " 0,\n",
              " 0,\n",
              " 0,\n",
              " 0,\n",
              " 0,\n",
              " 0,\n",
              " 0,\n",
              " 0,\n",
              " 0,\n",
              " 0,\n",
              " 0,\n",
              " 0,\n",
              " 0,\n",
              " 0,\n",
              " 0,\n",
              " 0,\n",
              " 0,\n",
              " 0,\n",
              " 0,\n",
              " 0,\n",
              " 0,\n",
              " 0,\n",
              " 0,\n",
              " 0,\n",
              " 0,\n",
              " 0,\n",
              " 0,\n",
              " 0,\n",
              " 0,\n",
              " 0,\n",
              " 0,\n",
              " 0,\n",
              " 0,\n",
              " 0,\n",
              " 0,\n",
              " 0,\n",
              " 0,\n",
              " 0,\n",
              " 0,\n",
              " 0,\n",
              " 0,\n",
              " 0,\n",
              " 0,\n",
              " 0,\n",
              " 0,\n",
              " 0,\n",
              " ...]"
            ]
          },
          "metadata": {},
          "execution_count": 59
        }
      ]
    },
    {
      "cell_type": "code",
      "source": [
        "#Grouping class predictions and storing call density in 'calls' variable\n",
        "yhat = [key for key, group in groupby(yhat)]\n",
        "calls = tf.math.reduce_sum(yhat).numpy()"
      ],
      "metadata": {
        "id": "casn0FhMO5JM"
      },
      "execution_count": 62,
      "outputs": []
    },
    {
      "cell_type": "code",
      "source": [
        "yhat, \" | calls \", calls"
      ],
      "metadata": {
        "colab": {
          "base_uri": "https://localhost:8080/"
        },
        "id": "iqrfb0zQPVVc",
        "outputId": "545ce48f-4cfc-4b7c-9d21-253b0cc8cd94"
      },
      "execution_count": 63,
      "outputs": [
        {
          "output_type": "execute_result",
          "data": {
            "text/plain": [
              "([0, 1, 0, 1, 0, 1, 0, 1, 0, 1, 0, 1, 0, 1, 0], ' | calls ', 7)"
            ]
          },
          "metadata": {},
          "execution_count": 63
        }
      ]
    },
    {
      "cell_type": "code",
      "source": [
        "#This code window performs the prediction on a set of audio files and stores them into an array against the name of the file\n",
        "\n",
        "results = {}\n",
        "# for file in os.listdir('/content/Test'):\n",
        "#     FILEPATH = os.path.join('/content/Test', file)\n",
        "#     print(FILEPATH)\n",
        "    \n",
        "wav = load_wav_16k_mono('/content/Test/SMM07257_20221118_033302.wav')\n",
        "audio_slices = tf.keras.utils.timeseries_dataset_from_array(wav, wav, sequence_length=48000, sequence_stride=48000, batch_size=1)\n",
        "audio_slices = audio_slices.map(preprocess_dataset)\n",
        "audio_slices = audio_slices.batch(16)\n",
        "    \n",
        "yhat = model.predict(audio_slices)\n",
        "    \n",
        "results[file] = yhat"
      ],
      "metadata": {
        "colab": {
          "base_uri": "https://localhost:8080/"
        },
        "id": "8p-f_Mm34Ks_",
        "outputId": "d8648b64-e679-4e5f-c4cc-09747bc61884"
      },
      "execution_count": 66,
      "outputs": [
        {
          "output_type": "stream",
          "name": "stdout",
          "text": [
            "75/75 [==============================] - 23s 298ms/step\n"
          ]
        }
      ]
    },
    {
      "cell_type": "code",
      "source": [
        "results"
      ],
      "metadata": {
        "colab": {
          "base_uri": "https://localhost:8080/"
        },
        "id": "heEqfLDj7axT",
        "outputId": "401300eb-f854-4ba7-e09b-70d03c25b582"
      },
      "execution_count": 67,
      "outputs": [
        {
          "output_type": "execute_result",
          "data": {
            "text/plain": [
              "{'.ipynb_checkpoints': array([[2.4458919e-05],\n",
              "        [2.5270518e-05],\n",
              "        [1.3918249e-05],\n",
              "        ...,\n",
              "        [3.6392852e-05],\n",
              "        [5.7597030e-05],\n",
              "        [1.6548000e-05]], dtype=float32)}"
            ]
          },
          "metadata": {},
          "execution_count": 67
        }
      ]
    },
    {
      "cell_type": "markdown",
      "source": [],
      "metadata": {
        "id": "NQLc8Kj47fqm"
      }
    },
    {
      "cell_type": "code",
      "source": [
        "for key in results.keys():\n",
        "  print(len(results[key]))"
      ],
      "metadata": {
        "colab": {
          "base_uri": "https://localhost:8080/"
        },
        "id": "WNxX_HVG7f8v",
        "outputId": "43cbebc5-d17a-407c-869e-bcd48d52555b"
      },
      "execution_count": 68,
      "outputs": [
        {
          "output_type": "stream",
          "name": "stdout",
          "text": [
            "1199\n"
          ]
        }
      ]
    },
    {
      "cell_type": "code",
      "source": [
        "#Converts predictions stored in the results file to class predictions\n",
        "class_preds = {}\n",
        "for file, logits in results.items():\n",
        "    class_preds[file] = [1 if prediction > 0.99 else 0 for prediction in logits]\n",
        "#class_preds"
      ],
      "metadata": {
        "id": "Xi6RVwRz7hiL"
      },
      "execution_count": 69,
      "outputs": []
    },
    {
      "cell_type": "code",
      "source": [
        "class_preds.items()"
      ],
      "metadata": {
        "colab": {
          "base_uri": "https://localhost:8080/"
        },
        "id": "uXpqbYuehY2K",
        "outputId": "5ea812b5-9c6f-4ddf-b4da-550037ddbbdc"
      },
      "execution_count": 70,
      "outputs": [
        {
          "output_type": "execute_result",
          "data": {
            "text/plain": [
              "dict_items([('.ipynb_checkpoints', [0, 0, 0, 0, 0, 0, 0, 0, 0, 0, 0, 0, 0, 0, 0, 0, 0, 0, 0, 0, 0, 0, 0, 0, 0, 0, 0, 0, 0, 0, 1, 0, 0, 0, 0, 0, 0, 0, 0, 0, 0, 0, 0, 0, 0, 0, 0, 0, 0, 0, 0, 0, 0, 0, 0, 0, 0, 0, 0, 0, 0, 0, 0, 0, 0, 0, 0, 0, 0, 0, 0, 0, 0, 0, 0, 0, 0, 0, 0, 0, 0, 0, 0, 0, 0, 0, 0, 0, 0, 0, 0, 0, 0, 0, 0, 0, 0, 0, 0, 0, 0, 0, 0, 0, 0, 0, 0, 0, 0, 0, 0, 0, 0, 0, 0, 0, 0, 0, 0, 0, 0, 0, 0, 0, 0, 0, 0, 0, 0, 0, 0, 0, 0, 0, 0, 0, 0, 0, 0, 0, 0, 0, 0, 0, 0, 0, 0, 0, 0, 0, 0, 0, 0, 0, 0, 0, 0, 0, 0, 0, 0, 0, 0, 0, 0, 0, 0, 0, 0, 0, 0, 0, 0, 0, 0, 1, 0, 0, 0, 0, 0, 0, 0, 0, 0, 0, 0, 0, 0, 0, 0, 0, 0, 0, 0, 0, 0, 0, 0, 0, 0, 0, 0, 0, 0, 0, 0, 0, 0, 0, 0, 0, 0, 0, 0, 0, 0, 0, 0, 0, 0, 0, 0, 0, 0, 0, 0, 0, 0, 0, 0, 0, 0, 0, 0, 0, 0, 0, 0, 0, 0, 0, 0, 0, 1, 1, 1, 1, 1, 0, 0, 0, 0, 0, 0, 0, 0, 0, 0, 0, 0, 0, 0, 0, 0, 0, 0, 0, 0, 0, 0, 0, 0, 0, 0, 0, 0, 0, 0, 0, 0, 0, 0, 0, 0, 0, 0, 0, 0, 0, 0, 0, 0, 0, 0, 0, 0, 0, 0, 0, 0, 0, 0, 0, 0, 0, 0, 0, 0, 0, 0, 0, 0, 0, 0, 0, 0, 0, 0, 0, 0, 0, 0, 0, 0, 0, 0, 0, 0, 0, 0, 0, 0, 0, 0, 0, 0, 0, 0, 0, 0, 0, 0, 0, 0, 0, 0, 0, 0, 0, 0, 0, 0, 0, 0, 0, 0, 0, 0, 0, 0, 0, 0, 0, 0, 0, 0, 0, 0, 0, 0, 0, 0, 0, 0, 0, 0, 0, 0, 0, 0, 0, 0, 0, 0, 0, 0, 0, 0, 0, 0, 0, 0, 0, 0, 0, 0, 0, 0, 0, 0, 0, 0, 0, 0, 0, 0, 0, 0, 0, 0, 0, 0, 0, 0, 0, 0, 0, 0, 0, 0, 0, 0, 0, 0, 0, 0, 0, 0, 0, 0, 0, 0, 0, 0, 0, 0, 0, 0, 0, 0, 0, 0, 0, 0, 0, 0, 0, 0, 0, 0, 0, 0, 0, 0, 0, 0, 0, 0, 0, 0, 0, 0, 0, 0, 0, 0, 0, 0, 0, 0, 0, 0, 0, 0, 0, 0, 0, 0, 0, 0, 0, 0, 0, 0, 0, 0, 0, 0, 0, 0, 0, 0, 0, 0, 0, 0, 0, 0, 0, 0, 0, 0, 0, 0, 0, 0, 0, 0, 0, 0, 0, 0, 0, 0, 0, 0, 0, 0, 0, 0, 0, 0, 0, 0, 0, 0, 0, 0, 0, 0, 0, 0, 0, 0, 0, 0, 0, 0, 0, 0, 0, 0, 0, 0, 0, 0, 0, 0, 0, 0, 0, 0, 0, 0, 0, 0, 0, 0, 0, 0, 0, 0, 0, 0, 0, 0, 0, 0, 0, 0, 0, 0, 0, 0, 0, 0, 0, 0, 0, 0, 0, 0, 0, 0, 0, 0, 0, 0, 0, 0, 0, 0, 0, 0, 0, 0, 0, 0, 0, 0, 0, 0, 0, 0, 0, 0, 0, 0, 0, 0, 0, 0, 0, 0, 0, 0, 0, 1, 0, 0, 1, 1, 0, 0, 0, 0, 0, 0, 0, 0, 0, 0, 0, 0, 0, 0, 0, 0, 0, 0, 0, 0, 0, 0, 0, 0, 0, 1, 1, 1, 1, 1, 0, 0, 0, 0, 0, 0, 0, 0, 0, 0, 0, 1, 1, 0, 0, 0, 0, 0, 0, 0, 0, 0, 0, 0, 0, 0, 0, 0, 0, 0, 0, 0, 0, 0, 0, 0, 0, 0, 0, 0, 0, 0, 0, 0, 0, 0, 0, 0, 0, 0, 0, 0, 0, 0, 0, 0, 0, 0, 0, 0, 0, 0, 0, 0, 0, 0, 0, 0, 0, 0, 0, 0, 0, 0, 0, 0, 0, 0, 0, 0, 0, 0, 0, 0, 0, 0, 0, 0, 0, 0, 0, 0, 0, 0, 0, 0, 0, 0, 0, 0, 0, 0, 0, 0, 0, 0, 0, 0, 0, 0, 0, 0, 0, 0, 0, 0, 0, 0, 0, 0, 0, 0, 0, 0, 0, 0, 0, 0, 0, 0, 0, 0, 0, 0, 0, 0, 0, 0, 0, 0, 0, 0, 0, 0, 0, 0, 0, 0, 0, 0, 0, 0, 0, 0, 0, 0, 0, 0, 0, 0, 0, 0, 0, 0, 0, 0, 0, 0, 0, 0, 0, 0, 0, 0, 0, 0, 0, 0, 0, 0, 0, 0, 0, 0, 0, 0, 0, 0, 0, 0, 0, 0, 0, 0, 0, 0, 0, 0, 0, 0, 0, 0, 0, 0, 0, 0, 0, 0, 0, 0, 0, 0, 0, 0, 0, 0, 0, 0, 0, 0, 0, 0, 0, 0, 0, 0, 0, 0, 0, 0, 0, 0, 0, 0, 0, 0, 0, 0, 0, 0, 0, 0, 0, 0, 0, 0, 0, 0, 0, 0, 0, 0, 0, 0, 0, 0, 0, 0, 0, 0, 0, 0, 0, 0, 0, 0, 0, 0, 0, 0, 0, 0, 0, 0, 0, 0, 0, 0, 0, 0, 0, 0, 0, 0, 0, 0, 0, 0, 0, 0, 0, 0, 0, 0, 0, 0, 0, 0, 0, 0, 0, 0, 0, 0, 0, 0, 0, 0, 0, 0, 0, 0, 0, 0, 0, 0, 0, 0, 0, 0, 0, 0, 0, 0, 0, 0, 0, 0, 0, 0, 0, 0, 0, 0, 0, 0, 0, 0, 0, 0, 0, 0, 0, 0, 0, 0, 0, 0, 0, 0, 0, 0, 0, 0, 0, 0, 0, 0, 0, 0, 0, 0, 0, 0, 0, 0, 0, 0, 0, 0, 0, 0, 0, 0, 0, 0, 0, 0, 0, 0, 0, 0, 0, 0, 0, 0, 0, 0, 0, 0, 0, 0, 0, 0, 0, 0, 0, 0, 0, 0, 0, 0, 0, 0, 0, 0, 0, 0, 0, 0, 0, 0, 0, 0, 0, 0, 0, 0, 0, 0, 0, 0, 0, 0, 0, 0, 0, 0, 0, 0, 0, 0, 0, 0, 0, 0, 0, 0, 0, 0, 0, 0, 0, 0, 0, 0, 0, 0, 0, 0, 0, 0, 0, 0, 0, 0, 0, 0, 0, 0, 0, 0, 0, 0, 0, 0, 0, 0, 0, 0, 0, 0, 0, 0, 0, 0, 0, 0, 0, 0, 0, 0, 0, 0, 0, 0, 0, 0, 0, 0, 0, 0, 0, 0, 0, 0, 0, 0, 0, 0, 0, 0, 0, 0, 0, 0, 0, 0, 0, 0, 0, 0, 0, 0, 0, 0, 0, 0, 0, 0, 0, 0, 0, 0, 0, 0, 0, 0, 0, 0, 0, 0, 0, 0, 0, 0, 0, 0, 0, 0, 0, 0, 0, 0, 0, 0])])"
            ]
          },
          "metadata": {},
          "execution_count": 70
        }
      ]
    },
    {
      "cell_type": "code",
      "source": [
        "listOfSaws = list(class_preds.items())\n",
        "listOfSaws = listOfSaws[0][1]"
      ],
      "metadata": {
        "id": "fQ0lHv2s7l8j"
      },
      "execution_count": 71,
      "outputs": []
    },
    {
      "cell_type": "code",
      "source": [
        "#search for Saws in a clip and convert the 3 sec index to the actual time in the clip\n",
        "import datetime\n",
        "\n",
        "for count, value in enumerate(listOfSaws):\n",
        "  if value == 1:\n",
        "    print(\"Index \" + str(count) + \" | Audio Clip Time Interval \" + str(datetime.timedelta(seconds=int(count*3))))"
      ],
      "metadata": {
        "colab": {
          "base_uri": "https://localhost:8080/"
        },
        "id": "qkWwCpAjhCwh",
        "outputId": "6eb48c7c-55bb-48f9-a966-4c76e24615ad"
      },
      "execution_count": 72,
      "outputs": [
        {
          "output_type": "stream",
          "name": "stdout",
          "text": [
            "Index 30 | Audio Clip Time Interval 0:01:30\n",
            "Index 175 | Audio Clip Time Interval 0:08:45\n",
            "Index 244 | Audio Clip Time Interval 0:12:12\n",
            "Index 245 | Audio Clip Time Interval 0:12:15\n",
            "Index 246 | Audio Clip Time Interval 0:12:18\n",
            "Index 247 | Audio Clip Time Interval 0:12:21\n",
            "Index 248 | Audio Clip Time Interval 0:12:24\n",
            "Index 618 | Audio Clip Time Interval 0:30:54\n",
            "Index 621 | Audio Clip Time Interval 0:31:03\n",
            "Index 622 | Audio Clip Time Interval 0:31:06\n",
            "Index 648 | Audio Clip Time Interval 0:32:24\n",
            "Index 649 | Audio Clip Time Interval 0:32:27\n",
            "Index 650 | Audio Clip Time Interval 0:32:30\n",
            "Index 651 | Audio Clip Time Interval 0:32:33\n",
            "Index 652 | Audio Clip Time Interval 0:32:36\n",
            "Index 664 | Audio Clip Time Interval 0:33:12\n",
            "Index 665 | Audio Clip Time Interval 0:33:15\n"
          ]
        }
      ]
    },
    {
      "cell_type": "code",
      "source": [
        "#Functions to facilitate creating a csv file and storing time stepped results\n",
        "def convert(n):\n",
        "    return str(datetime.timedelta(seconds = n))\n",
        "\n",
        "def save_results(directory, dictionary):    \n",
        "    try:\n",
        "        os.mkdir(directory)\n",
        "    except:\n",
        "        pass\n",
        "    \n",
        "    for file, logits in class_preds.items():\n",
        "      col_len = len(logits)\n",
        "      sec = [x for x in range(0, col_len*3, 3)]\n",
        "      form = [convert(x) for x in sec]\n",
        "\n",
        "      df = pd.DataFrame({'Timestep': form, 'Prediction': logits}).set_index('Timestep')\n",
        "      path = directory + '/'+ file[0:-4] + '_output.xlsx'\n",
        "      df.to_excel(path)"
      ],
      "metadata": {
        "id": "twMz3PZd7mHQ"
      },
      "execution_count": null,
      "outputs": []
    },
    {
      "cell_type": "code",
      "source": [
        "save_results('/content/TIMED_RESULTS', class_preds)"
      ],
      "metadata": {
        "id": "Y-oGLZES7mRY"
      },
      "execution_count": null,
      "outputs": []
    },
    {
      "cell_type": "code",
      "source": [
        "#This code window, groups consecutive prediction into a single value and outputs sum of all positive samples.\n",
        "#This gives us the call density for each file\n",
        "postprocessed = {}\n",
        "for file, scores in class_preds.items():\n",
        "    postprocessed[file] = tf.math.reduce_sum([key for key, group in groupby(scores)]).numpy()\n",
        "#postprocessed"
      ],
      "metadata": {
        "id": "s9lOqzte7mad"
      },
      "execution_count": null,
      "outputs": []
    },
    {
      "cell_type": "code",
      "source": [
        "#Stores call density into a csv file for further study\n",
        "with open('/content/results.csv', 'w', newline='') as f:\n",
        "    writer = csv.writer(f, delimiter=',')\n",
        "    writer.writerow(['Recording', 'Main Calls'])\n",
        "    for key, value in postprocessed.items():\n",
        "        writer.writerow([key, value])"
      ],
      "metadata": {
        "id": "lJ_Uy7Gj7mku"
      },
      "execution_count": null,
      "outputs": []
    }
  ]
}