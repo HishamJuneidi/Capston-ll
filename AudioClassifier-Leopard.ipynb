{
  "cells": [
    {
      "cell_type": "code",
      "execution_count": 2,
      "metadata": {
        "colab": {
          "base_uri": "https://localhost:8080/"
        },
        "id": "CTnhkZ6o4sEV",
        "outputId": "7c3ebb8f-1011-4ca9-ba21-62e0a4926bb7"
      },
      "outputs": [
        {
          "name": "stdout",
          "output_type": "stream",
          "text": [
            "Mounted at /content/drive\n"
          ]
        }
      ],
      "source": [
        "from google.colab import drive\n",
        "drive.mount('/content/drive') "
      ]
    },
    {
      "cell_type": "code",
      "execution_count": 3,
      "metadata": {
        "colab": {
          "base_uri": "https://localhost:8080/"
        },
        "id": "egUk_Cbo6Ou-",
        "outputId": "0c2114e7-34e1-40cc-cd09-40ebf6bc15a0"
      },
      "outputs": [
        {
          "name": "stdout",
          "output_type": "stream",
          "text": [
            "Looking in indexes: https://pypi.org/simple, https://us-python.pkg.dev/colab-wheels/public/simple/\n",
            "Collecting noisereduce\n",
            "  Downloading noisereduce-2.0.1-py3-none-any.whl (15 kB)\n",
            "Requirement already satisfied: numpy in /usr/local/lib/python3.9/dist-packages (from noisereduce) (1.22.4)\n",
            "Requirement already satisfied: matplotlib in /usr/local/lib/python3.9/dist-packages (from noisereduce) (3.7.1)\n",
            "Requirement already satisfied: librosa in /usr/local/lib/python3.9/dist-packages (from noisereduce) (0.10.0.post2)\n",
            "Requirement already satisfied: scipy in /usr/local/lib/python3.9/dist-packages (from noisereduce) (1.10.1)\n",
            "Requirement already satisfied: tqdm in /usr/local/lib/python3.9/dist-packages (from noisereduce) (4.65.0)\n",
            "Requirement already satisfied: typing-extensions>=4.1.1 in /usr/local/lib/python3.9/dist-packages (from librosa->noisereduce) (4.5.0)\n",
            "Requirement already satisfied: lazy-loader>=0.1 in /usr/local/lib/python3.9/dist-packages (from librosa->noisereduce) (0.1)\n",
            "Requirement already satisfied: decorator>=4.3.0 in /usr/local/lib/python3.9/dist-packages (from librosa->noisereduce) (4.4.2)\n",
            "Requirement already satisfied: pooch<1.7,>=1.0 in /usr/local/lib/python3.9/dist-packages (from librosa->noisereduce) (1.6.0)\n",
            "Requirement already satisfied: joblib>=0.14 in /usr/local/lib/python3.9/dist-packages (from librosa->noisereduce) (1.1.1)\n",
            "Requirement already satisfied: soundfile>=0.12.1 in /usr/local/lib/python3.9/dist-packages (from librosa->noisereduce) (0.12.1)\n",
            "Requirement already satisfied: msgpack>=1.0 in /usr/local/lib/python3.9/dist-packages (from librosa->noisereduce) (1.0.5)\n",
            "Requirement already satisfied: scikit-learn>=0.20.0 in /usr/local/lib/python3.9/dist-packages (from librosa->noisereduce) (1.2.2)\n",
            "Requirement already satisfied: soxr>=0.3.2 in /usr/local/lib/python3.9/dist-packages (from librosa->noisereduce) (0.3.4)\n",
            "Requirement already satisfied: numba>=0.51.0 in /usr/local/lib/python3.9/dist-packages (from librosa->noisereduce) (0.56.4)\n",
            "Requirement already satisfied: audioread>=2.1.9 in /usr/local/lib/python3.9/dist-packages (from librosa->noisereduce) (3.0.0)\n",
            "Requirement already satisfied: importlib-resources>=3.2.0 in /usr/local/lib/python3.9/dist-packages (from matplotlib->noisereduce) (5.12.0)\n",
            "Requirement already satisfied: kiwisolver>=1.0.1 in /usr/local/lib/python3.9/dist-packages (from matplotlib->noisereduce) (1.4.4)\n",
            "Requirement already satisfied: pyparsing>=2.3.1 in /usr/local/lib/python3.9/dist-packages (from matplotlib->noisereduce) (3.0.9)\n",
            "Requirement already satisfied: packaging>=20.0 in /usr/local/lib/python3.9/dist-packages (from matplotlib->noisereduce) (23.0)\n",
            "Requirement already satisfied: contourpy>=1.0.1 in /usr/local/lib/python3.9/dist-packages (from matplotlib->noisereduce) (1.0.7)\n",
            "Requirement already satisfied: cycler>=0.10 in /usr/local/lib/python3.9/dist-packages (from matplotlib->noisereduce) (0.11.0)\n",
            "Requirement already satisfied: pillow>=6.2.0 in /usr/local/lib/python3.9/dist-packages (from matplotlib->noisereduce) (8.4.0)\n",
            "Requirement already satisfied: python-dateutil>=2.7 in /usr/local/lib/python3.9/dist-packages (from matplotlib->noisereduce) (2.8.2)\n",
            "Requirement already satisfied: fonttools>=4.22.0 in /usr/local/lib/python3.9/dist-packages (from matplotlib->noisereduce) (4.39.2)\n",
            "Requirement already satisfied: zipp>=3.1.0 in /usr/local/lib/python3.9/dist-packages (from importlib-resources>=3.2.0->matplotlib->noisereduce) (3.15.0)\n",
            "Requirement already satisfied: setuptools in /usr/local/lib/python3.9/dist-packages (from numba>=0.51.0->librosa->noisereduce) (67.6.0)\n",
            "Requirement already satisfied: llvmlite<0.40,>=0.39.0dev0 in /usr/local/lib/python3.9/dist-packages (from numba>=0.51.0->librosa->noisereduce) (0.39.1)\n",
            "Requirement already satisfied: requests>=2.19.0 in /usr/local/lib/python3.9/dist-packages (from pooch<1.7,>=1.0->librosa->noisereduce) (2.27.1)\n",
            "Requirement already satisfied: appdirs>=1.3.0 in /usr/local/lib/python3.9/dist-packages (from pooch<1.7,>=1.0->librosa->noisereduce) (1.4.4)\n",
            "Requirement already satisfied: six>=1.5 in /usr/local/lib/python3.9/dist-packages (from python-dateutil>=2.7->matplotlib->noisereduce) (1.16.0)\n",
            "Requirement already satisfied: threadpoolctl>=2.0.0 in /usr/local/lib/python3.9/dist-packages (from scikit-learn>=0.20.0->librosa->noisereduce) (3.1.0)\n",
            "Requirement already satisfied: cffi>=1.0 in /usr/local/lib/python3.9/dist-packages (from soundfile>=0.12.1->librosa->noisereduce) (1.15.1)\n",
            "Requirement already satisfied: pycparser in /usr/local/lib/python3.9/dist-packages (from cffi>=1.0->soundfile>=0.12.1->librosa->noisereduce) (2.21)\n",
            "Requirement already satisfied: urllib3<1.27,>=1.21.1 in /usr/local/lib/python3.9/dist-packages (from requests>=2.19.0->pooch<1.7,>=1.0->librosa->noisereduce) (1.26.15)\n",
            "Requirement already satisfied: idna<4,>=2.5 in /usr/local/lib/python3.9/dist-packages (from requests>=2.19.0->pooch<1.7,>=1.0->librosa->noisereduce) (3.4)\n",
            "Requirement already satisfied: charset-normalizer~=2.0.0 in /usr/local/lib/python3.9/dist-packages (from requests>=2.19.0->pooch<1.7,>=1.0->librosa->noisereduce) (2.0.12)\n",
            "Requirement already satisfied: certifi>=2017.4.17 in /usr/local/lib/python3.9/dist-packages (from requests>=2.19.0->pooch<1.7,>=1.0->librosa->noisereduce) (2022.12.7)\n",
            "Installing collected packages: noisereduce\n",
            "Successfully installed noisereduce-2.0.1\n",
            "Looking in indexes: https://pypi.org/simple, https://us-python.pkg.dev/colab-wheels/public/simple/\n",
            "Collecting pydub\n",
            "  Downloading pydub-0.25.1-py2.py3-none-any.whl (32 kB)\n",
            "Installing collected packages: pydub\n",
            "Successfully installed pydub-0.25.1\n",
            "Looking in indexes: https://pypi.org/simple, https://us-python.pkg.dev/colab-wheels/public/simple/\n",
            "Requirement already satisfied: tensorflow in /usr/local/lib/python3.9/dist-packages (2.11.0)\n",
            "Collecting tensorflow_io\n",
            "  Downloading tensorflow_io-0.31.0-cp39-cp39-manylinux_2_12_x86_64.manylinux2010_x86_64.whl (26.9 MB)\n",
            "\u001b[2K     \u001b[90m━━━━━━━━━━━━━━━━━━━━━━━━━━━━━━━━━━━━━━━━\u001b[0m \u001b[32m26.9/26.9 MB\u001b[0m \u001b[31m36.5 MB/s\u001b[0m eta \u001b[36m0:00:00\u001b[0m\n",
            "\u001b[?25hRequirement already satisfied: absl-py>=1.0.0 in /usr/local/lib/python3.9/dist-packages (from tensorflow) (1.4.0)\n",
            "Requirement already satisfied: opt-einsum>=2.3.2 in /usr/local/lib/python3.9/dist-packages (from tensorflow) (3.3.0)\n",
            "Requirement already satisfied: numpy>=1.20 in /usr/local/lib/python3.9/dist-packages (from tensorflow) (1.22.4)\n",
            "Requirement already satisfied: termcolor>=1.1.0 in /usr/local/lib/python3.9/dist-packages (from tensorflow) (2.2.0)\n",
            "Requirement already satisfied: wrapt>=1.11.0 in /usr/local/lib/python3.9/dist-packages (from tensorflow) (1.15.0)\n",
            "Requirement already satisfied: packaging in /usr/local/lib/python3.9/dist-packages (from tensorflow) (23.0)\n",
            "Requirement already satisfied: tensorflow-estimator<2.12,>=2.11.0 in /usr/local/lib/python3.9/dist-packages (from tensorflow) (2.11.0)\n",
            "Requirement already satisfied: astunparse>=1.6.0 in /usr/local/lib/python3.9/dist-packages (from tensorflow) (1.6.3)\n",
            "Requirement already satisfied: gast<=0.4.0,>=0.2.1 in /usr/local/lib/python3.9/dist-packages (from tensorflow) (0.4.0)\n",
            "Requirement already satisfied: typing-extensions>=3.6.6 in /usr/local/lib/python3.9/dist-packages (from tensorflow) (4.5.0)\n",
            "Requirement already satisfied: tensorboard<2.12,>=2.11 in /usr/local/lib/python3.9/dist-packages (from tensorflow) (2.11.2)\n",
            "Requirement already satisfied: flatbuffers>=2.0 in /usr/local/lib/python3.9/dist-packages (from tensorflow) (23.3.3)\n",
            "Requirement already satisfied: google-pasta>=0.1.1 in /usr/local/lib/python3.9/dist-packages (from tensorflow) (0.2.0)\n",
            "Requirement already satisfied: tensorflow-io-gcs-filesystem>=0.23.1 in /usr/local/lib/python3.9/dist-packages (from tensorflow) (0.31.0)\n",
            "Requirement already satisfied: setuptools in /usr/local/lib/python3.9/dist-packages (from tensorflow) (67.6.0)\n",
            "Requirement already satisfied: keras<2.12,>=2.11.0 in /usr/local/lib/python3.9/dist-packages (from tensorflow) (2.11.0)\n",
            "Requirement already satisfied: h5py>=2.9.0 in /usr/local/lib/python3.9/dist-packages (from tensorflow) (3.8.0)\n",
            "Requirement already satisfied: grpcio<2.0,>=1.24.3 in /usr/local/lib/python3.9/dist-packages (from tensorflow) (1.51.3)\n",
            "Requirement already satisfied: protobuf<3.20,>=3.9.2 in /usr/local/lib/python3.9/dist-packages (from tensorflow) (3.19.6)\n",
            "Requirement already satisfied: six>=1.12.0 in /usr/local/lib/python3.9/dist-packages (from tensorflow) (1.16.0)\n",
            "Requirement already satisfied: libclang>=13.0.0 in /usr/local/lib/python3.9/dist-packages (from tensorflow) (15.0.6.1)\n",
            "Requirement already satisfied: wheel<1.0,>=0.23.0 in /usr/local/lib/python3.9/dist-packages (from astunparse>=1.6.0->tensorflow) (0.40.0)\n",
            "Requirement already satisfied: tensorboard-data-server<0.7.0,>=0.6.0 in /usr/local/lib/python3.9/dist-packages (from tensorboard<2.12,>=2.11->tensorflow) (0.6.1)\n",
            "Requirement already satisfied: google-auth<3,>=1.6.3 in /usr/local/lib/python3.9/dist-packages (from tensorboard<2.12,>=2.11->tensorflow) (2.16.2)\n",
            "Requirement already satisfied: requests<3,>=2.21.0 in /usr/local/lib/python3.9/dist-packages (from tensorboard<2.12,>=2.11->tensorflow) (2.27.1)\n",
            "Requirement already satisfied: werkzeug>=1.0.1 in /usr/local/lib/python3.9/dist-packages (from tensorboard<2.12,>=2.11->tensorflow) (2.2.3)\n",
            "Requirement already satisfied: tensorboard-plugin-wit>=1.6.0 in /usr/local/lib/python3.9/dist-packages (from tensorboard<2.12,>=2.11->tensorflow) (1.8.1)\n",
            "Requirement already satisfied: markdown>=2.6.8 in /usr/local/lib/python3.9/dist-packages (from tensorboard<2.12,>=2.11->tensorflow) (3.4.1)\n",
            "Requirement already satisfied: google-auth-oauthlib<0.5,>=0.4.1 in /usr/local/lib/python3.9/dist-packages (from tensorboard<2.12,>=2.11->tensorflow) (0.4.6)\n",
            "Requirement already satisfied: cachetools<6.0,>=2.0.0 in /usr/local/lib/python3.9/dist-packages (from google-auth<3,>=1.6.3->tensorboard<2.12,>=2.11->tensorflow) (5.3.0)\n",
            "Requirement already satisfied: pyasn1-modules>=0.2.1 in /usr/local/lib/python3.9/dist-packages (from google-auth<3,>=1.6.3->tensorboard<2.12,>=2.11->tensorflow) (0.2.8)\n",
            "Requirement already satisfied: rsa<5,>=3.1.4 in /usr/local/lib/python3.9/dist-packages (from google-auth<3,>=1.6.3->tensorboard<2.12,>=2.11->tensorflow) (4.9)\n",
            "Requirement already satisfied: requests-oauthlib>=0.7.0 in /usr/local/lib/python3.9/dist-packages (from google-auth-oauthlib<0.5,>=0.4.1->tensorboard<2.12,>=2.11->tensorflow) (1.3.1)\n",
            "Requirement already satisfied: importlib-metadata>=4.4 in /usr/local/lib/python3.9/dist-packages (from markdown>=2.6.8->tensorboard<2.12,>=2.11->tensorflow) (6.1.0)\n",
            "Requirement already satisfied: charset-normalizer~=2.0.0 in /usr/local/lib/python3.9/dist-packages (from requests<3,>=2.21.0->tensorboard<2.12,>=2.11->tensorflow) (2.0.12)\n",
            "Requirement already satisfied: idna<4,>=2.5 in /usr/local/lib/python3.9/dist-packages (from requests<3,>=2.21.0->tensorboard<2.12,>=2.11->tensorflow) (3.4)\n",
            "Requirement already satisfied: urllib3<1.27,>=1.21.1 in /usr/local/lib/python3.9/dist-packages (from requests<3,>=2.21.0->tensorboard<2.12,>=2.11->tensorflow) (1.26.15)\n",
            "Requirement already satisfied: certifi>=2017.4.17 in /usr/local/lib/python3.9/dist-packages (from requests<3,>=2.21.0->tensorboard<2.12,>=2.11->tensorflow) (2022.12.7)\n",
            "Requirement already satisfied: MarkupSafe>=2.1.1 in /usr/local/lib/python3.9/dist-packages (from werkzeug>=1.0.1->tensorboard<2.12,>=2.11->tensorflow) (2.1.2)\n",
            "Requirement already satisfied: zipp>=0.5 in /usr/local/lib/python3.9/dist-packages (from importlib-metadata>=4.4->markdown>=2.6.8->tensorboard<2.12,>=2.11->tensorflow) (3.15.0)\n",
            "Requirement already satisfied: pyasn1<0.5.0,>=0.4.6 in /usr/local/lib/python3.9/dist-packages (from pyasn1-modules>=0.2.1->google-auth<3,>=1.6.3->tensorboard<2.12,>=2.11->tensorflow) (0.4.8)\n",
            "Requirement already satisfied: oauthlib>=3.0.0 in /usr/local/lib/python3.9/dist-packages (from requests-oauthlib>=0.7.0->google-auth-oauthlib<0.5,>=0.4.1->tensorboard<2.12,>=2.11->tensorflow) (3.2.2)\n",
            "Installing collected packages: tensorflow_io\n",
            "Successfully installed tensorflow_io-0.31.0\n"
          ]
        }
      ],
      "source": [
        "!pip install noisereduce\n",
        "!pip install pydub\n",
        "!pip install tensorflow tensorflow_io"
      ]
    },
    {
      "cell_type": "code",
      "execution_count": 4,
      "metadata": {
        "id": "S85AGNny51ay"
      },
      "outputs": [],
      "source": [
        "import os\n",
        "import time\n",
        "import noisereduce as nr\n",
        "from scipy.io import wavfile\n",
        "import matplotlib.pyplot as plt\n",
        "\n",
        "import librosa\n",
        "import librosa.display\n",
        "\n",
        "from pydub import AudioSegment \n",
        "from pydub.utils import make_chunks"
      ]
    },
    {
      "cell_type": "code",
      "execution_count": 5,
      "metadata": {
        "id": "edmsV7_e51dm"
      },
      "outputs": [],
      "source": [
        "#Helper function to perform required preprocessing\n",
        "\n",
        "#Processing audio clips to create 3 second chunks\n",
        "def process_audio(filename):\n",
        "    myaudio = AudioSegment.from_file(filename, \"wav\") \n",
        "    chunk_length_ms = 3000\n",
        "    chunks = make_chunks(myaudio,chunk_length_ms)  \n",
        "    print(len(chunks))\n",
        "    for i, chunk in enumerate(chunks):\n",
        "        filename = os.path.splitext(filename)[0]\n",
        "        chunk_name = './chunked/' + filename + \"_{0}.wav\".format(i) \n",
        "        chunk.export(chunk_name, format=\"wav\")\n",
        "\n",
        "#Eliminiting noise fron audio clips\n",
        "def eliminate_noise(path, filename):\n",
        "    audio, sample_rate = librosa.load(path)\n",
        "    reduced_noise = nr.reduce_noise(y=audio, sr=sample_rate)\n",
        "    filename = os.path.splitext(filename)[0]\n",
        "    wavfile.write('./reduced/' + filename + \"_reduced.wav\", sample_rate, reduced_noise)\n",
        "\n",
        "#Converts audio clips to spectrograms \n",
        "def convert_to_spec(path, filename):\n",
        "    x, sr = librosa.load(path)\n",
        "    filename = os.path.splitext(filename)[0]\n",
        "    fname = './images/' + filename + '.png'\n",
        "    X = librosa.stft(x)\n",
        "    Xdb = librosa.amplitude_to_db(abs(X))\n",
        "    fig = plt.figure(frameon = False)\n",
        "    ax = plt.Axes(fig, [0., 0., 1., 1.])\n",
        "    ax.set_axis_off()\n",
        "    fig.add_axes(ax)\n",
        "    fin = librosa.display.specshow(Xdb, sr=sr, x_axis='time', y_axis='hz')\n",
        "    fig.savefig(fname, dpi='figure')\n",
        "    plt.close();"
      ]
    },
    {
      "cell_type": "code",
      "execution_count": 6,
      "metadata": {
        "id": "kbPSQk7FuwyA"
      },
      "outputs": [],
      "source": [
        "#This function loads an audio clip and resamples it to 16000 samples/second\n",
        "# import librosa    \n",
        "import os\n",
        "import csv\n",
        "import pandas as pd\n",
        "import datetime\n",
        "from itertools import groupby\n",
        "from matplotlib import pyplot as plt\n",
        "\n",
        "import tensorflow as tf \n",
        "import tensorflow_io as tfio\n",
        "from tensorflow.keras.models import Sequential\n",
        "from tensorflow.keras.layers import Conv2D, Dense, Flatten\n",
        "\n",
        "def load_wav_16k_mono(filename):\n",
        "    # Load encoded wav file\n",
        "    file_contents = tf.io.read_file(filename)\n",
        "    # Decode wav (tensors by channels) \n",
        "    wav, sample_rate = tf.audio.decode_wav(file_contents, desired_channels=1)\n",
        "    # Removes trailing axis\n",
        "    wav = tf.squeeze(wav, axis=-1)\n",
        "    sample_rate = tf.cast(sample_rate, dtype=tf.int64)\n",
        "    # Goes from 44100Hz to 16000hz - amplitude of the audio signal\n",
        "    wav = tfio.audio.resample(wav, rate_in=sample_rate, rate_out=16000)\n",
        "    # wav, s = librosa.load(filename, sr=16000)\n",
        " \n",
        "\n",
        "    return wav"
      ]
    },
    {
      "cell_type": "code",
      "execution_count": 7,
      "metadata": {
        "id": "bGR8-aUSu-hN"
      },
      "outputs": [],
      "source": [
        "#Tensorflow only works with 16-bit .wav files\n",
        "#This function converts them into 16-bit and stores them to the target directory\n",
        "\n",
        "import soundfile\n",
        "import os\n",
        "\n",
        "def convertTo16Bit(directory):\n",
        "    for file in os.listdir(directory):\n",
        "         if(file.endswith('.wav')):\n",
        "                nameSolo = file.rsplit('.', 1)[0]\n",
        "                path = directory + '/' + file\n",
        "                #print(directory + f'/{nameSolo}')\n",
        "                data, samplerate = soundfile.read(path)\n",
        "\n",
        "                soundfile.write('/content/Test16BIT' + nameSolo + '_16BIT.wav', data, samplerate, subtype='PCM_16')\n",
        "                #print(\"converting \" + file + \"to 16 - bit\")"
      ]
    },
    {
      "cell_type": "code",
      "execution_count": 46,
      "metadata": {
        "id": "rImmEbFSvEil"
      },
      "outputs": [],
      "source": [
        "convertTo16Bit('/content/Test')"
      ]
    },
    {
      "cell_type": "code",
      "execution_count": 9,
      "metadata": {
        "colab": {
          "base_uri": "https://localhost:8080/"
        },
        "id": "L6wi3UK8XUjP",
        "outputId": "3a006890-b570-453b-a294-dd079ba32c8b"
      },
      "outputs": [
        {
          "name": "stdout",
          "output_type": "stream",
          "text": [
            "Preprocessing Complete\n"
          ]
        }
      ],
      "source": [
        "#This code window performs all required preprocessing to the audio files\n",
        "#This will help us study the data and create a dataset \n",
        "cwd = os.listdir('data')\n",
        "\n",
        "for folder in cwd:\n",
        "    \n",
        "    data_path = './data/'+folder\n",
        "    os.chdir(data_path)\n",
        "    \n",
        "    try:\n",
        "        os.makedirs('chunked')\n",
        "        os.makedirs('reduced')\n",
        "        os.makedirs('images')\n",
        "    except:\n",
        "        pass\n",
        "    \n",
        "    #start_time = time.perf_counter()\n",
        "    \n",
        "    audio_file = os.listdir()\n",
        "    for file in audio_file:\n",
        "        if ('.wav' in file):\n",
        "            process_audio(file)\n",
        "    print(\"Audio Splitting Complete\")\n",
        "    \n",
        "    #print(time.perf_counter() - start_time, \"seconds\")\n",
        "    \n",
        "    #start_time = time.perf_counter()\n",
        "    \n",
        "    chunked_files = os.listdir('chunked')\n",
        "    for file in chunked_files:\n",
        "        path = \"./chunked/\"+ file\n",
        "        eliminate_noise(path, file)\n",
        "    print(\"Eliminated Noise\")\n",
        "    \n",
        "    #print(time.perf_counter() - start_time, \"seconds\")\n",
        "    \n",
        "    #start_time = time.perf_counter()\n",
        "    \n",
        "    reduced_files = os.listdir('reduced')\n",
        "    for file in reduced_files:\n",
        "        path = \"./reduced/\"+ file\n",
        "        convert_to_spec(path, file)\n",
        "    print(\"Spectrograms Generated\")\n",
        "    \n",
        "    #print(time.perf_counter() - start_time, \"seconds\")\n",
        "    \n",
        "    os.chdir('../') \n",
        "    os.chdir('../') \n",
        "\n",
        "print(\"Preprocessing Complete\")"
      ]
    },
    {
      "cell_type": "markdown",
      "metadata": {
        "id": "yrs6NMQWsACB"
      },
      "source": [
        "# Main model building\n",
        "### Test16BITSMM07257_20221118_163302_annotated_16BIT.wav"
      ]
    },
    {
      "cell_type": "code",
      "execution_count": 24,
      "metadata": {
        "colab": {
          "base_uri": "https://localhost:8080/"
        },
        "id": "QAsDdcf1-zrv",
        "outputId": "cc710c09-0ca1-4b78-9b6f-1bad5d577aff"
      },
      "outputs": [
        {
          "name": "stdout",
          "output_type": "stream",
          "text": [
            "mv: cannot stat '/content/*.wav': No such file or directory\n"
          ]
        }
      ],
      "source": [
        "#upload moan data (3 sec audio), them create Moan folder, then move them to Moan folder\n",
        "!mv /content/*.wav /content/Saw"
      ]
    },
    {
      "cell_type": "code",
      "execution_count": null,
      "metadata": {
        "id": "Gg1lIdRx_pZL"
      },
      "outputs": [],
      "source": [
        "!mv /content/*.wav /content/NoSaw"
      ]
    },
    {
      "cell_type": "code",
      "execution_count": 10,
      "metadata": {
        "id": "J-jRmcQnsNds"
      },
      "outputs": [],
      "source": [
        "#Storing samples from each class for test runs\n",
        "\n",
        "LEOPARD_FILE = \"/content/drive/MyDrive/Leopard/Saw/Test16BITSMM07257_20221118_033302_16BIT_621.wav\"\n",
        "NOT_LEOPARD_FILE = \"/content/drive/MyDrive/Leopard/NoSaw/Test16BITSMM07257_20221118_063302_16BIT_137.wav\""
      ]
    },
    {
      "cell_type": "code",
      "execution_count": 11,
      "metadata": {
        "id": "nSHGzWyysNxx"
      },
      "outputs": [],
      "source": [
        "#Loading test files and assigning them to variables\n",
        "wave = load_wav_16k_mono(LEOPARD_FILE)\n",
        "nwave= load_wav_16k_mono(NOT_LEOPARD_FILE)"
      ]
    },
    {
      "cell_type": "code",
      "execution_count": 12,
      "metadata": {
        "colab": {
          "base_uri": "https://localhost:8080/",
          "height": 269
        },
        "id": "QpNKwL9ysN3X",
        "outputId": "015840cc-27ba-448c-b225-4a9bf3112d25"
      },
      "outputs": [
        {
          "data": {
            "image/png": "[encoded data removed]",
            "text/plain": [
              "<Figure size 432x288 with 1 Axes>"
            ]
          },
          "metadata": {
            "needs_background": "light"
          },
          "output_type": "display_data"
        }
      ],
      "source": [
        "#Plotting example positive and negative samples\n",
        "plt.plot(wave)\n",
        "plt.plot(nwave)\n",
        "plt.show()"
      ]
    },
    {
      "cell_type": "code",
      "execution_count": 13,
      "metadata": {
        "id": "JZgWI329sN9Q"
      },
      "outputs": [],
      "source": [
        "#This creates a dataset from the positive and negative samples and loads them onto two variables\n",
        "\n",
        "# this the folder for the imgs\n",
        "pos = tf.data.Dataset.list_files('/content/drive/MyDrive/Leopard/Saw/*.wav')\n",
        "neg = tf.data.Dataset.list_files('/content/drive/MyDrive/Leopard/NoSaw/*.wav')"
      ]
    },
    {
      "cell_type": "code",
      "execution_count": 14,
      "metadata": {
        "colab": {
          "base_uri": "https://localhost:8080/"
        },
        "id": "zJvWtOSjMorq",
        "outputId": "aa8ba6b5-4a56-4dc0-dc7b-1ceab9f2acf8"
      },
      "outputs": [
        {
          "data": {
            "text/plain": [
              "(100, 100)"
            ]
          },
          "execution_count": 14,
          "metadata": {},
          "output_type": "execute_result"
        }
      ],
      "source": [
        "len(pos), len(neg)"
      ]
    },
    {
      "cell_type": "code",
      "execution_count": 15,
      "metadata": {
        "colab": {
          "base_uri": "https://localhost:8080/"
        },
        "id": "Kv2Ne2I-4kUM",
        "outputId": "7dd97096-b479-4020-8f9b-35bd450dba6e"
      },
      "outputs": [
        {
          "data": {
            "text/plain": [
              "((b'/content/drive/MyDrive/Leopard/Saw/Test16BITSMM07257_20221119_153302_16BIT_889.wav',\n",
              "  1.0),\n",
              " 200)"
            ]
          },
          "execution_count": 15,
          "metadata": {},
          "output_type": "execute_result"
        }
      ],
      "source": [
        "#Adding samples labels to each sample set. potsitive examples are assigned label '1' and negative samples are assigned label '0'\n",
        "positives = tf.data.Dataset.zip((pos, tf.data.Dataset.from_tensor_slices(tf.ones(len(pos)))))\n",
        "negatives = tf.data.Dataset.zip((neg, tf.data.Dataset.from_tensor_slices(tf.zeros(len(neg)))))\n",
        "#Consolidating all samples under one variable sequentially\n",
        "data = positives.concatenate(negatives)\n",
        "data.as_numpy_iterator().next() , len(data)"
      ]
    },
    {
      "cell_type": "code",
      "execution_count": 16,
      "metadata": {
        "colab": {
          "base_uri": "https://localhost:8080/"
        },
        "id": "FttCThT-G9Oa",
        "outputId": "9451f9b3-1217-41e7-94da-ce5a564c0a2a"
      },
      "outputs": [
        {
          "data": {
            "text/plain": [
              "(b'/content/drive/MyDrive/Leopard/NoSaw/Test16BITSMM07257_20221118_063302_16BIT_262.wav',\n",
              " 0.0)"
            ]
          },
          "execution_count": 16,
          "metadata": {},
          "output_type": "execute_result"
        }
      ],
      "source": [
        "negatives.as_numpy_iterator().next() "
      ]
    },
    {
      "cell_type": "code",
      "execution_count": 17,
      "metadata": {
        "id": "r3T5PDUp4kb7"
      },
      "outputs": [],
      "source": [
        "#This function loads an audio clip and converts it to a spectrogram for further processing\n",
        "\n",
        "def preprocess(file_path, label): \n",
        "    print(file_path)\n",
        "    wav = load_wav_16k_mono(file_path)\n",
        "    spectrogram = tf.signal.stft(wav, frame_length=320, frame_step=320, window_fn=None)\n",
        "    spectrogram = tf.abs(spectrogram)\n",
        "    spectrogram = tf.expand_dims(spectrogram, axis=2)\n",
        "    # print(spectrogram, label)\n",
        "    return spectrogram, label"
      ]
    },
    {
      "cell_type": "code",
      "execution_count": 18,
      "metadata": {
        "colab": {
          "base_uri": "https://localhost:8080/",
          "height": 628
        },
        "id": "fwy72N5o4knt",
        "outputId": "c2f3c2a0-8e6e-49e9-e778-7c6b3d4a2aa6"
      },
      "outputs": [
        {
          "name": "stdout",
          "output_type": "stream",
          "text": [
            "b'/content/drive/MyDrive/Leopard/Saw/Test16BITSMM07257_20221119_153302_16BIT_850.wav'  |  1.0\n",
            "b'/content/drive/MyDrive/Leopard/Saw/Test16BITSMM07257_20221119_153302_16BIT_850.wav'\n"
          ]
        },
        {
          "data": {
            "image/png": "[encoded data removed]",
            "text/plain": [
              "<Figure size 1440x720 with 1 Axes>"
            ]
          },
          "metadata": {
            "needs_background": "light"
          },
          "output_type": "display_data"
        }
      ],
      "source": [
        "#Extracting one sample and plotting it's spectrogram for analysis\n",
        "\n",
        "filepath, label = positives.shuffle(buffer_size=10000).as_numpy_iterator().next()\n",
        "print(filepath, \" | \", label)\n",
        "spectrogram, label = preprocess(filepath, label)\n",
        "\n",
        "plt.figure(figsize=(20,10))\n",
        "plt.imshow(tf.transpose(spectrogram)[0])\n",
        "plt.show()"
      ]
    },
    {
      "cell_type": "code",
      "execution_count": 20,
      "metadata": {
        "colab": {
          "base_uri": "https://localhost:8080/"
        },
        "id": "LRDcDn7w4kze",
        "outputId": "1bff880f-633e-42c5-ff36-34347f6f5b47"
      },
      "outputs": [
        {
          "name": "stderr",
          "output_type": "stream",
          "text": [
            "WARNING:tensorflow:From /usr/local/lib/python3.9/dist-packages/tensorflow/python/autograph/pyct/static_analysis/liveness.py:83: Analyzer.lamba_check (from tensorflow.python.autograph.pyct.static_analysis.liveness) is deprecated and will be removed after 2023-09-23.\n",
            "Instructions for updating:\n",
            "Lambda fuctions will be no more assumed to be used in the statement where they are used, or at least in the same block. https://github.com/tensorflow/tensorflow/issues/56089\n"
          ]
        },
        {
          "name": "stdout",
          "output_type": "stream",
          "text": [
            "Tensor(\"args_0:0\", shape=(), dtype=string)\n"
          ]
        },
        {
          "name": "stderr",
          "output_type": "stream",
          "text": [
            "WARNING:tensorflow:Using a while_loop for converting IO>AudioResample cause there is no registered converter for this op.\n"
          ]
        }
      ],
      "source": [
        "#Creating a data loading pipeline, that shuffles the dataset and creates batches of 16 images\n",
        "\n",
        "# data = tf.data.Dataset.map(preprocess)\n",
        "data= data.map(preprocess)\n",
        "data = data.cache()\n",
        "data = data.shuffle(buffer_size=1000)\n",
        "data = data.batch(16)\n",
        "data = data.prefetch(8)"
      ]
    },
    {
      "cell_type": "code",
      "execution_count": 21,
      "metadata": {
        "colab": {
          "base_uri": "https://localhost:8080/"
        },
        "id": "5uR-m9y4hyxM",
        "outputId": "53791688-d6d7-4ce5-9fb5-85efddcf5635"
      },
      "outputs": [
        {
          "data": {
            "text/plain": [
              "13"
            ]
          },
          "execution_count": 21,
          "metadata": {},
          "output_type": "execute_result"
        }
      ],
      "source": [
        "len(data)"
      ]
    },
    {
      "cell_type": "code",
      "execution_count": 22,
      "metadata": {
        "id": "yYol99QH4lFq"
      },
      "outputs": [],
      "source": [
        "#Splitting dataset into train and test sets\n",
        "train = data.take(10)\n",
        "test = data.skip(10).take(1)"
      ]
    },
    {
      "cell_type": "code",
      "execution_count": 23,
      "metadata": {
        "colab": {
          "base_uri": "https://localhost:8080/"
        },
        "id": "6L0yXI-FNfCL",
        "outputId": "3a69687d-d9fa-4675-865f-bb383dfe5071"
      },
      "outputs": [
        {
          "data": {
            "text/plain": [
              "(10, 1)"
            ]
          },
          "execution_count": 23,
          "metadata": {},
          "output_type": "execute_result"
        }
      ],
      "source": [
        "len(train),len(test)"
      ]
    },
    {
      "cell_type": "code",
      "execution_count": 24,
      "metadata": {
        "id": "xB8dF69y4lXM"
      },
      "outputs": [],
      "source": [
        "#Extracting random example from train set\n",
        "samples, labels = train.as_numpy_iterator().next()"
      ]
    },
    {
      "cell_type": "markdown",
      "metadata": {
        "id": "sP9b9EJiprnB"
      },
      "source": []
    },
    {
      "cell_type": "code",
      "execution_count": 25,
      "metadata": {
        "colab": {
          "base_uri": "https://localhost:8080/"
        },
        "id": "DZbCJSQ-4lmM",
        "outputId": "fdc937ea-0c39-4129-a77a-29f210086b57"
      },
      "outputs": [
        {
          "data": {
            "text/plain": [
              "(16, 150, 257, 1)"
            ]
          },
          "execution_count": 25,
          "metadata": {},
          "output_type": "execute_result"
        }
      ],
      "source": [
        "#Outputs shape of example train sample. \n",
        "#This gives the input_shape for the Convolutional Neural Network\n",
        "samples.shape"
      ]
    },
    {
      "cell_type": "code",
      "execution_count": 26,
      "metadata": {
        "id": "Y4-W1mtO6dbS"
      },
      "outputs": [],
      "source": [
        "#Creating a sequential convolutional neural network model\n",
        "\n",
        "model = Sequential()\n",
        "model.add(Conv2D(16, (3,3), activation='relu', input_shape=(150,257,1)))\n",
        "model.add(Conv2D(5, (3,3), activation='relu'))\n",
        "model.add(Flatten())\n",
        "model.add(Dense(128, activation='relu'))\n",
        "model.add(Dense(1, activation='sigmoid'))"
      ]
    },
    {
      "cell_type": "code",
      "execution_count": 27,
      "metadata": {
        "id": "eaeBeLjh6dg1"
      },
      "outputs": [],
      "source": [
        "#Model compilation\n",
        "model.compile('Adam', loss='BinaryCrossentropy', metrics=[tf.keras.metrics.Recall(),tf.keras.metrics.Precision(), tf.keras.metrics.Accuracy()])"
      ]
    },
    {
      "cell_type": "code",
      "execution_count": 28,
      "metadata": {
        "colab": {
          "base_uri": "https://localhost:8080/"
        },
        "id": "3loaXAcT6dmR",
        "outputId": "5a354357-47c9-43de-bd11-83966be1cff6"
      },
      "outputs": [
        {
          "name": "stdout",
          "output_type": "stream",
          "text": [
            "Model: \"sequential\"\n",
            "_________________________________________________________________\n",
            " Layer (type)                Output Shape              Param #   \n",
            "=================================================================\n",
            " conv2d (Conv2D)             (None, 148, 255, 16)      160       \n",
            "                                                                 \n",
            " conv2d_1 (Conv2D)           (None, 146, 253, 5)       725       \n",
            "                                                                 \n",
            " flatten (Flatten)           (None, 184690)            0         \n",
            "                                                                 \n",
            " dense (Dense)               (None, 128)               23640448  \n",
            "                                                                 \n",
            " dense_1 (Dense)             (None, 1)                 129       \n",
            "                                                                 \n",
            "=================================================================\n",
            "Total params: 23,641,462\n",
            "Trainable params: 23,641,462\n",
            "Non-trainable params: 0\n",
            "_________________________________________________________________\n"
          ]
        }
      ],
      "source": [
        "#Outputs model summary and model parameters\n",
        "model.summary()"
      ]
    },
    {
      "cell_type": "code",
      "execution_count": 29,
      "metadata": {
        "colab": {
          "base_uri": "https://localhost:8080/"
        },
        "id": "l_Mfe53l6drS",
        "outputId": "cffeb9a1-9d10-4b89-b7a0-34abc79f485c"
      },
      "outputs": [
        {
          "name": "stdout",
          "output_type": "stream",
          "text": [
            "Epoch 1/30\n",
            "10/10 [==============================] - 15s 1s/step - loss: 0.8125 - recall: 0.9091 - precision: 0.5691 - accuracy: 0.2937 - val_loss: 0.1363 - val_recall: 1.0000 - val_precision: 1.0000 - val_accuracy: 0.3750\n",
            "Epoch 2/30\n",
            "10/10 [==============================] - 13s 1s/step - loss: 0.2964 - recall: 0.8333 - precision: 1.0000 - accuracy: 0.3438 - val_loss: 0.2232 - val_recall: 0.8000 - val_precision: 1.0000 - val_accuracy: 0.1875\n",
            "Epoch 3/30\n",
            "10/10 [==============================] - 15s 2s/step - loss: 0.1867 - recall: 0.8929 - precision: 0.9868 - accuracy: 0.3750 - val_loss: 0.1998 - val_recall: 0.7500 - val_precision: 1.0000 - val_accuracy: 0.3125\n",
            "Epoch 4/30\n",
            "10/10 [==============================] - 13s 1s/step - loss: 0.0912 - recall: 0.9367 - precision: 0.9867 - accuracy: 0.3812 - val_loss: 0.0321 - val_recall: 1.0000 - val_precision: 1.0000 - val_accuracy: 0.4375\n",
            "Epoch 5/30\n",
            "10/10 [==============================] - 13s 1s/step - loss: 0.0632 - recall: 0.9740 - precision: 0.9868 - accuracy: 0.3938 - val_loss: 0.0079 - val_recall: 1.0000 - val_precision: 1.0000 - val_accuracy: 0.3750\n",
            "Epoch 6/30\n",
            "10/10 [==============================] - 11s 1s/step - loss: 0.0337 - recall: 0.9740 - precision: 1.0000 - accuracy: 0.3812 - val_loss: 0.0070 - val_recall: 1.0000 - val_precision: 1.0000 - val_accuracy: 0.6875\n",
            "Epoch 7/30\n",
            "10/10 [==============================] - 12s 1s/step - loss: 0.0118 - recall: 1.0000 - precision: 1.0000 - accuracy: 0.4187 - val_loss: 0.0071 - val_recall: 1.0000 - val_precision: 1.0000 - val_accuracy: 0.5000\n",
            "Epoch 8/30\n",
            "10/10 [==============================] - 13s 1s/step - loss: 0.0149 - recall: 0.9873 - precision: 1.0000 - accuracy: 0.4313 - val_loss: 0.0162 - val_recall: 1.0000 - val_precision: 1.0000 - val_accuracy: 0.5000\n",
            "Epoch 9/30\n",
            "10/10 [==============================] - 12s 1s/step - loss: 0.0064 - recall: 1.0000 - precision: 1.0000 - accuracy: 0.4750 - val_loss: 0.0023 - val_recall: 1.0000 - val_precision: 1.0000 - val_accuracy: 0.3125\n",
            "Epoch 10/30\n",
            "10/10 [==============================] - 11s 1s/step - loss: 0.0030 - recall: 1.0000 - precision: 1.0000 - accuracy: 0.4125 - val_loss: 2.9369e-04 - val_recall: 1.0000 - val_precision: 1.0000 - val_accuracy: 0.3125\n",
            "Epoch 11/30\n",
            "10/10 [==============================] - 13s 1s/step - loss: 0.0026 - recall: 1.0000 - precision: 1.0000 - accuracy: 0.4250 - val_loss: 8.9289e-04 - val_recall: 1.0000 - val_precision: 1.0000 - val_accuracy: 0.6250\n",
            "Epoch 12/30\n",
            "10/10 [==============================] - 12s 1s/step - loss: 7.7722e-04 - recall: 1.0000 - precision: 1.0000 - accuracy: 0.4187 - val_loss: 6.8456e-04 - val_recall: 1.0000 - val_precision: 1.0000 - val_accuracy: 0.4375\n",
            "Epoch 13/30\n",
            "10/10 [==============================] - 13s 1s/step - loss: 4.2288e-04 - recall: 1.0000 - precision: 1.0000 - accuracy: 0.4062 - val_loss: 2.9641e-04 - val_recall: 1.0000 - val_precision: 1.0000 - val_accuracy: 0.5000\n",
            "Epoch 14/30\n",
            "10/10 [==============================] - 13s 1s/step - loss: 2.2381e-04 - recall: 1.0000 - precision: 1.0000 - accuracy: 0.4375 - val_loss: 1.4837e-04 - val_recall: 1.0000 - val_precision: 1.0000 - val_accuracy: 0.4375\n",
            "Epoch 15/30\n",
            "10/10 [==============================] - 12s 1s/step - loss: 2.0153e-04 - recall: 1.0000 - precision: 1.0000 - accuracy: 0.4062 - val_loss: 3.6334e-05 - val_recall: 1.0000 - val_precision: 1.0000 - val_accuracy: 0.5625\n",
            "Epoch 16/30\n",
            "10/10 [==============================] - 13s 1s/step - loss: 1.6644e-04 - recall: 1.0000 - precision: 1.0000 - accuracy: 0.4375 - val_loss: 1.1789e-04 - val_recall: 1.0000 - val_precision: 1.0000 - val_accuracy: 0.3750\n",
            "Epoch 17/30\n",
            "10/10 [==============================] - 12s 1s/step - loss: 1.5542e-04 - recall: 1.0000 - precision: 1.0000 - accuracy: 0.4000 - val_loss: 9.4319e-05 - val_recall: 1.0000 - val_precision: 1.0000 - val_accuracy: 0.5000\n",
            "Epoch 18/30\n",
            "10/10 [==============================] - 11s 1s/step - loss: 1.2500e-04 - recall: 1.0000 - precision: 1.0000 - accuracy: 0.4125 - val_loss: 1.0715e-04 - val_recall: 1.0000 - val_precision: 1.0000 - val_accuracy: 0.3750\n",
            "Epoch 19/30\n",
            "10/10 [==============================] - 11s 986ms/step - loss: 1.2416e-04 - recall: 1.0000 - precision: 1.0000 - accuracy: 0.4187 - val_loss: 6.0257e-05 - val_recall: 1.0000 - val_precision: 1.0000 - val_accuracy: 0.4375\n",
            "Epoch 20/30\n",
            "10/10 [==============================] - 12s 1s/step - loss: 9.3668e-05 - recall: 1.0000 - precision: 1.0000 - accuracy: 0.4187 - val_loss: 2.0652e-04 - val_recall: 1.0000 - val_precision: 1.0000 - val_accuracy: 0.2500\n",
            "Epoch 21/30\n",
            "10/10 [==============================] - 12s 1s/step - loss: 1.0627e-04 - recall: 1.0000 - precision: 1.0000 - accuracy: 0.4313 - val_loss: 2.8588e-05 - val_recall: 1.0000 - val_precision: 1.0000 - val_accuracy: 0.5625\n",
            "Epoch 22/30\n",
            "10/10 [==============================] - 12s 1s/step - loss: 8.7121e-05 - recall: 1.0000 - precision: 1.0000 - accuracy: 0.4187 - val_loss: 3.3893e-05 - val_recall: 1.0000 - val_precision: 1.0000 - val_accuracy: 0.3750\n",
            "Epoch 23/30\n",
            "10/10 [==============================] - 12s 1s/step - loss: 1.0205e-04 - recall: 1.0000 - precision: 1.0000 - accuracy: 0.4125 - val_loss: 2.3793e-05 - val_recall: 1.0000 - val_precision: 1.0000 - val_accuracy: 0.6875\n",
            "Epoch 24/30\n",
            "10/10 [==============================] - 11s 1s/step - loss: 9.0244e-05 - recall: 1.0000 - precision: 1.0000 - accuracy: 0.4625 - val_loss: 7.9428e-05 - val_recall: 1.0000 - val_precision: 1.0000 - val_accuracy: 0.4375\n",
            "Epoch 25/30\n",
            "10/10 [==============================] - 11s 1s/step - loss: 8.8546e-05 - recall: 1.0000 - precision: 1.0000 - accuracy: 0.4000 - val_loss: 4.3362e-05 - val_recall: 1.0000 - val_precision: 1.0000 - val_accuracy: 0.3750\n",
            "Epoch 26/30\n",
            "10/10 [==============================] - 12s 1s/step - loss: 8.2065e-05 - recall: 1.0000 - precision: 1.0000 - accuracy: 0.4437 - val_loss: 6.3368e-05 - val_recall: 1.0000 - val_precision: 1.0000 - val_accuracy: 0.3750\n",
            "Epoch 27/30\n",
            "10/10 [==============================] - 12s 1s/step - loss: 6.7969e-05 - recall: 1.0000 - precision: 1.0000 - accuracy: 0.4625 - val_loss: 3.7406e-05 - val_recall: 1.0000 - val_precision: 1.0000 - val_accuracy: 0.5000\n",
            "Epoch 28/30\n",
            "10/10 [==============================] - 11s 1s/step - loss: 7.3735e-05 - recall: 1.0000 - precision: 1.0000 - accuracy: 0.3938 - val_loss: 9.2471e-05 - val_recall: 1.0000 - val_precision: 1.0000 - val_accuracy: 0.3750\n",
            "Epoch 29/30\n",
            "10/10 [==============================] - 12s 1s/step - loss: 6.1138e-05 - recall: 1.0000 - precision: 1.0000 - accuracy: 0.4375 - val_loss: 1.4781e-04 - val_recall: 1.0000 - val_precision: 1.0000 - val_accuracy: 0.3125\n",
            "Epoch 30/30\n",
            "10/10 [==============================] - 12s 1s/step - loss: 5.8196e-05 - recall: 1.0000 - precision: 1.0000 - accuracy: 0.3750 - val_loss: 1.0840e-04 - val_recall: 1.0000 - val_precision: 1.0000 - val_accuracy: 0.2500\n"
          ]
        }
      ],
      "source": [
        "#Initiating training instance and storing results in 'hist' variable\n",
        "hist = model.fit(train, epochs=30, validation_data=test)"
      ]
    },
    {
      "cell_type": "code",
      "execution_count": 31,
      "metadata": {
        "colab": {
          "base_uri": "https://localhost:8080/",
          "height": 281
        },
        "id": "iSK-k7pYtTpw",
        "outputId": "291c1580-984f-44f2-8a8e-c5ec441ee56a"
      },
      "outputs": [
        {
          "data": {
            "image/png": "[encoded data removed]",
            "text/plain": [
              "<Figure size 432x288 with 1 Axes>"
            ]
          },
          "metadata": {
            "needs_background": "light"
          },
          "output_type": "display_data"
        }
      ],
      "source": [
        "#Plotting accuracy\n",
        "plt.title('Accuracy')\n",
        "plt.plot(hist.history['accuracy'], 'r')\n",
        "plt.plot(hist.history['val_accuracy'], 'b')\n",
        "plt.show()"
      ]
    },
    {
      "cell_type": "code",
      "execution_count": 32,
      "metadata": {
        "colab": {
          "base_uri": "https://localhost:8080/",
          "height": 281
        },
        "id": "Zd_OR8bb6dwz",
        "outputId": "abeb1c7b-8f74-4787-cc71-c500a64f057d"
      },
      "outputs": [
        {
          "data": {
            "image/png": "[encoded data removed]",
            "text/plain": [
              "<Figure size 432x288 with 1 Axes>"
            ]
          },
          "metadata": {
            "needs_background": "light"
          },
          "output_type": "display_data"
        }
      ],
      "source": [
        "#Plotting Loss\n",
        "plt.title('Loss')\n",
        "plt.plot(hist.history['loss'], 'r')\n",
        "plt.plot(hist.history['val_loss'], 'b')\n",
        "plt.show()"
      ]
    },
    {
      "cell_type": "code",
      "execution_count": 33,
      "metadata": {
        "colab": {
          "base_uri": "https://localhost:8080/",
          "height": 281
        },
        "id": "E6cnMFOE6d3Y",
        "outputId": "f8b6b217-8189-47a9-9c71-d4bec1898146"
      },
      "outputs": [
        {
          "data": {
            "image/png": "[encoded data removed]",
            "text/plain": [
              "<Figure size 432x288 with 1 Axes>"
            ]
          },
          "metadata": {
            "needs_background": "light"
          },
          "output_type": "display_data"
        }
      ],
      "source": [
        "#Plotting Precision\n",
        "plt.title('Precision')\n",
        "plt.plot(hist.history['precision'], 'r')\n",
        "plt.plot(hist.history['val_precision'], 'b')\n",
        "plt.show()"
      ]
    },
    {
      "cell_type": "code",
      "execution_count": 34,
      "metadata": {
        "colab": {
          "base_uri": "https://localhost:8080/",
          "height": 281
        },
        "id": "bk1F_zkk6d94",
        "outputId": "f0f1a653-9972-4a37-9375-c39433ca44b9"
      },
      "outputs": [
        {
          "data": {
            "image/png": "[encoded data removed]",
            "text/plain": [
              "<Figure size 432x288 with 1 Axes>"
            ]
          },
          "metadata": {
            "needs_background": "light"
          },
          "output_type": "display_data"
        }
      ],
      "source": [
        "#Plotting Recall\n",
        "plt.title('Recall')\n",
        "plt.plot(hist.history['recall'], 'r')\n",
        "plt.plot(hist.history['val_recall'], 'b')\n",
        "plt.show()"
      ]
    },
    {
      "cell_type": "code",
      "execution_count": 39,
      "metadata": {
        "id": "SJNqxGtns98U"
      },
      "outputs": [],
      "source": [
        "#Extracting an example from the test set to check model performance\n",
        "X_test, y_test = test.as_numpy_iterator().next()"
      ]
    },
    {
      "cell_type": "code",
      "execution_count": 40,
      "metadata": {
        "colab": {
          "base_uri": "https://localhost:8080/"
        },
        "id": "uo6UX6ATs-Sf",
        "outputId": "7c7a0f0a-1bc3-4f30-ec77-2a7faa4ed371"
      },
      "outputs": [
        {
          "name": "stdout",
          "output_type": "stream",
          "text": [
            "1/1 [==============================] - 1s 650ms/step\n",
            "[0, 1, 0, 0, 0, 1, 1, 1, 0, 0, 1, 0, 1, 1, 0, 0]\n",
            "[0. 1. 0. 0. 0. 1. 1. 1. 0. 0. 1. 0. 1. 1. 0. 0.]\n"
          ]
        }
      ],
      "source": [
        "#Testing model by making prediction from extracted test sample\n",
        "yhat = model.predict(X_test)\n",
        "yhat = [1 if prediction > 0.5 else 0 for prediction in yhat]\n",
        "print(yhat)\n",
        "print(y_test)\n"
      ]
    },
    {
      "cell_type": "markdown",
      "metadata": {
        "id": "Lv6-rLyKPMst"
      },
      "source": [
        "## Build Function to Convert Clips into Windowed Spectrograms"
      ]
    },
    {
      "cell_type": "code",
      "execution_count": 92,
      "metadata": {
        "id": "74oG28z1NriA"
      },
      "outputs": [],
      "source": [
        "#check for existance of Clips-Leopard(if not, then create it)\n",
        "newpath = r'Clips-Leopard' \n",
        "if not os.path.exists(newpath):\n",
        "    os.makedirs(newpath)"
      ]
    },
    {
      "cell_type": "code",
      "execution_count": 126,
      "metadata": {
        "id": "nQFitz2A3i--"
      },
      "outputs": [],
      "source": [
        "#move all the clips to Clips-Leopard\n",
        "!mv /content/*.wav /content/Clips-Leopard"
      ]
    },
    {
      "cell_type": "code",
      "execution_count": 127,
      "metadata": {
        "id": "qoS6k6Pc4TJY"
      },
      "outputs": [],
      "source": [
        "#check for existance of Converted_16BIT (if not, then create it)\n",
        "newpath = r'Converted_16BIT' \n",
        "if not os.path.exists(newpath):\n",
        "    os.makedirs(newpath)\n",
        "convertTo16Bit(\"/content/Clips-Leopard\")"
      ]
    },
    {
      "cell_type": "code",
      "execution_count": 128,
      "metadata": {
        "id": "_1hiMLZW9FsY"
      },
      "outputs": [],
      "source": [
        "#move all the clips that converted to 16BIT to Converted_16BIT\n",
        "!mv /content/*.wav /content/Converted_16BIT"
      ]
    },
    {
      "cell_type": "code",
      "execution_count": null,
      "metadata": {
        "id": "G6JmiW_P-srf"
      },
      "outputs": [],
      "source": [
        "#This function performs required preprocessing for test dataset\n",
        "def preprocess_dataset(sample, index):\n",
        "    sample = sample[0]\n",
        "    zero_padding = tf.zeros([48000] - tf.shape(sample), dtype=tf.float32)\n",
        "    wav = tf.concat([zero_padding, sample],0)\n",
        "    spectrogram = tf.signal.stft(wav, frame_length=320, frame_step=320)\n",
        "    spectrogram = tf.abs(spectrogram)\n",
        "    spectrogram = tf.expand_dims(spectrogram, axis=2)\n",
        "    return spectrogram"
      ]
    },
    {
      "cell_type": "code",
      "execution_count": 129,
      "metadata": {
        "colab": {
          "base_uri": "https://localhost:8080/"
        },
        "id": "rT2kuXAm44Uf",
        "outputId": "9f422d24-dc9c-4773-a0c3-261069d1e9ce"
      },
      "outputs": [
        {
          "name": "stdout",
          "output_type": "stream",
          "text": [
            "75/75 [==============================] - 24s 316ms/step\n",
            "Test16BITSMM07257_20221118_003302_16BIT.wav\n",
            "\n",
            "Index 164 | Audio Clip Time Interval 0:08:12\n",
            "Index 165 | Audio Clip Time Interval 0:08:15\n",
            "Index 234 | Audio Clip Time Interval 0:11:42\n",
            "Index 237 | Audio Clip Time Interval 0:11:51\n",
            "=================================================\n",
            "\n",
            "75/75 [==============================] - 24s 294ms/step\n",
            "Test16BITSMM07257_20221117_153302_16BIT.wav\n",
            "\n",
            "Index 0 | Audio Clip Time Interval 0:00:00\n",
            "Index 1 | Audio Clip Time Interval 0:00:03\n",
            "Index 2 | Audio Clip Time Interval 0:00:06\n",
            "Index 3 | Audio Clip Time Interval 0:00:09\n",
            "Index 4 | Audio Clip Time Interval 0:00:12\n",
            "Index 5 | Audio Clip Time Interval 0:00:15\n",
            "Index 6 | Audio Clip Time Interval 0:00:18\n",
            "Index 7 | Audio Clip Time Interval 0:00:21\n",
            "Index 8 | Audio Clip Time Interval 0:00:24\n",
            "Index 9 | Audio Clip Time Interval 0:00:27\n",
            "Index 10 | Audio Clip Time Interval 0:00:30\n",
            "Index 11 | Audio Clip Time Interval 0:00:33\n",
            "Index 12 | Audio Clip Time Interval 0:00:36\n",
            "Index 13 | Audio Clip Time Interval 0:00:39\n",
            "Index 14 | Audio Clip Time Interval 0:00:42\n",
            "Index 15 | Audio Clip Time Interval 0:00:45\n",
            "Index 16 | Audio Clip Time Interval 0:00:48\n",
            "Index 17 | Audio Clip Time Interval 0:00:51\n",
            "Index 18 | Audio Clip Time Interval 0:00:54\n",
            "Index 19 | Audio Clip Time Interval 0:00:57\n",
            "Index 20 | Audio Clip Time Interval 0:01:00\n",
            "Index 21 | Audio Clip Time Interval 0:01:03\n",
            "Index 22 | Audio Clip Time Interval 0:01:06\n",
            "Index 23 | Audio Clip Time Interval 0:01:09\n",
            "Index 24 | Audio Clip Time Interval 0:01:12\n",
            "Index 25 | Audio Clip Time Interval 0:01:15\n",
            "Index 26 | Audio Clip Time Interval 0:01:18\n",
            "Index 27 | Audio Clip Time Interval 0:01:21\n",
            "Index 28 | Audio Clip Time Interval 0:01:24\n",
            "Index 29 | Audio Clip Time Interval 0:01:27\n",
            "Index 30 | Audio Clip Time Interval 0:01:30\n",
            "Index 31 | Audio Clip Time Interval 0:01:33\n",
            "Index 32 | Audio Clip Time Interval 0:01:36\n",
            "Index 33 | Audio Clip Time Interval 0:01:39\n",
            "Index 34 | Audio Clip Time Interval 0:01:42\n",
            "Index 35 | Audio Clip Time Interval 0:01:45\n",
            "Index 36 | Audio Clip Time Interval 0:01:48\n",
            "Index 37 | Audio Clip Time Interval 0:01:51\n",
            "Index 38 | Audio Clip Time Interval 0:01:54\n",
            "Index 39 | Audio Clip Time Interval 0:01:57\n",
            "Index 40 | Audio Clip Time Interval 0:02:00\n",
            "Index 41 | Audio Clip Time Interval 0:02:03\n",
            "Index 42 | Audio Clip Time Interval 0:02:06\n",
            "Index 43 | Audio Clip Time Interval 0:02:09\n",
            "Index 44 | Audio Clip Time Interval 0:02:12\n",
            "Index 45 | Audio Clip Time Interval 0:02:15\n",
            "Index 46 | Audio Clip Time Interval 0:02:18\n",
            "Index 47 | Audio Clip Time Interval 0:02:21\n",
            "Index 48 | Audio Clip Time Interval 0:02:24\n",
            "Index 49 | Audio Clip Time Interval 0:02:27\n",
            "Index 50 | Audio Clip Time Interval 0:02:30\n",
            "Index 51 | Audio Clip Time Interval 0:02:33\n",
            "Index 52 | Audio Clip Time Interval 0:02:36\n",
            "Index 53 | Audio Clip Time Interval 0:02:39\n",
            "Index 54 | Audio Clip Time Interval 0:02:42\n",
            "Index 55 | Audio Clip Time Interval 0:02:45\n",
            "Index 56 | Audio Clip Time Interval 0:02:48\n",
            "Index 57 | Audio Clip Time Interval 0:02:51\n",
            "Index 58 | Audio Clip Time Interval 0:02:54\n",
            "Index 59 | Audio Clip Time Interval 0:02:57\n",
            "Index 60 | Audio Clip Time Interval 0:03:00\n",
            "Index 61 | Audio Clip Time Interval 0:03:03\n",
            "Index 62 | Audio Clip Time Interval 0:03:06\n",
            "Index 63 | Audio Clip Time Interval 0:03:09\n",
            "Index 64 | Audio Clip Time Interval 0:03:12\n",
            "Index 65 | Audio Clip Time Interval 0:03:15\n",
            "Index 66 | Audio Clip Time Interval 0:03:18\n",
            "Index 67 | Audio Clip Time Interval 0:03:21\n",
            "Index 68 | Audio Clip Time Interval 0:03:24\n",
            "Index 69 | Audio Clip Time Interval 0:03:27\n",
            "Index 70 | Audio Clip Time Interval 0:03:30\n",
            "Index 71 | Audio Clip Time Interval 0:03:33\n",
            "Index 72 | Audio Clip Time Interval 0:03:36\n",
            "Index 73 | Audio Clip Time Interval 0:03:39\n",
            "Index 74 | Audio Clip Time Interval 0:03:42\n",
            "Index 75 | Audio Clip Time Interval 0:03:45\n",
            "Index 76 | Audio Clip Time Interval 0:03:48\n",
            "Index 77 | Audio Clip Time Interval 0:03:51\n",
            "Index 78 | Audio Clip Time Interval 0:03:54\n",
            "Index 79 | Audio Clip Time Interval 0:03:57\n",
            "Index 80 | Audio Clip Time Interval 0:04:00\n",
            "Index 81 | Audio Clip Time Interval 0:04:03\n",
            "Index 82 | Audio Clip Time Interval 0:04:06\n",
            "Index 83 | Audio Clip Time Interval 0:04:09\n",
            "Index 84 | Audio Clip Time Interval 0:04:12\n",
            "Index 85 | Audio Clip Time Interval 0:04:15\n",
            "Index 86 | Audio Clip Time Interval 0:04:18\n",
            "Index 87 | Audio Clip Time Interval 0:04:21\n",
            "Index 88 | Audio Clip Time Interval 0:04:24\n",
            "Index 89 | Audio Clip Time Interval 0:04:27\n",
            "Index 90 | Audio Clip Time Interval 0:04:30\n",
            "Index 91 | Audio Clip Time Interval 0:04:33\n",
            "Index 92 | Audio Clip Time Interval 0:04:36\n",
            "Index 93 | Audio Clip Time Interval 0:04:39\n",
            "Index 94 | Audio Clip Time Interval 0:04:42\n",
            "Index 95 | Audio Clip Time Interval 0:04:45\n",
            "Index 96 | Audio Clip Time Interval 0:04:48\n",
            "Index 97 | Audio Clip Time Interval 0:04:51\n",
            "Index 98 | Audio Clip Time Interval 0:04:54\n",
            "Index 99 | Audio Clip Time Interval 0:04:57\n",
            "Index 100 | Audio Clip Time Interval 0:05:00\n",
            "Index 101 | Audio Clip Time Interval 0:05:03\n",
            "Index 102 | Audio Clip Time Interval 0:05:06\n",
            "Index 103 | Audio Clip Time Interval 0:05:09\n",
            "Index 104 | Audio Clip Time Interval 0:05:12\n",
            "Index 105 | Audio Clip Time Interval 0:05:15\n",
            "Index 106 | Audio Clip Time Interval 0:05:18\n",
            "Index 107 | Audio Clip Time Interval 0:05:21\n",
            "Index 108 | Audio Clip Time Interval 0:05:24\n",
            "Index 109 | Audio Clip Time Interval 0:05:27\n",
            "Index 110 | Audio Clip Time Interval 0:05:30\n",
            "Index 111 | Audio Clip Time Interval 0:05:33\n",
            "Index 112 | Audio Clip Time Interval 0:05:36\n",
            "Index 113 | Audio Clip Time Interval 0:05:39\n",
            "Index 114 | Audio Clip Time Interval 0:05:42\n",
            "Index 115 | Audio Clip Time Interval 0:05:45\n",
            "Index 116 | Audio Clip Time Interval 0:05:48\n",
            "Index 117 | Audio Clip Time Interval 0:05:51\n",
            "Index 118 | Audio Clip Time Interval 0:05:54\n",
            "Index 119 | Audio Clip Time Interval 0:05:57\n",
            "Index 120 | Audio Clip Time Interval 0:06:00\n",
            "Index 121 | Audio Clip Time Interval 0:06:03\n",
            "Index 122 | Audio Clip Time Interval 0:06:06\n",
            "Index 123 | Audio Clip Time Interval 0:06:09\n",
            "Index 124 | Audio Clip Time Interval 0:06:12\n",
            "Index 125 | Audio Clip Time Interval 0:06:15\n",
            "Index 126 | Audio Clip Time Interval 0:06:18\n",
            "Index 127 | Audio Clip Time Interval 0:06:21\n",
            "Index 128 | Audio Clip Time Interval 0:06:24\n",
            "Index 129 | Audio Clip Time Interval 0:06:27\n",
            "Index 130 | Audio Clip Time Interval 0:06:30\n",
            "Index 131 | Audio Clip Time Interval 0:06:33\n",
            "Index 132 | Audio Clip Time Interval 0:06:36\n",
            "Index 133 | Audio Clip Time Interval 0:06:39\n",
            "Index 134 | Audio Clip Time Interval 0:06:42\n",
            "Index 135 | Audio Clip Time Interval 0:06:45\n",
            "Index 136 | Audio Clip Time Interval 0:06:48\n",
            "Index 137 | Audio Clip Time Interval 0:06:51\n",
            "Index 138 | Audio Clip Time Interval 0:06:54\n",
            "Index 139 | Audio Clip Time Interval 0:06:57\n",
            "Index 140 | Audio Clip Time Interval 0:07:00\n",
            "Index 141 | Audio Clip Time Interval 0:07:03\n",
            "Index 142 | Audio Clip Time Interval 0:07:06\n",
            "Index 143 | Audio Clip Time Interval 0:07:09\n",
            "Index 144 | Audio Clip Time Interval 0:07:12\n",
            "Index 145 | Audio Clip Time Interval 0:07:15\n",
            "Index 146 | Audio Clip Time Interval 0:07:18\n",
            "Index 147 | Audio Clip Time Interval 0:07:21\n",
            "Index 148 | Audio Clip Time Interval 0:07:24\n",
            "Index 149 | Audio Clip Time Interval 0:07:27\n",
            "Index 150 | Audio Clip Time Interval 0:07:30\n",
            "Index 151 | Audio Clip Time Interval 0:07:33\n",
            "Index 152 | Audio Clip Time Interval 0:07:36\n",
            "Index 153 | Audio Clip Time Interval 0:07:39\n",
            "Index 154 | Audio Clip Time Interval 0:07:42\n",
            "Index 155 | Audio Clip Time Interval 0:07:45\n",
            "Index 156 | Audio Clip Time Interval 0:07:48\n",
            "Index 157 | Audio Clip Time Interval 0:07:51\n",
            "Index 158 | Audio Clip Time Interval 0:07:54\n",
            "Index 159 | Audio Clip Time Interval 0:07:57\n",
            "Index 160 | Audio Clip Time Interval 0:08:00\n",
            "Index 161 | Audio Clip Time Interval 0:08:03\n",
            "Index 162 | Audio Clip Time Interval 0:08:06\n",
            "Index 163 | Audio Clip Time Interval 0:08:09\n",
            "Index 164 | Audio Clip Time Interval 0:08:12\n",
            "Index 165 | Audio Clip Time Interval 0:08:15\n",
            "Index 166 | Audio Clip Time Interval 0:08:18\n",
            "Index 167 | Audio Clip Time Interval 0:08:21\n",
            "Index 168 | Audio Clip Time Interval 0:08:24\n",
            "Index 169 | Audio Clip Time Interval 0:08:27\n",
            "Index 170 | Audio Clip Time Interval 0:08:30\n",
            "Index 171 | Audio Clip Time Interval 0:08:33\n",
            "Index 172 | Audio Clip Time Interval 0:08:36\n",
            "Index 173 | Audio Clip Time Interval 0:08:39\n",
            "Index 174 | Audio Clip Time Interval 0:08:42\n",
            "Index 175 | Audio Clip Time Interval 0:08:45\n",
            "Index 176 | Audio Clip Time Interval 0:08:48\n",
            "Index 177 | Audio Clip Time Interval 0:08:51\n",
            "Index 178 | Audio Clip Time Interval 0:08:54\n",
            "Index 179 | Audio Clip Time Interval 0:08:57\n",
            "Index 180 | Audio Clip Time Interval 0:09:00\n",
            "Index 181 | Audio Clip Time Interval 0:09:03\n",
            "Index 182 | Audio Clip Time Interval 0:09:06\n",
            "Index 183 | Audio Clip Time Interval 0:09:09\n",
            "Index 184 | Audio Clip Time Interval 0:09:12\n",
            "Index 185 | Audio Clip Time Interval 0:09:15\n",
            "Index 186 | Audio Clip Time Interval 0:09:18\n",
            "Index 187 | Audio Clip Time Interval 0:09:21\n",
            "Index 188 | Audio Clip Time Interval 0:09:24\n",
            "Index 189 | Audio Clip Time Interval 0:09:27\n",
            "Index 190 | Audio Clip Time Interval 0:09:30\n",
            "Index 191 | Audio Clip Time Interval 0:09:33\n",
            "Index 192 | Audio Clip Time Interval 0:09:36\n",
            "Index 193 | Audio Clip Time Interval 0:09:39\n",
            "Index 194 | Audio Clip Time Interval 0:09:42\n",
            "Index 195 | Audio Clip Time Interval 0:09:45\n",
            "Index 196 | Audio Clip Time Interval 0:09:48\n",
            "Index 197 | Audio Clip Time Interval 0:09:51\n",
            "Index 198 | Audio Clip Time Interval 0:09:54\n",
            "Index 199 | Audio Clip Time Interval 0:09:57\n",
            "Index 200 | Audio Clip Time Interval 0:10:00\n",
            "Index 201 | Audio Clip Time Interval 0:10:03\n",
            "Index 202 | Audio Clip Time Interval 0:10:06\n",
            "Index 203 | Audio Clip Time Interval 0:10:09\n",
            "Index 204 | Audio Clip Time Interval 0:10:12\n",
            "Index 205 | Audio Clip Time Interval 0:10:15\n",
            "Index 206 | Audio Clip Time Interval 0:10:18\n",
            "Index 207 | Audio Clip Time Interval 0:10:21\n",
            "Index 208 | Audio Clip Time Interval 0:10:24\n",
            "Index 209 | Audio Clip Time Interval 0:10:27\n",
            "Index 210 | Audio Clip Time Interval 0:10:30\n",
            "Index 211 | Audio Clip Time Interval 0:10:33\n",
            "Index 212 | Audio Clip Time Interval 0:10:36\n",
            "Index 213 | Audio Clip Time Interval 0:10:39\n",
            "Index 214 | Audio Clip Time Interval 0:10:42\n",
            "Index 215 | Audio Clip Time Interval 0:10:45\n",
            "Index 216 | Audio Clip Time Interval 0:10:48\n",
            "Index 217 | Audio Clip Time Interval 0:10:51\n",
            "Index 218 | Audio Clip Time Interval 0:10:54\n",
            "Index 219 | Audio Clip Time Interval 0:10:57\n",
            "Index 220 | Audio Clip Time Interval 0:11:00\n",
            "Index 221 | Audio Clip Time Interval 0:11:03\n",
            "Index 222 | Audio Clip Time Interval 0:11:06\n",
            "Index 223 | Audio Clip Time Interval 0:11:09\n",
            "Index 224 | Audio Clip Time Interval 0:11:12\n",
            "Index 225 | Audio Clip Time Interval 0:11:15\n",
            "Index 226 | Audio Clip Time Interval 0:11:18\n",
            "Index 227 | Audio Clip Time Interval 0:11:21\n",
            "Index 228 | Audio Clip Time Interval 0:11:24\n",
            "Index 229 | Audio Clip Time Interval 0:11:27\n",
            "Index 230 | Audio Clip Time Interval 0:11:30\n",
            "Index 231 | Audio Clip Time Interval 0:11:33\n",
            "Index 232 | Audio Clip Time Interval 0:11:36\n",
            "Index 233 | Audio Clip Time Interval 0:11:39\n",
            "Index 234 | Audio Clip Time Interval 0:11:42\n",
            "Index 235 | Audio Clip Time Interval 0:11:45\n",
            "Index 236 | Audio Clip Time Interval 0:11:48\n",
            "Index 237 | Audio Clip Time Interval 0:11:51\n",
            "Index 238 | Audio Clip Time Interval 0:11:54\n",
            "Index 239 | Audio Clip Time Interval 0:11:57\n",
            "Index 240 | Audio Clip Time Interval 0:12:00\n",
            "Index 241 | Audio Clip Time Interval 0:12:03\n",
            "Index 242 | Audio Clip Time Interval 0:12:06\n",
            "Index 243 | Audio Clip Time Interval 0:12:09\n",
            "Index 244 | Audio Clip Time Interval 0:12:12\n",
            "Index 245 | Audio Clip Time Interval 0:12:15\n",
            "Index 246 | Audio Clip Time Interval 0:12:18\n",
            "Index 247 | Audio Clip Time Interval 0:12:21\n",
            "Index 248 | Audio Clip Time Interval 0:12:24\n",
            "Index 249 | Audio Clip Time Interval 0:12:27\n",
            "Index 250 | Audio Clip Time Interval 0:12:30\n",
            "Index 251 | Audio Clip Time Interval 0:12:33\n",
            "Index 252 | Audio Clip Time Interval 0:12:36\n",
            "Index 253 | Audio Clip Time Interval 0:12:39\n",
            "Index 254 | Audio Clip Time Interval 0:12:42\n",
            "Index 255 | Audio Clip Time Interval 0:12:45\n",
            "Index 256 | Audio Clip Time Interval 0:12:48\n",
            "Index 257 | Audio Clip Time Interval 0:12:51\n",
            "Index 258 | Audio Clip Time Interval 0:12:54\n",
            "Index 259 | Audio Clip Time Interval 0:12:57\n",
            "Index 260 | Audio Clip Time Interval 0:13:00\n",
            "Index 261 | Audio Clip Time Interval 0:13:03\n",
            "Index 262 | Audio Clip Time Interval 0:13:06\n",
            "Index 263 | Audio Clip Time Interval 0:13:09\n",
            "Index 264 | Audio Clip Time Interval 0:13:12\n",
            "Index 265 | Audio Clip Time Interval 0:13:15\n",
            "Index 266 | Audio Clip Time Interval 0:13:18\n",
            "Index 267 | Audio Clip Time Interval 0:13:21\n",
            "Index 268 | Audio Clip Time Interval 0:13:24\n",
            "Index 269 | Audio Clip Time Interval 0:13:27\n",
            "Index 270 | Audio Clip Time Interval 0:13:30\n",
            "Index 271 | Audio Clip Time Interval 0:13:33\n",
            "Index 272 | Audio Clip Time Interval 0:13:36\n",
            "Index 273 | Audio Clip Time Interval 0:13:39\n",
            "Index 274 | Audio Clip Time Interval 0:13:42\n",
            "Index 275 | Audio Clip Time Interval 0:13:45\n",
            "Index 276 | Audio Clip Time Interval 0:13:48\n",
            "Index 277 | Audio Clip Time Interval 0:13:51\n",
            "Index 278 | Audio Clip Time Interval 0:13:54\n",
            "Index 279 | Audio Clip Time Interval 0:13:57\n",
            "Index 280 | Audio Clip Time Interval 0:14:00\n",
            "Index 281 | Audio Clip Time Interval 0:14:03\n",
            "Index 282 | Audio Clip Time Interval 0:14:06\n",
            "Index 283 | Audio Clip Time Interval 0:14:09\n",
            "Index 284 | Audio Clip Time Interval 0:14:12\n",
            "Index 285 | Audio Clip Time Interval 0:14:15\n",
            "Index 286 | Audio Clip Time Interval 0:14:18\n",
            "Index 287 | Audio Clip Time Interval 0:14:21\n",
            "Index 288 | Audio Clip Time Interval 0:14:24\n",
            "Index 289 | Audio Clip Time Interval 0:14:27\n",
            "Index 290 | Audio Clip Time Interval 0:14:30\n",
            "Index 291 | Audio Clip Time Interval 0:14:33\n",
            "Index 292 | Audio Clip Time Interval 0:14:36\n",
            "Index 293 | Audio Clip Time Interval 0:14:39\n",
            "Index 294 | Audio Clip Time Interval 0:14:42\n",
            "Index 295 | Audio Clip Time Interval 0:14:45\n",
            "Index 296 | Audio Clip Time Interval 0:14:48\n",
            "Index 297 | Audio Clip Time Interval 0:14:51\n",
            "Index 298 | Audio Clip Time Interval 0:14:54\n",
            "Index 299 | Audio Clip Time Interval 0:14:57\n",
            "Index 300 | Audio Clip Time Interval 0:15:00\n",
            "Index 301 | Audio Clip Time Interval 0:15:03\n",
            "Index 302 | Audio Clip Time Interval 0:15:06\n",
            "Index 303 | Audio Clip Time Interval 0:15:09\n",
            "Index 304 | Audio Clip Time Interval 0:15:12\n",
            "Index 305 | Audio Clip Time Interval 0:15:15\n",
            "Index 306 | Audio Clip Time Interval 0:15:18\n",
            "Index 307 | Audio Clip Time Interval 0:15:21\n",
            "Index 308 | Audio Clip Time Interval 0:15:24\n",
            "Index 309 | Audio Clip Time Interval 0:15:27\n",
            "Index 310 | Audio Clip Time Interval 0:15:30\n",
            "Index 311 | Audio Clip Time Interval 0:15:33\n",
            "Index 312 | Audio Clip Time Interval 0:15:36\n",
            "Index 313 | Audio Clip Time Interval 0:15:39\n",
            "Index 314 | Audio Clip Time Interval 0:15:42\n",
            "Index 315 | Audio Clip Time Interval 0:15:45\n",
            "Index 316 | Audio Clip Time Interval 0:15:48\n",
            "Index 317 | Audio Clip Time Interval 0:15:51\n",
            "Index 318 | Audio Clip Time Interval 0:15:54\n",
            "Index 319 | Audio Clip Time Interval 0:15:57\n",
            "Index 320 | Audio Clip Time Interval 0:16:00\n",
            "Index 321 | Audio Clip Time Interval 0:16:03\n",
            "Index 322 | Audio Clip Time Interval 0:16:06\n",
            "Index 323 | Audio Clip Time Interval 0:16:09\n",
            "Index 324 | Audio Clip Time Interval 0:16:12\n",
            "Index 325 | Audio Clip Time Interval 0:16:15\n",
            "Index 326 | Audio Clip Time Interval 0:16:18\n",
            "Index 327 | Audio Clip Time Interval 0:16:21\n",
            "Index 328 | Audio Clip Time Interval 0:16:24\n",
            "Index 329 | Audio Clip Time Interval 0:16:27\n",
            "Index 330 | Audio Clip Time Interval 0:16:30\n",
            "Index 331 | Audio Clip Time Interval 0:16:33\n",
            "Index 332 | Audio Clip Time Interval 0:16:36\n",
            "Index 333 | Audio Clip Time Interval 0:16:39\n",
            "Index 334 | Audio Clip Time Interval 0:16:42\n",
            "Index 335 | Audio Clip Time Interval 0:16:45\n",
            "Index 336 | Audio Clip Time Interval 0:16:48\n",
            "Index 337 | Audio Clip Time Interval 0:16:51\n",
            "Index 338 | Audio Clip Time Interval 0:16:54\n",
            "Index 339 | Audio Clip Time Interval 0:16:57\n",
            "Index 340 | Audio Clip Time Interval 0:17:00\n",
            "Index 341 | Audio Clip Time Interval 0:17:03\n",
            "Index 342 | Audio Clip Time Interval 0:17:06\n",
            "Index 343 | Audio Clip Time Interval 0:17:09\n",
            "Index 344 | Audio Clip Time Interval 0:17:12\n",
            "Index 345 | Audio Clip Time Interval 0:17:15\n",
            "Index 346 | Audio Clip Time Interval 0:17:18\n",
            "Index 347 | Audio Clip Time Interval 0:17:21\n",
            "Index 348 | Audio Clip Time Interval 0:17:24\n",
            "Index 349 | Audio Clip Time Interval 0:17:27\n",
            "Index 350 | Audio Clip Time Interval 0:17:30\n",
            "Index 351 | Audio Clip Time Interval 0:17:33\n",
            "Index 352 | Audio Clip Time Interval 0:17:36\n",
            "Index 353 | Audio Clip Time Interval 0:17:39\n",
            "Index 354 | Audio Clip Time Interval 0:17:42\n",
            "Index 355 | Audio Clip Time Interval 0:17:45\n",
            "Index 356 | Audio Clip Time Interval 0:17:48\n",
            "Index 357 | Audio Clip Time Interval 0:17:51\n",
            "Index 358 | Audio Clip Time Interval 0:17:54\n",
            "Index 359 | Audio Clip Time Interval 0:17:57\n",
            "Index 360 | Audio Clip Time Interval 0:18:00\n",
            "Index 361 | Audio Clip Time Interval 0:18:03\n",
            "Index 362 | Audio Clip Time Interval 0:18:06\n",
            "Index 363 | Audio Clip Time Interval 0:18:09\n",
            "Index 364 | Audio Clip Time Interval 0:18:12\n",
            "Index 365 | Audio Clip Time Interval 0:18:15\n",
            "Index 366 | Audio Clip Time Interval 0:18:18\n",
            "Index 367 | Audio Clip Time Interval 0:18:21\n",
            "Index 368 | Audio Clip Time Interval 0:18:24\n",
            "Index 369 | Audio Clip Time Interval 0:18:27\n",
            "Index 370 | Audio Clip Time Interval 0:18:30\n",
            "Index 371 | Audio Clip Time Interval 0:18:33\n",
            "Index 372 | Audio Clip Time Interval 0:18:36\n",
            "Index 373 | Audio Clip Time Interval 0:18:39\n",
            "Index 374 | Audio Clip Time Interval 0:18:42\n",
            "Index 375 | Audio Clip Time Interval 0:18:45\n",
            "Index 376 | Audio Clip Time Interval 0:18:48\n",
            "Index 377 | Audio Clip Time Interval 0:18:51\n",
            "Index 378 | Audio Clip Time Interval 0:18:54\n",
            "Index 379 | Audio Clip Time Interval 0:18:57\n",
            "Index 380 | Audio Clip Time Interval 0:19:00\n",
            "Index 381 | Audio Clip Time Interval 0:19:03\n",
            "Index 382 | Audio Clip Time Interval 0:19:06\n",
            "Index 383 | Audio Clip Time Interval 0:19:09\n",
            "Index 384 | Audio Clip Time Interval 0:19:12\n",
            "Index 385 | Audio Clip Time Interval 0:19:15\n",
            "Index 386 | Audio Clip Time Interval 0:19:18\n",
            "Index 387 | Audio Clip Time Interval 0:19:21\n",
            "Index 388 | Audio Clip Time Interval 0:19:24\n",
            "Index 389 | Audio Clip Time Interval 0:19:27\n",
            "Index 390 | Audio Clip Time Interval 0:19:30\n",
            "Index 391 | Audio Clip Time Interval 0:19:33\n",
            "Index 392 | Audio Clip Time Interval 0:19:36\n",
            "Index 393 | Audio Clip Time Interval 0:19:39\n",
            "Index 394 | Audio Clip Time Interval 0:19:42\n",
            "Index 395 | Audio Clip Time Interval 0:19:45\n",
            "Index 396 | Audio Clip Time Interval 0:19:48\n",
            "Index 397 | Audio Clip Time Interval 0:19:51\n",
            "Index 398 | Audio Clip Time Interval 0:19:54\n",
            "Index 399 | Audio Clip Time Interval 0:19:57\n",
            "Index 400 | Audio Clip Time Interval 0:20:00\n",
            "Index 401 | Audio Clip Time Interval 0:20:03\n",
            "Index 402 | Audio Clip Time Interval 0:20:06\n",
            "Index 403 | Audio Clip Time Interval 0:20:09\n",
            "Index 404 | Audio Clip Time Interval 0:20:12\n",
            "Index 405 | Audio Clip Time Interval 0:20:15\n",
            "Index 406 | Audio Clip Time Interval 0:20:18\n",
            "Index 407 | Audio Clip Time Interval 0:20:21\n",
            "Index 408 | Audio Clip Time Interval 0:20:24\n",
            "Index 409 | Audio Clip Time Interval 0:20:27\n",
            "Index 410 | Audio Clip Time Interval 0:20:30\n",
            "Index 411 | Audio Clip Time Interval 0:20:33\n",
            "Index 412 | Audio Clip Time Interval 0:20:36\n",
            "Index 413 | Audio Clip Time Interval 0:20:39\n",
            "Index 414 | Audio Clip Time Interval 0:20:42\n",
            "Index 415 | Audio Clip Time Interval 0:20:45\n",
            "Index 416 | Audio Clip Time Interval 0:20:48\n",
            "Index 417 | Audio Clip Time Interval 0:20:51\n",
            "Index 418 | Audio Clip Time Interval 0:20:54\n",
            "Index 419 | Audio Clip Time Interval 0:20:57\n",
            "Index 420 | Audio Clip Time Interval 0:21:00\n",
            "Index 421 | Audio Clip Time Interval 0:21:03\n",
            "Index 422 | Audio Clip Time Interval 0:21:06\n",
            "Index 423 | Audio Clip Time Interval 0:21:09\n",
            "Index 424 | Audio Clip Time Interval 0:21:12\n",
            "Index 425 | Audio Clip Time Interval 0:21:15\n",
            "Index 426 | Audio Clip Time Interval 0:21:18\n",
            "Index 427 | Audio Clip Time Interval 0:21:21\n",
            "Index 428 | Audio Clip Time Interval 0:21:24\n",
            "Index 429 | Audio Clip Time Interval 0:21:27\n",
            "Index 430 | Audio Clip Time Interval 0:21:30\n",
            "Index 431 | Audio Clip Time Interval 0:21:33\n",
            "Index 432 | Audio Clip Time Interval 0:21:36\n",
            "Index 433 | Audio Clip Time Interval 0:21:39\n",
            "Index 434 | Audio Clip Time Interval 0:21:42\n",
            "Index 435 | Audio Clip Time Interval 0:21:45\n",
            "Index 436 | Audio Clip Time Interval 0:21:48\n",
            "Index 437 | Audio Clip Time Interval 0:21:51\n",
            "Index 438 | Audio Clip Time Interval 0:21:54\n",
            "Index 439 | Audio Clip Time Interval 0:21:57\n",
            "Index 440 | Audio Clip Time Interval 0:22:00\n",
            "Index 441 | Audio Clip Time Interval 0:22:03\n",
            "Index 442 | Audio Clip Time Interval 0:22:06\n",
            "Index 443 | Audio Clip Time Interval 0:22:09\n",
            "Index 444 | Audio Clip Time Interval 0:22:12\n",
            "Index 445 | Audio Clip Time Interval 0:22:15\n",
            "Index 446 | Audio Clip Time Interval 0:22:18\n",
            "Index 447 | Audio Clip Time Interval 0:22:21\n",
            "Index 448 | Audio Clip Time Interval 0:22:24\n",
            "Index 449 | Audio Clip Time Interval 0:22:27\n",
            "Index 450 | Audio Clip Time Interval 0:22:30\n",
            "Index 451 | Audio Clip Time Interval 0:22:33\n",
            "Index 452 | Audio Clip Time Interval 0:22:36\n",
            "Index 453 | Audio Clip Time Interval 0:22:39\n",
            "Index 454 | Audio Clip Time Interval 0:22:42\n",
            "Index 455 | Audio Clip Time Interval 0:22:45\n",
            "Index 456 | Audio Clip Time Interval 0:22:48\n",
            "Index 457 | Audio Clip Time Interval 0:22:51\n",
            "Index 458 | Audio Clip Time Interval 0:22:54\n",
            "Index 459 | Audio Clip Time Interval 0:22:57\n",
            "Index 460 | Audio Clip Time Interval 0:23:00\n",
            "Index 461 | Audio Clip Time Interval 0:23:03\n",
            "Index 462 | Audio Clip Time Interval 0:23:06\n",
            "Index 463 | Audio Clip Time Interval 0:23:09\n",
            "Index 464 | Audio Clip Time Interval 0:23:12\n",
            "Index 465 | Audio Clip Time Interval 0:23:15\n",
            "Index 466 | Audio Clip Time Interval 0:23:18\n",
            "Index 467 | Audio Clip Time Interval 0:23:21\n",
            "Index 468 | Audio Clip Time Interval 0:23:24\n",
            "Index 469 | Audio Clip Time Interval 0:23:27\n",
            "Index 470 | Audio Clip Time Interval 0:23:30\n",
            "Index 471 | Audio Clip Time Interval 0:23:33\n",
            "Index 472 | Audio Clip Time Interval 0:23:36\n",
            "Index 473 | Audio Clip Time Interval 0:23:39\n",
            "Index 474 | Audio Clip Time Interval 0:23:42\n",
            "Index 475 | Audio Clip Time Interval 0:23:45\n",
            "Index 476 | Audio Clip Time Interval 0:23:48\n",
            "Index 477 | Audio Clip Time Interval 0:23:51\n",
            "Index 478 | Audio Clip Time Interval 0:23:54\n",
            "Index 479 | Audio Clip Time Interval 0:23:57\n",
            "Index 480 | Audio Clip Time Interval 0:24:00\n",
            "Index 481 | Audio Clip Time Interval 0:24:03\n",
            "Index 482 | Audio Clip Time Interval 0:24:06\n",
            "Index 483 | Audio Clip Time Interval 0:24:09\n",
            "Index 484 | Audio Clip Time Interval 0:24:12\n",
            "Index 485 | Audio Clip Time Interval 0:24:15\n",
            "Index 486 | Audio Clip Time Interval 0:24:18\n",
            "Index 487 | Audio Clip Time Interval 0:24:21\n",
            "Index 488 | Audio Clip Time Interval 0:24:24\n",
            "Index 489 | Audio Clip Time Interval 0:24:27\n",
            "Index 490 | Audio Clip Time Interval 0:24:30\n",
            "Index 491 | Audio Clip Time Interval 0:24:33\n",
            "Index 492 | Audio Clip Time Interval 0:24:36\n",
            "Index 493 | Audio Clip Time Interval 0:24:39\n",
            "Index 494 | Audio Clip Time Interval 0:24:42\n",
            "Index 495 | Audio Clip Time Interval 0:24:45\n",
            "Index 496 | Audio Clip Time Interval 0:24:48\n",
            "Index 497 | Audio Clip Time Interval 0:24:51\n",
            "Index 498 | Audio Clip Time Interval 0:24:54\n",
            "Index 499 | Audio Clip Time Interval 0:24:57\n",
            "Index 500 | Audio Clip Time Interval 0:25:00\n",
            "Index 501 | Audio Clip Time Interval 0:25:03\n",
            "Index 502 | Audio Clip Time Interval 0:25:06\n",
            "Index 503 | Audio Clip Time Interval 0:25:09\n",
            "Index 504 | Audio Clip Time Interval 0:25:12\n",
            "Index 505 | Audio Clip Time Interval 0:25:15\n",
            "Index 506 | Audio Clip Time Interval 0:25:18\n",
            "Index 507 | Audio Clip Time Interval 0:25:21\n",
            "Index 508 | Audio Clip Time Interval 0:25:24\n",
            "Index 509 | Audio Clip Time Interval 0:25:27\n",
            "Index 510 | Audio Clip Time Interval 0:25:30\n",
            "Index 511 | Audio Clip Time Interval 0:25:33\n",
            "Index 512 | Audio Clip Time Interval 0:25:36\n",
            "Index 513 | Audio Clip Time Interval 0:25:39\n",
            "Index 514 | Audio Clip Time Interval 0:25:42\n",
            "Index 515 | Audio Clip Time Interval 0:25:45\n",
            "Index 516 | Audio Clip Time Interval 0:25:48\n",
            "Index 517 | Audio Clip Time Interval 0:25:51\n",
            "Index 518 | Audio Clip Time Interval 0:25:54\n",
            "Index 519 | Audio Clip Time Interval 0:25:57\n",
            "Index 520 | Audio Clip Time Interval 0:26:00\n",
            "Index 521 | Audio Clip Time Interval 0:26:03\n",
            "Index 522 | Audio Clip Time Interval 0:26:06\n",
            "Index 523 | Audio Clip Time Interval 0:26:09\n",
            "Index 524 | Audio Clip Time Interval 0:26:12\n",
            "Index 525 | Audio Clip Time Interval 0:26:15\n",
            "Index 526 | Audio Clip Time Interval 0:26:18\n",
            "Index 527 | Audio Clip Time Interval 0:26:21\n",
            "Index 528 | Audio Clip Time Interval 0:26:24\n",
            "Index 529 | Audio Clip Time Interval 0:26:27\n",
            "Index 530 | Audio Clip Time Interval 0:26:30\n",
            "Index 531 | Audio Clip Time Interval 0:26:33\n",
            "Index 532 | Audio Clip Time Interval 0:26:36\n",
            "Index 533 | Audio Clip Time Interval 0:26:39\n",
            "Index 534 | Audio Clip Time Interval 0:26:42\n",
            "Index 535 | Audio Clip Time Interval 0:26:45\n",
            "Index 536 | Audio Clip Time Interval 0:26:48\n",
            "Index 537 | Audio Clip Time Interval 0:26:51\n",
            "Index 538 | Audio Clip Time Interval 0:26:54\n",
            "Index 539 | Audio Clip Time Interval 0:26:57\n",
            "Index 540 | Audio Clip Time Interval 0:27:00\n",
            "Index 541 | Audio Clip Time Interval 0:27:03\n",
            "Index 542 | Audio Clip Time Interval 0:27:06\n",
            "Index 543 | Audio Clip Time Interval 0:27:09\n",
            "Index 544 | Audio Clip Time Interval 0:27:12\n",
            "Index 545 | Audio Clip Time Interval 0:27:15\n",
            "Index 546 | Audio Clip Time Interval 0:27:18\n",
            "Index 547 | Audio Clip Time Interval 0:27:21\n",
            "Index 548 | Audio Clip Time Interval 0:27:24\n",
            "Index 549 | Audio Clip Time Interval 0:27:27\n",
            "Index 550 | Audio Clip Time Interval 0:27:30\n",
            "Index 551 | Audio Clip Time Interval 0:27:33\n",
            "Index 552 | Audio Clip Time Interval 0:27:36\n",
            "Index 553 | Audio Clip Time Interval 0:27:39\n",
            "Index 554 | Audio Clip Time Interval 0:27:42\n",
            "Index 555 | Audio Clip Time Interval 0:27:45\n",
            "Index 556 | Audio Clip Time Interval 0:27:48\n",
            "Index 557 | Audio Clip Time Interval 0:27:51\n",
            "Index 558 | Audio Clip Time Interval 0:27:54\n",
            "Index 559 | Audio Clip Time Interval 0:27:57\n",
            "Index 560 | Audio Clip Time Interval 0:28:00\n",
            "Index 561 | Audio Clip Time Interval 0:28:03\n",
            "Index 562 | Audio Clip Time Interval 0:28:06\n",
            "Index 563 | Audio Clip Time Interval 0:28:09\n",
            "Index 564 | Audio Clip Time Interval 0:28:12\n",
            "Index 568 | Audio Clip Time Interval 0:28:24\n",
            "Index 570 | Audio Clip Time Interval 0:28:30\n",
            "Index 572 | Audio Clip Time Interval 0:28:36\n",
            "Index 573 | Audio Clip Time Interval 0:28:39\n",
            "Index 574 | Audio Clip Time Interval 0:28:42\n",
            "Index 577 | Audio Clip Time Interval 0:28:51\n",
            "Index 583 | Audio Clip Time Interval 0:29:09\n",
            "Index 584 | Audio Clip Time Interval 0:29:12\n",
            "Index 585 | Audio Clip Time Interval 0:29:15\n",
            "Index 589 | Audio Clip Time Interval 0:29:27\n",
            "Index 592 | Audio Clip Time Interval 0:29:36\n",
            "Index 593 | Audio Clip Time Interval 0:29:39\n",
            "Index 594 | Audio Clip Time Interval 0:29:42\n",
            "Index 596 | Audio Clip Time Interval 0:29:48\n",
            "Index 597 | Audio Clip Time Interval 0:29:51\n",
            "Index 598 | Audio Clip Time Interval 0:29:54\n",
            "Index 599 | Audio Clip Time Interval 0:29:57\n",
            "Index 600 | Audio Clip Time Interval 0:30:00\n",
            "Index 602 | Audio Clip Time Interval 0:30:06\n",
            "Index 603 | Audio Clip Time Interval 0:30:09\n",
            "Index 604 | Audio Clip Time Interval 0:30:12\n",
            "Index 605 | Audio Clip Time Interval 0:30:15\n",
            "Index 607 | Audio Clip Time Interval 0:30:21\n",
            "Index 609 | Audio Clip Time Interval 0:30:27\n",
            "Index 612 | Audio Clip Time Interval 0:30:36\n",
            "Index 613 | Audio Clip Time Interval 0:30:39\n",
            "Index 614 | Audio Clip Time Interval 0:30:42\n",
            "Index 616 | Audio Clip Time Interval 0:30:48\n",
            "Index 617 | Audio Clip Time Interval 0:30:51\n",
            "Index 618 | Audio Clip Time Interval 0:30:54\n",
            "Index 619 | Audio Clip Time Interval 0:30:57\n",
            "Index 620 | Audio Clip Time Interval 0:31:00\n",
            "Index 623 | Audio Clip Time Interval 0:31:09\n",
            "Index 624 | Audio Clip Time Interval 0:31:12\n",
            "Index 625 | Audio Clip Time Interval 0:31:15\n",
            "Index 626 | Audio Clip Time Interval 0:31:18\n",
            "Index 627 | Audio Clip Time Interval 0:31:21\n",
            "Index 628 | Audio Clip Time Interval 0:31:24\n",
            "Index 638 | Audio Clip Time Interval 0:31:54\n",
            "Index 639 | Audio Clip Time Interval 0:31:57\n",
            "Index 643 | Audio Clip Time Interval 0:32:09\n",
            "Index 647 | Audio Clip Time Interval 0:32:21\n",
            "Index 648 | Audio Clip Time Interval 0:32:24\n",
            "Index 650 | Audio Clip Time Interval 0:32:30\n",
            "Index 651 | Audio Clip Time Interval 0:32:33\n",
            "Index 652 | Audio Clip Time Interval 0:32:36\n",
            "Index 656 | Audio Clip Time Interval 0:32:48\n",
            "Index 657 | Audio Clip Time Interval 0:32:51\n",
            "Index 658 | Audio Clip Time Interval 0:32:54\n",
            "Index 659 | Audio Clip Time Interval 0:32:57\n",
            "Index 660 | Audio Clip Time Interval 0:33:00\n",
            "Index 662 | Audio Clip Time Interval 0:33:06\n",
            "Index 663 | Audio Clip Time Interval 0:33:09\n",
            "Index 668 | Audio Clip Time Interval 0:33:24\n",
            "Index 670 | Audio Clip Time Interval 0:33:30\n",
            "Index 671 | Audio Clip Time Interval 0:33:33\n",
            "Index 676 | Audio Clip Time Interval 0:33:48\n",
            "Index 677 | Audio Clip Time Interval 0:33:51\n",
            "Index 680 | Audio Clip Time Interval 0:34:00\n",
            "Index 690 | Audio Clip Time Interval 0:34:30\n",
            "Index 694 | Audio Clip Time Interval 0:34:42\n",
            "Index 700 | Audio Clip Time Interval 0:35:00\n",
            "Index 702 | Audio Clip Time Interval 0:35:06\n",
            "Index 751 | Audio Clip Time Interval 0:37:33\n",
            "Index 752 | Audio Clip Time Interval 0:37:36\n",
            "Index 753 | Audio Clip Time Interval 0:37:39\n",
            "Index 759 | Audio Clip Time Interval 0:37:57\n",
            "Index 760 | Audio Clip Time Interval 0:38:00\n",
            "Index 851 | Audio Clip Time Interval 0:42:33\n",
            "Index 874 | Audio Clip Time Interval 0:43:42\n",
            "Index 875 | Audio Clip Time Interval 0:43:45\n",
            "Index 876 | Audio Clip Time Interval 0:43:48\n",
            "Index 916 | Audio Clip Time Interval 0:45:48\n",
            "Index 917 | Audio Clip Time Interval 0:45:51\n",
            "Index 918 | Audio Clip Time Interval 0:45:54\n",
            "Index 931 | Audio Clip Time Interval 0:46:33\n",
            "Index 932 | Audio Clip Time Interval 0:46:36\n",
            "Index 933 | Audio Clip Time Interval 0:46:39\n",
            "Index 934 | Audio Clip Time Interval 0:46:42\n",
            "Index 935 | Audio Clip Time Interval 0:46:45\n",
            "Index 958 | Audio Clip Time Interval 0:47:54\n",
            "Index 959 | Audio Clip Time Interval 0:47:57\n",
            "Index 960 | Audio Clip Time Interval 0:48:00\n",
            "Index 1073 | Audio Clip Time Interval 0:53:39\n",
            "Index 1074 | Audio Clip Time Interval 0:53:42\n",
            "Index 1077 | Audio Clip Time Interval 0:53:51\n",
            "Index 1132 | Audio Clip Time Interval 0:56:36\n",
            "=================================================\n",
            "\n",
            "75/75 [==============================] - 24s 314ms/step\n",
            "Test16BITSMM07257_20221118_063302_16BIT.wav\n",
            "\n",
            "Index 30 | Audio Clip Time Interval 0:01:30\n",
            "Index 41 | Audio Clip Time Interval 0:02:03\n",
            "Index 50 | Audio Clip Time Interval 0:02:30\n",
            "Index 51 | Audio Clip Time Interval 0:02:33\n",
            "Index 52 | Audio Clip Time Interval 0:02:36\n",
            "Index 53 | Audio Clip Time Interval 0:02:39\n",
            "Index 54 | Audio Clip Time Interval 0:02:42\n",
            "Index 72 | Audio Clip Time Interval 0:03:36\n",
            "Index 73 | Audio Clip Time Interval 0:03:39\n",
            "Index 74 | Audio Clip Time Interval 0:03:42\n",
            "Index 280 | Audio Clip Time Interval 0:14:00\n",
            "Index 328 | Audio Clip Time Interval 0:16:24\n",
            "Index 330 | Audio Clip Time Interval 0:16:30\n",
            "Index 482 | Audio Clip Time Interval 0:24:06\n",
            "Index 483 | Audio Clip Time Interval 0:24:09\n",
            "Index 560 | Audio Clip Time Interval 0:28:00\n",
            "Index 561 | Audio Clip Time Interval 0:28:03\n",
            "Index 582 | Audio Clip Time Interval 0:29:06\n",
            "Index 696 | Audio Clip Time Interval 0:34:48\n",
            "Index 697 | Audio Clip Time Interval 0:34:51\n",
            "Index 767 | Audio Clip Time Interval 0:38:21\n",
            "Index 828 | Audio Clip Time Interval 0:41:24\n",
            "Index 845 | Audio Clip Time Interval 0:42:15\n",
            "Index 846 | Audio Clip Time Interval 0:42:18\n",
            "Index 847 | Audio Clip Time Interval 0:42:21\n",
            "Index 954 | Audio Clip Time Interval 0:47:42\n",
            "Index 955 | Audio Clip Time Interval 0:47:45\n",
            "=================================================\n",
            "\n",
            "75/75 [==============================] - 23s 288ms/step\n",
            "Test16BITSMM07257_20221118_033302_16BIT.wav\n",
            "\n",
            "Index 175 | Audio Clip Time Interval 0:08:45\n",
            "Index 244 | Audio Clip Time Interval 0:12:12\n",
            "Index 245 | Audio Clip Time Interval 0:12:15\n",
            "Index 246 | Audio Clip Time Interval 0:12:18\n",
            "Index 247 | Audio Clip Time Interval 0:12:21\n",
            "Index 248 | Audio Clip Time Interval 0:12:24\n",
            "Index 603 | Audio Clip Time Interval 0:30:09\n",
            "Index 618 | Audio Clip Time Interval 0:30:54\n",
            "Index 621 | Audio Clip Time Interval 0:31:03\n",
            "Index 622 | Audio Clip Time Interval 0:31:06\n",
            "Index 648 | Audio Clip Time Interval 0:32:24\n",
            "Index 649 | Audio Clip Time Interval 0:32:27\n",
            "Index 650 | Audio Clip Time Interval 0:32:30\n",
            "Index 651 | Audio Clip Time Interval 0:32:33\n",
            "Index 652 | Audio Clip Time Interval 0:32:36\n",
            "Index 664 | Audio Clip Time Interval 0:33:12\n",
            "Index 665 | Audio Clip Time Interval 0:33:15\n",
            "=================================================\n",
            "\n"
          ]
        }
      ],
      "source": [
        "#Make predictions on Leopard saws and print when did that happen in the clip\n",
        "import os\n",
        "import datetime\n",
        "\n",
        "results = {}\n",
        "\n",
        "for filename in os.listdir(\"/content/Converted_16BIT/\"):\n",
        "    if filename.endswith(\".wav\"): \n",
        "        #Testing functions that will be used to ensure correctness\n",
        "        RECORDING = os.path.join('Converted_16BIT',str(filename))\n",
        "        wav = load_wav_16k_mono(RECORDING)\n",
        "        audio_slices = tf.keras.utils.timeseries_dataset_from_array(wav, wav, sequence_length=48000, sequence_stride=48000, batch_size=1)\n",
        "        audio_slices = audio_slices.map(preprocess_dataset)\n",
        "        audio_slices = audio_slices.batch(16)\n",
        "    \n",
        "        yhat = model.predict(audio_slices)\n",
        "        yhat = [1 if prediction > 0.99 else 0 for prediction in yhat]\n",
        "    \n",
        "        results[filename] = yhat\n",
        "        #search for Saws in a clip and convert the 3 sec index to the actual time in the clip\n",
        "        listOfSaws = list(results[filename])\n",
        "        print(filename)\n",
        "        print()\n",
        "        for count, value in enumerate(listOfSaws):\n",
        "          if value == 1:\n",
        "            print(\"Index \" + str(count) + \" | Audio Clip Time Interval \" + str(datetime.timedelta(seconds=int(count*3))))\n",
        "\n",
        "        print(\"=================================================\")\n",
        "        print()\n",
        "   "
      ]
    }
  ],
  "metadata": {
    "colab": {
      "provenance": []
    },
    "kernelspec": {
      "display_name": "Python 3",
      "name": "python3"
    },
    "language_info": {
      "name": "python"
    }
  },
  "nbformat": 4,
  "nbformat_minor": 0
}
